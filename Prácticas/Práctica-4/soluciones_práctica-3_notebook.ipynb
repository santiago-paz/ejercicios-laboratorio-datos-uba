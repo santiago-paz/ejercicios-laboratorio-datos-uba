{
 "cells": [
  {
   "cell_type": "markdown",
   "id": "f8f18eff",
   "metadata": {},
   "source": [
    "# Práctica 4\n",
    "## Regresión Lineal"
   ]
  },
  {
   "cell_type": "code",
   "execution_count": 31,
   "id": "c4d8acf8",
   "metadata": {},
   "outputs": [],
   "source": [
    "import matplotlib.pyplot as plt\n",
    "import seaborn as sns\n",
    "import numpy as np\n",
    "import pandas as pd\n",
    "import seaborn.objects as so\n",
    "\n",
    "from gapminder import gapminder\n",
    "\n",
    "from sklearn.metrics import mean_squared_error, r2_score    # Medidas de desempeño"
   ]
  },
  {
   "cell_type": "markdown",
   "id": "7ff6410e",
   "metadata": {},
   "source": [
    "### Ejercicio 1.a\n",
    "\n",
    "Implementar una función que calcule la pendiente y la ordenada al origen de la recta de\n",
    "regresión lineal con las fórmulas vistas en clase."
   ]
  },
  {
   "cell_type": "code",
   "execution_count": 11,
   "id": "23b5eafb",
   "metadata": {},
   "outputs": [
    {
     "name": "stdout",
     "output_type": "stream",
     "text": [
      "(7.0016792404445365, 3.093088704142378)\n"
     ]
    }
   ],
   "source": [
    "# Función que calcula la pendiente y ordenada:\n",
    "\n",
    "def coefs_rfl(x,y):\n",
    "    promedio_x = np.mean(x)\n",
    "    promedio_y = np.mean(y)\n",
    "    beta_1 = (np.sum((x - promedio_x) * (y-promedio_y)) / np.sum((x - promedio_x) ** 2))\n",
    "    beta_0 = promedio_y - beta_1 * promedio_x\n",
    "\n",
    "    return beta_1, beta_0\n",
    "\n",
    "# Hagamos un par de pruebas, creamos una serie \"x\", mientras que a la variable \"y\" la creamos a partir\n",
    "# de multiplicar el valor de \"x\" por 7, sumarle la ordenada 3 y agregar un poco de error con np.random.rand(3)\n",
    "\n",
    "x = pd.Series([1,2,3])\n",
    "y = 7 * x + 3 + np.random.rand(3)\n",
    "\n",
    "# Imprimimos los valores, y vemos que se asemejan a los correctos, 7 y 3\n",
    "\n",
    "print(coefs_rfl(x, y))"
   ]
  },
  {
   "cell_type": "markdown",
   "id": "cf626bc6",
   "metadata": {},
   "source": [
    "### Ejercicio 1.b\n",
    "\n",
    "Con el dataset ``gapminder``, utilizar la función implementada en el item anterior para\n",
    "realizar una regresión lineal entre los años y la expectiva de vida en Argentina. Comparar\n",
    "los coeficientes con los obtenidos por ``scikit-learn``."
   ]
  },
  {
   "cell_type": "code",
   "execution_count": 12,
   "id": "b008fd44",
   "metadata": {},
   "outputs": [
    {
     "data": {
      "text/html": [
       "<div>\n",
       "<style scoped>\n",
       "    .dataframe tbody tr th:only-of-type {\n",
       "        vertical-align: middle;\n",
       "    }\n",
       "\n",
       "    .dataframe tbody tr th {\n",
       "        vertical-align: top;\n",
       "    }\n",
       "\n",
       "    .dataframe thead th {\n",
       "        text-align: right;\n",
       "    }\n",
       "</style>\n",
       "<table border=\"1\" class=\"dataframe\">\n",
       "  <thead>\n",
       "    <tr style=\"text-align: right;\">\n",
       "      <th></th>\n",
       "      <th>country</th>\n",
       "      <th>continent</th>\n",
       "      <th>year</th>\n",
       "      <th>lifeExp</th>\n",
       "      <th>pop</th>\n",
       "      <th>gdpPercap</th>\n",
       "    </tr>\n",
       "  </thead>\n",
       "  <tbody>\n",
       "    <tr>\n",
       "      <th>0</th>\n",
       "      <td>Afghanistan</td>\n",
       "      <td>Asia</td>\n",
       "      <td>1952</td>\n",
       "      <td>28.801</td>\n",
       "      <td>8425333</td>\n",
       "      <td>779.445314</td>\n",
       "    </tr>\n",
       "    <tr>\n",
       "      <th>1</th>\n",
       "      <td>Afghanistan</td>\n",
       "      <td>Asia</td>\n",
       "      <td>1957</td>\n",
       "      <td>30.332</td>\n",
       "      <td>9240934</td>\n",
       "      <td>820.853030</td>\n",
       "    </tr>\n",
       "    <tr>\n",
       "      <th>2</th>\n",
       "      <td>Afghanistan</td>\n",
       "      <td>Asia</td>\n",
       "      <td>1962</td>\n",
       "      <td>31.997</td>\n",
       "      <td>10267083</td>\n",
       "      <td>853.100710</td>\n",
       "    </tr>\n",
       "    <tr>\n",
       "      <th>3</th>\n",
       "      <td>Afghanistan</td>\n",
       "      <td>Asia</td>\n",
       "      <td>1967</td>\n",
       "      <td>34.020</td>\n",
       "      <td>11537966</td>\n",
       "      <td>836.197138</td>\n",
       "    </tr>\n",
       "    <tr>\n",
       "      <th>4</th>\n",
       "      <td>Afghanistan</td>\n",
       "      <td>Asia</td>\n",
       "      <td>1972</td>\n",
       "      <td>36.088</td>\n",
       "      <td>13079460</td>\n",
       "      <td>739.981106</td>\n",
       "    </tr>\n",
       "  </tbody>\n",
       "</table>\n",
       "</div>"
      ],
      "text/plain": [
       "       country continent  year  lifeExp       pop   gdpPercap\n",
       "0  Afghanistan      Asia  1952   28.801   8425333  779.445314\n",
       "1  Afghanistan      Asia  1957   30.332   9240934  820.853030\n",
       "2  Afghanistan      Asia  1962   31.997  10267083  853.100710\n",
       "3  Afghanistan      Asia  1967   34.020  11537966  836.197138\n",
       "4  Afghanistan      Asia  1972   36.088  13079460  739.981106"
      ]
     },
     "execution_count": 12,
     "metadata": {},
     "output_type": "execute_result"
    }
   ],
   "source": [
    "gapminder.head()"
   ]
  },
  {
   "cell_type": "code",
   "execution_count": 45,
   "id": "c0d63523",
   "metadata": {},
   "outputs": [
    {
     "name": "stderr",
     "output_type": "stream",
     "text": [
      "UsageError: Line magic function `%%timeit` not found.\n"
     ]
    }
   ],
   "source": [
    "# Esto no es del ejercicio en sí, pero permite calcular el tiempo que lleva realizar determinadas acciones.\n",
    "# Lo hicimos para comprobar que utilizar .query en el dataset es mucho más lento que acceder haciendo\n",
    "# gapminder[gapminder.country==\"Argentina\"]\n",
    "\n",
    "%%timeit\n",
    "gapminder.query('country==\"Argentina\"')"
   ]
  },
  {
   "cell_type": "code",
   "execution_count": 46,
   "id": "4d9cfa37",
   "metadata": {},
   "outputs": [
    {
     "name": "stdout",
     "output_type": "stream",
     "text": [
      "120 µs ± 1.09 µs per loop (mean ± std. dev. of 7 runs, 10,000 loops each)\n"
     ]
    }
   ],
   "source": [
    "%%timeit\n",
    "gapminder[gapminder.country==\"Argentina\"]"
   ]
  },
  {
   "cell_type": "code",
   "execution_count": 37,
   "id": "a84310c5",
   "metadata": {},
   "outputs": [
    {
     "name": "stdout",
     "output_type": "stream",
     "text": [
      "(0.2317083916083916, -389.6063445221445)\n",
      "[0.23170839] -389.6063445221444\n"
     ]
    }
   ],
   "source": [
    "from sklearn import linear_model    # Herramientas de modelos lineales\n",
    "\n",
    "# Obtengo los datos de Argentina\n",
    "datos_argentina = gapminder[gapminder.country==\"Argentina\"]\n",
    "\n",
    "# Llamamos a la función que cree previamente\n",
    "print(coefs_rfl(datos_argentina[\"year\"], datos_argentina[\"lifeExp\"]))\n",
    "\n",
    "# Hacemos lo mismo utilizando scikit-learn\n",
    "modelo = linear_model.LinearRegression()\n",
    "modelo.fit(datos_argentina[[\"year\"]], datos_argentina.lifeExp)\n",
    "\n",
    "beta_1 = modelo.coef_\n",
    "beta_0 = modelo.intercept_\n",
    "\n",
    "print(beta_1 , beta_0)\n",
    "\n",
    "# 👇 Vemos que los valores calculados son iguales"
   ]
  },
  {
   "cell_type": "code",
   "execution_count": 44,
   "id": "3244fd8c",
   "metadata": {},
   "outputs": [
    {
     "name": "stdout",
     "output_type": "stream",
     "text": [
      "0.07120290957653445\n",
      "0.9955680955772934\n"
     ]
    }
   ],
   "source": [
    "# Calculemos el error cuadratico medio y el score r2:\n",
    "\n",
    "y_pred = modelo.predict(datos_argentina[[\"year\"]])\n",
    "\n",
    "print(mean_squared_error(datos_argentina[['lifeExp']], y_pred))\n",
    "print(r2_score(datos_argentina[['lifeExp']], y_pred))"
   ]
  },
  {
   "cell_type": "markdown",
   "id": "26e10282",
   "metadata": {},
   "source": [
    "### Ejercicio 2"
   ]
  },
  {
   "cell_type": "code",
   "execution_count": 48,
   "id": "5fc27729",
   "metadata": {},
   "outputs": [
    {
     "data": {
      "text/html": [
       "<div>\n",
       "<style scoped>\n",
       "    .dataframe tbody tr th:only-of-type {\n",
       "        vertical-align: middle;\n",
       "    }\n",
       "\n",
       "    .dataframe tbody tr th {\n",
       "        vertical-align: top;\n",
       "    }\n",
       "\n",
       "    .dataframe thead th {\n",
       "        text-align: right;\n",
       "    }\n",
       "</style>\n",
       "<table border=\"1\" class=\"dataframe\">\n",
       "  <thead>\n",
       "    <tr style=\"text-align: right;\">\n",
       "      <th></th>\n",
       "      <th>superficie</th>\n",
       "      <th>precio</th>\n",
       "      <th>zona</th>\n",
       "    </tr>\n",
       "  </thead>\n",
       "  <tbody>\n",
       "    <tr>\n",
       "      <th>0</th>\n",
       "      <td>110.0</td>\n",
       "      <td>454.425690</td>\n",
       "      <td>Zona 2</td>\n",
       "    </tr>\n",
       "    <tr>\n",
       "      <th>1</th>\n",
       "      <td>109.0</td>\n",
       "      <td>383.004114</td>\n",
       "      <td>Zona 2</td>\n",
       "    </tr>\n",
       "    <tr>\n",
       "      <th>2</th>\n",
       "      <td>101.0</td>\n",
       "      <td>437.362638</td>\n",
       "      <td>Zona 2</td>\n",
       "    </tr>\n",
       "    <tr>\n",
       "      <th>3</th>\n",
       "      <td>58.0</td>\n",
       "      <td>304.392486</td>\n",
       "      <td>Zona 3</td>\n",
       "    </tr>\n",
       "    <tr>\n",
       "      <th>4</th>\n",
       "      <td>129.0</td>\n",
       "      <td>620.027722</td>\n",
       "      <td>Zona 3</td>\n",
       "    </tr>\n",
       "  </tbody>\n",
       "</table>\n",
       "</div>"
      ],
      "text/plain": [
       "   superficie      precio    zona\n",
       "0       110.0  454.425690  Zona 2\n",
       "1       109.0  383.004114  Zona 2\n",
       "2       101.0  437.362638  Zona 2\n",
       "3        58.0  304.392486  Zona 3\n",
       "4       129.0  620.027722  Zona 3"
      ]
     },
     "execution_count": 48,
     "metadata": {},
     "output_type": "execute_result"
    }
   ],
   "source": [
    "datos = pd.read_csv(\"../../Datos/inmuebles.csv\")\n",
    "datos.head()"
   ]
  },
  {
   "cell_type": "code",
   "execution_count": null,
   "id": "4eda313b",
   "metadata": {},
   "outputs": [],
   "source": []
  }
 ],
 "metadata": {
  "kernelspec": {
   "display_name": "Python 3",
   "language": "python",
   "name": "python3"
  },
  "language_info": {
   "codemirror_mode": {
    "name": "ipython",
    "version": 3
   },
   "file_extension": ".py",
   "mimetype": "text/x-python",
   "name": "python",
   "nbconvert_exporter": "python",
   "pygments_lexer": "ipython3",
   "version": "3.9.6"
  }
 },
 "nbformat": 4,
 "nbformat_minor": 5
}
