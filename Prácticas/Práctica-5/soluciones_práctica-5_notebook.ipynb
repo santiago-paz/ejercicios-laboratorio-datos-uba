{
 "cells": [
  {
   "cell_type": "markdown",
   "id": "f8f18eff",
   "metadata": {},
   "source": [
    "# Práctica 5\n",
    "## Modelo lineal multivariado. Entrenamiento y testeo."
   ]
  },
  {
   "cell_type": "code",
   "execution_count": 47,
   "id": "c4d8acf8",
   "metadata": {},
   "outputs": [],
   "source": [
    "import matplotlib.pyplot as plt\n",
    "import seaborn as sns\n",
    "import numpy as np\n",
    "import pandas as pd\n",
    "import seaborn.objects as so\n",
    "\n",
    "from sklearn.preprocessing import PolynomialFeatures    # Herramientas de polinomios\n",
    "from gapminder import gapminder\n",
    "from sklearn.metrics import mean_squared_error, r2_score    # Medidas de desempeño"
   ]
  },
  {
   "cell_type": "markdown",
   "id": "7ff6410e",
   "metadata": {},
   "source": [
    "### Ejercicio 1.a\n",
    "\n",
    "Datos faltantes. Ejecutar el siguiente código y observar si hay filas con datos faltantes (NaN)"
   ]
  },
  {
   "cell_type": "code",
   "execution_count": 3,
   "id": "23b5eafb",
   "metadata": {},
   "outputs": [
    {
     "data": {
      "text/plain": [
       "True"
      ]
     },
     "execution_count": 3,
     "metadata": {},
     "output_type": "execute_result"
    }
   ],
   "source": [
    "# Ahora, veamos si hay algunos datos nulos\n",
    "penguins.isnull().values.any()"
   ]
  },
  {
   "cell_type": "code",
   "execution_count": 4,
   "id": "99424425",
   "metadata": {},
   "outputs": [
    {
     "data": {
      "text/plain": [
       "False"
      ]
     },
     "execution_count": 4,
     "metadata": {},
     "output_type": "execute_result"
    }
   ],
   "source": [
    "# Eliminamos registros nulos:\n",
    "penguins = penguins.dropna()\n",
    "\n",
    "# Chequeamos nuevamente si hay valores nulos\n",
    "penguins.isnull().values.any()"
   ]
  },
  {
   "cell_type": "markdown",
   "id": "9695b9ed",
   "metadata": {},
   "source": [
    "### Ejercicio 1.b\n",
    "\n",
    "Dividir el dataset resultante en un grupo de\n",
    "entrenamiento y uno de testeo (80% - 20%). Hacerlo de las siguientes dos formas distintas"
   ]
  },
  {
   "cell_type": "code",
   "execution_count": 31,
   "id": "9fbd96cf",
   "metadata": {},
   "outputs": [],
   "source": [
    "# Forma A:\n",
    "\n",
    "train_ind = np.full(len(penguins), False)\n",
    "train_ind[0: int(len(penguins) * 0.8)] = True\n",
    "np.random.shuffle(train_ind) # Lo guarda en el mismo vector\n",
    "penguins_train = penguins[train_ind == True]\n",
    "penguins_test = penguins[train_ind == False]"
   ]
  },
  {
   "cell_type": "code",
   "execution_count": 43,
   "id": "1a386e5b",
   "metadata": {},
   "outputs": [],
   "source": [
    "# Forma B:\n",
    "\n",
    "from sklearn.model_selection import train_test_split\n",
    "\n",
    "penguins_train, penguins_test = train_test_split(penguins, test_size = 0.2, random_state = 42)\n",
    "\n"
   ]
  },
  {
   "cell_type": "code",
   "execution_count": 55,
   "id": "3402ef37",
   "metadata": {},
   "outputs": [
    {
     "data": {
      "text/plain": [
       "(333, 3)"
      ]
     },
     "execution_count": 55,
     "metadata": {},
     "output_type": "execute_result"
    }
   ],
   "source": [
    "# usar linearregression y hacer .fit en la misma tabla , con el exponente normal en una columna, al doble en la segunda columna, y al triple en la terera\n",
    "\n",
    "polynomial_features= PolynomialFeatures(degree=3, include_bias=False)\n",
    "x_poly = polynomial_features.fit_transform(penguins[[\"flipper_length_mm\"]])\n",
    "\n",
    "x_poly.shape"
   ]
  },
  {
   "cell_type": "markdown",
   "id": "8692b4f6",
   "metadata": {},
   "source": [
    "### Ejercicio 1.c\n",
    "\n",
    "Crear y ajustar 3 modelos utilizando polinomios de grados 1, 2 y 3."
   ]
  }
 ],
 "metadata": {
  "kernelspec": {
   "display_name": "Python 3",
   "language": "python",
   "name": "python3"
  },
  "language_info": {
   "codemirror_mode": {
    "name": "ipython",
    "version": 3
   },
   "file_extension": ".py",
   "mimetype": "text/x-python",
   "name": "python",
   "nbconvert_exporter": "python",
   "pygments_lexer": "ipython3",
   "version": "3.9.6"
  }
 },
 "nbformat": 4,
 "nbformat_minor": 5
}
