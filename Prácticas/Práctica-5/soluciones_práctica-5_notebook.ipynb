{
 "cells": [
  {
   "cell_type": "markdown",
   "id": "f8f18eff",
   "metadata": {},
   "source": [
    "# Práctica 5\n",
    "## Modelo lineal multivariado. Entrenamiento y testeo."
   ]
  },
  {
   "cell_type": "code",
   "execution_count": 24,
   "id": "c4d8acf8",
   "metadata": {},
   "outputs": [],
   "source": [
    "import matplotlib.pyplot as plt\n",
    "import seaborn as sns\n",
    "import numpy as np\n",
    "import pandas as pd\n",
    "import seaborn.objects as so\n",
    "\n",
    "from sklearn.preprocessing import PolynomialFeatures    # Herramientas de polinomios\n",
    "from gapminder import gapminder\n",
    "from sklearn.metrics import mean_squared_error, r2_score    # Medidas de desempeño\n",
    "from sklearn.linear_model import LinearRegression\n",
    "\n",
    "penguins = sns.load_dataset(\"penguins\")"
   ]
  },
  {
   "cell_type": "code",
   "execution_count": 50,
   "id": "9fb8aa78",
   "metadata": {},
   "outputs": [
    {
     "data": {
      "text/html": [
       "<div>\n",
       "<style scoped>\n",
       "    .dataframe tbody tr th:only-of-type {\n",
       "        vertical-align: middle;\n",
       "    }\n",
       "\n",
       "    .dataframe tbody tr th {\n",
       "        vertical-align: top;\n",
       "    }\n",
       "\n",
       "    .dataframe thead th {\n",
       "        text-align: right;\n",
       "    }\n",
       "</style>\n",
       "<table border=\"1\" class=\"dataframe\">\n",
       "  <thead>\n",
       "    <tr style=\"text-align: right;\">\n",
       "      <th></th>\n",
       "      <th>species</th>\n",
       "      <th>island</th>\n",
       "      <th>bill_length_mm</th>\n",
       "      <th>bill_depth_mm</th>\n",
       "      <th>flipper_length_mm</th>\n",
       "      <th>body_mass_g</th>\n",
       "      <th>sex</th>\n",
       "    </tr>\n",
       "  </thead>\n",
       "  <tbody>\n",
       "    <tr>\n",
       "      <th>0</th>\n",
       "      <td>Adelie</td>\n",
       "      <td>Torgersen</td>\n",
       "      <td>39.1</td>\n",
       "      <td>18.7</td>\n",
       "      <td>181.0</td>\n",
       "      <td>3750.0</td>\n",
       "      <td>Male</td>\n",
       "    </tr>\n",
       "    <tr>\n",
       "      <th>1</th>\n",
       "      <td>Adelie</td>\n",
       "      <td>Torgersen</td>\n",
       "      <td>39.5</td>\n",
       "      <td>17.4</td>\n",
       "      <td>186.0</td>\n",
       "      <td>3800.0</td>\n",
       "      <td>Female</td>\n",
       "    </tr>\n",
       "    <tr>\n",
       "      <th>2</th>\n",
       "      <td>Adelie</td>\n",
       "      <td>Torgersen</td>\n",
       "      <td>40.3</td>\n",
       "      <td>18.0</td>\n",
       "      <td>195.0</td>\n",
       "      <td>3250.0</td>\n",
       "      <td>Female</td>\n",
       "    </tr>\n",
       "    <tr>\n",
       "      <th>4</th>\n",
       "      <td>Adelie</td>\n",
       "      <td>Torgersen</td>\n",
       "      <td>36.7</td>\n",
       "      <td>19.3</td>\n",
       "      <td>193.0</td>\n",
       "      <td>3450.0</td>\n",
       "      <td>Female</td>\n",
       "    </tr>\n",
       "    <tr>\n",
       "      <th>5</th>\n",
       "      <td>Adelie</td>\n",
       "      <td>Torgersen</td>\n",
       "      <td>39.3</td>\n",
       "      <td>20.6</td>\n",
       "      <td>190.0</td>\n",
       "      <td>3650.0</td>\n",
       "      <td>Male</td>\n",
       "    </tr>\n",
       "  </tbody>\n",
       "</table>\n",
       "</div>"
      ],
      "text/plain": [
       "  species     island  bill_length_mm  bill_depth_mm  flipper_length_mm  \\\n",
       "0  Adelie  Torgersen            39.1           18.7              181.0   \n",
       "1  Adelie  Torgersen            39.5           17.4              186.0   \n",
       "2  Adelie  Torgersen            40.3           18.0              195.0   \n",
       "4  Adelie  Torgersen            36.7           19.3              193.0   \n",
       "5  Adelie  Torgersen            39.3           20.6              190.0   \n",
       "\n",
       "   body_mass_g     sex  \n",
       "0       3750.0    Male  \n",
       "1       3800.0  Female  \n",
       "2       3250.0  Female  \n",
       "4       3450.0  Female  \n",
       "5       3650.0    Male  "
      ]
     },
     "execution_count": 50,
     "metadata": {},
     "output_type": "execute_result"
    }
   ],
   "source": [
    "penguins.head()"
   ]
  },
  {
   "cell_type": "markdown",
   "id": "7ff6410e",
   "metadata": {},
   "source": [
    "### Ejercicio 1.a\n",
    "\n",
    "Datos faltantes. Ejecutar el siguiente código y observar si hay filas con datos faltantes (NaN)"
   ]
  },
  {
   "cell_type": "code",
   "execution_count": 5,
   "id": "23b5eafb",
   "metadata": {},
   "outputs": [
    {
     "data": {
      "text/plain": [
       "True"
      ]
     },
     "execution_count": 5,
     "metadata": {},
     "output_type": "execute_result"
    }
   ],
   "source": [
    "penguins.isnull().values.any()"
   ]
  },
  {
   "cell_type": "code",
   "execution_count": 26,
   "id": "99424425",
   "metadata": {},
   "outputs": [
    {
     "data": {
      "text/plain": [
       "False"
      ]
     },
     "execution_count": 26,
     "metadata": {},
     "output_type": "execute_result"
    }
   ],
   "source": [
    "# Eliminamos registros nulos:\n",
    "penguins = penguins.dropna()\n",
    "\n",
    "# Chequeamos nuevamente si hay valores nulos\n",
    "penguins.isnull().values.any()"
   ]
  },
  {
   "cell_type": "markdown",
   "id": "9695b9ed",
   "metadata": {},
   "source": [
    "### Ejercicio 1.b\n",
    "\n",
    "Dividir el dataset resultante en un grupo de\n",
    "entrenamiento y uno de testeo (80% - 20%). Hacerlo de las siguientes dos formas distintas"
   ]
  },
  {
   "cell_type": "code",
   "execution_count": 27,
   "id": "9fbd96cf",
   "metadata": {},
   "outputs": [],
   "source": [
    "# Forma A:\n",
    "train_ind = np.full(len(penguins), False)\n",
    "train_ind[0: int(len(penguins) * 0.8)] = True\n",
    "np.random.shuffle(train_ind) # Lo guarda en el mismo vector\n",
    "penguins_train = penguins[train_ind == True]\n",
    "penguins_test = penguins[train_ind == False]"
   ]
  },
  {
   "cell_type": "code",
   "execution_count": 28,
   "id": "1a386e5b",
   "metadata": {},
   "outputs": [],
   "source": [
    "# Forma B:\n",
    "from sklearn.model_selection import train_test_split\n",
    "\n",
    "penguins_train, penguins_test = train_test_split(penguins, test_size = 0.2, random_state = 42)"
   ]
  },
  {
   "cell_type": "markdown",
   "id": "8692b4f6",
   "metadata": {},
   "source": [
    "### Ejercicio 1.c\n",
    "\n",
    "Crear y ajustar 3 modelos utilizando polinomios de grados 1, 2 y 3."
   ]
  },
  {
   "cell_type": "code",
   "execution_count": 46,
   "id": "3402ef37",
   "metadata": {},
   "outputs": [
    {
     "name": "stdout",
     "output_type": "stream",
     "text": [
      "Con un polinomio de grado 3, tenemos un error cuadrático medio de 2.3530323121259056e-28\n",
      "Con un polinomio de grado 2, tenemos un error cuadrático medio de 7.277419522038884e-30\n",
      "Con un polinomio de grado 1, tenemos un error cuadrático medio de 2.6198710279339983e-28\n"
     ]
    }
   ],
   "source": [
    "# Creamos la tabla con los valores de la feature elevados a la 1, 2 y 3:\n",
    "polynomial_features_3 = PolynomialFeatures(degree=3, include_bias=False)\n",
    "x_poly_3 = polynomial_features_3.fit_transform(penguins[[\"flipper_length_mm\"]])\n",
    "# Creamos el modelo y calculamos el MSE:\n",
    "modelo_3 = LinearRegression().fit(x_poly_3, penguins.flipper_length_mm)\n",
    "modelo_3_pred = modelo_3.predict(x_poly_3)\n",
    "print(\"Con un polinomio de grado 3, tenemos un error cuadrático medio de\",mean_squared_error(penguins.flipper_length_mm, modelo_3_pred))\n",
    "\n",
    "# Creamos la tabla con los valores de la feature elevados a la 1 y 2:\n",
    "polynomial_features_2 = PolynomialFeatures(degree=2, include_bias=False)\n",
    "x_poly_2 = polynomial_features_2.fit_transform(penguins[[\"flipper_length_mm\"]])\n",
    "# Creamos el modelo y calculamos el MSE:\n",
    "modelo_2 = LinearRegression().fit(x_poly_2, penguins.flipper_length_mm)\n",
    "modelo_2_pred = modelo_2.predict(x_poly_2)\n",
    "print(\"Con un polinomio de grado 2, tenemos un error cuadrático medio de\",mean_squared_error(penguins.flipper_length_mm, modelo_2_pred))\n",
    "\n",
    "# Creamos la tabla con los valores de la feature elevados a la 1:\n",
    "polynomial_features_1 = PolynomialFeatures(degree=1, include_bias=False)\n",
    "x_poly_1 = polynomial_features_1.fit_transform(penguins[[\"flipper_length_mm\"]])\n",
    "# Creamos el modelo y calculamos el MSE:\n",
    "modelo_1 = LinearRegression().fit(x_poly_1, penguins.flipper_length_mm)\n",
    "modelo_1_pred = modelo_1.predict(x_poly_1)\n",
    "print(\"Con un polinomio de grado 1, tenemos un error cuadrático medio de\",mean_squared_error(penguins.flipper_length_mm, modelo_1_pred))\n",
    "\n"
   ]
  }
 ],
 "metadata": {
  "kernelspec": {
   "display_name": "Python 3",
   "language": "python",
   "name": "python3"
  },
  "language_info": {
   "codemirror_mode": {
    "name": "ipython",
    "version": 3
   },
   "file_extension": ".py",
   "mimetype": "text/x-python",
   "name": "python",
   "nbconvert_exporter": "python",
   "pygments_lexer": "ipython3",
   "version": "3.9.6"
  }
 },
 "nbformat": 4,
 "nbformat_minor": 5
}
