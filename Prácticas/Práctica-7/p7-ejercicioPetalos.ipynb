{
 "cells": [
  {
   "cell_type": "code",
   "execution_count": 1,
   "metadata": {},
   "outputs": [],
   "source": [
    "import pandas as pd\n",
    "import numpy as np\n",
    "import matplotlib.pyplot as plt\n",
    "from sklearn.cluster import KMeans\n",
    "import seaborn as sns\n",
    "sns.set()"
   ]
  },
  {
   "cell_type": "code",
   "execution_count": 2,
   "metadata": {},
   "outputs": [
    {
     "data": {
      "text/html": [
       "<div>\n",
       "<style scoped>\n",
       "    .dataframe tbody tr th:only-of-type {\n",
       "        vertical-align: middle;\n",
       "    }\n",
       "\n",
       "    .dataframe tbody tr th {\n",
       "        vertical-align: top;\n",
       "    }\n",
       "\n",
       "    .dataframe thead th {\n",
       "        text-align: right;\n",
       "    }\n",
       "</style>\n",
       "<table border=\"1\" class=\"dataframe\">\n",
       "  <thead>\n",
       "    <tr style=\"text-align: right;\">\n",
       "      <th></th>\n",
       "      <th>LongSepalo</th>\n",
       "      <th>AnchoSepalo</th>\n",
       "      <th>LongPetalo</th>\n",
       "      <th>AnchoPetalo</th>\n",
       "    </tr>\n",
       "  </thead>\n",
       "  <tbody>\n",
       "    <tr>\n",
       "      <th>0</th>\n",
       "      <td>5.1</td>\n",
       "      <td>3.5</td>\n",
       "      <td>1.4</td>\n",
       "      <td>0.2</td>\n",
       "    </tr>\n",
       "    <tr>\n",
       "      <th>1</th>\n",
       "      <td>4.9</td>\n",
       "      <td>3.0</td>\n",
       "      <td>1.4</td>\n",
       "      <td>0.2</td>\n",
       "    </tr>\n",
       "    <tr>\n",
       "      <th>2</th>\n",
       "      <td>4.7</td>\n",
       "      <td>3.2</td>\n",
       "      <td>1.3</td>\n",
       "      <td>0.2</td>\n",
       "    </tr>\n",
       "    <tr>\n",
       "      <th>3</th>\n",
       "      <td>4.6</td>\n",
       "      <td>3.1</td>\n",
       "      <td>1.5</td>\n",
       "      <td>0.2</td>\n",
       "    </tr>\n",
       "    <tr>\n",
       "      <th>4</th>\n",
       "      <td>5.0</td>\n",
       "      <td>3.6</td>\n",
       "      <td>1.4</td>\n",
       "      <td>0.2</td>\n",
       "    </tr>\n",
       "  </tbody>\n",
       "</table>\n",
       "</div>"
      ],
      "text/plain": [
       "   LongSepalo  AnchoSepalo  LongPetalo  AnchoPetalo\n",
       "0         5.1          3.5         1.4          0.2\n",
       "1         4.9          3.0         1.4          0.2\n",
       "2         4.7          3.2         1.3          0.2\n",
       "3         4.6          3.1         1.5          0.2\n",
       "4         5.0          3.6         1.4          0.2"
      ]
     },
     "execution_count": 2,
     "metadata": {},
     "output_type": "execute_result"
    }
   ],
   "source": [
    "iris = pd.read_csv(\"p6-iris.txt\", sep=\"\\t\")\n",
    "# Este comando nos permite guardar la información del .txt bajo el nombre \"iris\". Lo primero que le damos es la\n",
    "# ubicación exacta del .txt (ojo que puede variar!) y lo segundo (ese sep) es como están separadas nuestras columnas en \n",
    "# el .txt. En nuestro caso son espacios vacios, pero también podrían ser comas, puntos, etc.\n",
    "\n",
    "iris.head()\n",
    "# Este comando nos devuelve las primeras n (150 en el ejemplo) filas del archivo en cuestión. Por default, es decir,\n",
    "# si dejamos vacíos los parentesis, son las primeras 5."
   ]
  },
  {
   "cell_type": "code",
   "execution_count": 3,
   "metadata": {},
   "outputs": [
    {
     "name": "stdout",
     "output_type": "stream",
     "text": [
      "     LongSepalo  AnchoSepalo  LongPetalo  AnchoPetalo\n",
      "0           5.1          3.5         1.4          0.2\n",
      "1           4.9          3.0         1.4          0.2\n",
      "2           4.7          3.2         1.3          0.2\n",
      "3           4.6          3.1         1.5          0.2\n",
      "4           5.0          3.6         1.4          0.2\n",
      "..          ...          ...         ...          ...\n",
      "145         6.7          3.0         5.2          2.3\n",
      "146         6.3          2.5         5.0          1.9\n",
      "147         6.5          3.0         5.2          2.0\n",
      "148         6.2          3.4         5.4          2.3\n",
      "149         5.9          3.0         5.1          1.8\n",
      "\n",
      "[150 rows x 4 columns]\n"
     ]
    }
   ],
   "source": []
  },
  {
   "cell_type": "code",
   "execution_count": 11,
   "metadata": {},
   "outputs": [
    {
     "data": {
      "image/png": "[encoded data removed]",
      "text/plain": [
       "<Figure size 432x288 with 1 Axes>"
      ]
     },
     "metadata": {},
     "output_type": "display_data"
    }
   ],
   "source": [
    "wcss = []\n",
    "\n",
    "for i in range(1, 11):\n",
    "    kmeans = KMeans(n_clusters = i)\n",
    "    cluster = kmeans.fit_predict(iris)\n",
    "    wcss.append(kmeans.inertia_)\n",
    "    \n",
    "# Graficamos los resultados en un gráfico, y observamos en qué valor de k se da el \"codo\"\n",
    "plt.plot(range(1, 11), wcss)\n",
    "\n",
    "plt.xlabel('Número de clusters')\n",
    "plt.ylabel('WCSS') # within cluster sum of squares (suma de cuadrados en cada cluster)\n",
    "plt.show()"
   ]
  },
  {
   "cell_type": "code",
   "execution_count": null,
   "metadata": {},
   "outputs": [],
   "source": []
  },
  {
   "cell_type": "code",
   "execution_count": null,
   "metadata": {},
   "outputs": [],
   "source": []
  }
 ],
 "metadata": {
  "kernelspec": {
   "display_name": "Python 3",
   "language": "python",
   "name": "python3"
  },
  "language_info": {
   "codemirror_mode": {
    "name": "ipython",
    "version": 3
   },
   "file_extension": ".py",
   "mimetype": "text/x-python",
   "name": "python",
   "nbconvert_exporter": "python",
   "pygments_lexer": "ipython3",
   "version": "3.7.6"
  }
 },
 "nbformat": 4,
 "nbformat_minor": 2
}
