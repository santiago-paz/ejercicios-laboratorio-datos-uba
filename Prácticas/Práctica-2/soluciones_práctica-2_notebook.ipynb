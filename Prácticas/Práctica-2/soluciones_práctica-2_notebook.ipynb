{
 "cells": [
  {
   "cell_type": "markdown",
   "id": "ad9fcdd2",
   "metadata": {},
   "source": [
    "# Ejercicios de la práctica 2"
   ]
  },
  {
   "cell_type": "code",
   "execution_count": 12,
   "metadata": {},
   "outputs": [],
   "source": [
    "import matplotlib.pyplot as plt\n",
    "import seaborn as sns\n",
    "import numpy as np\n",
    "import pandas as pd\n",
    "from gapminder import gapminder"
   ]
  },
  {
   "cell_type": "code",
   "execution_count": 2,
   "id": "262ce2eb",
   "metadata": {},
   "outputs": [
    {
     "data": {
      "text/plain": [
       "{'nombre': ['Rodrigo', 'Sergio', 'Cristina', 'Diana'],\n",
       " 'altura': array([178, 172, 175, 168]),\n",
       " 'peso': array([81.2, 76.1, 68.5, 64. ])}"
      ]
     },
     "metadata": {},
     "output_type": "display_data"
    },
    {
     "data": {
      "text/html": [
       "<div>\n",
       "<style scoped>\n",
       "    .dataframe tbody tr th:only-of-type {\n",
       "        vertical-align: middle;\n",
       "    }\n",
       "\n",
       "    .dataframe tbody tr th {\n",
       "        vertical-align: top;\n",
       "    }\n",
       "\n",
       "    .dataframe thead th {\n",
       "        text-align: right;\n",
       "    }\n",
       "</style>\n",
       "<table border=\"1\" class=\"dataframe\">\n",
       "  <thead>\n",
       "    <tr style=\"text-align: right;\">\n",
       "      <th></th>\n",
       "      <th>altura</th>\n",
       "      <th>peso</th>\n",
       "    </tr>\n",
       "    <tr>\n",
       "      <th>nombre</th>\n",
       "      <th></th>\n",
       "      <th></th>\n",
       "    </tr>\n",
       "  </thead>\n",
       "  <tbody>\n",
       "    <tr>\n",
       "      <th>Rodrigo</th>\n",
       "      <td>178</td>\n",
       "      <td>81.2</td>\n",
       "    </tr>\n",
       "    <tr>\n",
       "      <th>Sergio</th>\n",
       "      <td>172</td>\n",
       "      <td>76.1</td>\n",
       "    </tr>\n",
       "    <tr>\n",
       "      <th>Cristina</th>\n",
       "      <td>175</td>\n",
       "      <td>68.5</td>\n",
       "    </tr>\n",
       "    <tr>\n",
       "      <th>Diana</th>\n",
       "      <td>168</td>\n",
       "      <td>64.0</td>\n",
       "    </tr>\n",
       "  </tbody>\n",
       "</table>\n",
       "</div>"
      ],
      "text/plain": [
       "          altura  peso\n",
       "nombre                \n",
       "Rodrigo      178  81.2\n",
       "Sergio       172  76.1\n",
       "Cristina     175  68.5\n",
       "Diana        168  64.0"
      ]
     },
     "metadata": {},
     "output_type": "display_data"
    }
   ],
   "source": [
    "data = {\"nombre\": [\"Rodrigo\", \"Sergio\", \"Cristina\", \"Diana\"], \"altura\":\n",
    "np.array ([178, 172, 175, 168]), \"peso\": np.array ([81.2 , 76.1, 68.5,\n",
    "64.0])}\n",
    "display(data)\n",
    "pacientes = pd.DataFrame(data).set_index(\"nombre\")\n",
    "display(pacientes)"
   ]
  },
  {
   "cell_type": "markdown",
   "id": "cde70cd3",
   "metadata": {},
   "source": [
    "## Dataframes"
   ]
  },
  {
   "cell_type": "code",
   "execution_count": 3,
   "id": "93fe786a",
   "metadata": {},
   "outputs": [
    {
     "data": {
      "text/plain": [
       "pandas.core.frame.DataFrame"
      ]
     },
     "execution_count": 3,
     "metadata": {},
     "output_type": "execute_result"
    }
   ],
   "source": [
    "#Ejercicio 7\n",
    "\n",
    "type(pacientes)"
   ]
  },
  {
   "cell_type": "code",
   "execution_count": 4,
   "id": "3330b44a",
   "metadata": {},
   "outputs": [],
   "source": [
    "#Ejercicio 8\n",
    "\n",
    "altura = pacientes[\"altura\"]"
   ]
  },
  {
   "cell_type": "code",
   "execution_count": 9,
   "id": "ab00175d",
   "metadata": {},
   "outputs": [
    {
     "data": {
      "text/plain": [
       "nombre\n",
       "Rodrigo     178\n",
       "Sergio      172\n",
       "Cristina    175\n",
       "Diana       168\n",
       "Name: altura, dtype: int64"
      ]
     },
     "execution_count": 9,
     "metadata": {},
     "output_type": "execute_result"
    }
   ],
   "source": [
    "#Ejercicio 9\n",
    "\n",
    "#pacientes[\"Rodrigo\"].altura\n",
    "pacientes[\"altura\"].Rodrigo #  👈 Esta es la forma correcta"
   ]
  },
  {
   "cell_type": "code",
   "execution_count": 17,
   "id": "3b5e5c8c",
   "metadata": {},
   "outputs": [
    {
     "data": {
      "text/html": [
       "<div>\n",
       "<style scoped>\n",
       "    .dataframe tbody tr th:only-of-type {\n",
       "        vertical-align: middle;\n",
       "    }\n",
       "\n",
       "    .dataframe tbody tr th {\n",
       "        vertical-align: top;\n",
       "    }\n",
       "\n",
       "    .dataframe thead th {\n",
       "        text-align: right;\n",
       "    }\n",
       "</style>\n",
       "<table border=\"1\" class=\"dataframe\">\n",
       "  <thead>\n",
       "    <tr style=\"text-align: right;\">\n",
       "      <th></th>\n",
       "      <th>country</th>\n",
       "      <th>continent</th>\n",
       "      <th>year</th>\n",
       "      <th>lifeExp</th>\n",
       "      <th>pop</th>\n",
       "      <th>gdpPercap</th>\n",
       "    </tr>\n",
       "  </thead>\n",
       "  <tbody>\n",
       "    <tr>\n",
       "      <th>0</th>\n",
       "      <td>Afghanistan</td>\n",
       "      <td>Asia</td>\n",
       "      <td>1952</td>\n",
       "      <td>28.801</td>\n",
       "      <td>8425333</td>\n",
       "      <td>779.445314</td>\n",
       "    </tr>\n",
       "    <tr>\n",
       "      <th>1</th>\n",
       "      <td>Afghanistan</td>\n",
       "      <td>Asia</td>\n",
       "      <td>1957</td>\n",
       "      <td>30.332</td>\n",
       "      <td>9240934</td>\n",
       "      <td>820.853030</td>\n",
       "    </tr>\n",
       "    <tr>\n",
       "      <th>2</th>\n",
       "      <td>Afghanistan</td>\n",
       "      <td>Asia</td>\n",
       "      <td>1962</td>\n",
       "      <td>31.997</td>\n",
       "      <td>10267083</td>\n",
       "      <td>853.100710</td>\n",
       "    </tr>\n",
       "    <tr>\n",
       "      <th>3</th>\n",
       "      <td>Afghanistan</td>\n",
       "      <td>Asia</td>\n",
       "      <td>1967</td>\n",
       "      <td>34.020</td>\n",
       "      <td>11537966</td>\n",
       "      <td>836.197138</td>\n",
       "    </tr>\n",
       "    <tr>\n",
       "      <th>4</th>\n",
       "      <td>Afghanistan</td>\n",
       "      <td>Asia</td>\n",
       "      <td>1972</td>\n",
       "      <td>36.088</td>\n",
       "      <td>13079460</td>\n",
       "      <td>739.981106</td>\n",
       "    </tr>\n",
       "  </tbody>\n",
       "</table>\n",
       "</div>"
      ],
      "text/plain": [
       "       country continent  year  lifeExp       pop   gdpPercap\n",
       "0  Afghanistan      Asia  1952   28.801   8425333  779.445314\n",
       "1  Afghanistan      Asia  1957   30.332   9240934  820.853030\n",
       "2  Afghanistan      Asia  1962   31.997  10267083  853.100710\n",
       "3  Afghanistan      Asia  1967   34.020  11537966  836.197138\n",
       "4  Afghanistan      Asia  1972   36.088  13079460  739.981106"
      ]
     },
     "execution_count": 17,
     "metadata": {},
     "output_type": "execute_result"
    }
   ],
   "source": [
    "# Ejercicio 10\n",
    "\n",
    "#display(gapminder)\n",
    "#gapminder.info()\n",
    "#gapminder.head()\n",
    "gapminder.tail()"
   ]
  },
  {
   "cell_type": "code",
   "execution_count": 18,
   "id": "879b7b41",
   "metadata": {},
   "outputs": [
    {
     "data": {
      "text/plain": [
       "pandas.core.frame.DataFrame"
      ]
     },
     "execution_count": 18,
     "metadata": {},
     "output_type": "execute_result"
    }
   ],
   "source": [
    "#Ejercicio 11\n",
    "\n",
    "type(gapminder)"
   ]
  },
  {
   "cell_type": "code",
   "execution_count": 20,
   "id": "69225ce2",
   "metadata": {},
   "outputs": [
    {
     "data": {
      "text/plain": [
       "(1704, 6)"
      ]
     },
     "execution_count": 20,
     "metadata": {},
     "output_type": "execute_result"
    }
   ],
   "source": [
    "#Ejercicio 12\n",
    "\n",
    "gapminder.shape"
   ]
  },
  {
   "cell_type": "code",
   "execution_count": 27,
   "id": "0ed37372",
   "metadata": {},
   "outputs": [
    {
     "data": {
      "text/plain": [
       "142"
      ]
     },
     "execution_count": 27,
     "metadata": {},
     "output_type": "execute_result"
    }
   ],
   "source": [
    "#Ejercicio 13\n",
    "\n",
    "gapminder[\"country\"].unique()\n",
    "gapminder[\"country\"].nunique()"
   ]
  },
  {
   "cell_type": "code",
   "execution_count": 43,
   "id": "2d4bfd5b",
   "metadata": {},
   "outputs": [
    {
     "name": "stdout",
     "output_type": "stream",
     "text": [
      "        country continent  year  lifeExp       pop     gdpPercap\n",
      "48    Argentina  Americas  1952   62.485  17876956   5911.315053\n",
      "49    Argentina  Americas  1957   64.399  19610538   6856.856212\n",
      "50    Argentina  Americas  1962   65.142  21283783   7133.166023\n",
      "51    Argentina  Americas  1967   65.634  22934225   8052.953021\n",
      "52    Argentina  Americas  1972   67.065  24779799   9443.038526\n",
      "53    Argentina  Americas  1977   68.481  26983828  10079.026740\n",
      "54    Argentina  Americas  1982   69.942  29341374   8997.897412\n",
      "55    Argentina  Americas  1987   70.774  31620918   9139.671389\n",
      "56    Argentina  Americas  1992   71.868  33958947   9308.418710\n",
      "57    Argentina  Americas  1997   73.275  36203463  10967.281950\n",
      "58    Argentina  Americas  2002   74.340  38331121   8797.640716\n",
      "59    Argentina  Americas  2007   75.320  40301927  12779.379640\n",
      "276       Chile  Americas  1952   54.745   6377619   3939.978789\n",
      "277       Chile  Americas  1957   56.074   7048426   4315.622723\n",
      "278       Chile  Americas  1962   57.924   7961258   4519.094331\n",
      "279       Chile  Americas  1967   60.523   8858908   5106.654313\n",
      "280       Chile  Americas  1972   63.441   9717524   5494.024437\n",
      "281       Chile  Americas  1977   67.052  10599793   4756.763836\n",
      "282       Chile  Americas  1982   70.565  11487112   5095.665738\n",
      "283       Chile  Americas  1987   72.492  12463354   5547.063754\n",
      "284       Chile  Americas  1992   74.126  13572994   7596.125964\n",
      "285       Chile  Americas  1997   75.816  14599929  10118.053180\n",
      "286       Chile  Americas  2002   77.860  15497046  10778.783850\n",
      "287       Chile  Americas  2007   78.553  16284741  13171.638850\n",
      "1620    Uruguay  Americas  1952   66.071   2252965   5716.766744\n",
      "1621    Uruguay  Americas  1957   67.044   2424959   6150.772969\n",
      "1622    Uruguay  Americas  1962   68.253   2598466   5603.357717\n",
      "1623    Uruguay  Americas  1967   68.468   2748579   5444.619620\n",
      "1624    Uruguay  Americas  1972   68.673   2829526   5703.408898\n",
      "1625    Uruguay  Americas  1977   69.481   2873520   6504.339663\n",
      "1626    Uruguay  Americas  1982   70.805   2953997   6920.223051\n",
      "1627    Uruguay  Americas  1987   71.918   3045153   7452.398969\n",
      "1628    Uruguay  Americas  1992   72.752   3149262   8137.004775\n",
      "1629    Uruguay  Americas  1997   74.223   3262838   9230.240708\n",
      "1630    Uruguay  Americas  2002   75.307   3363085   7727.002004\n",
      "1631    Uruguay  Americas  2007   76.384   3447496  10611.462990\n"
     ]
    }
   ],
   "source": [
    "#Ejercicio 14\n",
    "\n",
    "#gm_sur = gapminder[gapminder[\"country\"] == \"Argentina\"]\n",
    "gm_sur = gapminder[gapminder[\"country\"].isin([\"Argentina\", \"Chile\", \"Uruguay\"])]\n",
    "print(gm_sur)\n"
   ]
  },
  {
   "cell_type": "code",
   "execution_count": 45,
   "id": "673c6d7f",
   "metadata": {},
   "outputs": [
    {
     "name": "stdout",
     "output_type": "stream",
     "text": [
      "country        Argentina\n",
      "continent       Americas\n",
      "year                1952\n",
      "lifeExp           62.485\n",
      "pop             17876956\n",
      "gdpPercap    5911.315053\n",
      "Name: 48, dtype: object\n",
      "----\n",
      "country            Chile\n",
      "continent       Americas\n",
      "year                1992\n",
      "lifeExp           74.126\n",
      "pop             13572994\n",
      "gdpPercap    7596.125964\n",
      "Name: 284, dtype: object\n"
     ]
    }
   ],
   "source": [
    "#Ejercicio 15\n",
    "\n",
    "# Puedo acceder al indice que viene de la tabla original:\n",
    "print(gm_sur.loc[48])\n",
    "\n",
    "print(\"----\")\n",
    "\n",
    "# O Puedo acceder al indice que del valor de la tabla filtrada:\n",
    "print(gm_sur.iloc[20])\n",
    "\n"
   ]
  },
  {
   "cell_type": "markdown",
   "id": "6e5f4fd1",
   "metadata": {},
   "source": [
    "## Archivos de datos"
   ]
  },
  {
   "cell_type": "code",
   "execution_count": 56,
   "id": "112edfb9",
   "metadata": {},
   "outputs": [
    {
     "data": {
      "text/plain": [
       "<Axes: >"
      ]
     },
     "execution_count": 56,
     "metadata": {},
     "output_type": "execute_result"
    },
    {
     "data": {
      "image/png": "[encoded data removed]",
      "text/plain": [
       "<Figure size 640x480 with 1 Axes>"
      ]
     },
     "metadata": {},
     "output_type": "display_data"
    }
   ],
   "source": [
    "# Ejercicio 16\n",
    "\n",
    "df = pd.read_csv(\"../../Datos/casos_coronavirus.csv\")\n",
    "# Graficar los datos de confirmados_Nuevos\n",
    "# df[\"confirmados_Nuevos\"].plot()\n",
    "# Graficar la cantidad de casos acumulados\n",
    "# df[\"confirmados_Nuevos\"].cumsum().plot()\n",
    "# Graficar la cantidad de casos acumulados logaritmicamente\n",
    "df[\"confirmados_Nuevos\"].cumsum().plot(logy=True)"
   ]
  },
  {
   "cell_type": "markdown",
   "id": "8ff0b93f",
   "metadata": {},
   "source": [
    "## Estadística descriptiva"
   ]
  },
  {
   "cell_type": "code",
   "execution_count": null,
   "id": "2908c0ae",
   "metadata": {},
   "outputs": [],
   "source": [
    "# Ejercicio 17\n",
    "\n",
    "# Variables numéricas: Peso, Altura, Confirmados_Nuevos\n",
    "# Variables descriptivas: Nombre, País, Provincia"
   ]
  },
  {
   "cell_type": "code",
   "execution_count": 58,
   "id": "9f1dad4a",
   "metadata": {},
   "outputs": [
    {
     "data": {
      "text/plain": [
       "0    779.445314\n",
       "1    820.853030\n",
       "2    853.100710\n",
       "3    836.197138\n",
       "4    739.981106\n",
       "Name: gdpPercap, dtype: float64"
      ]
     },
     "execution_count": 58,
     "metadata": {},
     "output_type": "execute_result"
    }
   ],
   "source": [
    "# Ejercicio 18\n",
    "\n",
    "gapminder[\"gdpPercap\"].head()\n",
    "\n",
    "# Por lo que vemos, es una variable numérica continua"
   ]
  },
  {
   "cell_type": "code",
   "execution_count": null,
   "id": "55dc9c80",
   "metadata": {},
   "outputs": [],
   "source": [
    "# Ejercicio 19\n",
    "\n",
    "# Si definimos una nueva variable llamada \"nivelGDP\" con 3 valores posibles: 0, 1 ó 2\n",
    "# Estamos hablando de una variable categórica ordinal\n",
    "\n",
    "# Si la variable puede tomar los valores \"Bajo\", \"Medio\" y \"Alto\", estamos hablando de una variable categórica nominal"
   ]
  },
  {
   "cell_type": "code",
   "execution_count": 82,
   "id": "75518df5",
   "metadata": {},
   "outputs": [
    {
     "data": {
      "text/plain": [
       "continent\n",
       "Africa      52\n",
       "Asia        33\n",
       "Europe      30\n",
       "Americas    25\n",
       "Oceania      2\n",
       "Name: count, dtype: int64"
      ]
     },
     "execution_count": 82,
     "metadata": {},
     "output_type": "execute_result"
    }
   ],
   "source": [
    "# Ejercicio 20:\n",
    "\n",
    "# Agrupar por año y calcular la media de la variable \"gdpPercap\"\n",
    "gapminder[gapminder.year == 2007][\"continent\"].value_counts()\n",
    "#gapminder[gapminder.year == 2007][\"continent\"].nunique\n",
    "#gapminder[gapminder.year == 2007][\"continent\"].size"
   ]
  },
  {
   "cell_type": "code",
   "execution_count": 95,
   "id": "b80ae81e",
   "metadata": {},
   "outputs": [
    {
     "name": "stderr",
     "output_type": "stream",
     "text": [
      "/var/folders/7q/0_79px2973b4smt02wtsl08r0000gn/T/ipykernel_70329/2688551169.py:2: SettingWithCopyWarning: \n",
      "A value is trying to be set on a copy of a slice from a DataFrame.\n",
      "Try using .loc[row_indexer,col_indexer] = value instead\n",
      "\n",
      "See the caveats in the documentation: https://pandas.pydata.org/pandas-docs/stable/user_guide/indexing.html#returning-a-view-versus-a-copy\n",
      "  datos_2007[\"gdpAlto\"] = (datos_2007[\"gdpPercap\"] > 2000).astype(int)\n"
     ]
    },
    {
     "data": {
      "text/html": [
       "<div>\n",
       "<style scoped>\n",
       "    .dataframe tbody tr th:only-of-type {\n",
       "        vertical-align: middle;\n",
       "    }\n",
       "\n",
       "    .dataframe tbody tr th {\n",
       "        vertical-align: top;\n",
       "    }\n",
       "\n",
       "    .dataframe thead th {\n",
       "        text-align: right;\n",
       "    }\n",
       "</style>\n",
       "<table border=\"1\" class=\"dataframe\">\n",
       "  <thead>\n",
       "    <tr style=\"text-align: right;\">\n",
       "      <th></th>\n",
       "      <th>country</th>\n",
       "      <th>continent</th>\n",
       "      <th>year</th>\n",
       "      <th>lifeExp</th>\n",
       "      <th>pop</th>\n",
       "      <th>gdpPercap</th>\n",
       "      <th>gdpAlto</th>\n",
       "    </tr>\n",
       "  </thead>\n",
       "  <tbody>\n",
       "    <tr>\n",
       "      <th>11</th>\n",
       "      <td>Afghanistan</td>\n",
       "      <td>Asia</td>\n",
       "      <td>2007</td>\n",
       "      <td>43.828</td>\n",
       "      <td>31889923</td>\n",
       "      <td>974.580338</td>\n",
       "      <td>0</td>\n",
       "    </tr>\n",
       "    <tr>\n",
       "      <th>23</th>\n",
       "      <td>Albania</td>\n",
       "      <td>Europe</td>\n",
       "      <td>2007</td>\n",
       "      <td>76.423</td>\n",
       "      <td>3600523</td>\n",
       "      <td>5937.029526</td>\n",
       "      <td>1</td>\n",
       "    </tr>\n",
       "    <tr>\n",
       "      <th>35</th>\n",
       "      <td>Algeria</td>\n",
       "      <td>Africa</td>\n",
       "      <td>2007</td>\n",
       "      <td>72.301</td>\n",
       "      <td>33333216</td>\n",
       "      <td>6223.367465</td>\n",
       "      <td>1</td>\n",
       "    </tr>\n",
       "    <tr>\n",
       "      <th>47</th>\n",
       "      <td>Angola</td>\n",
       "      <td>Africa</td>\n",
       "      <td>2007</td>\n",
       "      <td>42.731</td>\n",
       "      <td>12420476</td>\n",
       "      <td>4797.231267</td>\n",
       "      <td>1</td>\n",
       "    </tr>\n",
       "    <tr>\n",
       "      <th>59</th>\n",
       "      <td>Argentina</td>\n",
       "      <td>Americas</td>\n",
       "      <td>2007</td>\n",
       "      <td>75.320</td>\n",
       "      <td>40301927</td>\n",
       "      <td>12779.379640</td>\n",
       "      <td>1</td>\n",
       "    </tr>\n",
       "    <tr>\n",
       "      <th>...</th>\n",
       "      <td>...</td>\n",
       "      <td>...</td>\n",
       "      <td>...</td>\n",
       "      <td>...</td>\n",
       "      <td>...</td>\n",
       "      <td>...</td>\n",
       "      <td>...</td>\n",
       "    </tr>\n",
       "    <tr>\n",
       "      <th>1655</th>\n",
       "      <td>Vietnam</td>\n",
       "      <td>Asia</td>\n",
       "      <td>2007</td>\n",
       "      <td>74.249</td>\n",
       "      <td>85262356</td>\n",
       "      <td>2441.576404</td>\n",
       "      <td>1</td>\n",
       "    </tr>\n",
       "    <tr>\n",
       "      <th>1667</th>\n",
       "      <td>West Bank and Gaza</td>\n",
       "      <td>Asia</td>\n",
       "      <td>2007</td>\n",
       "      <td>73.422</td>\n",
       "      <td>4018332</td>\n",
       "      <td>3025.349798</td>\n",
       "      <td>1</td>\n",
       "    </tr>\n",
       "    <tr>\n",
       "      <th>1679</th>\n",
       "      <td>Yemen, Rep.</td>\n",
       "      <td>Asia</td>\n",
       "      <td>2007</td>\n",
       "      <td>62.698</td>\n",
       "      <td>22211743</td>\n",
       "      <td>2280.769906</td>\n",
       "      <td>1</td>\n",
       "    </tr>\n",
       "    <tr>\n",
       "      <th>1691</th>\n",
       "      <td>Zambia</td>\n",
       "      <td>Africa</td>\n",
       "      <td>2007</td>\n",
       "      <td>42.384</td>\n",
       "      <td>11746035</td>\n",
       "      <td>1271.211593</td>\n",
       "      <td>0</td>\n",
       "    </tr>\n",
       "    <tr>\n",
       "      <th>1703</th>\n",
       "      <td>Zimbabwe</td>\n",
       "      <td>Africa</td>\n",
       "      <td>2007</td>\n",
       "      <td>43.487</td>\n",
       "      <td>12311143</td>\n",
       "      <td>469.709298</td>\n",
       "      <td>0</td>\n",
       "    </tr>\n",
       "  </tbody>\n",
       "</table>\n",
       "<p>142 rows × 7 columns</p>\n",
       "</div>"
      ],
      "text/plain": [
       "                 country continent  year  lifeExp       pop     gdpPercap  \\\n",
       "11           Afghanistan      Asia  2007   43.828  31889923    974.580338   \n",
       "23               Albania    Europe  2007   76.423   3600523   5937.029526   \n",
       "35               Algeria    Africa  2007   72.301  33333216   6223.367465   \n",
       "47                Angola    Africa  2007   42.731  12420476   4797.231267   \n",
       "59             Argentina  Americas  2007   75.320  40301927  12779.379640   \n",
       "...                  ...       ...   ...      ...       ...           ...   \n",
       "1655             Vietnam      Asia  2007   74.249  85262356   2441.576404   \n",
       "1667  West Bank and Gaza      Asia  2007   73.422   4018332   3025.349798   \n",
       "1679         Yemen, Rep.      Asia  2007   62.698  22211743   2280.769906   \n",
       "1691              Zambia    Africa  2007   42.384  11746035   1271.211593   \n",
       "1703            Zimbabwe    Africa  2007   43.487  12311143    469.709298   \n",
       "\n",
       "      gdpAlto  \n",
       "11          0  \n",
       "23          1  \n",
       "35          1  \n",
       "47          1  \n",
       "59          1  \n",
       "...       ...  \n",
       "1655        1  \n",
       "1667        1  \n",
       "1679        1  \n",
       "1691        0  \n",
       "1703        0  \n",
       "\n",
       "[142 rows x 7 columns]"
      ]
     },
     "execution_count": 95,
     "metadata": {},
     "output_type": "execute_result"
    }
   ],
   "source": [
    "datos_2007 = gapminder[gapminder[\"year\"] == 2007]\n",
    "datos_2007[\"gdpAlto\"] = (datos_2007[\"gdpPercap\"] > 2000).astype(int)\n",
    "datos_2007"
   ]
  },
  {
   "cell_type": "code",
   "execution_count": 100,
   "id": "19f32439",
   "metadata": {},
   "outputs": [
    {
     "data": {
      "text/plain": [
       "<pandas.core.groupby.generic.DataFrameGroupBy object at 0x1459503a0>"
      ]
     },
     "execution_count": 100,
     "metadata": {},
     "output_type": "execute_result"
    }
   ],
   "source": [
    "tabla = datos_2007.groupby(\"continent\")\n",
    "tabla"
   ]
  }
 ],
 "metadata": {
  "kernelspec": {
   "display_name": "Python 3",
   "language": "python",
   "name": "python3"
  },
  "language_info": {
   "codemirror_mode": {
    "name": "ipython",
    "version": 3
   },
   "file_extension": ".py",
   "mimetype": "text/x-python",
   "name": "python",
   "nbconvert_exporter": "python",
   "pygments_lexer": "ipython3",
   "version": "3.9.6"
  }
 },
 "nbformat": 4,
 "nbformat_minor": 5
}
