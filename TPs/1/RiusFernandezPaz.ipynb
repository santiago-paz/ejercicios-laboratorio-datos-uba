{
 "cells": [
  {
   "cell_type": "markdown",
   "metadata": {},
   "source": [
    "# **Trabajo Práctico N°1**\n",
    "\n",
    "## Integrantes: Ana Rius, Fátima Fernández, Santiago Paz\n",
    "\n",
    "### Importación de librerías y carga de datos"
   ]
  },
  {
   "cell_type": "code",
   "execution_count": 1,
   "metadata": {},
   "outputs": [],
   "source": [
    "import pandas as pd\n",
    "\n",
    "df = pd.read_csv(\"sube-2023.csv\")"
   ]
  },
  {
   "cell_type": "markdown",
   "metadata": {},
   "source": [
    "### **Ejercicio 1 (a)**\n",
    "#### Visualización del tipo de dato de cada columna y transformación de la columna ``DIA_TRANSPORTE`` a tipo ``datetime``"
   ]
  },
  {
   "cell_type": "code",
   "execution_count": 2,
   "metadata": {},
   "outputs": [
    {
     "name": "stdout",
     "output_type": "stream",
     "text": [
      "<class 'pandas.core.frame.DataFrame'>\n",
      "RangeIndex: 472291 entries, 0 to 472290\n",
      "Data columns (total 10 columns):\n",
      " #   Column           Non-Null Count   Dtype \n",
      "---  ------           --------------   ----- \n",
      " 0   DIA_TRANSPORTE   472291 non-null  object\n",
      " 1   NOMBRE_EMPRESA   472291 non-null  object\n",
      " 2   LINEA            472291 non-null  object\n",
      " 3   AMBA             472291 non-null  object\n",
      " 4   TIPO_TRANSPORTE  472291 non-null  object\n",
      " 5   JURISDICCION     469742 non-null  object\n",
      " 6   PROVINCIA        469720 non-null  object\n",
      " 7   MUNICIPIO        469720 non-null  object\n",
      " 8   CANTIDAD         472291 non-null  int64 \n",
      " 9   DATO_PRELIMINAR  472291 non-null  object\n",
      "dtypes: int64(1), object(9)\n",
      "memory usage: 36.0+ MB\n",
      "None\n"
     ]
    }
   ],
   "source": [
    "# Visualizamos los tipos de datos de cada columna, vemos cuántos hay, y si hay valores nulos\n",
    "\n",
    "print(df.info())"
   ]
  },
  {
   "cell_type": "code",
   "execution_count": 3,
   "metadata": {},
   "outputs": [
    {
     "name": "stdout",
     "output_type": "stream",
     "text": [
      "DIA_TRANSPORTE     datetime64[ns]\n",
      "NOMBRE_EMPRESA             object\n",
      "LINEA                      object\n",
      "AMBA                       object\n",
      "TIPO_TRANSPORTE            object\n",
      "JURISDICCION               object\n",
      "PROVINCIA                  object\n",
      "MUNICIPIO                  object\n",
      "CANTIDAD                    int64\n",
      "DATO_PRELIMINAR            object\n",
      "dtype: object\n"
     ]
    }
   ],
   "source": [
    "# Transformamos la columna DIA_TRANSPORTE a tipo datetime\n",
    "\n",
    "df[\"DIA_TRANSPORTE\"] = pd.to_datetime(df[\"DIA_TRANSPORTE\"])\n",
    "\n",
    "# Verificamos que la columna DIA_TRANSPORTE se haya transformado a tipo datetime, imprimiendo todos los tipos de datos\n",
    "\n",
    "print(df.dtypes)"
   ]
  },
  {
   "cell_type": "markdown",
   "metadata": {},
   "source": [
    "### **Ejercicio 1 (b)**\n",
    "\n",
    "#### Agregamos tres columnas al DataFrame: ``FECHA_DIA``, ``FECHA_ORDINAL`` y ``FECHA_MES``"
   ]
  },
  {
   "cell_type": "code",
   "execution_count": 4,
   "metadata": {},
   "outputs": [
    {
     "data": {
      "text/html": [
       "<div>\n",
       "<style scoped>\n",
       "    .dataframe tbody tr th:only-of-type {\n",
       "        vertical-align: middle;\n",
       "    }\n",
       "\n",
       "    .dataframe tbody tr th {\n",
       "        vertical-align: top;\n",
       "    }\n",
       "\n",
       "    .dataframe thead th {\n",
       "        text-align: right;\n",
       "    }\n",
       "</style>\n",
       "<table border=\"1\" class=\"dataframe\">\n",
       "  <thead>\n",
       "    <tr style=\"text-align: right;\">\n",
       "      <th></th>\n",
       "      <th>DIA_TRANSPORTE</th>\n",
       "      <th>NOMBRE_EMPRESA</th>\n",
       "      <th>LINEA</th>\n",
       "      <th>AMBA</th>\n",
       "      <th>TIPO_TRANSPORTE</th>\n",
       "      <th>JURISDICCION</th>\n",
       "      <th>PROVINCIA</th>\n",
       "      <th>MUNICIPIO</th>\n",
       "      <th>CANTIDAD</th>\n",
       "      <th>DATO_PRELIMINAR</th>\n",
       "      <th>FECHA_DIA</th>\n",
       "      <th>FECHA_ORDINAL</th>\n",
       "      <th>FECHA_MES</th>\n",
       "    </tr>\n",
       "  </thead>\n",
       "  <tbody>\n",
       "    <tr>\n",
       "      <th>0</th>\n",
       "      <td>2023-01-01</td>\n",
       "      <td>MUNICIPALIDAD DE MERCEDES PROVINCIA DE BUENOS ...</td>\n",
       "      <td>1</td>\n",
       "      <td>SI</td>\n",
       "      <td>COLECTIVO</td>\n",
       "      <td>MUNICIPAL</td>\n",
       "      <td>BUENOS AIRES</td>\n",
       "      <td>MERCEDES</td>\n",
       "      <td>61</td>\n",
       "      <td>NO</td>\n",
       "      <td>Sunday</td>\n",
       "      <td>1</td>\n",
       "      <td>1</td>\n",
       "    </tr>\n",
       "    <tr>\n",
       "      <th>1</th>\n",
       "      <td>2023-01-01</td>\n",
       "      <td>MUNICIPALIDAD DE MERCEDES PROVINCIA DE BUENOS ...</td>\n",
       "      <td>2B</td>\n",
       "      <td>SI</td>\n",
       "      <td>COLECTIVO</td>\n",
       "      <td>MUNICIPAL</td>\n",
       "      <td>BUENOS AIRES</td>\n",
       "      <td>MERCEDES</td>\n",
       "      <td>11</td>\n",
       "      <td>NO</td>\n",
       "      <td>Sunday</td>\n",
       "      <td>1</td>\n",
       "      <td>1</td>\n",
       "    </tr>\n",
       "    <tr>\n",
       "      <th>2</th>\n",
       "      <td>2023-01-01</td>\n",
       "      <td>EMPRESA BATAN S.A.</td>\n",
       "      <td>BS_AS_LINEA 715M</td>\n",
       "      <td>NO</td>\n",
       "      <td>COLECTIVO</td>\n",
       "      <td>MUNICIPAL</td>\n",
       "      <td>BUENOS AIRES</td>\n",
       "      <td>GENERAL PUEYRREDON</td>\n",
       "      <td>1707</td>\n",
       "      <td>NO</td>\n",
       "      <td>Sunday</td>\n",
       "      <td>1</td>\n",
       "      <td>1</td>\n",
       "    </tr>\n",
       "    <tr>\n",
       "      <th>3</th>\n",
       "      <td>2023-01-01</td>\n",
       "      <td>COMPAÑIA  DE TRANSPORTE VECINAL S.A.</td>\n",
       "      <td>BS_AS_LINEA_326</td>\n",
       "      <td>SI</td>\n",
       "      <td>COLECTIVO</td>\n",
       "      <td>PROVINCIAL</td>\n",
       "      <td>BUENOS AIRES</td>\n",
       "      <td>SN</td>\n",
       "      <td>438</td>\n",
       "      <td>NO</td>\n",
       "      <td>Sunday</td>\n",
       "      <td>1</td>\n",
       "      <td>1</td>\n",
       "    </tr>\n",
       "    <tr>\n",
       "      <th>4</th>\n",
       "      <td>2023-01-01</td>\n",
       "      <td>EMPRESA DE TRANSPORTE PERALTA RAMOS SACI</td>\n",
       "      <td>BS_AS_LINEA_512</td>\n",
       "      <td>NO</td>\n",
       "      <td>COLECTIVO</td>\n",
       "      <td>MUNICIPAL</td>\n",
       "      <td>BUENOS AIRES</td>\n",
       "      <td>GENERAL PUEYRREDON</td>\n",
       "      <td>1189</td>\n",
       "      <td>NO</td>\n",
       "      <td>Sunday</td>\n",
       "      <td>1</td>\n",
       "      <td>1</td>\n",
       "    </tr>\n",
       "  </tbody>\n",
       "</table>\n",
       "</div>"
      ],
      "text/plain": [
       "  DIA_TRANSPORTE                                     NOMBRE_EMPRESA  \\\n",
       "0     2023-01-01  MUNICIPALIDAD DE MERCEDES PROVINCIA DE BUENOS ...   \n",
       "1     2023-01-01  MUNICIPALIDAD DE MERCEDES PROVINCIA DE BUENOS ...   \n",
       "2     2023-01-01                                 EMPRESA BATAN S.A.   \n",
       "3     2023-01-01               COMPAÑIA  DE TRANSPORTE VECINAL S.A.   \n",
       "4     2023-01-01           EMPRESA DE TRANSPORTE PERALTA RAMOS SACI   \n",
       "\n",
       "              LINEA AMBA TIPO_TRANSPORTE JURISDICCION     PROVINCIA  \\\n",
       "0                 1   SI       COLECTIVO    MUNICIPAL  BUENOS AIRES   \n",
       "1                2B   SI       COLECTIVO    MUNICIPAL  BUENOS AIRES   \n",
       "2  BS_AS_LINEA 715M   NO       COLECTIVO    MUNICIPAL  BUENOS AIRES   \n",
       "3   BS_AS_LINEA_326   SI       COLECTIVO   PROVINCIAL  BUENOS AIRES   \n",
       "4   BS_AS_LINEA_512   NO       COLECTIVO    MUNICIPAL  BUENOS AIRES   \n",
       "\n",
       "            MUNICIPIO  CANTIDAD DATO_PRELIMINAR FECHA_DIA  FECHA_ORDINAL  \\\n",
       "0            MERCEDES        61              NO    Sunday              1   \n",
       "1            MERCEDES        11              NO    Sunday              1   \n",
       "2  GENERAL PUEYRREDON      1707              NO    Sunday              1   \n",
       "3                  SN       438              NO    Sunday              1   \n",
       "4  GENERAL PUEYRREDON      1189              NO    Sunday              1   \n",
       "\n",
       "   FECHA_MES  \n",
       "0          1  \n",
       "1          1  \n",
       "2          1  \n",
       "3          1  \n",
       "4          1  "
      ]
     },
     "execution_count": 4,
     "metadata": {},
     "output_type": "execute_result"
    }
   ],
   "source": [
    "# Agregamos la columna \"FECHA_DIA\", que indica el dia de la semana de la columna DIA_TRANSPORTE\n",
    "df[\"FECHA_DIA\"] = df[\"DIA_TRANSPORTE\"].dt.day_name()\n",
    "\n",
    "# Agregamos la columna \"FECHA_ORDINAL\", que indica el ordinal correspondiente de la columna DIA_TRANSPORTE\n",
    "df[\"FECHA_ORDINAL\"] = df[\"DIA_TRANSPORTE\"].dt.dayofyear\n",
    "\n",
    "# Agregamos la columna \"FECHA_MES\", que indica el mes correspondiente de la columna DIA_TRANSPORTE\n",
    "df[\"FECHA_MES\"] = df[\"DIA_TRANSPORTE\"].dt.month\n",
    "\n",
    "df.head()"
   ]
  },
  {
   "cell_type": "markdown",
   "metadata": {},
   "source": [
    "### **Ejercicio 2**\n",
    "\n",
    "#### Creamos el DataFrame ``datos_amba``, el cual solo debe tener datos de AMBA "
   ]
  },
  {
   "cell_type": "code",
   "execution_count": 5,
   "metadata": {},
   "outputs": [
    {
     "name": "stdout",
     "output_type": "stream",
     "text": [
      "Valores posibles de la columna AMBA:  ['SI' 'NO']\n"
     ]
    },
    {
     "data": {
      "text/html": [
       "<div>\n",
       "<style scoped>\n",
       "    .dataframe tbody tr th:only-of-type {\n",
       "        vertical-align: middle;\n",
       "    }\n",
       "\n",
       "    .dataframe tbody tr th {\n",
       "        vertical-align: top;\n",
       "    }\n",
       "\n",
       "    .dataframe thead th {\n",
       "        text-align: right;\n",
       "    }\n",
       "</style>\n",
       "<table border=\"1\" class=\"dataframe\">\n",
       "  <thead>\n",
       "    <tr style=\"text-align: right;\">\n",
       "      <th></th>\n",
       "      <th>fecha</th>\n",
       "      <th>fecha_dia</th>\n",
       "      <th>fecha_mes</th>\n",
       "      <th>fecha_ordinal</th>\n",
       "      <th>jurisdiccion</th>\n",
       "      <th>linea</th>\n",
       "      <th>pasajeros</th>\n",
       "      <th>tipo_transporte</th>\n",
       "    </tr>\n",
       "  </thead>\n",
       "  <tbody>\n",
       "    <tr>\n",
       "      <th>0</th>\n",
       "      <td>2023-01-01</td>\n",
       "      <td>Sunday</td>\n",
       "      <td>1</td>\n",
       "      <td>1</td>\n",
       "      <td>MUNICIPAL</td>\n",
       "      <td>1</td>\n",
       "      <td>61</td>\n",
       "      <td>COLECTIVO</td>\n",
       "    </tr>\n",
       "    <tr>\n",
       "      <th>1</th>\n",
       "      <td>2023-01-01</td>\n",
       "      <td>Sunday</td>\n",
       "      <td>1</td>\n",
       "      <td>1</td>\n",
       "      <td>MUNICIPAL</td>\n",
       "      <td>2B</td>\n",
       "      <td>11</td>\n",
       "      <td>COLECTIVO</td>\n",
       "    </tr>\n",
       "    <tr>\n",
       "      <th>3</th>\n",
       "      <td>2023-01-01</td>\n",
       "      <td>Sunday</td>\n",
       "      <td>1</td>\n",
       "      <td>1</td>\n",
       "      <td>PROVINCIAL</td>\n",
       "      <td>BS_AS_LINEA_326</td>\n",
       "      <td>438</td>\n",
       "      <td>COLECTIVO</td>\n",
       "    </tr>\n",
       "    <tr>\n",
       "      <th>5</th>\n",
       "      <td>2023-01-01</td>\n",
       "      <td>Sunday</td>\n",
       "      <td>1</td>\n",
       "      <td>1</td>\n",
       "      <td>MUNICIPAL</td>\n",
       "      <td>BS_AS_LINEA_514</td>\n",
       "      <td>3067</td>\n",
       "      <td>COLECTIVO</td>\n",
       "    </tr>\n",
       "    <tr>\n",
       "      <th>6</th>\n",
       "      <td>2023-01-01</td>\n",
       "      <td>Sunday</td>\n",
       "      <td>1</td>\n",
       "      <td>1</td>\n",
       "      <td>MUNICIPAL</td>\n",
       "      <td>BS_AS_LINEA_522</td>\n",
       "      <td>332</td>\n",
       "      <td>COLECTIVO</td>\n",
       "    </tr>\n",
       "  </tbody>\n",
       "</table>\n",
       "</div>"
      ],
      "text/plain": [
       "       fecha fecha_dia  fecha_mes  fecha_ordinal jurisdiccion  \\\n",
       "0 2023-01-01    Sunday          1              1    MUNICIPAL   \n",
       "1 2023-01-01    Sunday          1              1    MUNICIPAL   \n",
       "3 2023-01-01    Sunday          1              1   PROVINCIAL   \n",
       "5 2023-01-01    Sunday          1              1    MUNICIPAL   \n",
       "6 2023-01-01    Sunday          1              1    MUNICIPAL   \n",
       "\n",
       "             linea  pasajeros tipo_transporte  \n",
       "0                1         61       COLECTIVO  \n",
       "1               2B         11       COLECTIVO  \n",
       "3  BS_AS_LINEA_326        438       COLECTIVO  \n",
       "5  BS_AS_LINEA_514       3067       COLECTIVO  \n",
       "6  BS_AS_LINEA_522        332       COLECTIVO  "
      ]
     },
     "execution_count": 5,
     "metadata": {},
     "output_type": "execute_result"
    }
   ],
   "source": [
    "# Verifiquemos qué valores posibles tiene la columna \"AMBA\"\n",
    "print(\"Valores posibles de la columna AMBA: \", df[\"AMBA\"].unique())\n",
    "\n",
    "# Luego, nos quedamos con las filas que tengan el valor \"SI\" en la columna \"AMBA\" y \"NO\" en la columna \"DATOS PRELIMINARES\"\n",
    "datos_amba = df[df[\"AMBA\"] == \"SI\" ]\n",
    "datos_amba = datos_amba[datos_amba[\"DATO_PRELIMINAR\"] == \"NO\"]\n",
    "\n",
    "# Eliminamos las columnas \"AMBA\", \"PROVINCIA\", \"MUNICIPIO\", \"DATO_PRELIMINAR\" y \"NOMBRE_EMPRESA\"\n",
    "datos_amba = datos_amba.drop(columns=[\"AMBA\", \"PROVINCIA\", \"MUNICIPIO\", \"DATO_PRELIMINAR\", \"NOMBRE_EMPRESA\"])\n",
    "\n",
    "# Cambiamos el orden de las columnas\n",
    "datos_amba = datos_amba.reindex([\n",
    "    \"DIA_TRANSPORTE\",\n",
    "    \"FECHA_DIA\",\n",
    "    \"FECHA_MES\",\n",
    "    \"FECHA_ORDINAL\",\n",
    "    \"JURISDICCION\",\n",
    "    \"LINEA\",\n",
    "    \"CANTIDAD\",\n",
    "    \"TIPO_TRANSPORTE\"], axis=1)\n",
    "\n",
    "# Renombramos las columnas tal como pide la consigna\n",
    "datos_amba = datos_amba.rename(\n",
    "    columns={\n",
    "        \"DIA_TRANSPORTE\": \"fecha\",\n",
    "        \"FECHA_DIA\": \"fecha_dia\",\n",
    "        \"FECHA_MES\": \"fecha_mes\",\n",
    "        \"FECHA_ORDINAL\": \"fecha_ordinal\",\n",
    "        \"JURISDICCION\": \"jurisdiccion\",\n",
    "        \"LINEA\": \"linea\",\n",
    "        \"CANTIDAD\": \"pasajeros\",\n",
    "        \"TIPO_TRANSPORTE\": \"tipo_transporte\"\n",
    "    })\n",
    "\n",
    "datos_amba.head()"
   ]
  },
  {
   "cell_type": "markdown",
   "metadata": {},
   "source": [
    "### **Ejercicio 3 (a)**\n",
    "\n",
    "#### Calculamos la proporción de la cantidad anual de pasajeros que viajan en cada medio de transporte"
   ]
  },
  {
   "cell_type": "code",
   "execution_count": 6,
   "metadata": {},
   "outputs": [
    {
     "name": "stdout",
     "output_type": "stream",
     "text": [
      "Proporcion de la cantidad anual de pasajeros de colectivo: 0.8376448752526633\n",
      "Proporcion de la cantidad anual de pasajeros de tren: 0.09425812118596766\n",
      "Proporcion de la cantidad anual de pasajeros de subte: 0.06809700356136905\n"
     ]
    }
   ],
   "source": [
    "cantidad_pasajeros = {\n",
    "    \"colectivo\": datos_amba[datos_amba[\"tipo_transporte\"] == \"COLECTIVO\"].pasajeros.sum(),\n",
    "    \"tren\":  datos_amba[datos_amba[\"tipo_transporte\"] == \"TREN\"].pasajeros.sum(),\n",
    "    \"subte\":  datos_amba[datos_amba[\"tipo_transporte\"] == \"SUBTE\"].pasajeros.sum(),\n",
    "}\n",
    "\n",
    "total_pasajeros = datos_amba.pasajeros.sum()\n",
    "\n",
    "for transporte in cantidad_pasajeros:\n",
    "    print(f\"Proporcion de la cantidad anual de pasajeros de {transporte}: {cantidad_pasajeros[transporte] / total_pasajeros}\")"
   ]
  },
  {
   "cell_type": "markdown",
   "metadata": {},
   "source": [
    "### **Ejercicio 3 (b)**\n",
    "\n",
    "#### Calculamos la tupla (mes, línea de subte) donde viajó la mayor cantidad de pasajeros"
   ]
  },
  {
   "cell_type": "code",
   "execution_count": 9,
   "metadata": {},
   "outputs": [
    {
     "name": "stdout",
     "output_type": "stream",
     "text": [
      "(8, 'LINEA_B')\n"
     ]
    }
   ],
   "source": [
    "# Filtramos los datos de amba que corresponden a SUBTE\n",
    "datos_subte = datos_amba[datos_amba[\"tipo_transporte\"] == \"SUBTE\"]\n",
    "\n",
    "# Agrupamos los datos por mes y por linea de subte, sumando la cantidad de pasajeros\n",
    "datos_subte = datos_subte.groupby([\"fecha_mes\", \"linea\"]).pasajeros.sum().sort_values(ascending=False)\n",
    "\n",
    "# Imprimimos el mes y la linea de subte con mayor cantidad de pasajeros\n",
    "print(datos.idxmax())"
   ]
  }
 ],
 "metadata": {
  "kernelspec": {
   "display_name": "Python 3",
   "language": "python",
   "name": "python3"
  },
  "language_info": {
   "codemirror_mode": {
    "name": "ipython",
    "version": 3
   },
   "file_extension": ".py",
   "mimetype": "text/x-python",
   "name": "python",
   "nbconvert_exporter": "python",
   "pygments_lexer": "ipython3",
   "version": "3.9.6"
  }
 },
 "nbformat": 4,
 "nbformat_minor": 2
}
