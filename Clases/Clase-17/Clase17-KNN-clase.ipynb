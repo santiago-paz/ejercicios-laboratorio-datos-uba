{
 "cells": [
  {
   "cell_type": "code",
   "execution_count": 1,
   "id": "c7fd71cd-c23a-4837-9715-57299167f9fc",
   "metadata": {},
   "outputs": [],
   "source": [
    "import scipy\n",
    "import numpy as np\n",
    "import pandas as pd\n",
    "import seaborn as sns\n",
    "import seaborn.objects as so\n",
    "\n",
    "# Para clustering\n",
    "from sklearn.datasets import make_blobs\n",
    "from sklearn.datasets import make_circles\n",
    "from sklearn.preprocessing import MinMaxScaler\n",
    "from sklearn.cluster import KMeans\n",
    "from sklearn.cluster import DBSCAN"
   ]
  },
  {
   "cell_type": "markdown",
   "id": "089c9eab-8a35-42a8-b084-d6fa42a25299",
   "metadata": {},
   "source": [
    "**Ejercicio 1**\n",
    "\n",
    "Trabajamos con las variables \"bill_length_mm\" y \"bill_depth_mm\" de pinguinos.\n",
    "\n",
    "1. Escalar las variables por MinMax (KNN es sensible a las escalas)\n",
    "2. Para cada uno de los pinguinos 15, 151 y 313 (ver slides), numerar en un grafico los 9 pinguinos mas cercanos, ordenados de más cerca a más lejos.\n",
    "3. Clasificar cada pingüino utilizando KNN con K = 1, 3 y 9."
   ]
  },
  {
   "cell_type": "code",
   "execution_count": 2,
   "id": "35216f48-5cc8-49a3-b06a-8e0bf2fc39d2",
   "metadata": {},
   "outputs": [],
   "source": [
    "# Utilizamos NearestNeighbors para obtener los vecinos más cercanos\n",
    "from sklearn.neighbors import NearestNeighbors"
   ]
  },
  {
   "cell_type": "code",
   "execution_count": 3,
   "id": "8105de1f-3905-4f52-bd28-7c12bb3a5be1",
   "metadata": {},
   "outputs": [
    {
     "data": {
      "text/html": [
       "<div>\n",
       "<style scoped>\n",
       "    .dataframe tbody tr th:only-of-type {\n",
       "        vertical-align: middle;\n",
       "    }\n",
       "\n",
       "    .dataframe tbody tr th {\n",
       "        vertical-align: top;\n",
       "    }\n",
       "\n",
       "    .dataframe thead th {\n",
       "        text-align: right;\n",
       "    }\n",
       "</style>\n",
       "<table border=\"1\" class=\"dataframe\">\n",
       "  <thead>\n",
       "    <tr style=\"text-align: right;\">\n",
       "      <th></th>\n",
       "      <th>species</th>\n",
       "      <th>island</th>\n",
       "      <th>bill_length_mm</th>\n",
       "      <th>bill_depth_mm</th>\n",
       "      <th>flipper_length_mm</th>\n",
       "      <th>body_mass_g</th>\n",
       "      <th>sex</th>\n",
       "    </tr>\n",
       "  </thead>\n",
       "  <tbody>\n",
       "    <tr>\n",
       "      <th>0</th>\n",
       "      <td>Adelie</td>\n",
       "      <td>Torgersen</td>\n",
       "      <td>0.254545</td>\n",
       "      <td>0.666667</td>\n",
       "      <td>181.0</td>\n",
       "      <td>3750.0</td>\n",
       "      <td>Male</td>\n",
       "    </tr>\n",
       "    <tr>\n",
       "      <th>1</th>\n",
       "      <td>Adelie</td>\n",
       "      <td>Torgersen</td>\n",
       "      <td>0.269091</td>\n",
       "      <td>0.511905</td>\n",
       "      <td>186.0</td>\n",
       "      <td>3800.0</td>\n",
       "      <td>Female</td>\n",
       "    </tr>\n",
       "    <tr>\n",
       "      <th>2</th>\n",
       "      <td>Adelie</td>\n",
       "      <td>Torgersen</td>\n",
       "      <td>0.298182</td>\n",
       "      <td>0.583333</td>\n",
       "      <td>195.0</td>\n",
       "      <td>3250.0</td>\n",
       "      <td>Female</td>\n",
       "    </tr>\n",
       "    <tr>\n",
       "      <th>3</th>\n",
       "      <td>Adelie</td>\n",
       "      <td>Torgersen</td>\n",
       "      <td>0.167273</td>\n",
       "      <td>0.738095</td>\n",
       "      <td>193.0</td>\n",
       "      <td>3450.0</td>\n",
       "      <td>Female</td>\n",
       "    </tr>\n",
       "    <tr>\n",
       "      <th>4</th>\n",
       "      <td>Adelie</td>\n",
       "      <td>Torgersen</td>\n",
       "      <td>0.261818</td>\n",
       "      <td>0.892857</td>\n",
       "      <td>190.0</td>\n",
       "      <td>3650.0</td>\n",
       "      <td>Male</td>\n",
       "    </tr>\n",
       "  </tbody>\n",
       "</table>\n",
       "</div>"
      ],
      "text/plain": [
       "  species     island  bill_length_mm  bill_depth_mm  flipper_length_mm  \\\n",
       "0  Adelie  Torgersen        0.254545       0.666667              181.0   \n",
       "1  Adelie  Torgersen        0.269091       0.511905              186.0   \n",
       "2  Adelie  Torgersen        0.298182       0.583333              195.0   \n",
       "3  Adelie  Torgersen        0.167273       0.738095              193.0   \n",
       "4  Adelie  Torgersen        0.261818       0.892857              190.0   \n",
       "\n",
       "   body_mass_g     sex  \n",
       "0       3750.0    Male  \n",
       "1       3800.0  Female  \n",
       "2       3250.0  Female  \n",
       "3       3450.0  Female  \n",
       "4       3650.0    Male  "
      ]
     },
     "execution_count": 3,
     "metadata": {},
     "output_type": "execute_result"
    }
   ],
   "source": [
    "# Eliminamos datos faltantes y reseteamos los índices, para no tener problemas al graficar\n",
    "penguins = sns.load_dataset(\"penguins\").dropna().reset_index(drop=True)\n",
    "\n",
    "# Normalizamos las variables \"bill_length_mm\" y \"bill_depth_mm\" por MinMax\n",
    "penguins[[\"bill_length_mm\", \"bill_depth_mm\"]] = MinMaxScaler().fit_transform(penguins[[\"bill_length_mm\", \"bill_depth_mm\"]])\n",
    "\n",
    "penguins.head()"
   ]
  },
  {
   "cell_type": "code",
   "execution_count": 4,
   "id": "997d8e68-8c5b-4085-8442-7eb020b77072",
   "metadata": {},
   "outputs": [],
   "source": [
    "# Nos quedamos solo con largo y profundidad del pico\n",
    "datos = penguins[[\"bill_depth_mm\", \"bill_length_mm\"]]"
   ]
  },
  {
   "cell_type": "code",
   "execution_count": 7,
   "id": "11432692-8982-431d-be73-1856d792f09f",
   "metadata": {},
   "outputs": [
    {
     "ename": "ValueError",
     "evalue": "The feature names should match those that were passed during fit.\nFeature names unseen at fit time:\n- body_mass_g\n- flipper_length_mm\n- island\n- sex\n- species\n",
     "output_type": "error",
     "traceback": [
      "\u001b[0;31m---------------------------------------------------------------------------\u001b[0m",
      "\u001b[0;31mValueError\u001b[0m                                Traceback (most recent call last)",
      "Cell \u001b[0;32mIn[7], line 9\u001b[0m\n\u001b[1;32m      5\u001b[0m neighbors\u001b[38;5;241m.\u001b[39mfit(datos)  \u001b[38;5;66;03m# En el ajuste solamente almacenamos los datos\u001b[39;00m\n\u001b[1;32m      7\u001b[0m \u001b[38;5;66;03m# Ahora podemos buscar los vecinos más cercanos a un punto cualquiera o un conjunto de puntos.\u001b[39;00m\n\u001b[1;32m      8\u001b[0m \u001b[38;5;66;03m# Tenemos que pasarle un DataFrame\u001b[39;00m\n\u001b[0;32m----> 9\u001b[0m distances, indices \u001b[38;5;241m=\u001b[39m \u001b[43mneighbors\u001b[49m\u001b[38;5;241;43m.\u001b[39;49m\u001b[43mkneighbors\u001b[49m\u001b[43m(\u001b[49m\u001b[43mpenguins\u001b[49m\u001b[38;5;241;43m.\u001b[39;49m\u001b[43miloc\u001b[49m\u001b[43m[\u001b[49m\u001b[43m[\u001b[49m\u001b[43mind\u001b[49m\u001b[43m]\u001b[49m\u001b[43m]\u001b[49m\u001b[43m)\u001b[49m\n",
      "File \u001b[0;32m~/Library/Python/3.9/lib/python/site-packages/sklearn/neighbors/_base.py:826\u001b[0m, in \u001b[0;36mKNeighborsMixin.kneighbors\u001b[0;34m(self, X, n_neighbors, return_distance)\u001b[0m\n\u001b[1;32m    824\u001b[0m         X \u001b[38;5;241m=\u001b[39m _check_precomputed(X)\n\u001b[1;32m    825\u001b[0m     \u001b[38;5;28;01melse\u001b[39;00m:\n\u001b[0;32m--> 826\u001b[0m         X \u001b[38;5;241m=\u001b[39m \u001b[38;5;28;43mself\u001b[39;49m\u001b[38;5;241;43m.\u001b[39;49m\u001b[43m_validate_data\u001b[49m\u001b[43m(\u001b[49m\u001b[43mX\u001b[49m\u001b[43m,\u001b[49m\u001b[43m \u001b[49m\u001b[43maccept_sparse\u001b[49m\u001b[38;5;241;43m=\u001b[39;49m\u001b[38;5;124;43m\"\u001b[39;49m\u001b[38;5;124;43mcsr\u001b[39;49m\u001b[38;5;124;43m\"\u001b[39;49m\u001b[43m,\u001b[49m\u001b[43m \u001b[49m\u001b[43mreset\u001b[49m\u001b[38;5;241;43m=\u001b[39;49m\u001b[38;5;28;43;01mFalse\u001b[39;49;00m\u001b[43m,\u001b[49m\u001b[43m \u001b[49m\u001b[43morder\u001b[49m\u001b[38;5;241;43m=\u001b[39;49m\u001b[38;5;124;43m\"\u001b[39;49m\u001b[38;5;124;43mC\u001b[39;49m\u001b[38;5;124;43m\"\u001b[39;49m\u001b[43m)\u001b[49m\n\u001b[1;32m    828\u001b[0m n_samples_fit \u001b[38;5;241m=\u001b[39m \u001b[38;5;28mself\u001b[39m\u001b[38;5;241m.\u001b[39mn_samples_fit_\n\u001b[1;32m    829\u001b[0m \u001b[38;5;28;01mif\u001b[39;00m n_neighbors \u001b[38;5;241m>\u001b[39m n_samples_fit:\n",
      "File \u001b[0;32m~/Library/Python/3.9/lib/python/site-packages/sklearn/base.py:608\u001b[0m, in \u001b[0;36mBaseEstimator._validate_data\u001b[0;34m(self, X, y, reset, validate_separately, cast_to_ndarray, **check_params)\u001b[0m\n\u001b[1;32m    537\u001b[0m \u001b[38;5;28;01mdef\u001b[39;00m \u001b[38;5;21m_validate_data\u001b[39m(\n\u001b[1;32m    538\u001b[0m     \u001b[38;5;28mself\u001b[39m,\n\u001b[1;32m    539\u001b[0m     X\u001b[38;5;241m=\u001b[39m\u001b[38;5;124m\"\u001b[39m\u001b[38;5;124mno_validation\u001b[39m\u001b[38;5;124m\"\u001b[39m,\n\u001b[0;32m   (...)\u001b[0m\n\u001b[1;32m    544\u001b[0m     \u001b[38;5;241m*\u001b[39m\u001b[38;5;241m*\u001b[39mcheck_params,\n\u001b[1;32m    545\u001b[0m ):\n\u001b[1;32m    546\u001b[0m \u001b[38;5;250m    \u001b[39m\u001b[38;5;124;03m\"\"\"Validate input data and set or check the `n_features_in_` attribute.\u001b[39;00m\n\u001b[1;32m    547\u001b[0m \n\u001b[1;32m    548\u001b[0m \u001b[38;5;124;03m    Parameters\u001b[39;00m\n\u001b[0;32m   (...)\u001b[0m\n\u001b[1;32m    606\u001b[0m \u001b[38;5;124;03m        validated.\u001b[39;00m\n\u001b[1;32m    607\u001b[0m \u001b[38;5;124;03m    \"\"\"\u001b[39;00m\n\u001b[0;32m--> 608\u001b[0m     \u001b[38;5;28;43mself\u001b[39;49m\u001b[38;5;241;43m.\u001b[39;49m\u001b[43m_check_feature_names\u001b[49m\u001b[43m(\u001b[49m\u001b[43mX\u001b[49m\u001b[43m,\u001b[49m\u001b[43m \u001b[49m\u001b[43mreset\u001b[49m\u001b[38;5;241;43m=\u001b[39;49m\u001b[43mreset\u001b[49m\u001b[43m)\u001b[49m\n\u001b[1;32m    610\u001b[0m     \u001b[38;5;28;01mif\u001b[39;00m y \u001b[38;5;129;01mis\u001b[39;00m \u001b[38;5;28;01mNone\u001b[39;00m \u001b[38;5;129;01mand\u001b[39;00m \u001b[38;5;28mself\u001b[39m\u001b[38;5;241m.\u001b[39m_get_tags()[\u001b[38;5;124m\"\u001b[39m\u001b[38;5;124mrequires_y\u001b[39m\u001b[38;5;124m\"\u001b[39m]:\n\u001b[1;32m    611\u001b[0m         \u001b[38;5;28;01mraise\u001b[39;00m \u001b[38;5;167;01mValueError\u001b[39;00m(\n\u001b[1;32m    612\u001b[0m             \u001b[38;5;124mf\u001b[39m\u001b[38;5;124m\"\u001b[39m\u001b[38;5;124mThis \u001b[39m\u001b[38;5;132;01m{\u001b[39;00m\u001b[38;5;28mself\u001b[39m\u001b[38;5;241m.\u001b[39m\u001b[38;5;18m__class__\u001b[39m\u001b[38;5;241m.\u001b[39m\u001b[38;5;18m__name__\u001b[39m\u001b[38;5;132;01m}\u001b[39;00m\u001b[38;5;124m estimator \u001b[39m\u001b[38;5;124m\"\u001b[39m\n\u001b[1;32m    613\u001b[0m             \u001b[38;5;124m\"\u001b[39m\u001b[38;5;124mrequires y to be passed, but the target y is None.\u001b[39m\u001b[38;5;124m\"\u001b[39m\n\u001b[1;32m    614\u001b[0m         )\n",
      "File \u001b[0;32m~/Library/Python/3.9/lib/python/site-packages/sklearn/base.py:535\u001b[0m, in \u001b[0;36mBaseEstimator._check_feature_names\u001b[0;34m(self, X, reset)\u001b[0m\n\u001b[1;32m    530\u001b[0m \u001b[38;5;28;01mif\u001b[39;00m \u001b[38;5;129;01mnot\u001b[39;00m missing_names \u001b[38;5;129;01mand\u001b[39;00m \u001b[38;5;129;01mnot\u001b[39;00m unexpected_names:\n\u001b[1;32m    531\u001b[0m     message \u001b[38;5;241m+\u001b[39m\u001b[38;5;241m=\u001b[39m (\n\u001b[1;32m    532\u001b[0m         \u001b[38;5;124m\"\u001b[39m\u001b[38;5;124mFeature names must be in the same order as they were in fit.\u001b[39m\u001b[38;5;130;01m\\n\u001b[39;00m\u001b[38;5;124m\"\u001b[39m\n\u001b[1;32m    533\u001b[0m     )\n\u001b[0;32m--> 535\u001b[0m \u001b[38;5;28;01mraise\u001b[39;00m \u001b[38;5;167;01mValueError\u001b[39;00m(message)\n",
      "\u001b[0;31mValueError\u001b[0m: The feature names should match those that were passed during fit.\nFeature names unseen at fit time:\n- body_mass_g\n- flipper_length_mm\n- island\n- sex\n- species\n"
     ]
    }
   ],
   "source": [
    "# Veamos primero los 9 vecinos más cercanos del pingüino 15\n",
    "K = 9\n",
    "ind = 15\n",
    "neighbors = NearestNeighbors(n_neighbors=K+1)  # Esta función nos devuelve los más cercanos incluyendo a si mismo, por eso tomamos 10.\n",
    "neighbors.fit(datos)  # En el ajuste solamente almacenamos los datos\n",
    "\n",
    "# Ahora podemos buscar los vecinos más cercanos a un punto cualquiera o un conjunto de puntos.\n",
    "# Tenemos que pasarle un DataFrame\n",
    "distances, indices = neighbors.kneighbors(penguins.iloc[[ind]])"
   ]
  },
  {
   "cell_type": "code",
   "execution_count": null,
   "id": "bdfcaa84-d760-48fe-aa8d-2a7130881091",
   "metadata": {},
   "outputs": [],
   "source": [
    "# Nos devuelve un vector de distancias (opcional)\n",
    "distances.flatten()"
   ]
  },
  {
   "cell_type": "markdown",
   "id": "a338f7f4-c98a-4cc7-b85e-744bd5dbade6",
   "metadata": {},
   "source": [
    "Vemos que las distancias están ordenadas de menor a mayor."
   ]
  },
  {
   "cell_type": "code",
   "execution_count": null,
   "id": "4fdd9a9e-31fa-4dbc-8855-d6a812dbfbc8",
   "metadata": {},
   "outputs": [],
   "source": [
    "# Y un vector de índices"
   ]
  },
  {
   "cell_type": "code",
   "execution_count": null,
   "id": "67cc6e09-0446-4332-9aff-cd754611b9ad",
   "metadata": {},
   "outputs": [],
   "source": [
    "indices.flatten()"
   ]
  },
  {
   "cell_type": "code",
   "execution_count": null,
   "id": "4cda53fa-53c3-464d-aab9-327a69db2332",
   "metadata": {},
   "outputs": [],
   "source": [
    "# Graficamos\n",
    "(\n",
    "    so.Plot(data = penguins.iloc[indices.flatten()], x = \"bill_length_mm\", y = \"bill_depth_mm\",  text = np.arange(K+1).astype(str))\n",
    "    .add(so.Text(valign = \"bottom\"))\n",
    "    .add(so.Dot(), color = \"species\")\n",
    "    .add(so.Dot(color = \"red\"), data = penguins.iloc[[ind]], x = \"bill_length_mm\", y = \"bill_depth_mm\")\n",
    ")"
   ]
  },
  {
   "cell_type": "markdown",
   "id": "d80f86d4-9760-41e1-9cb8-3bfdb9ccfda2",
   "metadata": {},
   "source": [
    "**Ejercicio 2**\n",
    "\n",
    "1. Implementar una función que reciba un DataFrame (que tenga solo las variables numéricas a utilizar para medir distancias), un vector de categorías (indexado igual que el DataFrame), un índice y un valor de K y devuelva la predicción por K-means para el dato indicado. Importante: debemos ignorar al propio dato en la votación.\n",
    "2. Aplicar la función a los datos de pingüinos.\n",
    "\n",
    "**Sugerencia:** para elegir la categoría más votada podemos calcular la moda. El paquete statistics provee el comando `mode`.\n"
   ]
  },
  {
   "cell_type": "code",
   "execution_count": null,
   "id": "7b260eaa-22cf-471b-886a-dcb1dff4cc71",
   "metadata": {},
   "outputs": [],
   "source": [
    "# Cargamos el comando mode\n",
    "import statistics\n",
    "from statistics import mode"
   ]
  },
  {
   "cell_type": "code",
   "execution_count": null,
   "id": "c0b41f28-38dd-46e8-9223-926b63cac59a",
   "metadata": {},
   "outputs": [],
   "source": [
    "# Item 1\n",
    "\n",
    "# Antes de hacer la función lo calculamos para un ejemplo.\n",
    "K = 9\n",
    "ind = 151\n",
    "datos = penguins[[\"bill_depth_mm\", \"bill_length_mm\"]]\n",
    "categorias = penguins[\"species\"]\n",
    "\n",
    "neighbors = NearestNeighbors(n_neighbors= K)  # Vamos a eliminar al propio pinguino de los datos, por eso tomamos K.\n",
    "neighbors.fit(???)\n",
    "\n",
    "distances, indices = neighbors.kneighbors(???)\n",
    "votos = categorias[indices.flatten()]"
   ]
  },
  {
   "cell_type": "code",
   "execution_count": null,
   "id": "ca23882b-1746-4ee5-adfc-c94176c5f0d1",
   "metadata": {},
   "outputs": [],
   "source": [
    "votos"
   ]
  },
  {
   "cell_type": "code",
   "execution_count": null,
   "id": "2a8dbf24-bc1f-4e3a-b7a2-b62dce1c85e7",
   "metadata": {},
   "outputs": [],
   "source": [
    "# El mas votado\n",
    "???"
   ]
  },
  {
   "cell_type": "code",
   "execution_count": null,
   "id": "07088beb-ef0b-4b0d-87b0-e267a78d01e6",
   "metadata": {},
   "outputs": [],
   "source": [
    "# Juntamos todo en una función\n",
    "def mas_votado(datos, categorias, ind, K):\n",
    "    neighbors = NearestNeighbors(n_neighbors= K)  # Vamos a eliminar al propio pinguino de los datos, por eso tomamos K.\n",
    "    neighbors.fit(datos.drop([ind]))\n",
    "\n",
    "    distances, indices = neighbors.kneighbors(datos.iloc[[ind]])\n",
    "    votos = categorias[indices.flatten()]\n",
    "\n",
    "    return(mode(votos))"
   ]
  },
  {
   "cell_type": "code",
   "execution_count": null,
   "id": "3ef6d8ca-b17a-48f6-b24c-16ee7b97a1b9",
   "metadata": {},
   "outputs": [],
   "source": [
    "# Item 2 - Aplicamos la función a los datos de pingüinos\n",
    "datos = penguins[[\"bill_depth_mm\", \"bill_length_mm\"]]\n",
    "categorias = penguins[\"species\"]\n",
    "mas_votado(datos, categorias, 313, 9)"
   ]
  },
  {
   "cell_type": "markdown",
   "id": "87ca3fa3-f946-448a-9d3a-1b5b411871ae",
   "metadata": {},
   "source": [
    "**Ejercicio 3**\n",
    "1. Implementar una función que reciba un DataFrame, un vector de categorías y un valor de K y calcule las predicciones para todos los datos y nos devuelva el porcentaje de aciertos.\n",
    "2. Aplicar la función a los datos de pingüinos."
   ]
  },
  {
   "cell_type": "code",
   "execution_count": null,
   "id": "f23d05b1-b1c2-43cc-a0c3-a73259bd3c71",
   "metadata": {},
   "outputs": [],
   "source": [
    "# Item 1\n",
    "def knn_leave_one_out(datos, categorias, K):\n",
    "    correctos = 0\n",
    "    total = len(datos)\n",
    "    ???\n",
    "\n",
    "    return(correctos / total)"
   ]
  },
  {
   "cell_type": "code",
   "execution_count": null,
   "id": "036f689d-496f-4f48-b4c6-86a6f66f7217",
   "metadata": {},
   "outputs": [],
   "source": [
    "# Item 2 - Aplicamos la función a los datos de pingüinos\n",
    "datos = penguins[[\"bill_depth_mm\", \"bill_length_mm\"]]\n",
    "categorias = penguins[\"species\"]\n",
    "knn_leave_one_out(datos, categorias, 9)"
   ]
  },
  {
   "cell_type": "markdown",
   "id": "71890163-aedd-4840-8996-69589dc626bc",
   "metadata": {},
   "source": [
    "**Ejercicio 4**\n",
    "Utilizando las funciones de los ejercicios anteriores, calcular el valor de $K$ (impar) óptimo para predecir la especie de un pingüino."
   ]
  },
  {
   "cell_type": "code",
   "execution_count": null,
   "id": "e773f1e1-10c5-4963-8041-2d56589926f6",
   "metadata": {},
   "outputs": [],
   "source": [
    "???"
   ]
  },
  {
   "cell_type": "markdown",
   "id": "55854f16-12fd-4681-8f60-de1951627500",
   "metadata": {},
   "source": [
    "## Ejemplo: detección temprana de diabetes\n",
    "\n",
    "A partir de distintos datos de pacientes queremos detectar tempranamente si ese paciente va a sufrir diabetes.\n",
    "\n",
    "1. Leer los datos del archivo \"diabetes.csv\".\n",
    "2. Separar la columna \"Outcome\" como variable respuesta y el resto como variables explicativas.\n",
    "3. Escalar las variables explicativas por MinMax\n",
    "4. Partir la muestra en un 80% para entrenamiento y un 20% para testeo.\n",
    "5. Se quiere predecir la variable respuesta por KNN. Calcular el valor óptimo de $K$ optimizando el porcentaje de aciertos en testeo.\n",
    "7. Para el valor hallado, calcular la matriz de confusión en testeo."
   ]
  },
  {
   "cell_type": "code",
   "execution_count": null,
   "id": "e2f3329b-e53a-49e5-9dda-b0a345ae0b55",
   "metadata": {},
   "outputs": [],
   "source": [
    "# Utilizamos estos paquetes\n",
    "from sklearn.neighbors import KNeighborsClassifier\n",
    "from sklearn.metrics import confusion_matrix\n",
    "from sklearn.metrics import accuracy_score\n",
    "from sklearn.model_selection import train_test_split"
   ]
  },
  {
   "cell_type": "code",
   "execution_count": 9,
   "id": "184fa2ed-9f67-4a68-bdd6-878fa7402f43",
   "metadata": {},
   "outputs": [
    {
     "data": {
      "text/html": [
       "<div>\n",
       "<style scoped>\n",
       "    .dataframe tbody tr th:only-of-type {\n",
       "        vertical-align: middle;\n",
       "    }\n",
       "\n",
       "    .dataframe tbody tr th {\n",
       "        vertical-align: top;\n",
       "    }\n",
       "\n",
       "    .dataframe thead th {\n",
       "        text-align: right;\n",
       "    }\n",
       "</style>\n",
       "<table border=\"1\" class=\"dataframe\">\n",
       "  <thead>\n",
       "    <tr style=\"text-align: right;\">\n",
       "      <th></th>\n",
       "      <th>Pregnancies</th>\n",
       "      <th>Glucose</th>\n",
       "      <th>BloodPressure</th>\n",
       "      <th>SkinThickness</th>\n",
       "      <th>Insulin</th>\n",
       "      <th>BMI</th>\n",
       "      <th>Pedigree</th>\n",
       "      <th>Age</th>\n",
       "      <th>Outcome</th>\n",
       "    </tr>\n",
       "  </thead>\n",
       "  <tbody>\n",
       "    <tr>\n",
       "      <th>0</th>\n",
       "      <td>6</td>\n",
       "      <td>148</td>\n",
       "      <td>72</td>\n",
       "      <td>35</td>\n",
       "      <td>0</td>\n",
       "      <td>33.6</td>\n",
       "      <td>0.627</td>\n",
       "      <td>50</td>\n",
       "      <td>1</td>\n",
       "    </tr>\n",
       "    <tr>\n",
       "      <th>1</th>\n",
       "      <td>1</td>\n",
       "      <td>85</td>\n",
       "      <td>66</td>\n",
       "      <td>29</td>\n",
       "      <td>0</td>\n",
       "      <td>26.6</td>\n",
       "      <td>0.351</td>\n",
       "      <td>31</td>\n",
       "      <td>0</td>\n",
       "    </tr>\n",
       "    <tr>\n",
       "      <th>2</th>\n",
       "      <td>8</td>\n",
       "      <td>183</td>\n",
       "      <td>64</td>\n",
       "      <td>0</td>\n",
       "      <td>0</td>\n",
       "      <td>23.3</td>\n",
       "      <td>0.672</td>\n",
       "      <td>32</td>\n",
       "      <td>1</td>\n",
       "    </tr>\n",
       "    <tr>\n",
       "      <th>3</th>\n",
       "      <td>1</td>\n",
       "      <td>89</td>\n",
       "      <td>66</td>\n",
       "      <td>23</td>\n",
       "      <td>94</td>\n",
       "      <td>28.1</td>\n",
       "      <td>0.167</td>\n",
       "      <td>21</td>\n",
       "      <td>0</td>\n",
       "    </tr>\n",
       "    <tr>\n",
       "      <th>4</th>\n",
       "      <td>0</td>\n",
       "      <td>137</td>\n",
       "      <td>40</td>\n",
       "      <td>35</td>\n",
       "      <td>168</td>\n",
       "      <td>43.1</td>\n",
       "      <td>2.288</td>\n",
       "      <td>33</td>\n",
       "      <td>1</td>\n",
       "    </tr>\n",
       "  </tbody>\n",
       "</table>\n",
       "</div>"
      ],
      "text/plain": [
       "   Pregnancies  Glucose  BloodPressure  SkinThickness  Insulin   BMI  \\\n",
       "0            6      148             72             35        0  33.6   \n",
       "1            1       85             66             29        0  26.6   \n",
       "2            8      183             64              0        0  23.3   \n",
       "3            1       89             66             23       94  28.1   \n",
       "4            0      137             40             35      168  43.1   \n",
       "\n",
       "   Pedigree  Age  Outcome  \n",
       "0     0.627   50        1  \n",
       "1     0.351   31        0  \n",
       "2     0.672   32        1  \n",
       "3     0.167   21        0  \n",
       "4     2.288   33        1  "
      ]
     },
     "execution_count": 9,
     "metadata": {},
     "output_type": "execute_result"
    }
   ],
   "source": [
    "datos = pd.read_csv(\"../../Datos/diabetes.csv\")\n",
    "datos.head()"
   ]
  },
  {
   "cell_type": "code",
   "execution_count": null,
   "id": "e3701b08-055f-4d44-b6d0-cab50e66b41d",
   "metadata": {},
   "outputs": [],
   "source": [
    "# 2. Separamos la variable respuesta\n",
    "X = datos.drop(\"Outcome\",axis=1)\n",
    "y = datos[\"Outcome\"]\n",
    "\n",
    "# 3. Escalamos X\n",
    "X = MinMaxScaler().set_output(transform=\"pandas\").fit_transform(X)\n",
    "X"
   ]
  },
  {
   "cell_type": "code",
   "execution_count": null,
   "id": "51ab894b-d209-4f34-a53c-4fbbc0599ced",
   "metadata": {},
   "outputs": [],
   "source": [
    "# Separamos en entrenamiento y validación\n",
    "X_train, X_test, y_train, y_test = train_test_split(X, y, test_size = 0.2)"
   ]
  },
  {
   "cell_type": "code",
   "execution_count": null,
   "id": "0aeb6590-de65-47cb-bd57-f5e4a708e4ff",
   "metadata": {},
   "outputs": [],
   "source": [
    "neighbor = KNeighborsClassifier(n_neighbors=5)"
   ]
  },
  {
   "cell_type": "code",
   "execution_count": null,
   "id": "d545912e-2fa2-495b-97fd-0ba256b4a1ba",
   "metadata": {},
   "outputs": [],
   "source": [
    "# Entrenamos utilizando X_train\n",
    "neighbor.fit(X_train,y_train)"
   ]
  },
  {
   "cell_type": "code",
   "execution_count": null,
   "id": "a7e28335-115e-4239-8eee-e10e8d64ee08",
   "metadata": {},
   "outputs": [],
   "source": [
    "# Predecimos utilizando X_test\n",
    "y_pred = neighbor.predict(X_test)\n",
    "y_pred"
   ]
  },
  {
   "cell_type": "code",
   "execution_count": null,
   "id": "59cfe063-b62c-4194-83a7-90f7fb311617",
   "metadata": {},
   "outputs": [],
   "source": [
    "# Calculamos la precisión con accuracy_score\n",
    "print(accuracy_score(y_test,y_pred))"
   ]
  },
  {
   "cell_type": "code",
   "execution_count": null,
   "id": "eaa489cc-7493-4fe9-8d38-51ec574c1cf7",
   "metadata": {},
   "outputs": [],
   "source": [
    "# Repetimos todo para varios valores de K\n",
    "for K in range(1,30,2):\n",
    "    neighbor = KNeighborsClassifier(n_neighbors=K)\n",
    "    neighbor.fit(X_train,y_train)\n",
    "    y_pred = neighbor.predict(X_test)\n",
    "    print(K, accuracy_score(y_test,y_pred))"
   ]
  },
  {
   "cell_type": "markdown",
   "id": "6ebe409f-d366-4ea3-b1ab-d6bb6e93a136",
   "metadata": {},
   "source": [
    "**Matriz de confusión**\n",
    "La matriz de confusión $C$ guarda en la coordenada $C_{ij}$ la cantidad de observaciones en el grupo $i$ que fueron clasificadas en el grupo $j$.\n",
    "\n",
    "Si la variable es binaria:\n",
    "- $C_{00}$ son los casos negativos clasificados correctamente.\n",
    "- $C_{01}$ son los casos negativos  clasificados como positivos (falsos positivos).\n",
    "- $C_{10}$ son los casos positivos  clasificados como negativos (falsos negativos).\n",
    "- $C_{11}$ son los casos positivos clasificados correctamente."
   ]
  },
  {
   "cell_type": "code",
   "execution_count": null,
   "id": "a197cfb1-0fd6-4a46-8e85-3dfdda7793b0",
   "metadata": {},
   "outputs": [],
   "source": [
    "K = 21\n",
    "neighbor = KNeighborsClassifier(n_neighbors=K)\n",
    "neighbor.fit(X_train,y_train)\n",
    "y_pred = neighbor.predict(X_test)"
   ]
  },
  {
   "cell_type": "code",
   "execution_count": null,
   "id": "8829089f-be16-428c-a04a-1a20f3715c61",
   "metadata": {},
   "outputs": [],
   "source": [
    "C = confusion_matrix(y_test,y_pred)\n",
    "display(C)"
   ]
  },
  {
   "cell_type": "markdown",
   "id": "29290fb7-8a01-4e47-a535-e7260e411254",
   "metadata": {},
   "source": [
    "**Ejercicio:** Calcular el coeficiente $C_{01}$ a mano."
   ]
  },
  {
   "cell_type": "code",
   "execution_count": null,
   "id": "a2790e51-ecce-4fd1-a1e7-5ce8081d611c",
   "metadata": {},
   "outputs": [],
   "source": [
    "sum((y_pred==1) & (y_test==0))"
   ]
  },
  {
   "cell_type": "code",
   "execution_count": null,
   "id": "31acc17e-27aa-4588-9866-e916d63c738d",
   "metadata": {},
   "outputs": [],
   "source": []
  }
 ],
 "metadata": {
  "kernelspec": {
   "display_name": "Python 3 (ipykernel)",
   "language": "python",
   "name": "python3"
  },
  "language_info": {
   "codemirror_mode": {
    "name": "ipython",
    "version": 3
   },
   "file_extension": ".py",
   "mimetype": "text/x-python",
   "name": "python",
   "nbconvert_exporter": "python",
   "pygments_lexer": "ipython3",
   "version": "3.9.6"
  }
 },
 "nbformat": 4,
 "nbformat_minor": 5
}
