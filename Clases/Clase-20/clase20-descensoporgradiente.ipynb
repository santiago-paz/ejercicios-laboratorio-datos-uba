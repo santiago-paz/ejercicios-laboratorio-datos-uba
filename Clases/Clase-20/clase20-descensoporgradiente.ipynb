{
 "cells": [
  {
   "cell_type": "code",
   "execution_count": 1,
   "id": "a162ccb0b4cf66ca",
   "metadata": {
    "tags": []
   },
   "outputs": [],
   "source": [
    "import numpy as np\n",
    "import pandas as pd\n",
    "import seaborn as sns\n",
    "import seaborn.objects as so\n",
    "import matplotlib.pyplot as plt\n",
    "from matplotlib import cm\n",
    "from formulaic import Formula\n",
    "from sklearn import linear_model\n",
    "from sklearn.metrics import mean_squared_error\n",
    "from time import time"
   ]
  },
  {
   "cell_type": "markdown",
   "id": "968b1f89",
   "metadata": {},
   "source": [
    "Instalar las siguientes librerias y reiniciar el kernel"
   ]
  },
  {
   "cell_type": "code",
   "execution_count": 2,
   "id": "a90d7a0c16b8669",
   "metadata": {
    "jupyter": {
     "outputs_hidden": false
    },
    "scrolled": true
   },
   "outputs": [
    {
     "name": "stdout",
     "output_type": "stream",
     "text": [
      "Collecting tensorflow\n",
      "  Downloading tensorflow-2.16.1-cp312-cp312-macosx_12_0_arm64.whl.metadata (4.1 kB)\n",
      "Collecting absl-py>=1.0.0 (from tensorflow)\n",
      "  Downloading absl_py-2.1.0-py3-none-any.whl.metadata (2.3 kB)\n",
      "Collecting astunparse>=1.6.0 (from tensorflow)\n",
      "  Downloading astunparse-1.6.3-py2.py3-none-any.whl.metadata (4.4 kB)\n",
      "Collecting flatbuffers>=23.5.26 (from tensorflow)\n",
      "  Downloading flatbuffers-24.3.25-py2.py3-none-any.whl.metadata (850 bytes)\n",
      "Collecting gast!=0.5.0,!=0.5.1,!=0.5.2,>=0.2.1 (from tensorflow)\n",
      "  Downloading gast-0.5.4-py3-none-any.whl.metadata (1.3 kB)\n",
      "Collecting google-pasta>=0.1.1 (from tensorflow)\n",
      "  Downloading google_pasta-0.2.0-py3-none-any.whl.metadata (814 bytes)\n",
      "Collecting h5py>=3.10.0 (from tensorflow)\n",
      "  Downloading h5py-3.11.0-cp312-cp312-macosx_11_0_arm64.whl.metadata (2.5 kB)\n",
      "Collecting libclang>=13.0.0 (from tensorflow)\n",
      "  Downloading libclang-18.1.1-py2.py3-none-macosx_11_0_arm64.whl.metadata (5.2 kB)\n",
      "Collecting ml-dtypes~=0.3.1 (from tensorflow)\n",
      "  Downloading ml_dtypes-0.3.2-cp312-cp312-macosx_10_9_universal2.whl.metadata (20 kB)\n",
      "Collecting opt-einsum>=2.3.2 (from tensorflow)\n",
      "  Downloading opt_einsum-3.3.0-py3-none-any.whl.metadata (6.5 kB)\n",
      "Requirement already satisfied: packaging in /Users/santiagop/.pyenv/versions/3.12.2/lib/python3.12/site-packages (from tensorflow) (23.2)\n",
      "Collecting protobuf!=4.21.0,!=4.21.1,!=4.21.2,!=4.21.3,!=4.21.4,!=4.21.5,<5.0.0dev,>=3.20.3 (from tensorflow)\n",
      "  Using cached protobuf-4.25.3-cp37-abi3-macosx_10_9_universal2.whl.metadata (541 bytes)\n",
      "Requirement already satisfied: requests<3,>=2.21.0 in /Users/santiagop/.pyenv/versions/3.12.2/lib/python3.12/site-packages (from tensorflow) (2.31.0)\n",
      "Collecting setuptools (from tensorflow)\n",
      "  Downloading setuptools-70.0.0-py3-none-any.whl.metadata (5.9 kB)\n",
      "Collecting six>=1.12.0 (from tensorflow)\n",
      "  Using cached six-1.16.0-py2.py3-none-any.whl.metadata (1.8 kB)\n",
      "Collecting termcolor>=1.1.0 (from tensorflow)\n",
      "  Downloading termcolor-2.4.0-py3-none-any.whl.metadata (6.1 kB)\n",
      "Collecting typing-extensions>=3.6.6 (from tensorflow)\n",
      "  Downloading typing_extensions-4.12.2-py3-none-any.whl.metadata (3.0 kB)\n",
      "Collecting wrapt>=1.11.0 (from tensorflow)\n",
      "  Downloading wrapt-1.16.0-cp312-cp312-macosx_11_0_arm64.whl.metadata (6.6 kB)\n",
      "Collecting grpcio<2.0,>=1.24.3 (from tensorflow)\n",
      "  Downloading grpcio-1.64.1-cp312-cp312-macosx_10_9_universal2.whl.metadata (3.3 kB)\n",
      "Collecting tensorboard<2.17,>=2.16 (from tensorflow)\n",
      "  Downloading tensorboard-2.16.2-py3-none-any.whl.metadata (1.6 kB)\n",
      "Collecting keras>=3.0.0 (from tensorflow)\n",
      "  Downloading keras-3.3.3-py3-none-any.whl.metadata (5.7 kB)\n",
      "Collecting numpy<2.0.0,>=1.26.0 (from tensorflow)\n",
      "  Using cached numpy-1.26.4-cp312-cp312-macosx_11_0_arm64.whl.metadata (61 kB)\n",
      "Collecting wheel<1.0,>=0.23.0 (from astunparse>=1.6.0->tensorflow)\n",
      "  Downloading wheel-0.43.0-py3-none-any.whl.metadata (2.2 kB)\n",
      "Collecting rich (from keras>=3.0.0->tensorflow)\n",
      "  Using cached rich-13.7.1-py3-none-any.whl.metadata (18 kB)\n",
      "Collecting namex (from keras>=3.0.0->tensorflow)\n",
      "  Downloading namex-0.0.8-py3-none-any.whl.metadata (246 bytes)\n",
      "Collecting optree (from keras>=3.0.0->tensorflow)\n",
      "  Downloading optree-0.11.0-cp312-cp312-macosx_11_0_arm64.whl.metadata (45 kB)\n",
      "\u001b[2K     \u001b[90m━━━━━━━━━━━━━━━━━━━━━━━━━━━━━━━━━━━━━━━━\u001b[0m \u001b[32m45.4/45.4 kB\u001b[0m \u001b[31m1.5 MB/s\u001b[0m eta \u001b[36m0:00:00\u001b[0m\n",
      "\u001b[?25hRequirement already satisfied: charset-normalizer<4,>=2 in /Users/santiagop/.pyenv/versions/3.12.2/lib/python3.12/site-packages (from requests<3,>=2.21.0->tensorflow) (3.3.2)\n",
      "Requirement already satisfied: idna<4,>=2.5 in /Users/santiagop/.pyenv/versions/3.12.2/lib/python3.12/site-packages (from requests<3,>=2.21.0->tensorflow) (3.6)\n",
      "Requirement already satisfied: urllib3<3,>=1.21.1 in /Users/santiagop/.pyenv/versions/3.12.2/lib/python3.12/site-packages (from requests<3,>=2.21.0->tensorflow) (2.2.0)\n",
      "Requirement already satisfied: certifi>=2017.4.17 in /Users/santiagop/.pyenv/versions/3.12.2/lib/python3.12/site-packages (from requests<3,>=2.21.0->tensorflow) (2024.2.2)\n",
      "Collecting markdown>=2.6.8 (from tensorboard<2.17,>=2.16->tensorflow)\n",
      "  Downloading Markdown-3.6-py3-none-any.whl.metadata (7.0 kB)\n",
      "Collecting tensorboard-data-server<0.8.0,>=0.7.0 (from tensorboard<2.17,>=2.16->tensorflow)\n",
      "  Downloading tensorboard_data_server-0.7.2-py3-none-any.whl.metadata (1.1 kB)\n",
      "Collecting werkzeug>=1.0.1 (from tensorboard<2.17,>=2.16->tensorflow)\n",
      "  Downloading werkzeug-3.0.3-py3-none-any.whl.metadata (3.7 kB)\n",
      "Collecting MarkupSafe>=2.1.1 (from werkzeug>=1.0.1->tensorboard<2.17,>=2.16->tensorflow)\n",
      "  Using cached MarkupSafe-2.1.5-cp312-cp312-macosx_10_9_universal2.whl.metadata (3.0 kB)\n",
      "Collecting markdown-it-py>=2.2.0 (from rich->keras>=3.0.0->tensorflow)\n",
      "  Using cached markdown_it_py-3.0.0-py3-none-any.whl.metadata (6.9 kB)\n",
      "Collecting pygments<3.0.0,>=2.13.0 (from rich->keras>=3.0.0->tensorflow)\n",
      "  Downloading pygments-2.18.0-py3-none-any.whl.metadata (2.5 kB)\n",
      "Collecting mdurl~=0.1 (from markdown-it-py>=2.2.0->rich->keras>=3.0.0->tensorflow)\n",
      "  Using cached mdurl-0.1.2-py3-none-any.whl.metadata (1.6 kB)\n",
      "Downloading tensorflow-2.16.1-cp312-cp312-macosx_12_0_arm64.whl (227.1 MB)\n",
      "\u001b[2K   \u001b[90m━━━━━━━━━━━━━━━━━━━━━━━━━━━━━━━━━━━━━━━━\u001b[0m \u001b[32m227.1/227.1 MB\u001b[0m \u001b[31m2.9 MB/s\u001b[0m eta \u001b[36m0:00:00\u001b[0m00:01\u001b[0m00:02\u001b[0m\n",
      "\u001b[?25hDownloading absl_py-2.1.0-py3-none-any.whl (133 kB)\n",
      "\u001b[2K   \u001b[90m━━━━━━━━━━━━━━━━━━━━━━━━━━━━━━━━━━━━━━━━\u001b[0m \u001b[32m133.7/133.7 kB\u001b[0m \u001b[31m3.5 MB/s\u001b[0m eta \u001b[36m0:00:00\u001b[0m\n",
      "\u001b[?25hDownloading astunparse-1.6.3-py2.py3-none-any.whl (12 kB)\n",
      "Downloading flatbuffers-24.3.25-py2.py3-none-any.whl (26 kB)\n",
      "Downloading gast-0.5.4-py3-none-any.whl (19 kB)\n",
      "Downloading google_pasta-0.2.0-py3-none-any.whl (57 kB)\n",
      "\u001b[2K   \u001b[90m━━━━━━━━━━━━━━━━━━━━━━━━━━━━━━━━━━━━━━━━\u001b[0m \u001b[32m57.5/57.5 kB\u001b[0m \u001b[31m6.3 MB/s\u001b[0m eta \u001b[36m0:00:00\u001b[0m\n",
      "\u001b[?25hDownloading grpcio-1.64.1-cp312-cp312-macosx_10_9_universal2.whl (10.3 MB)\n",
      "\u001b[2K   \u001b[90m━━━━━━━━━━━━━━━━━━━━━━━━━━━━━━━━━━━━━━━━\u001b[0m \u001b[32m10.3/10.3 MB\u001b[0m \u001b[31m10.1 MB/s\u001b[0m eta \u001b[36m0:00:00\u001b[0m00:01\u001b[0m00:01\u001b[0m\n",
      "\u001b[?25hDownloading h5py-3.11.0-cp312-cp312-macosx_11_0_arm64.whl (2.9 MB)\n",
      "\u001b[2K   \u001b[90m━━━━━━━━━━━━━━━━━━━━━━━━━━━━━━━━━━━━━━━━\u001b[0m \u001b[32m2.9/2.9 MB\u001b[0m \u001b[31m8.1 MB/s\u001b[0m eta \u001b[36m0:00:00\u001b[0m00:01\u001b[0m00:01\u001b[0mm\n",
      "\u001b[?25hDownloading keras-3.3.3-py3-none-any.whl (1.1 MB)\n",
      "\u001b[2K   \u001b[90m━━━━━━━━━━━━━━━━━━━━━━━━━━━━━━━━━━━━━━━━\u001b[0m \u001b[32m1.1/1.1 MB\u001b[0m \u001b[31m8.1 MB/s\u001b[0m eta \u001b[36m0:00:00\u001b[0ma \u001b[36m0:00:01\u001b[0mm\n",
      "\u001b[?25hDownloading libclang-18.1.1-py2.py3-none-macosx_11_0_arm64.whl (26.4 MB)\n",
      "\u001b[2K   \u001b[90m━━━━━━━━━━━━━━━━━━━━━━━━━━━━━━━━━━━━━━━━\u001b[0m \u001b[32m26.4/26.4 MB\u001b[0m \u001b[31m3.8 MB/s\u001b[0m eta \u001b[36m0:00:00\u001b[0m00:01\u001b[0m00:01\u001b[0m\n",
      "\u001b[?25hDownloading ml_dtypes-0.3.2-cp312-cp312-macosx_10_9_universal2.whl (393 kB)\n",
      "\u001b[2K   \u001b[90m━━━━━━━━━━━━━━━━━━━━━━━━━━━━━━━━━━━━━━━━\u001b[0m \u001b[32m393.6/393.6 kB\u001b[0m \u001b[31m9.0 MB/s\u001b[0m eta \u001b[36m0:00:00\u001b[0mta \u001b[36m0:00:01\u001b[0m\n",
      "\u001b[?25hUsing cached numpy-1.26.4-cp312-cp312-macosx_11_0_arm64.whl (13.7 MB)\n",
      "Downloading opt_einsum-3.3.0-py3-none-any.whl (65 kB)\n",
      "\u001b[2K   \u001b[90m━━━━━━━━━━━━━━━━━━━━━━━━━━━━━━━━━━━━━━━━\u001b[0m \u001b[32m65.5/65.5 kB\u001b[0m \u001b[31m6.0 MB/s\u001b[0m eta \u001b[36m0:00:00\u001b[0m\n",
      "\u001b[?25hUsing cached protobuf-4.25.3-cp37-abi3-macosx_10_9_universal2.whl (394 kB)\n",
      "Using cached six-1.16.0-py2.py3-none-any.whl (11 kB)\n",
      "Downloading tensorboard-2.16.2-py3-none-any.whl (5.5 MB)\n",
      "\u001b[2K   \u001b[90m━━━━━━━━━━━━━━━━━━━━━━━━━━━━━━━━━━━━━━━━\u001b[0m \u001b[32m5.5/5.5 MB\u001b[0m \u001b[31m7.9 MB/s\u001b[0m eta \u001b[36m0:00:00\u001b[0m00:01\u001b[0m00:01\u001b[0m\n",
      "\u001b[?25hDownloading setuptools-70.0.0-py3-none-any.whl (863 kB)\n",
      "\u001b[2K   \u001b[90m━━━━━━━━━━━━━━━━━━━━━━━━━━━━━━━━━━━━━━━━\u001b[0m \u001b[32m863.4/863.4 kB\u001b[0m \u001b[31m8.9 MB/s\u001b[0m eta \u001b[36m0:00:00\u001b[0mta \u001b[36m0:00:01\u001b[0m\n",
      "\u001b[?25hDownloading termcolor-2.4.0-py3-none-any.whl (7.7 kB)\n",
      "Downloading typing_extensions-4.12.2-py3-none-any.whl (37 kB)\n",
      "Downloading wrapt-1.16.0-cp312-cp312-macosx_11_0_arm64.whl (38 kB)\n",
      "Downloading Markdown-3.6-py3-none-any.whl (105 kB)\n",
      "\u001b[2K   \u001b[90m━━━━━━━━━━━━━━━━━━━━━━━━━━━━━━━━━━━━━━━━\u001b[0m \u001b[32m105.4/105.4 kB\u001b[0m \u001b[31m8.2 MB/s\u001b[0m eta \u001b[36m0:00:00\u001b[0m\n",
      "\u001b[?25hDownloading tensorboard_data_server-0.7.2-py3-none-any.whl (2.4 kB)\n",
      "Downloading werkzeug-3.0.3-py3-none-any.whl (227 kB)\n",
      "\u001b[2K   \u001b[90m━━━━━━━━━━━━━━━━━━━━━━━━━━━━━━━━━━━━━━━━\u001b[0m \u001b[32m227.3/227.3 kB\u001b[0m \u001b[31m9.1 MB/s\u001b[0m eta \u001b[36m0:00:00\u001b[0m\n",
      "\u001b[?25hDownloading wheel-0.43.0-py3-none-any.whl (65 kB)\n",
      "\u001b[2K   \u001b[90m━━━━━━━━━━━━━━━━━━━━━━━━━━━━━━━━━━━━━━━━\u001b[0m \u001b[32m65.8/65.8 kB\u001b[0m \u001b[31m6.4 MB/s\u001b[0m eta \u001b[36m0:00:00\u001b[0m\n",
      "\u001b[?25hDownloading namex-0.0.8-py3-none-any.whl (5.8 kB)\n",
      "Downloading optree-0.11.0-cp312-cp312-macosx_11_0_arm64.whl (276 kB)\n",
      "\u001b[2K   \u001b[90m━━━━━━━━━━━━━━━━━━━━━━━━━━━━━━━━━━━━━━━━\u001b[0m \u001b[32m276.7/276.7 kB\u001b[0m \u001b[31m10.6 MB/s\u001b[0m eta \u001b[36m0:00:00\u001b[0m\n",
      "\u001b[?25hUsing cached rich-13.7.1-py3-none-any.whl (240 kB)\n",
      "Using cached markdown_it_py-3.0.0-py3-none-any.whl (87 kB)\n",
      "Using cached MarkupSafe-2.1.5-cp312-cp312-macosx_10_9_universal2.whl (18 kB)\n",
      "Downloading pygments-2.18.0-py3-none-any.whl (1.2 MB)\n",
      "\u001b[2K   \u001b[90m━━━━━━━━━━━━━━━━━━━━━━━━━━━━━━━━━━━━━━━━\u001b[0m \u001b[32m1.2/1.2 MB\u001b[0m \u001b[31m8.7 MB/s\u001b[0m eta \u001b[36m0:00:00\u001b[0ma \u001b[36m0:00:01\u001b[0m\n",
      "\u001b[?25hUsing cached mdurl-0.1.2-py3-none-any.whl (10.0 kB)\n",
      "Installing collected packages: namex, libclang, flatbuffers, wrapt, wheel, typing-extensions, termcolor, tensorboard-data-server, six, setuptools, pygments, protobuf, numpy, mdurl, MarkupSafe, markdown, grpcio, gast, absl-py, werkzeug, optree, opt-einsum, ml-dtypes, markdown-it-py, h5py, google-pasta, astunparse, tensorboard, rich, keras, tensorflow\n",
      "Successfully installed MarkupSafe-2.1.5 absl-py-2.1.0 astunparse-1.6.3 flatbuffers-24.3.25 gast-0.5.4 google-pasta-0.2.0 grpcio-1.64.1 h5py-3.11.0 keras-3.3.3 libclang-18.1.1 markdown-3.6 markdown-it-py-3.0.0 mdurl-0.1.2 ml-dtypes-0.3.2 namex-0.0.8 numpy-1.26.4 opt-einsum-3.3.0 optree-0.11.0 protobuf-4.25.3 pygments-2.18.0 rich-13.7.1 setuptools-70.0.0 six-1.16.0 tensorboard-2.16.2 tensorboard-data-server-0.7.2 tensorflow-2.16.1 termcolor-2.4.0 typing-extensions-4.12.2 werkzeug-3.0.3 wheel-0.43.0 wrapt-1.16.0\n",
      "Requirement already satisfied: keras in /Users/santiagop/.pyenv/versions/3.12.2/lib/python3.12/site-packages (3.3.3)\n",
      "Requirement already satisfied: absl-py in /Users/santiagop/.pyenv/versions/3.12.2/lib/python3.12/site-packages (from keras) (2.1.0)\n",
      "Requirement already satisfied: numpy in /Users/santiagop/.pyenv/versions/3.12.2/lib/python3.12/site-packages (from keras) (1.26.4)\n",
      "Requirement already satisfied: rich in /Users/santiagop/.pyenv/versions/3.12.2/lib/python3.12/site-packages (from keras) (13.7.1)\n",
      "Requirement already satisfied: namex in /Users/santiagop/.pyenv/versions/3.12.2/lib/python3.12/site-packages (from keras) (0.0.8)\n",
      "Requirement already satisfied: h5py in /Users/santiagop/.pyenv/versions/3.12.2/lib/python3.12/site-packages (from keras) (3.11.0)\n",
      "Requirement already satisfied: optree in /Users/santiagop/.pyenv/versions/3.12.2/lib/python3.12/site-packages (from keras) (0.11.0)\n",
      "Requirement already satisfied: ml-dtypes in /Users/santiagop/.pyenv/versions/3.12.2/lib/python3.12/site-packages (from keras) (0.3.2)\n",
      "Requirement already satisfied: typing-extensions>=4.0.0 in /Users/santiagop/.pyenv/versions/3.12.2/lib/python3.12/site-packages (from optree->keras) (4.12.2)\n",
      "Requirement already satisfied: markdown-it-py>=2.2.0 in /Users/santiagop/.pyenv/versions/3.12.2/lib/python3.12/site-packages (from rich->keras) (3.0.0)\n",
      "Requirement already satisfied: pygments<3.0.0,>=2.13.0 in /Users/santiagop/.pyenv/versions/3.12.2/lib/python3.12/site-packages (from rich->keras) (2.18.0)\n",
      "Requirement already satisfied: mdurl~=0.1 in /Users/santiagop/.pyenv/versions/3.12.2/lib/python3.12/site-packages (from markdown-it-py>=2.2.0->rich->keras) (0.1.2)\n",
      "Collecting ipympl\n",
      "  Downloading ipympl-0.9.4-py3-none-any.whl.metadata (8.7 kB)\n",
      "Collecting ipython-genutils (from ipympl)\n",
      "  Downloading ipython_genutils-0.2.0-py2.py3-none-any.whl.metadata (755 bytes)\n",
      "Collecting ipython<9 (from ipympl)\n",
      "  Downloading ipython-8.25.0-py3-none-any.whl.metadata (4.9 kB)\n",
      "Collecting ipywidgets<9,>=7.6.0 (from ipympl)\n",
      "  Downloading ipywidgets-8.1.3-py3-none-any.whl.metadata (2.4 kB)\n",
      "Collecting matplotlib<4,>=3.4.0 (from ipympl)\n",
      "  Downloading matplotlib-3.9.0-cp312-cp312-macosx_11_0_arm64.whl.metadata (11 kB)\n",
      "Requirement already satisfied: numpy in /Users/santiagop/.pyenv/versions/3.12.2/lib/python3.12/site-packages (from ipympl) (1.26.4)\n",
      "Collecting pillow (from ipympl)\n",
      "  Using cached pillow-10.3.0-cp312-cp312-macosx_11_0_arm64.whl.metadata (9.2 kB)\n",
      "Collecting traitlets<6 (from ipympl)\n",
      "  Using cached traitlets-5.14.3-py3-none-any.whl.metadata (10 kB)\n",
      "Collecting decorator (from ipython<9->ipympl)\n",
      "  Using cached decorator-5.1.1-py3-none-any.whl.metadata (4.0 kB)\n",
      "Collecting jedi>=0.16 (from ipython<9->ipympl)\n",
      "  Using cached jedi-0.19.1-py2.py3-none-any.whl.metadata (22 kB)\n",
      "Collecting matplotlib-inline (from ipython<9->ipympl)\n",
      "  Using cached matplotlib_inline-0.1.7-py3-none-any.whl.metadata (3.9 kB)\n",
      "Collecting prompt-toolkit<3.1.0,>=3.0.41 (from ipython<9->ipympl)\n",
      "  Downloading prompt_toolkit-3.0.46-py3-none-any.whl.metadata (6.4 kB)\n",
      "Requirement already satisfied: pygments>=2.4.0 in /Users/santiagop/.pyenv/versions/3.12.2/lib/python3.12/site-packages (from ipython<9->ipympl) (2.18.0)\n",
      "Collecting stack-data (from ipython<9->ipympl)\n",
      "  Using cached stack_data-0.6.3-py3-none-any.whl.metadata (18 kB)\n",
      "Requirement already satisfied: pexpect>4.3 in /Users/santiagop/.pyenv/versions/3.12.2/lib/python3.12/site-packages (from ipython<9->ipympl) (4.9.0)\n",
      "Collecting comm>=0.1.3 (from ipywidgets<9,>=7.6.0->ipympl)\n",
      "  Using cached comm-0.2.2-py3-none-any.whl.metadata (3.7 kB)\n",
      "Collecting widgetsnbextension~=4.0.11 (from ipywidgets<9,>=7.6.0->ipympl)\n",
      "  Downloading widgetsnbextension-4.0.11-py3-none-any.whl.metadata (1.6 kB)\n",
      "Collecting jupyterlab-widgets~=3.0.11 (from ipywidgets<9,>=7.6.0->ipympl)\n",
      "  Downloading jupyterlab_widgets-3.0.11-py3-none-any.whl.metadata (4.1 kB)\n",
      "Collecting contourpy>=1.0.1 (from matplotlib<4,>=3.4.0->ipympl)\n",
      "  Using cached contourpy-1.2.1-cp312-cp312-macosx_11_0_arm64.whl.metadata (5.8 kB)\n",
      "Collecting cycler>=0.10 (from matplotlib<4,>=3.4.0->ipympl)\n",
      "  Using cached cycler-0.12.1-py3-none-any.whl.metadata (3.8 kB)\n",
      "Collecting fonttools>=4.22.0 (from matplotlib<4,>=3.4.0->ipympl)\n",
      "  Downloading fonttools-4.53.0-cp312-cp312-macosx_11_0_arm64.whl.metadata (162 kB)\n",
      "\u001b[2K     \u001b[90m━━━━━━━━━━━━━━━━━━━━━━━━━━━━━━━━━━━━━━━\u001b[0m \u001b[32m162.2/162.2 kB\u001b[0m \u001b[31m3.2 MB/s\u001b[0m eta \u001b[36m0:00:00\u001b[0ma \u001b[36m0:00:01\u001b[0m\n",
      "\u001b[?25hCollecting kiwisolver>=1.3.1 (from matplotlib<4,>=3.4.0->ipympl)\n",
      "  Using cached kiwisolver-1.4.5-cp312-cp312-macosx_11_0_arm64.whl.metadata (6.4 kB)\n",
      "Requirement already satisfied: packaging>=20.0 in /Users/santiagop/.pyenv/versions/3.12.2/lib/python3.12/site-packages (from matplotlib<4,>=3.4.0->ipympl) (23.2)\n",
      "Collecting pyparsing>=2.3.1 (from matplotlib<4,>=3.4.0->ipympl)\n",
      "  Using cached pyparsing-3.1.2-py3-none-any.whl.metadata (5.1 kB)\n",
      "Collecting python-dateutil>=2.7 (from matplotlib<4,>=3.4.0->ipympl)\n",
      "  Using cached python_dateutil-2.9.0.post0-py2.py3-none-any.whl.metadata (8.4 kB)\n",
      "Collecting parso<0.9.0,>=0.8.3 (from jedi>=0.16->ipython<9->ipympl)\n",
      "  Using cached parso-0.8.4-py2.py3-none-any.whl.metadata (7.7 kB)\n",
      "Requirement already satisfied: ptyprocess>=0.5 in /Users/santiagop/.pyenv/versions/3.12.2/lib/python3.12/site-packages (from pexpect>4.3->ipython<9->ipympl) (0.7.0)\n",
      "Collecting wcwidth (from prompt-toolkit<3.1.0,>=3.0.41->ipython<9->ipympl)\n",
      "  Using cached wcwidth-0.2.13-py2.py3-none-any.whl.metadata (14 kB)\n",
      "Requirement already satisfied: six>=1.5 in /Users/santiagop/.pyenv/versions/3.12.2/lib/python3.12/site-packages (from python-dateutil>=2.7->matplotlib<4,>=3.4.0->ipympl) (1.16.0)\n",
      "Collecting executing>=1.2.0 (from stack-data->ipython<9->ipympl)\n",
      "  Using cached executing-2.0.1-py2.py3-none-any.whl.metadata (9.0 kB)\n",
      "Collecting asttokens>=2.1.0 (from stack-data->ipython<9->ipympl)\n",
      "  Using cached asttokens-2.4.1-py2.py3-none-any.whl.metadata (5.2 kB)\n",
      "Collecting pure-eval (from stack-data->ipython<9->ipympl)\n",
      "  Using cached pure_eval-0.2.2-py3-none-any.whl.metadata (6.2 kB)\n",
      "Downloading ipympl-0.9.4-py3-none-any.whl (516 kB)\n",
      "\u001b[2K   \u001b[90m━━━━━━━━━━━━━━━━━━━━━━━━━━━━━━━━━━━━━━━━\u001b[0m \u001b[32m516.3/516.3 kB\u001b[0m \u001b[31m7.4 MB/s\u001b[0m eta \u001b[36m0:00:00\u001b[0ma \u001b[36m0:00:01\u001b[0m\n",
      "\u001b[?25hDownloading ipython-8.25.0-py3-none-any.whl (817 kB)\n",
      "\u001b[2K   \u001b[90m━━━━━━━━━━━━━━━━━━━━━━━━━━━━━━━━━━━━━━━━\u001b[0m \u001b[32m817.3/817.3 kB\u001b[0m \u001b[31m8.7 MB/s\u001b[0m eta \u001b[36m0:00:00\u001b[0ma \u001b[36m0:00:01\u001b[0m\n",
      "\u001b[?25hDownloading ipywidgets-8.1.3-py3-none-any.whl (139 kB)\n",
      "\u001b[2K   \u001b[90m━━━━━━━━━━━━━━━━━━━━━━━━━━━━━━━━━━━━━━━━\u001b[0m \u001b[32m139.4/139.4 kB\u001b[0m \u001b[31m11.4 MB/s\u001b[0m eta \u001b[36m0:00:00\u001b[0m\n",
      "\u001b[?25hDownloading matplotlib-3.9.0-cp312-cp312-macosx_11_0_arm64.whl (7.8 MB)\n",
      "\u001b[2K   \u001b[90m━━━━━━━━━━━━━━━━━━━━━━━━━━━━━━━━━━━━━━━━\u001b[0m \u001b[32m7.8/7.8 MB\u001b[0m \u001b[31m8.8 MB/s\u001b[0m eta \u001b[36m0:00:00\u001b[0m00:01\u001b[0m00:01\u001b[0mm\n",
      "\u001b[?25hUsing cached pillow-10.3.0-cp312-cp312-macosx_11_0_arm64.whl (3.4 MB)\n",
      "Using cached traitlets-5.14.3-py3-none-any.whl (85 kB)\n",
      "Downloading ipython_genutils-0.2.0-py2.py3-none-any.whl (26 kB)\n",
      "Using cached comm-0.2.2-py3-none-any.whl (7.2 kB)\n",
      "Using cached contourpy-1.2.1-cp312-cp312-macosx_11_0_arm64.whl (245 kB)\n",
      "Using cached cycler-0.12.1-py3-none-any.whl (8.3 kB)\n",
      "Downloading fonttools-4.53.0-cp312-cp312-macosx_11_0_arm64.whl (2.2 MB)\n",
      "\u001b[2K   \u001b[90m━━━━━━━━━━━━━━━━━━━━━━━━━━━━━━━━━━━━━━━━\u001b[0m \u001b[32m2.2/2.2 MB\u001b[0m \u001b[31m8.5 MB/s\u001b[0m eta \u001b[36m0:00:00\u001b[0ma \u001b[36m0:00:01\u001b[0mm\n",
      "\u001b[?25hUsing cached jedi-0.19.1-py2.py3-none-any.whl (1.6 MB)\n",
      "Downloading jupyterlab_widgets-3.0.11-py3-none-any.whl (214 kB)\n",
      "\u001b[2K   \u001b[90m━━━━━━━━━━━━━━━━━━━━━━━━━━━━━━━━━━━━━━━━\u001b[0m \u001b[32m214.4/214.4 kB\u001b[0m \u001b[31m7.2 MB/s\u001b[0m eta \u001b[36m0:00:00\u001b[0m\n",
      "\u001b[?25hUsing cached kiwisolver-1.4.5-cp312-cp312-macosx_11_0_arm64.whl (64 kB)\n",
      "Downloading prompt_toolkit-3.0.46-py3-none-any.whl (386 kB)\n",
      "\u001b[2K   \u001b[90m━━━━━━━━━━━━━━━━━━━━━━━━━━━━━━━━━━━━━━━━\u001b[0m \u001b[32m386.3/386.3 kB\u001b[0m \u001b[31m8.4 MB/s\u001b[0m eta \u001b[36m0:00:00\u001b[0m:00:01\u001b[0m\n",
      "\u001b[?25hUsing cached pyparsing-3.1.2-py3-none-any.whl (103 kB)\n",
      "Using cached python_dateutil-2.9.0.post0-py2.py3-none-any.whl (229 kB)\n",
      "Downloading widgetsnbextension-4.0.11-py3-none-any.whl (2.3 MB)\n",
      "\u001b[2K   \u001b[90m━━━━━━━━━━━━━━━━━━━━━━━━━━━━━━━━━━━━━━━━\u001b[0m \u001b[32m2.3/2.3 MB\u001b[0m \u001b[31m9.5 MB/s\u001b[0m eta \u001b[36m0:00:00\u001b[0ma \u001b[36m0:00:01\u001b[0mm\n",
      "\u001b[?25hUsing cached decorator-5.1.1-py3-none-any.whl (9.1 kB)\n",
      "Using cached matplotlib_inline-0.1.7-py3-none-any.whl (9.9 kB)\n",
      "Using cached stack_data-0.6.3-py3-none-any.whl (24 kB)\n",
      "Using cached asttokens-2.4.1-py2.py3-none-any.whl (27 kB)\n",
      "Using cached executing-2.0.1-py2.py3-none-any.whl (24 kB)\n",
      "Using cached parso-0.8.4-py2.py3-none-any.whl (103 kB)\n",
      "Using cached pure_eval-0.2.2-py3-none-any.whl (11 kB)\n",
      "Using cached wcwidth-0.2.13-py2.py3-none-any.whl (34 kB)\n",
      "Installing collected packages: wcwidth, pure-eval, ipython-genutils, widgetsnbextension, traitlets, python-dateutil, pyparsing, prompt-toolkit, pillow, parso, kiwisolver, jupyterlab-widgets, fonttools, executing, decorator, cycler, contourpy, asttokens, stack-data, matplotlib-inline, matplotlib, jedi, comm, ipython, ipywidgets, ipympl\n",
      "Successfully installed asttokens-2.4.1 comm-0.2.2 contourpy-1.2.1 cycler-0.12.1 decorator-5.1.1 executing-2.0.1 fonttools-4.53.0 ipympl-0.9.4 ipython-8.25.0 ipython-genutils-0.2.0 ipywidgets-8.1.3 jedi-0.19.1 jupyterlab-widgets-3.0.11 kiwisolver-1.4.5 matplotlib-3.9.0 matplotlib-inline-0.1.7 parso-0.8.4 pillow-10.3.0 prompt-toolkit-3.0.46 pure-eval-0.2.2 pyparsing-3.1.2 python-dateutil-2.9.0.post0 stack-data-0.6.3 traitlets-5.14.3 wcwidth-0.2.13 widgetsnbextension-4.0.11\n"
     ]
    }
   ],
   "source": [
    "!pip install tensorflow\n",
    "!pip install keras\n",
    "!pip install ipympl"
   ]
  },
  {
   "cell_type": "markdown",
   "id": "7974a9ef",
   "metadata": {},
   "source": [
    "Para Windows (descomentar y ejecutar):"
   ]
  },
  {
   "cell_type": "code",
   "execution_count": 3,
   "id": "139672eeda96e2ef",
   "metadata": {
    "jupyter": {
     "outputs_hidden": false
    }
   },
   "outputs": [],
   "source": [
    "#%matplotlib notebook"
   ]
  },
  {
   "cell_type": "markdown",
   "id": "0812dbb3",
   "metadata": {},
   "source": [
    "Para Linux (decomentar y ejecutar):"
   ]
  },
  {
   "cell_type": "code",
   "execution_count": 4,
   "id": "af417f05",
   "metadata": {},
   "outputs": [],
   "source": [
    "#%matplotlib widget"
   ]
  },
  {
   "cell_type": "markdown",
   "id": "271934d4267637bd",
   "metadata": {
    "jupyter": {
     "outputs_hidden": false
    }
   },
   "source": [
    "# Descenso Por Gradiente\n",
    "\n",
    "### Laboratorio de Datos, IC - FCEN - UBA - 1er. Cuatrimestre 2024\n",
    "\n",
    "Importamos el Regresor basado en Tensorflow y Keras. Ya viene implementado con Descenso por Gradiente y Descenso por \n",
    "Gradiente Estocástico. Sirve para hacer Regresión (Lineal y no Lineal) y para clasificación con Regresión Logística.\n",
    "\n",
    "También importamos la función ``train_test_split_scale_center`` que separa los datos en entrenamiento y testeo, aplica ``MinMaxScaler`` y, opcionalmente, los\n",
    "centra."
   ]
  },
  {
   "cell_type": "code",
   "execution_count": 5,
   "id": "69c015239533028f",
   "metadata": {
    "jupyter": {
     "outputs_hidden": false
    }
   },
   "outputs": [
    {
     "name": "stderr",
     "output_type": "stream",
     "text": [
      "/Users/santiagop/Library/Python/3.9/lib/python/site-packages/urllib3/__init__.py:35: NotOpenSSLWarning: urllib3 v2 only supports OpenSSL 1.1.1+, currently the 'ssl' module is compiled with 'LibreSSL 2.8.3'. See: https://github.com/urllib3/urllib3/issues/3020\n",
      "  warnings.warn(\n"
     ]
    }
   ],
   "source": [
    "from tf_regressor import Regressor, train_test_split_scale_center"
   ]
  },
  {
   "cell_type": "markdown",
   "id": "d638f8390a9a7f1a",
   "metadata": {
    "jupyter": {
     "outputs_hidden": false
    }
   },
   "source": [
    "### Motivación 1"
   ]
  },
  {
   "cell_type": "markdown",
   "id": "93c7e98fbe1c34ab",
   "metadata": {
    "jupyter": {
     "outputs_hidden": false
    }
   },
   "source": [
    "Resolver sistemas de ecuaciones *grandes* es computacionalmente costoso. Veamos un ejemplo, con un dataset sintético \n",
    "de $11000$ observaciones de $10000$ features cada una (un total de $110$ millones de valores).\n",
    "\n",
    "Utilizamos el modelo:\n",
    "$$Y = \\beta_0 + \\sum_{i=1}^{10000} \\beta_iX_i$$"
   ]
  },
  {
   "cell_type": "code",
   "execution_count": 6,
   "id": "8f318cad5d9854ea",
   "metadata": {
    "jupyter": {
     "outputs_hidden": false
    }
   },
   "outputs": [],
   "source": [
    "# Generamos 11000 muestras aleatorias con 10000 features cada una\n",
    "np.random.seed(11)\n",
    "n, m = 11000, 10000\n",
    "mega_X = np.random.randn(n, m)\n",
    "simulation_weights = np.random.randint(3, size=mega_X.shape[1])\n",
    "mega_Y = (mega_X @ simulation_weights + np.random.randn(int(n)) / 10).reshape(-1, 1) # reshape para volverlo una columna\n",
    "\n",
    "# Normalizamos los datos y los centramos\n",
    "mega_X_train, mega_X_test, mega_y_train, mega_y_test = train_test_split_scale_center(mega_X, mega_Y,\n",
    "                                                                                     transform_y=True,\n",
    "                                                                                     test_size=0.2,\n",
    "                                                                                     random_state=21)"
   ]
  },
  {
   "cell_type": "markdown",
   "id": "5d6d8cf5",
   "metadata": {},
   "source": [
    "<font color='red'>**CUIDADO AL CORRER ESTO, PUEDE EXPLOTAR**<font>"
   ]
  },
  {
   "cell_type": "code",
   "execution_count": 7,
   "id": "445085abc0e5a5bc",
   "metadata": {
    "jupyter": {
     "outputs_hidden": false
    }
   },
   "outputs": [
    {
     "name": "stdout",
     "output_type": "stream",
     "text": [
      "Tiempo total de entrenamiento:  139.95791006088257\n",
      "MSE en conjunto de testeo:  0.0020506909837342824\n"
     ]
    }
   ],
   "source": [
    "# Hacemos regresion lineal con scikit-learn\n",
    "model = linear_model.LinearRegression()\n",
    "start = time()  # marcamos el tiempo de inicio del entrenamiento\n",
    "model.fit(mega_X_train, mega_y_train)\n",
    "tiempo_matricial = time() - start   # registramos el tiempo total de entrenamiento\n",
    "mse_matricial = mean_squared_error(mega_y_test, model.predict(mega_X_test))\n",
    "print('Tiempo total de entrenamiento: ', tiempo_matricial)\n",
    "print('MSE en conjunto de testeo: ', mse_matricial)"
   ]
  },
  {
   "cell_type": "markdown",
   "id": "5d6de53553de19c0",
   "metadata": {
    "jp-MarkdownHeadingCollapsed": true,
    "jupyter": {
     "outputs_hidden": false
    }
   },
   "source": [
    "### Motivación 2"
   ]
  },
  {
   "cell_type": "markdown",
   "id": "83a7192186d91dc",
   "metadata": {
    "jupyter": {
     "outputs_hidden": false
    }
   },
   "source": [
    "Tenemos un dataset con la evolución de nuevos casos diarios de COVID"
   ]
  },
  {
   "cell_type": "code",
   "execution_count": 8,
   "id": "6f613bcbcbbe4984",
   "metadata": {
    "jupyter": {
     "outputs_hidden": false
    }
   },
   "outputs": [
    {
     "data": {
      "image/png": "[encoded data removed]",
      "text/plain": [
       "<seaborn._core.plot.Plot at 0x313966d60>"
      ]
     },
     "execution_count": 8,
     "metadata": {
      "image/png": {
       "height": 378.25,
       "width": 509.15
      }
     },
     "output_type": "execute_result"
    }
   ],
   "source": [
    "coro = pd.read_csv('casos_coronavirus.csv')\n",
    "coro.reset_index(inplace=True)      # Reseteamos el índice para trabajar con los indices en vez de las fechas\n",
    "so.Plot(data=coro, x='index', y='confirmados_Nuevos').add(so.Dot())"
   ]
  },
  {
   "cell_type": "markdown",
   "id": "8452c9d51c48c1d0",
   "metadata": {
    "jupyter": {
     "outputs_hidden": false
    }
   },
   "source": [
    "¿Qué tipo de función parece que sigue la evolución de los casos? ¿Podemos plantear un modelo de regresión **lineal**?"
   ]
  },
  {
   "cell_type": "markdown",
   "id": "2f210972d160e8b4",
   "metadata": {
    "jupyter": {
     "outputs_hidden": false
    }
   },
   "source": [
    "### 1. Ejemplo: Regresión Lineal con una variable predictora "
   ]
  },
  {
   "cell_type": "markdown",
   "id": "fa701d2dec7bbe2e",
   "metadata": {
    "jupyter": {
     "outputs_hidden": false
    }
   },
   "source": [
    "Usemos el dataset de ``inmuebles.csv`` para hacer regresión lineal del precio a partir de la superficie del inmueble:\n",
    "$$precio = b + w\\cdot superficie \\qquad (precio \\sim superficie) $$"
   ]
  },
  {
   "cell_type": "code",
   "execution_count": 9,
   "id": "9c28cbf26559759b",
   "metadata": {
    "jupyter": {
     "outputs_hidden": false
    }
   },
   "outputs": [
    {
     "ename": "FileNotFoundError",
     "evalue": "[Errno 2] No such file or directory: 'inmuebles.csv'",
     "output_type": "error",
     "traceback": [
      "\u001b[0;31m---------------------------------------------------------------------------\u001b[0m",
      "\u001b[0;31mFileNotFoundError\u001b[0m                         Traceback (most recent call last)",
      "Cell \u001b[0;32mIn[9], line 2\u001b[0m\n\u001b[1;32m      1\u001b[0m \u001b[38;5;66;03m# Cargamos el dataset\u001b[39;00m\n\u001b[0;32m----> 2\u001b[0m data \u001b[38;5;241m=\u001b[39m \u001b[43mpd\u001b[49m\u001b[38;5;241;43m.\u001b[39;49m\u001b[43mread_csv\u001b[49m\u001b[43m(\u001b[49m\u001b[38;5;124;43m'\u001b[39;49m\u001b[38;5;124;43minmuebles.csv\u001b[39;49m\u001b[38;5;124;43m'\u001b[39;49m\u001b[43m)\u001b[49m\n\u001b[1;32m      4\u001b[0m \u001b[38;5;66;03m# Normalizamos los datos\u001b[39;00m\n\u001b[1;32m      5\u001b[0m X \u001b[38;5;241m=\u001b[39m data[\u001b[38;5;124m'\u001b[39m\u001b[38;5;124msuperficie\u001b[39m\u001b[38;5;124m'\u001b[39m]\n",
      "File \u001b[0;32m~/Library/Python/3.9/lib/python/site-packages/pandas/io/parsers/readers.py:1026\u001b[0m, in \u001b[0;36mread_csv\u001b[0;34m(filepath_or_buffer, sep, delimiter, header, names, index_col, usecols, dtype, engine, converters, true_values, false_values, skipinitialspace, skiprows, skipfooter, nrows, na_values, keep_default_na, na_filter, verbose, skip_blank_lines, parse_dates, infer_datetime_format, keep_date_col, date_parser, date_format, dayfirst, cache_dates, iterator, chunksize, compression, thousands, decimal, lineterminator, quotechar, quoting, doublequote, escapechar, comment, encoding, encoding_errors, dialect, on_bad_lines, delim_whitespace, low_memory, memory_map, float_precision, storage_options, dtype_backend)\u001b[0m\n\u001b[1;32m   1013\u001b[0m kwds_defaults \u001b[38;5;241m=\u001b[39m _refine_defaults_read(\n\u001b[1;32m   1014\u001b[0m     dialect,\n\u001b[1;32m   1015\u001b[0m     delimiter,\n\u001b[0;32m   (...)\u001b[0m\n\u001b[1;32m   1022\u001b[0m     dtype_backend\u001b[38;5;241m=\u001b[39mdtype_backend,\n\u001b[1;32m   1023\u001b[0m )\n\u001b[1;32m   1024\u001b[0m kwds\u001b[38;5;241m.\u001b[39mupdate(kwds_defaults)\n\u001b[0;32m-> 1026\u001b[0m \u001b[38;5;28;01mreturn\u001b[39;00m \u001b[43m_read\u001b[49m\u001b[43m(\u001b[49m\u001b[43mfilepath_or_buffer\u001b[49m\u001b[43m,\u001b[49m\u001b[43m \u001b[49m\u001b[43mkwds\u001b[49m\u001b[43m)\u001b[49m\n",
      "File \u001b[0;32m~/Library/Python/3.9/lib/python/site-packages/pandas/io/parsers/readers.py:620\u001b[0m, in \u001b[0;36m_read\u001b[0;34m(filepath_or_buffer, kwds)\u001b[0m\n\u001b[1;32m    617\u001b[0m _validate_names(kwds\u001b[38;5;241m.\u001b[39mget(\u001b[38;5;124m\"\u001b[39m\u001b[38;5;124mnames\u001b[39m\u001b[38;5;124m\"\u001b[39m, \u001b[38;5;28;01mNone\u001b[39;00m))\n\u001b[1;32m    619\u001b[0m \u001b[38;5;66;03m# Create the parser.\u001b[39;00m\n\u001b[0;32m--> 620\u001b[0m parser \u001b[38;5;241m=\u001b[39m \u001b[43mTextFileReader\u001b[49m\u001b[43m(\u001b[49m\u001b[43mfilepath_or_buffer\u001b[49m\u001b[43m,\u001b[49m\u001b[43m \u001b[49m\u001b[38;5;241;43m*\u001b[39;49m\u001b[38;5;241;43m*\u001b[39;49m\u001b[43mkwds\u001b[49m\u001b[43m)\u001b[49m\n\u001b[1;32m    622\u001b[0m \u001b[38;5;28;01mif\u001b[39;00m chunksize \u001b[38;5;129;01mor\u001b[39;00m iterator:\n\u001b[1;32m    623\u001b[0m     \u001b[38;5;28;01mreturn\u001b[39;00m parser\n",
      "File \u001b[0;32m~/Library/Python/3.9/lib/python/site-packages/pandas/io/parsers/readers.py:1620\u001b[0m, in \u001b[0;36mTextFileReader.__init__\u001b[0;34m(self, f, engine, **kwds)\u001b[0m\n\u001b[1;32m   1617\u001b[0m     \u001b[38;5;28mself\u001b[39m\u001b[38;5;241m.\u001b[39moptions[\u001b[38;5;124m\"\u001b[39m\u001b[38;5;124mhas_index_names\u001b[39m\u001b[38;5;124m\"\u001b[39m] \u001b[38;5;241m=\u001b[39m kwds[\u001b[38;5;124m\"\u001b[39m\u001b[38;5;124mhas_index_names\u001b[39m\u001b[38;5;124m\"\u001b[39m]\n\u001b[1;32m   1619\u001b[0m \u001b[38;5;28mself\u001b[39m\u001b[38;5;241m.\u001b[39mhandles: IOHandles \u001b[38;5;241m|\u001b[39m \u001b[38;5;28;01mNone\u001b[39;00m \u001b[38;5;241m=\u001b[39m \u001b[38;5;28;01mNone\u001b[39;00m\n\u001b[0;32m-> 1620\u001b[0m \u001b[38;5;28mself\u001b[39m\u001b[38;5;241m.\u001b[39m_engine \u001b[38;5;241m=\u001b[39m \u001b[38;5;28;43mself\u001b[39;49m\u001b[38;5;241;43m.\u001b[39;49m\u001b[43m_make_engine\u001b[49m\u001b[43m(\u001b[49m\u001b[43mf\u001b[49m\u001b[43m,\u001b[49m\u001b[43m \u001b[49m\u001b[38;5;28;43mself\u001b[39;49m\u001b[38;5;241;43m.\u001b[39;49m\u001b[43mengine\u001b[49m\u001b[43m)\u001b[49m\n",
      "File \u001b[0;32m~/Library/Python/3.9/lib/python/site-packages/pandas/io/parsers/readers.py:1880\u001b[0m, in \u001b[0;36mTextFileReader._make_engine\u001b[0;34m(self, f, engine)\u001b[0m\n\u001b[1;32m   1878\u001b[0m     \u001b[38;5;28;01mif\u001b[39;00m \u001b[38;5;124m\"\u001b[39m\u001b[38;5;124mb\u001b[39m\u001b[38;5;124m\"\u001b[39m \u001b[38;5;129;01mnot\u001b[39;00m \u001b[38;5;129;01min\u001b[39;00m mode:\n\u001b[1;32m   1879\u001b[0m         mode \u001b[38;5;241m+\u001b[39m\u001b[38;5;241m=\u001b[39m \u001b[38;5;124m\"\u001b[39m\u001b[38;5;124mb\u001b[39m\u001b[38;5;124m\"\u001b[39m\n\u001b[0;32m-> 1880\u001b[0m \u001b[38;5;28mself\u001b[39m\u001b[38;5;241m.\u001b[39mhandles \u001b[38;5;241m=\u001b[39m \u001b[43mget_handle\u001b[49m\u001b[43m(\u001b[49m\n\u001b[1;32m   1881\u001b[0m \u001b[43m    \u001b[49m\u001b[43mf\u001b[49m\u001b[43m,\u001b[49m\n\u001b[1;32m   1882\u001b[0m \u001b[43m    \u001b[49m\u001b[43mmode\u001b[49m\u001b[43m,\u001b[49m\n\u001b[1;32m   1883\u001b[0m \u001b[43m    \u001b[49m\u001b[43mencoding\u001b[49m\u001b[38;5;241;43m=\u001b[39;49m\u001b[38;5;28;43mself\u001b[39;49m\u001b[38;5;241;43m.\u001b[39;49m\u001b[43moptions\u001b[49m\u001b[38;5;241;43m.\u001b[39;49m\u001b[43mget\u001b[49m\u001b[43m(\u001b[49m\u001b[38;5;124;43m\"\u001b[39;49m\u001b[38;5;124;43mencoding\u001b[39;49m\u001b[38;5;124;43m\"\u001b[39;49m\u001b[43m,\u001b[49m\u001b[43m \u001b[49m\u001b[38;5;28;43;01mNone\u001b[39;49;00m\u001b[43m)\u001b[49m\u001b[43m,\u001b[49m\n\u001b[1;32m   1884\u001b[0m \u001b[43m    \u001b[49m\u001b[43mcompression\u001b[49m\u001b[38;5;241;43m=\u001b[39;49m\u001b[38;5;28;43mself\u001b[39;49m\u001b[38;5;241;43m.\u001b[39;49m\u001b[43moptions\u001b[49m\u001b[38;5;241;43m.\u001b[39;49m\u001b[43mget\u001b[49m\u001b[43m(\u001b[49m\u001b[38;5;124;43m\"\u001b[39;49m\u001b[38;5;124;43mcompression\u001b[39;49m\u001b[38;5;124;43m\"\u001b[39;49m\u001b[43m,\u001b[49m\u001b[43m \u001b[49m\u001b[38;5;28;43;01mNone\u001b[39;49;00m\u001b[43m)\u001b[49m\u001b[43m,\u001b[49m\n\u001b[1;32m   1885\u001b[0m \u001b[43m    \u001b[49m\u001b[43mmemory_map\u001b[49m\u001b[38;5;241;43m=\u001b[39;49m\u001b[38;5;28;43mself\u001b[39;49m\u001b[38;5;241;43m.\u001b[39;49m\u001b[43moptions\u001b[49m\u001b[38;5;241;43m.\u001b[39;49m\u001b[43mget\u001b[49m\u001b[43m(\u001b[49m\u001b[38;5;124;43m\"\u001b[39;49m\u001b[38;5;124;43mmemory_map\u001b[39;49m\u001b[38;5;124;43m\"\u001b[39;49m\u001b[43m,\u001b[49m\u001b[43m \u001b[49m\u001b[38;5;28;43;01mFalse\u001b[39;49;00m\u001b[43m)\u001b[49m\u001b[43m,\u001b[49m\n\u001b[1;32m   1886\u001b[0m \u001b[43m    \u001b[49m\u001b[43mis_text\u001b[49m\u001b[38;5;241;43m=\u001b[39;49m\u001b[43mis_text\u001b[49m\u001b[43m,\u001b[49m\n\u001b[1;32m   1887\u001b[0m \u001b[43m    \u001b[49m\u001b[43merrors\u001b[49m\u001b[38;5;241;43m=\u001b[39;49m\u001b[38;5;28;43mself\u001b[39;49m\u001b[38;5;241;43m.\u001b[39;49m\u001b[43moptions\u001b[49m\u001b[38;5;241;43m.\u001b[39;49m\u001b[43mget\u001b[49m\u001b[43m(\u001b[49m\u001b[38;5;124;43m\"\u001b[39;49m\u001b[38;5;124;43mencoding_errors\u001b[39;49m\u001b[38;5;124;43m\"\u001b[39;49m\u001b[43m,\u001b[49m\u001b[43m \u001b[49m\u001b[38;5;124;43m\"\u001b[39;49m\u001b[38;5;124;43mstrict\u001b[39;49m\u001b[38;5;124;43m\"\u001b[39;49m\u001b[43m)\u001b[49m\u001b[43m,\u001b[49m\n\u001b[1;32m   1888\u001b[0m \u001b[43m    \u001b[49m\u001b[43mstorage_options\u001b[49m\u001b[38;5;241;43m=\u001b[39;49m\u001b[38;5;28;43mself\u001b[39;49m\u001b[38;5;241;43m.\u001b[39;49m\u001b[43moptions\u001b[49m\u001b[38;5;241;43m.\u001b[39;49m\u001b[43mget\u001b[49m\u001b[43m(\u001b[49m\u001b[38;5;124;43m\"\u001b[39;49m\u001b[38;5;124;43mstorage_options\u001b[39;49m\u001b[38;5;124;43m\"\u001b[39;49m\u001b[43m,\u001b[49m\u001b[43m \u001b[49m\u001b[38;5;28;43;01mNone\u001b[39;49;00m\u001b[43m)\u001b[49m\u001b[43m,\u001b[49m\n\u001b[1;32m   1889\u001b[0m \u001b[43m\u001b[49m\u001b[43m)\u001b[49m\n\u001b[1;32m   1890\u001b[0m \u001b[38;5;28;01massert\u001b[39;00m \u001b[38;5;28mself\u001b[39m\u001b[38;5;241m.\u001b[39mhandles \u001b[38;5;129;01mis\u001b[39;00m \u001b[38;5;129;01mnot\u001b[39;00m \u001b[38;5;28;01mNone\u001b[39;00m\n\u001b[1;32m   1891\u001b[0m f \u001b[38;5;241m=\u001b[39m \u001b[38;5;28mself\u001b[39m\u001b[38;5;241m.\u001b[39mhandles\u001b[38;5;241m.\u001b[39mhandle\n",
      "File \u001b[0;32m~/Library/Python/3.9/lib/python/site-packages/pandas/io/common.py:873\u001b[0m, in \u001b[0;36mget_handle\u001b[0;34m(path_or_buf, mode, encoding, compression, memory_map, is_text, errors, storage_options)\u001b[0m\n\u001b[1;32m    868\u001b[0m \u001b[38;5;28;01melif\u001b[39;00m \u001b[38;5;28misinstance\u001b[39m(handle, \u001b[38;5;28mstr\u001b[39m):\n\u001b[1;32m    869\u001b[0m     \u001b[38;5;66;03m# Check whether the filename is to be opened in binary mode.\u001b[39;00m\n\u001b[1;32m    870\u001b[0m     \u001b[38;5;66;03m# Binary mode does not support 'encoding' and 'newline'.\u001b[39;00m\n\u001b[1;32m    871\u001b[0m     \u001b[38;5;28;01mif\u001b[39;00m ioargs\u001b[38;5;241m.\u001b[39mencoding \u001b[38;5;129;01mand\u001b[39;00m \u001b[38;5;124m\"\u001b[39m\u001b[38;5;124mb\u001b[39m\u001b[38;5;124m\"\u001b[39m \u001b[38;5;129;01mnot\u001b[39;00m \u001b[38;5;129;01min\u001b[39;00m ioargs\u001b[38;5;241m.\u001b[39mmode:\n\u001b[1;32m    872\u001b[0m         \u001b[38;5;66;03m# Encoding\u001b[39;00m\n\u001b[0;32m--> 873\u001b[0m         handle \u001b[38;5;241m=\u001b[39m \u001b[38;5;28;43mopen\u001b[39;49m\u001b[43m(\u001b[49m\n\u001b[1;32m    874\u001b[0m \u001b[43m            \u001b[49m\u001b[43mhandle\u001b[49m\u001b[43m,\u001b[49m\n\u001b[1;32m    875\u001b[0m \u001b[43m            \u001b[49m\u001b[43mioargs\u001b[49m\u001b[38;5;241;43m.\u001b[39;49m\u001b[43mmode\u001b[49m\u001b[43m,\u001b[49m\n\u001b[1;32m    876\u001b[0m \u001b[43m            \u001b[49m\u001b[43mencoding\u001b[49m\u001b[38;5;241;43m=\u001b[39;49m\u001b[43mioargs\u001b[49m\u001b[38;5;241;43m.\u001b[39;49m\u001b[43mencoding\u001b[49m\u001b[43m,\u001b[49m\n\u001b[1;32m    877\u001b[0m \u001b[43m            \u001b[49m\u001b[43merrors\u001b[49m\u001b[38;5;241;43m=\u001b[39;49m\u001b[43merrors\u001b[49m\u001b[43m,\u001b[49m\n\u001b[1;32m    878\u001b[0m \u001b[43m            \u001b[49m\u001b[43mnewline\u001b[49m\u001b[38;5;241;43m=\u001b[39;49m\u001b[38;5;124;43m\"\u001b[39;49m\u001b[38;5;124;43m\"\u001b[39;49m\u001b[43m,\u001b[49m\n\u001b[1;32m    879\u001b[0m \u001b[43m        \u001b[49m\u001b[43m)\u001b[49m\n\u001b[1;32m    880\u001b[0m     \u001b[38;5;28;01melse\u001b[39;00m:\n\u001b[1;32m    881\u001b[0m         \u001b[38;5;66;03m# Binary mode\u001b[39;00m\n\u001b[1;32m    882\u001b[0m         handle \u001b[38;5;241m=\u001b[39m \u001b[38;5;28mopen\u001b[39m(handle, ioargs\u001b[38;5;241m.\u001b[39mmode)\n",
      "\u001b[0;31mFileNotFoundError\u001b[0m: [Errno 2] No such file or directory: 'inmuebles.csv'"
     ]
    }
   ],
   "source": [
    "# Cargamos el dataset\n",
    "data = pd.read_csv('inmuebles.csv')\n",
    "\n",
    "# Normalizamos los datos\n",
    "X = data['superficie']\n",
    "y = data['precio']\n",
    "X_train, X_test, y_train, y_test = train_test_split_scale_center(X, y, \n",
    "                                                                 transform_y=True,  # Normalizamos y también \n",
    "                                                                 center=False,      # No centramos los datos\n",
    "                                                                 test_size=0.2,     # 20% de los datos para testeo\n",
    "                                                                 random_state=11)   # Semilla para datos de testeo"
   ]
  },
  {
   "cell_type": "code",
   "execution_count": null,
   "id": "d8128e6fc84146aa",
   "metadata": {
    "jupyter": {
     "outputs_hidden": false
    }
   },
   "outputs": [],
   "source": [
    "# Definimos la funcion del modelo (x, w, b deben respetar ese orden en la declaracion de lambda)\n",
    "f = lambda x, w, b: b + w*x"
   ]
  },
  {
   "cell_type": "code",
   "execution_count": null,
   "id": "25ff4705783d6d06",
   "metadata": {
    "jupyter": {
     "outputs_hidden": false
    },
    "scrolled": true
   },
   "outputs": [],
   "source": [
    "# Inicializamos el modelo (por ahora no tiene nada)\n",
    "model = Regressor()\n",
    "\n",
    "# Le agregamos la funcion y especificamos la dimension de w \n",
    "model.add_f(f,                  # funcion del modelo \n",
    "            dim_w=1,            # dimension de w\n",
    "            random_state=21,    # semilla para selecciones aleatorias\n",
    "            opt='gd'            # Especificamos que usamos descenso por gradiente\n",
    "            )\n",
    "\n",
    "# Entrenamos el modelo con los conjuntos de entrenamiento\n",
    "model.fit_(X_train, y_train,        # Conjuntos de entrenamiento \n",
    "           epochs=200,              # Cantidad de epocas\n",
    "           validation_split=0.2,    # 20% de datos para validacion\n",
    "           learning_rate=0.05)      # Learning rate inicial      \n"
   ]
  },
  {
   "cell_type": "code",
   "execution_count": null,
   "id": "57cf37ad179b2f92",
   "metadata": {
    "jupyter": {
     "outputs_hidden": false
    }
   },
   "outputs": [],
   "source": [
    "# Imprimimos los pesos y el bias resultantes del entrenamiento\n",
    "print(model.weights_)\n",
    "print(model.bias_)"
   ]
  },
  {
   "cell_type": "code",
   "execution_count": null,
   "id": "93867b7a8804e75e",
   "metadata": {
    "jupyter": {
     "outputs_hidden": false
    }
   },
   "outputs": [],
   "source": [
    "# Evaluamos el MSE en el conjunto de testeo\n",
    "model.evaluate(X_test.to_numpy(), y_test.to_numpy(),        # A TensorFlow no le gustan los DataFrame de pandas \n",
    "               return_dict=True,                            # Devuelve un diccionario (por si usamos mas de una métrica)\n",
    "               verbose=0,                                   # No imprima en pantalla el procedimiento de evaluación\n",
    "               batch_size=len(y_test))"
   ]
  },
  {
   "cell_type": "code",
   "execution_count": null,
   "id": "7d37bbe2f8c1c8f9",
   "metadata": {
    "jupyter": {
     "outputs_hidden": false
    }
   },
   "outputs": [],
   "source": [
    "# Podemos graficar la evolución de la función de pérdida (MSE)\n",
    "model.plot_loss()"
   ]
  },
  {
   "cell_type": "code",
   "execution_count": null,
   "id": "1023c291b781cd23",
   "metadata": {
    "jupyter": {
     "outputs_hidden": false
    }
   },
   "outputs": [],
   "source": [
    "# Podemos graficar como evolucionó el algoritmo a través de las épocas\n",
    "model.plot_path()"
   ]
  },
  {
   "cell_type": "code",
   "execution_count": null,
   "id": "5d7965203092da2",
   "metadata": {
    "jupyter": {
     "outputs_hidden": false
    }
   },
   "outputs": [],
   "source": [
    "# Y ver una animación de cómo fue evolucionando la regresión\n",
    "model.animate_regression(X_train, y_train)"
   ]
  },
  {
   "cell_type": "markdown",
   "id": "ef421a281909f251",
   "metadata": {
    "jupyter": {
     "outputs_hidden": false
    }
   },
   "source": [
    "**Obs:** el desempeño y el resultado del algoritmo dependen de la elección de pesos y bias inciales"
   ]
  },
  {
   "cell_type": "code",
   "execution_count": null,
   "id": "36883598383dca0",
   "metadata": {
    "jupyter": {
     "outputs_hidden": false
    }
   },
   "outputs": [],
   "source": [
    "model2 = Regressor()\n",
    "\n",
    "# Volvamos a entrenar el modelo proporcionándole pesos y bias iniciales\n",
    "model2.add_f(f,                 # funcion del modelo \n",
    "            w0=1,               # peso inicial\n",
    "            b0=0,               # bias inicial\n",
    "            opt='gd',            # Especificamos que usamos descenso por gradiente\n",
    "            random_state=21,    # semilla para selecciones aleatorias\n",
    "            )\n",
    "\n",
    "# Entrenamos el modelo con los conjuntos de entrenamiento\n",
    "model2.fit_(X_train, y_train,        # Conjuntos de entrenamiento \n",
    "           epochs=200,              # Cantidad de epocas\n",
    "           validation_split=0.2,    # 20% de datos para validacion\n",
    "           learning_rate=0.05)      # Learning rate inicial   "
   ]
  },
  {
   "cell_type": "code",
   "execution_count": null,
   "id": "1069c5f5f149a93f",
   "metadata": {
    "jupyter": {
     "outputs_hidden": false
    }
   },
   "outputs": [],
   "source": [
    "# Evaluamos el MSE en el conjunto de testeo\n",
    "model2.evaluate(X_test.to_numpy(), y_test.to_numpy(),        # A TensorFlow no le gustan los DataFrame de pandas \n",
    "               return_dict=True,                            # Devuelve un diccionario (por si usamos mas de una métrica)\n",
    "               verbose=0,                                   # No imprima en pantalla el procedimiento de evaluación\n",
    "               batch_size=len(y_test))"
   ]
  },
  {
   "cell_type": "code",
   "execution_count": null,
   "id": "5affa2bf0a9f38ff",
   "metadata": {
    "jupyter": {
     "outputs_hidden": false
    }
   },
   "outputs": [],
   "source": [
    "model2.plot_loss()"
   ]
  },
  {
   "cell_type": "code",
   "execution_count": null,
   "id": "d6f9fcb1-fc08-4c14-95c0-6f8bbd929162",
   "metadata": {},
   "outputs": [],
   "source": [
    "model2.animate_regression(X_train, y_train)"
   ]
  },
  {
   "cell_type": "markdown",
   "id": "53611f4da87fed9b",
   "metadata": {
    "jupyter": {
     "outputs_hidden": false
    }
   },
   "source": [
    "### 2. Ejemplo: Regresión Lineal con más de una variable predictora"
   ]
  },
  {
   "cell_type": "markdown",
   "id": "2b7ade25423b8cb7",
   "metadata": {
    "jupyter": {
     "outputs_hidden": false
    }
   },
   "source": [
    "Vamos a tratar de predecir el peso de los pingüinos según la longitud de su pico y la de su aleta, y su interacción:\n",
    "$$body\\_mass\\_g = b + w_0\\cdot bill\\_length\\_mm + w_1\\cdot flipper\\_length\\_mm + \n",
    "w_2\\cdot bill\\_length\\_mm\\cdot flipper\\_length\\_mm$$\n",
    "o, escrito con la notación de Wilkinson-Rogers: \n",
    "$$body\\_mass\\_g \\sim bill\\_length\\_mm*flipper\\_length\\_mm$$"
   ]
  },
  {
   "cell_type": "code",
   "execution_count": null,
   "id": "d8d615b636a44e9",
   "metadata": {
    "jupyter": {
     "outputs_hidden": false
    },
    "scrolled": true
   },
   "outputs": [],
   "source": [
    "# Cargamos el dataset\n",
    "penguins = sns.load_dataset('penguins')\n",
    "penguins.dropna(inplace=True)\n",
    "\n",
    "# Elegimos los features, separamos en entrenamiento y testeo y normalizamos\n",
    "X = penguins[['bill_length_mm', 'flipper_length_mm']]\n",
    "y = penguins['body_mass_g']\n",
    "X_train, X_test, y_train, y_test = train_test_split_scale_center(X, y, \n",
    "                                                                 transform_y=True,  # Normalizamos y también \n",
    "                                                                 center=False,      # No centramos los datos\n",
    "                                                                 test_size=0.2,     # 20% de los datos para testeo\n",
    "                                                                 random_state=11)   # Semilla para datos de testeo\n",
    "\n",
    "# Definimos la funcion del modelo\n",
    "f = lambda x, w, b: b + w[0]*x[:,0] + w[1]*x[:,1] + w[2]*x[:,0]*x[:,1] \n",
    "\n",
    "model3 = Regressor()\n",
    "\n",
    "# Volvamos a entrenar el modelo con pesos y bias iniciales aleatorios\n",
    "model3.add_f(f,                 # funcion del modelo\n",
    "            dim_w= 3,           # dimension de w\n",
    "            random_state=2077,  # semilla para selecciones aleatorias\n",
    "            opt='gd'            # Especificamos que usamos descenso por gradiente\n",
    "            )\n",
    "\n",
    "# Entrenamos el modelo con los conjuntos de entrenamiento\n",
    "model3.fit_(X_train, y_train,       # Conjuntos de entrenamiento \n",
    "           epochs=200,              # Cantidad de epocas\n",
    "           validation_split=0.2,    # 20% de datos para validacion\n",
    "           learning_rate=0.05)      # Learning rate inicial   "
   ]
  },
  {
   "cell_type": "code",
   "execution_count": null,
   "id": "7f36052aefac798c",
   "metadata": {
    "jupyter": {
     "outputs_hidden": false
    }
   },
   "outputs": [],
   "source": [
    "# Imprimimos pesos y bias obtenidos con el entrenamiento\n",
    "print(model3.weights_)\n",
    "print(model3.bias_)"
   ]
  },
  {
   "cell_type": "code",
   "execution_count": null,
   "id": "18ef6efd38f997af",
   "metadata": {
    "jupyter": {
     "outputs_hidden": false
    }
   },
   "outputs": [],
   "source": [
    "# Calculamos el MSE en el conjunto de testeo\n",
    "model3.evaluate(X_test.to_numpy(), y_test.to_numpy(),        # A TensorFlow no le gustan los DataFrame de pandas \n",
    "               return_dict=True,                            # Devuelve un diccionario (por si usamos mas de una métrica)\n",
    "               verbose=0,                                   # No imprima en pantalla el procedimiento de evaluación\n",
    "               batch_size=len(y_test))"
   ]
  },
  {
   "cell_type": "code",
   "execution_count": null,
   "id": "c641e823948985b8",
   "metadata": {
    "jupyter": {
     "outputs_hidden": false
    }
   },
   "outputs": [],
   "source": [
    "# Graficamos la evolución del MSE\n",
    "model3.plot_loss()"
   ]
  },
  {
   "cell_type": "markdown",
   "id": "e70ff51c0bed906c",
   "metadata": {
    "jupyter": {
     "outputs_hidden": false
    }
   },
   "source": [
    "### 3. Ejemplo: Regresión no lineal"
   ]
  },
  {
   "cell_type": "markdown",
   "id": "3f1d8f0ef3a6b95a",
   "metadata": {
    "jupyter": {
     "outputs_hidden": false
    }
   },
   "source": [
    "Vamos a realizar Regresión Logística para clasificar pingüinos según su especie (Gentoo o Chinstrap) a partir de su \n",
    "peso. "
   ]
  },
  {
   "cell_type": "code",
   "execution_count": null,
   "id": "6a54dffc733757d0",
   "metadata": {
    "jupyter": {
     "outputs_hidden": false
    }
   },
   "outputs": [],
   "source": [
    "# Nos quedamos solo con los pingüinos Gentoo o Chinstrap\n",
    "penguins_clasif = penguins[penguins['species'].isin(['Chinstrap', 'Gentoo'])]\n",
    "\n",
    "X = penguins_clasif['body_mass_g']\n",
    "y = penguins_clasif['species']\n",
    "\n",
    "# Transformamos y a un vector de 1's y 0's:\n",
    "y = y.apply(lambda t: 1*(t == 'Gentoo'))"
   ]
  },
  {
   "cell_type": "code",
   "execution_count": null,
   "id": "56e38a6ed8aefed7",
   "metadata": {
    "jupyter": {
     "outputs_hidden": false
    }
   },
   "outputs": [],
   "source": [
    "# Graficamos los pesos según la especie\n",
    "(\n",
    "    so.Plot()\n",
    "    .add(so.Dot(), x=X, y=y.iloc[::-1], color=penguins_clasif['species'])\n",
    ")"
   ]
  },
  {
   "cell_type": "code",
   "execution_count": null,
   "id": "929554d5653fd672",
   "metadata": {
    "jupyter": {
     "outputs_hidden": false
    }
   },
   "outputs": [],
   "source": [
    "# separamos en entrenamiento y testeo, normalizamos y centramos\n",
    "X_train, X_test, y_train, y_test = train_test_split_scale_center(X, y, \n",
    "                                                                 test_size=0.2,     # 20% de los datos para testeo\n",
    "                                                                 random_state=10)   # Semilla para datos de testeo\n",
    "\n",
    "# Definimos la funcion del modelo\n",
    "f = lambda x, w, b: 1 / (1 + np.e**(-(b + w*x)))\n",
    "\n",
    "model4 = Regressor()\n",
    "\n",
    "# Entrenamos el modelo proporcionándole pesos y bias iniciales\n",
    "model4.add_f(f,                  # funcion del modelo\n",
    "            w0 = 0,              # peso incial\n",
    "            b0 = 0,              # bias inicial\n",
    "            random_state=21,     # semilla para selecciones aleatorias\n",
    "            opt='gd'             # Especificamos que usamos descenso por gradiente\n",
    "            )\n",
    "\n",
    "# Entrenamos el modelo con los conjuntos de entrenamiento\n",
    "model4.fit_(X_train, y_train,       # Conjuntos de entrenamiento\n",
    "            classify=True,          # Indicamos que vamos a clasificar\n",
    "           epochs=50,              # Cantidad de epocas\n",
    "           validation_split=0.2,    # 20% de datos para validacion\n",
    "           learning_rate=0.5)       # Learning rate inicial  "
   ]
  },
  {
   "cell_type": "code",
   "execution_count": null,
   "id": "c374be229663bdb7",
   "metadata": {
    "jupyter": {
     "outputs_hidden": false
    }
   },
   "outputs": [],
   "source": [
    "# Imprimimos pesos y bias obtenidos con el entrenamiento\n",
    "print(model4.weights_)\n",
    "print(model4.bias_)"
   ]
  },
  {
   "cell_type": "code",
   "execution_count": null,
   "id": "ecbc62b9b4eb81d6",
   "metadata": {
    "jupyter": {
     "outputs_hidden": false
    }
   },
   "outputs": [],
   "source": [
    "# Calculamos el BCE en el conjunto de testeo\n",
    "model4.evaluate(X_test.to_numpy(), y_test.to_numpy(),       # A TensorFlow no le gustan los DataFrame de pandas \n",
    "               return_dict=True,                            # Devuelve un diccionario (por si usamos mas de una métrica)\n",
    "               verbose=0,                                   # No imprima en pantalla el procedimiento de evaluación\n",
    "               batch_size=len(y_test))"
   ]
  },
  {
   "cell_type": "code",
   "execution_count": null,
   "id": "283fc3183a15acb9",
   "metadata": {
    "jupyter": {
     "outputs_hidden": false
    }
   },
   "outputs": [],
   "source": [
    "# Graficamos la evolución del BCE\n",
    "model4.plot_loss()"
   ]
  },
  {
   "cell_type": "code",
   "execution_count": null,
   "id": "4fb342ff8419d56f",
   "metadata": {
    "jupyter": {
     "outputs_hidden": false
    }
   },
   "outputs": [],
   "source": [
    "# Calculamos la prediccion del modelo para X_test\n",
    "y_pred = (model4.predict(X_test, verbose=0, batch_size=len(y_test)).flatten() > 0.5).astype('int')\n",
    "y_pred"
   ]
  },
  {
   "cell_type": "code",
   "execution_count": null,
   "id": "6262a25cc6e5f668",
   "metadata": {
    "jupyter": {
     "outputs_hidden": false
    }
   },
   "outputs": [],
   "source": [
    "# Graficamos la clasificación\n",
    "(\n",
    "    so.Plot(x=X_test, y=y_test, color=y_pred)\n",
    "    .add(so.Dot())\n",
    "    .label(color='Clasificacion')\n",
    "    .scale(color={1: 'red', 0:'black'})\n",
    ")"
   ]
  },
  {
   "cell_type": "code",
   "execution_count": null,
   "id": "9179d1ee876713a2",
   "metadata": {
    "jupyter": {
     "outputs_hidden": false
    }
   },
   "outputs": [],
   "source": [
    "# Animamos la regresion resultante en cada época\n",
    "model4.animate_regression(X_train, y_train)"
   ]
  },
  {
   "cell_type": "markdown",
   "id": "bad8cdbec5474f07",
   "metadata": {
    "jupyter": {
     "outputs_hidden": false
    }
   },
   "source": [
    "### 4. Ejemplo: Descenso por Gradiente Estocástico "
   ]
  },
  {
   "cell_type": "markdown",
   "id": "6b6a977089e685b",
   "metadata": {
    "jupyter": {
     "outputs_hidden": false
    }
   },
   "source": [
    "Rehacemos la clasificación anterior, pero usando SGD"
   ]
  },
  {
   "cell_type": "code",
   "execution_count": null,
   "id": "a77debfc9b977c53",
   "metadata": {
    "jupyter": {
     "outputs_hidden": false
    }
   },
   "outputs": [],
   "source": [
    "# Definimos la funcion del modelo\n",
    "f = lambda x, w, b: 1 / (1 + np.e**(-(b + w*x)))\n",
    "\n",
    "model5 = Regressor()\n",
    "\n",
    "# Volvamos a entrenar el modelo, pero con SGD\n",
    "model5.add_f(f,                  # funcion del modelo\n",
    "            w0 = 0,              # peso incial\n",
    "            b0 = 0,              # bias inicial\n",
    "            random_state=21,     # semilla para selecciones aleatorias\n",
    "            )\n",
    "\n",
    "# Entrenamos el modelo con los conjuntos de entrenamiento\n",
    "model5.fit_(X_train, y_train,       # Conjuntos de entrenamiento\n",
    "            classify=True,          # Indicamos que vamos a clasificar\n",
    "            epochs=50,             # Cantidad de epocas\n",
    "            batch_size=1,           # tamaño del batch\n",
    "            validation_split=0.2,   # 20% de datos para validacion\n",
    "            learning_rate=0.5)      # Learning rate inicial "
   ]
  },
  {
   "cell_type": "code",
   "execution_count": null,
   "id": "4440182217a92356",
   "metadata": {
    "jupyter": {
     "outputs_hidden": false
    }
   },
   "outputs": [],
   "source": [
    "# Calculamos el BCE en el conjunto de testeo\n",
    "model5.evaluate(X_test.to_numpy(), y_test.to_numpy(),       # A TensorFlow no le gustan los DataFrame de pandas \n",
    "               return_dict=True,                            # Devuelve un diccionario (por si usamos mas de una métrica)\n",
    "               verbose=0,                                   # No imprima en pantalla el procedimiento de evaluación\n",
    "               batch_size=len(y_test))"
   ]
  },
  {
   "cell_type": "code",
   "execution_count": null,
   "id": "d0271ad1ae1da0f6",
   "metadata": {
    "jupyter": {
     "outputs_hidden": false
    }
   },
   "outputs": [],
   "source": [
    "# Comparado con el modelo de Descenso por Gradiente\n",
    "model4.evaluate(X_test.to_numpy(), y_test.to_numpy(),       # A TensorFlow no le gustan los DataFrame de pandas \n",
    "               return_dict=True,                            # Devuelve un diccionario (por si usamos mas de una métrica)\n",
    "               verbose=0,                                   # No imprima en pantalla el procedimiento de evaluación\n",
    "               batch_size=len(y_test))"
   ]
  },
  {
   "cell_type": "code",
   "execution_count": null,
   "id": "acfb92f85674442f",
   "metadata": {
    "jupyter": {
     "outputs_hidden": false
    }
   },
   "outputs": [],
   "source": [
    "# Graficamos la evolución del BCE\n",
    "model5.plot_loss()"
   ]
  },
  {
   "cell_type": "code",
   "execution_count": null,
   "id": "3ca28af39f673a09",
   "metadata": {
    "jupyter": {
     "outputs_hidden": false
    }
   },
   "outputs": [],
   "source": [
    "# Calculamos la prediccion del modelo para X_test y graficamos la clasificacion\n",
    "y_pred = (model5.predict(X_test, verbose=0, batch_size=len(y_test)).flatten() > 0.5).astype('int')\n",
    "(\n",
    "    so.Plot(x=X_test, y=y_test, color=y_pred)\n",
    "    .add(so.Dot())\n",
    "    .label(color='Clasificacion')\n",
    "    .scale(color={1: 'red', 0:'black'})\n",
    ")"
   ]
  },
  {
   "cell_type": "code",
   "execution_count": null,
   "id": "34be40926b99ce44",
   "metadata": {
    "jupyter": {
     "outputs_hidden": false
    }
   },
   "outputs": [],
   "source": [
    "# Animamos la regresion resultante en cada época\n",
    "model5.animate_regression(X_train, y_train)"
   ]
  },
  {
   "cell_type": "markdown",
   "id": "93ce34906a7dbe66",
   "metadata": {
    "jupyter": {
     "outputs_hidden": false
    }
   },
   "source": [
    "### 5. Extras"
   ]
  },
  {
   "cell_type": "markdown",
   "id": "f0c01a9fff55b542",
   "metadata": {
    "jupyter": {
     "outputs_hidden": false
    }
   },
   "source": [
    "#### 5.1 Learning Rate Schedule"
   ]
  },
  {
   "cell_type": "code",
   "execution_count": null,
   "id": "87fb58271a6eae61",
   "metadata": {
    "jupyter": {
     "outputs_hidden": false
    }
   },
   "outputs": [],
   "source": [
    "# Volvemos a trabajar con el dataset de pinguinos\n",
    "penguins = sns.load_dataset('penguins')\n",
    "penguins.dropna(inplace=True)\n",
    "\n",
    "# Elegimos los features, separamos en entrenamiento y testeo y normalizamos\n",
    "X = penguins[['bill_length_mm', 'flipper_length_mm']]\n",
    "y = penguins['body_mass_g']\n",
    "X_train, X_test, y_train, y_test = train_test_split_scale_center(X, y, \n",
    "                                                                 transform_y=True,  # Normalizamos y también \n",
    "                                                                 center=False,      # No centramos los datos\n",
    "                                                                 test_size=0.2,     # 20% de los datos para testeo\n",
    "                                                                 random_state=10)   # Semilla para datos de testeo\n",
    "\n",
    "# Definimos la funcion del modelo\n",
    "f = lambda x, w, b: b + w[0]*x[:,0] + w[1]*x[:,1] + w[2]*x[:,0]*x[:,1] "
   ]
  },
  {
   "cell_type": "code",
   "execution_count": null,
   "id": "6006cf6ae623cf8",
   "metadata": {
    "jupyter": {
     "outputs_hidden": false
    }
   },
   "outputs": [],
   "source": [
    "# Consideramos el modelo con learning rate constante 0.05\n",
    "model_no_schedule = Regressor()\n",
    "\n",
    "# Inicializamos el modelo con pesos y bias iniciales aleatorios\n",
    "model_no_schedule.add_f(f,                  # funcion del modelo\n",
    "            dim_w= 3,           # dimension de w\n",
    "            random_state=2077,  # semilla para selecciones aleatorias\n",
    "            )\n",
    "\n",
    "# Entrenamos el modelo con los conjuntos de entrenamiento\n",
    "model_no_schedule.fit_(X_train, y_train,        # Conjuntos de entrenamiento\n",
    "           epochs=200,              # Cantidad de epocas\n",
    "           validation_split=0.2,    # 20% de datos para validacion\n",
    "            batch_size = 6,\n",
    "            verbose=0\n",
    "            )\n",
    "\n",
    "# Calculamos el error en el conjunto de testeo\n",
    "model_no_schedule.evaluate(X_test.to_numpy(), y_test.to_numpy(),        # A TensorFlow no le gustan los DataFrame de pandas\n",
    "               return_dict=True,                            # Devuelve un diccionario (por si usamos mas de una métrica)\n",
    "               verbose=0,                                   # No imprima en pantalla el procedimiento de evaluación\n",
    "               batch_size=len(y_test))"
   ]
  },
  {
   "cell_type": "code",
   "execution_count": null,
   "id": "8d1b2adb6eb56ec5",
   "metadata": {
    "jupyter": {
     "outputs_hidden": false
    }
   },
   "outputs": [],
   "source": [
    "# Lo mismo pero con learning rate variable\n",
    "model_with_schedule = Regressor()\n",
    "\n",
    "# Definimos una funcion que disminuya el learning rate a medida que aumentan las epocas\n",
    "def schedule(epoch, learning_rate):\n",
    "    if epoch <= 10:\n",
    "        return learning_rate\n",
    "    else:\n",
    "        return learning_rate * (0.95 ** ((epoch + 1) % 10 == 0))\n",
    "\n",
    "\n",
    "# Inicializamos el modelo con pesos y bias iniciales aleatorios\n",
    "model_with_schedule.add_f(f,      # funcion del modelo\n",
    "            dim_w= 3,           # dimension de w\n",
    "            random_state=2077,  # semilla para selecciones aleatorias\n",
    "            )\n",
    "\n",
    "# Entrenamos el modelo con los conjuntos de entrenamiento\n",
    "model_with_schedule.fit_(X_train, y_train,        # Conjuntos de entrenamiento\n",
    "           epochs=200,              # Cantidad de epocas\n",
    "           validation_split=0.2,    # 20% de datos para validacion\n",
    "           learning_rate=0.1,      # Learning rate inicial\n",
    "            lr_scheduler=schedule,  # Agregamos la funcion de schedule\n",
    "            batch_size = 6,\n",
    "            )\n",
    "\n",
    "# Calculamos el error en el conjunto de testeo\n",
    "model_with_schedule.evaluate(X_test.to_numpy(), y_test.to_numpy(),        # A TensorFlow no le gustan los DataFrame de pandas\n",
    "               return_dict=True,                            # Devuelve un diccionario (por si usamos mas de una métrica)\n",
    "               verbose=0,                                   # No imprima en pantalla el procedimiento de evaluación\n",
    "               batch_size=len(y_test))"
   ]
  },
  {
   "cell_type": "markdown",
   "id": "cbaa95e407afcbff",
   "metadata": {
    "jupyter": {
     "outputs_hidden": false
    }
   },
   "source": [
    "#### 5.2 Early Stopping"
   ]
  },
  {
   "cell_type": "code",
   "execution_count": null,
   "id": "6e71cea9f0554c97",
   "metadata": {
    "jupyter": {
     "outputs_hidden": false
    }
   },
   "outputs": [],
   "source": [
    "# Agregamos ahora early stopping para que el entrenamiento pare si el MSE no mejora en varias epocas\n",
    "model_with_schedule_and_es = Regressor()\n",
    "\n",
    "# Inicializamos el modelo con pesos y bias iniciales aleatorios\n",
    "model_with_schedule_and_es.add_f(f,      # funcion del modelo\n",
    "            dim_w= 3,           # dimension de w\n",
    "            random_state=2077,  # semilla para selecciones aleatorias\n",
    "            )\n",
    "\n",
    "# Entrenamos el modelo con los conjuntos de entrenamiento\n",
    "model_with_schedule_and_es.fit_(X_train, y_train,        # Conjuntos de entrenamiento\n",
    "           epochs=200,              # Cantidad de epocas\n",
    "           validation_split=0.2,    # 20% de datos para validacion\n",
    "           learning_rate=0.1,      # Learning rate inicial\n",
    "            lr_scheduler=schedule,  # Agregamos la funcion de schedule\n",
    "            batch_size = 6,\n",
    "            early_stopping=True,     # Activamos el early stopping\n",
    "            start_from_epoch=50,    # Entra en funcionamiento a partir de la epoca 50\n",
    "            patience=30,            # Si en 30 epocas el MSE no mejora, para\n",
    "            )\n",
    "\n",
    "# Calculamos el error en el conjunto de testeo\n",
    "model_with_schedule_and_es.evaluate(X_test.to_numpy(), y_test.to_numpy(),        # A TensorFlow no le gustan los DataFrame de pandas\n",
    "               return_dict=True,                            # Devuelve un diccionario (por si usamos mas de una métrica)\n",
    "               verbose=0,                                   # No imprima en pantalla el procedimiento de evaluación\n",
    "               batch_size=len(y_test))"
   ]
  },
  {
   "cell_type": "markdown",
   "id": "5cb3d658b02a33e5",
   "metadata": {
    "jupyter": {
     "outputs_hidden": false
    }
   },
   "source": [
    "### 6. Comparación con resolución matricial"
   ]
  },
  {
   "cell_type": "code",
   "execution_count": null,
   "id": "e404e4a9aa00bd79",
   "metadata": {
    "jupyter": {
     "outputs_hidden": false
    }
   },
   "outputs": [],
   "source": [
    "import tensorflow as tf\n",
    "\n",
    "# Ahora con SGD\n",
    "model = Regressor()\n",
    "# f = lambda x, w, b: b + sum(w[i] * x[:, i] for i in range(len(w)))\n",
    "f = lambda x, w, b: b + tf.linalg.matvec(x,w)\n",
    "model.add_f(f,\n",
    "           w0=np.zeros(mega_X_train.shape[1]),\n",
    "           b0=0,\n",
    "           random_state=21\n",
    ")\n",
    "\n",
    "start = time()\n",
    "model.fit_(mega_X_train, mega_y_train,\n",
    "           batch_size=100,\n",
    "           epochs=200,             # Cantidad de epocas\n",
    "           verbose=0,              # No imprime progreso\n",
    "           clipnorm=2,             # Normaliza el gradiente\n",
    "           validation_split=0.2)   # 20% de datos para validacion)\n",
    "\n",
    "tiempo_SGD = time() - start\n",
    "print('Tiempo total de entrenamiento: ', tiempo_SGD)\n",
    "\n",
    "loss_dict = model.evaluate(mega_X_test.to_numpy(), mega_y_test.to_numpy(),   # A TensorFlow no le gustan los\n",
    "                           # DataFrame de\n",
    "                           # pandas\n",
    "               return_dict=True,                            # Devuelve un diccionario (por si usamos mas de una métrica)\n",
    "               verbose=0,                                   # No imprima en pantalla el procedimiento de evaluación\n",
    "               batch_size=len(mega_y_test))\n",
    "mse_SGD = loss_dict['loss']\n",
    "print('MSE en conjunto de testeo: ', mse_SGD)"
   ]
  },
  {
   "cell_type": "code",
   "execution_count": null,
   "id": "8427005a67c321a4",
   "metadata": {
    "jupyter": {
     "outputs_hidden": false
    }
   },
   "outputs": [],
   "source": [
    "print('Tiempo total de entrenamiento: ', tiempo_matricial)\n",
    "print('MSE en conjunto de testeo: ', mse_matricial)"
   ]
  },
  {
   "cell_type": "code",
   "execution_count": null,
   "id": "de0b910b-e6c4-4d18-82d4-2f332b62ee01",
   "metadata": {},
   "outputs": [],
   "source": [
    "print(f'En {100*(tiempo_SGD / tiempo_matricial):.2f}% de tiempo, SGD obtuvo una solucion con {100*(mse_SGD / mse_matricial-1):.2f}% mas error cuadratico medio')"
   ]
  },
  {
   "cell_type": "markdown",
   "id": "6870bd39-ab7e-4aad-b789-a2ca3722628d",
   "metadata": {},
   "source": [
    "### 7. Incluyendo `formulaic`"
   ]
  },
  {
   "cell_type": "markdown",
   "id": "cf9650f9-c37d-4db8-a94b-e0d05c2956ac",
   "metadata": {},
   "source": [
    "A veces podríamos querer usar `formulaic` para modelos **lineales** más complejos. Como ejemplo, supongamos que queremos aproximar el precio de un inmueble con un modelo de la forma:\n",
    "$$precio = b + w_1e^{superficie} + w_2\\,zona$$\n",
    "\n",
    "Para esto nos vendría bien usar `formulaic`"
   ]
  },
  {
   "cell_type": "code",
   "execution_count": null,
   "id": "c8d306db-441b-4a42-a22b-eba95d305140",
   "metadata": {},
   "outputs": [],
   "source": [
    "# Cargamos el dataset\n",
    "data = pd.read_csv('inmuebles.csv')\n",
    "\n",
    "# Transformamos los datos segun la formula (le dejamos el intercept a LinearRegression o a Regressor)\n",
    "y, X = Formula('precio~np.exp(superficie)+zona-1').get_model_matrix(data)\n",
    "\n",
    "# Normalizamos los datos (no los centramos para no alterar las variables dummy) y dividimos en entrenamiento y testeo\n",
    "X_train, X_test, y_train, y_test = train_test_split_scale_center(X, y,\n",
    "                                                                 transform_y=True,  # Normalizamos y también\n",
    "                                                                 center=False,      # No centramos los datos\n",
    "                                                                 test_size=0.2,     # 20% de los datos para testeo\n",
    "                                                                 random_state=11)   # Semilla para datos de testeo"
   ]
  },
  {
   "cell_type": "markdown",
   "id": "0815025d-8fbc-4c58-8a43-01acf9f330af",
   "metadata": {},
   "source": [
    "#### 7.1 Con `LinearRegression` de `scikit-learn`"
   ]
  },
  {
   "cell_type": "code",
   "execution_count": null,
   "id": "6d636a3d-4027-4fa8-933c-d87be98fcd3f",
   "metadata": {},
   "outputs": [],
   "source": [
    "# Hacemos la regresion con los datos transformados\n",
    "model = linear_model.LinearRegression()\n",
    "model.fit(X_train, y_train)\n",
    "\n",
    "# Calculamos el error cuadratico medio\n",
    "mean_squared_error(y_test, model.predict(X_test))"
   ]
  },
  {
   "cell_type": "markdown",
   "id": "3dcfb6b6-53de-4283-be3b-d6e98a4549fa",
   "metadata": {},
   "source": [
    "#### 7.2 Con `Regressor` de `tf_regressor`"
   ]
  },
  {
   "cell_type": "code",
   "execution_count": null,
   "id": "32145537-8b72-47fe-bf1f-776637006bfd",
   "metadata": {},
   "outputs": [],
   "source": [
    "# Escribimos la funcion del modelo, teniendo en cuenta a que corresponde cada columna de X_train:\n",
    "# Columna 0: e^superficie\n",
    "# Columnas 1 a 3: variables dummy para 'zona'\n",
    "f = lambda x, w, b: b + w[0]*x[:,0] + w[1]*x[:,1] + w[2]*x[:,2] + w[3]*x[:,3]\n",
    "\n",
    "model = Regressor()\n",
    "\n",
    "model.add_f(f,                  # funcion del modelo\n",
    "            w0=np.zeros(4),     # Vector inicial de 0's de longitud 4\n",
    "            b0=0,\n",
    "            random_state=21,\n",
    "            )\n",
    "\n",
    "# Entrenamos el modelo con los conjuntos de entrenamiento\n",
    "model.fit_(X_train, y_train,\n",
    "           epochs=200,\n",
    "           validation_split=0.2,\n",
    "           learning_rate=0.05,\n",
    "           batch_size=5,\n",
    "           verbose=0)\n",
    "\n",
    "model.evaluate(X_test.to_numpy(), y_test.to_numpy(),\n",
    "               return_dict=True,\n",
    "               verbose=0,\n",
    "               batch_size=len(y_test))"
   ]
  }
 ],
 "metadata": {
  "kernelspec": {
   "display_name": "Python 3 (ipykernel)",
   "language": "python",
   "name": "python3"
  },
  "language_info": {
   "codemirror_mode": {
    "name": "ipython",
    "version": 3
   },
   "file_extension": ".py",
   "mimetype": "text/x-python",
   "name": "python",
   "nbconvert_exporter": "python",
   "pygments_lexer": "ipython3",
   "version": "3.9.6"
  }
 },
 "nbformat": 4,
 "nbformat_minor": 5
}
