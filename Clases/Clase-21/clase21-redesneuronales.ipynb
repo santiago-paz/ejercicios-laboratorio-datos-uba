{
 "cells": [
  {
   "cell_type": "markdown",
   "id": "bffbceea848b271a",
   "metadata": {
    "collapsed": false,
    "jupyter": {
     "outputs_hidden": false
    }
   },
   "source": [
    "Instalar las siguientes librerias y reiniciar el kernel"
   ]
  },
  {
   "cell_type": "code",
   "execution_count": 86,
   "id": "a46a78762195e2f8",
   "metadata": {
    "collapsed": false,
    "jupyter": {
     "outputs_hidden": false
    }
   },
   "outputs": [
    {
     "name": "stdout",
     "output_type": "stream",
     "text": [
      "Defaulting to user installation because normal site-packages is not writeable\n",
      "Requirement already satisfied: tensorflow in /Users/santiagop/Library/Python/3.9/lib/python/site-packages (2.16.1)\n",
      "Requirement already satisfied: grpcio<2.0,>=1.24.3 in /Users/santiagop/Library/Python/3.9/lib/python/site-packages (from tensorflow) (1.64.1)\n",
      "Requirement already satisfied: absl-py>=1.0.0 in /Users/santiagop/Library/Python/3.9/lib/python/site-packages (from tensorflow) (2.1.0)\n",
      "Requirement already satisfied: h5py>=3.10.0 in /Users/santiagop/Library/Python/3.9/lib/python/site-packages (from tensorflow) (3.11.0)\n",
      "Requirement already satisfied: wrapt>=1.11.0 in /Users/santiagop/Library/Python/3.9/lib/python/site-packages (from tensorflow) (1.16.0)\n",
      "Requirement already satisfied: six>=1.12.0 in /Library/Developer/CommandLineTools/Library/Frameworks/Python3.framework/Versions/3.9/lib/python3.9/site-packages (from tensorflow) (1.15.0)\n",
      "Requirement already satisfied: typing-extensions>=3.6.6 in /Users/santiagop/Library/Python/3.9/lib/python/site-packages (from tensorflow) (4.10.0)\n",
      "Requirement already satisfied: astunparse>=1.6.0 in /Users/santiagop/Library/Python/3.9/lib/python/site-packages (from tensorflow) (1.6.3)\n",
      "Requirement already satisfied: gast!=0.5.0,!=0.5.1,!=0.5.2,>=0.2.1 in /Users/santiagop/Library/Python/3.9/lib/python/site-packages (from tensorflow) (0.5.4)\n",
      "Requirement already satisfied: ml-dtypes~=0.3.1 in /Users/santiagop/Library/Python/3.9/lib/python/site-packages (from tensorflow) (0.3.2)\n",
      "Requirement already satisfied: termcolor>=1.1.0 in /Users/santiagop/Library/Python/3.9/lib/python/site-packages (from tensorflow) (2.4.0)\n",
      "Requirement already satisfied: flatbuffers>=23.5.26 in /Users/santiagop/Library/Python/3.9/lib/python/site-packages (from tensorflow) (24.3.25)\n",
      "Requirement already satisfied: requests<3,>=2.21.0 in /Users/santiagop/Library/Python/3.9/lib/python/site-packages (from tensorflow) (2.32.3)\n",
      "Requirement already satisfied: tensorboard<2.17,>=2.16 in /Users/santiagop/Library/Python/3.9/lib/python/site-packages (from tensorflow) (2.16.2)\n",
      "Requirement already satisfied: tensorflow-io-gcs-filesystem>=0.23.1 in /Users/santiagop/Library/Python/3.9/lib/python/site-packages (from tensorflow) (0.37.0)\n",
      "Requirement already satisfied: numpy<2.0.0,>=1.23.5 in /Users/santiagop/Library/Python/3.9/lib/python/site-packages (from tensorflow) (1.26.4)\n",
      "Requirement already satisfied: libclang>=13.0.0 in /Users/santiagop/Library/Python/3.9/lib/python/site-packages (from tensorflow) (18.1.1)\n",
      "Requirement already satisfied: setuptools in /Library/Developer/CommandLineTools/Library/Frameworks/Python3.framework/Versions/3.9/lib/python3.9/site-packages (from tensorflow) (58.0.4)\n",
      "Requirement already satisfied: opt-einsum>=2.3.2 in /Users/santiagop/Library/Python/3.9/lib/python/site-packages (from tensorflow) (3.3.0)\n",
      "Requirement already satisfied: packaging in /Users/santiagop/Library/Python/3.9/lib/python/site-packages (from tensorflow) (24.0)\n",
      "Requirement already satisfied: protobuf!=4.21.0,!=4.21.1,!=4.21.2,!=4.21.3,!=4.21.4,!=4.21.5,<5.0.0dev,>=3.20.3 in /Users/santiagop/Library/Python/3.9/lib/python/site-packages (from tensorflow) (4.25.3)\n",
      "Requirement already satisfied: keras>=3.0.0 in /Users/santiagop/Library/Python/3.9/lib/python/site-packages (from tensorflow) (3.3.3)\n",
      "Requirement already satisfied: google-pasta>=0.1.1 in /Users/santiagop/Library/Python/3.9/lib/python/site-packages (from tensorflow) (0.2.0)\n",
      "Requirement already satisfied: wheel<1.0,>=0.23.0 in /Library/Developer/CommandLineTools/Library/Frameworks/Python3.framework/Versions/3.9/lib/python3.9/site-packages (from astunparse>=1.6.0->tensorflow) (0.37.0)\n",
      "Requirement already satisfied: namex in /Users/santiagop/Library/Python/3.9/lib/python/site-packages (from keras>=3.0.0->tensorflow) (0.0.8)\n",
      "Requirement already satisfied: rich in /Users/santiagop/Library/Python/3.9/lib/python/site-packages (from keras>=3.0.0->tensorflow) (13.7.1)\n",
      "Requirement already satisfied: optree in /Users/santiagop/Library/Python/3.9/lib/python/site-packages (from keras>=3.0.0->tensorflow) (0.11.0)\n",
      "Requirement already satisfied: charset-normalizer<4,>=2 in /Users/santiagop/Library/Python/3.9/lib/python/site-packages (from requests<3,>=2.21.0->tensorflow) (3.3.2)\n",
      "Requirement already satisfied: idna<4,>=2.5 in /Users/santiagop/Library/Python/3.9/lib/python/site-packages (from requests<3,>=2.21.0->tensorflow) (3.7)\n",
      "Requirement already satisfied: certifi>=2017.4.17 in /Users/santiagop/Library/Python/3.9/lib/python/site-packages (from requests<3,>=2.21.0->tensorflow) (2024.6.2)\n",
      "Requirement already satisfied: urllib3<3,>=1.21.1 in /Users/santiagop/Library/Python/3.9/lib/python/site-packages (from requests<3,>=2.21.0->tensorflow) (2.2.1)\n",
      "Requirement already satisfied: markdown>=2.6.8 in /Users/santiagop/Library/Python/3.9/lib/python/site-packages (from tensorboard<2.17,>=2.16->tensorflow) (3.6)\n",
      "Requirement already satisfied: werkzeug>=1.0.1 in /Users/santiagop/Library/Python/3.9/lib/python/site-packages (from tensorboard<2.17,>=2.16->tensorflow) (3.0.3)\n",
      "Requirement already satisfied: tensorboard-data-server<0.8.0,>=0.7.0 in /Users/santiagop/Library/Python/3.9/lib/python/site-packages (from tensorboard<2.17,>=2.16->tensorflow) (0.7.2)\n",
      "Requirement already satisfied: importlib-metadata>=4.4 in /Users/santiagop/Library/Python/3.9/lib/python/site-packages (from markdown>=2.6.8->tensorboard<2.17,>=2.16->tensorflow) (7.0.2)\n",
      "Requirement already satisfied: zipp>=0.5 in /Users/santiagop/Library/Python/3.9/lib/python/site-packages (from importlib-metadata>=4.4->markdown>=2.6.8->tensorboard<2.17,>=2.16->tensorflow) (3.18.1)\n",
      "Requirement already satisfied: MarkupSafe>=2.1.1 in /Users/santiagop/Library/Python/3.9/lib/python/site-packages (from werkzeug>=1.0.1->tensorboard<2.17,>=2.16->tensorflow) (2.1.5)\n",
      "Requirement already satisfied: markdown-it-py>=2.2.0 in /Users/santiagop/Library/Python/3.9/lib/python/site-packages (from rich->keras>=3.0.0->tensorflow) (3.0.0)\n",
      "Requirement already satisfied: pygments<3.0.0,>=2.13.0 in /Users/santiagop/Library/Python/3.9/lib/python/site-packages (from rich->keras>=3.0.0->tensorflow) (2.17.2)\n",
      "Requirement already satisfied: mdurl~=0.1 in /Users/santiagop/Library/Python/3.9/lib/python/site-packages (from markdown-it-py>=2.2.0->rich->keras>=3.0.0->tensorflow) (0.1.2)\n",
      "\u001b[33mWARNING: You are using pip version 21.2.4; however, version 24.0 is available.\n",
      "You should consider upgrading via the '/Library/Developer/CommandLineTools/usr/bin/python3 -m pip install --upgrade pip' command.\u001b[0m\n",
      "Note: you may need to restart the kernel to use updated packages.\n",
      "Defaulting to user installation because normal site-packages is not writeable\n",
      "Requirement already satisfied: keras in /Users/santiagop/Library/Python/3.9/lib/python/site-packages (3.3.3)\n",
      "Requirement already satisfied: ml-dtypes in /Users/santiagop/Library/Python/3.9/lib/python/site-packages (from keras) (0.3.2)\n",
      "Requirement already satisfied: optree in /Users/santiagop/Library/Python/3.9/lib/python/site-packages (from keras) (0.11.0)\n",
      "Requirement already satisfied: absl-py in /Users/santiagop/Library/Python/3.9/lib/python/site-packages (from keras) (2.1.0)\n",
      "Requirement already satisfied: h5py in /Users/santiagop/Library/Python/3.9/lib/python/site-packages (from keras) (3.11.0)\n",
      "Requirement already satisfied: numpy in /Users/santiagop/Library/Python/3.9/lib/python/site-packages (from keras) (1.26.4)\n",
      "Requirement already satisfied: rich in /Users/santiagop/Library/Python/3.9/lib/python/site-packages (from keras) (13.7.1)\n",
      "Requirement already satisfied: namex in /Users/santiagop/Library/Python/3.9/lib/python/site-packages (from keras) (0.0.8)\n",
      "Requirement already satisfied: typing-extensions>=4.0.0 in /Users/santiagop/Library/Python/3.9/lib/python/site-packages (from optree->keras) (4.10.0)\n",
      "Requirement already satisfied: markdown-it-py>=2.2.0 in /Users/santiagop/Library/Python/3.9/lib/python/site-packages (from rich->keras) (3.0.0)\n",
      "Requirement already satisfied: pygments<3.0.0,>=2.13.0 in /Users/santiagop/Library/Python/3.9/lib/python/site-packages (from rich->keras) (2.17.2)\n",
      "Requirement already satisfied: mdurl~=0.1 in /Users/santiagop/Library/Python/3.9/lib/python/site-packages (from markdown-it-py>=2.2.0->rich->keras) (0.1.2)\n",
      "\u001b[33mWARNING: You are using pip version 21.2.4; however, version 24.0 is available.\n",
      "You should consider upgrading via the '/Library/Developer/CommandLineTools/usr/bin/python3 -m pip install --upgrade pip' command.\u001b[0m\n",
      "Note: you may need to restart the kernel to use updated packages.\n",
      "Defaulting to user installation because normal site-packages is not writeable\n",
      "Requirement already satisfied: keras in /Users/santiagop/Library/Python/3.9/lib/python/site-packages (3.3.3)\n",
      "Requirement already satisfied: h5py in /Users/santiagop/Library/Python/3.9/lib/python/site-packages (from keras) (3.11.0)\n",
      "Requirement already satisfied: namex in /Users/santiagop/Library/Python/3.9/lib/python/site-packages (from keras) (0.0.8)\n",
      "Requirement already satisfied: ml-dtypes in /Users/santiagop/Library/Python/3.9/lib/python/site-packages (from keras) (0.3.2)\n",
      "Requirement already satisfied: optree in /Users/santiagop/Library/Python/3.9/lib/python/site-packages (from keras) (0.11.0)\n",
      "Requirement already satisfied: numpy in /Users/santiagop/Library/Python/3.9/lib/python/site-packages (from keras) (1.26.4)\n",
      "Requirement already satisfied: absl-py in /Users/santiagop/Library/Python/3.9/lib/python/site-packages (from keras) (2.1.0)\n",
      "Requirement already satisfied: rich in /Users/santiagop/Library/Python/3.9/lib/python/site-packages (from keras) (13.7.1)\n",
      "Requirement already satisfied: typing-extensions>=4.0.0 in /Users/santiagop/Library/Python/3.9/lib/python/site-packages (from optree->keras) (4.10.0)\n",
      "Requirement already satisfied: markdown-it-py>=2.2.0 in /Users/santiagop/Library/Python/3.9/lib/python/site-packages (from rich->keras) (3.0.0)\n",
      "Requirement already satisfied: pygments<3.0.0,>=2.13.0 in /Users/santiagop/Library/Python/3.9/lib/python/site-packages (from rich->keras) (2.17.2)\n",
      "Requirement already satisfied: mdurl~=0.1 in /Users/santiagop/Library/Python/3.9/lib/python/site-packages (from markdown-it-py>=2.2.0->rich->keras) (0.1.2)\n",
      "\u001b[33mWARNING: You are using pip version 21.2.4; however, version 24.0 is available.\n",
      "You should consider upgrading via the '/Library/Developer/CommandLineTools/usr/bin/python3 -m pip install --upgrade pip' command.\u001b[0m\n",
      "Note: you may need to restart the kernel to use updated packages.\n",
      "Defaulting to user installation because normal site-packages is not writeable\n",
      "Requirement already satisfied: ipympl in /Users/santiagop/Library/Python/3.9/lib/python/site-packages (0.9.4)\n",
      "Requirement already satisfied: matplotlib<4,>=3.4.0 in /Users/santiagop/Library/Python/3.9/lib/python/site-packages (from ipympl) (3.8.3)\n",
      "Requirement already satisfied: ipython<9 in /Users/santiagop/Library/Python/3.9/lib/python/site-packages (from ipympl) (8.18.1)\n",
      "Requirement already satisfied: traitlets<6 in /Users/santiagop/Library/Python/3.9/lib/python/site-packages (from ipympl) (5.14.2)\n",
      "Requirement already satisfied: ipywidgets<9,>=7.6.0 in /Users/santiagop/Library/Python/3.9/lib/python/site-packages (from ipympl) (8.1.3)\n",
      "Requirement already satisfied: ipython-genutils in /Users/santiagop/Library/Python/3.9/lib/python/site-packages (from ipympl) (0.2.0)\n",
      "Requirement already satisfied: numpy in /Users/santiagop/Library/Python/3.9/lib/python/site-packages (from ipympl) (1.26.4)\n",
      "Requirement already satisfied: pillow in /Users/santiagop/Library/Python/3.9/lib/python/site-packages (from ipympl) (10.2.0)\n",
      "Requirement already satisfied: exceptiongroup in /Users/santiagop/Library/Python/3.9/lib/python/site-packages (from ipython<9->ipympl) (1.2.0)\n",
      "Requirement already satisfied: pexpect>4.3 in /Users/santiagop/Library/Python/3.9/lib/python/site-packages (from ipython<9->ipympl) (4.9.0)\n",
      "Requirement already satisfied: pygments>=2.4.0 in /Users/santiagop/Library/Python/3.9/lib/python/site-packages (from ipython<9->ipympl) (2.17.2)\n",
      "Requirement already satisfied: jedi>=0.16 in /Users/santiagop/Library/Python/3.9/lib/python/site-packages (from ipython<9->ipympl) (0.19.1)\n",
      "Requirement already satisfied: typing-extensions in /Users/santiagop/Library/Python/3.9/lib/python/site-packages (from ipython<9->ipympl) (4.10.0)\n",
      "Requirement already satisfied: stack-data in /Users/santiagop/Library/Python/3.9/lib/python/site-packages (from ipython<9->ipympl) (0.6.3)\n",
      "Requirement already satisfied: matplotlib-inline in /Users/santiagop/Library/Python/3.9/lib/python/site-packages (from ipython<9->ipympl) (0.1.6)\n",
      "Requirement already satisfied: decorator in /Users/santiagop/Library/Python/3.9/lib/python/site-packages (from ipython<9->ipympl) (5.1.1)\n",
      "Requirement already satisfied: prompt-toolkit<3.1.0,>=3.0.41 in /Users/santiagop/Library/Python/3.9/lib/python/site-packages (from ipython<9->ipympl) (3.0.43)\n",
      "Requirement already satisfied: widgetsnbextension~=4.0.11 in /Users/santiagop/Library/Python/3.9/lib/python/site-packages (from ipywidgets<9,>=7.6.0->ipympl) (4.0.11)\n",
      "Requirement already satisfied: jupyterlab-widgets~=3.0.11 in /Users/santiagop/Library/Python/3.9/lib/python/site-packages (from ipywidgets<9,>=7.6.0->ipympl) (3.0.11)\n",
      "Requirement already satisfied: comm>=0.1.3 in /Users/santiagop/Library/Python/3.9/lib/python/site-packages (from ipywidgets<9,>=7.6.0->ipympl) (0.2.2)\n",
      "Requirement already satisfied: parso<0.9.0,>=0.8.3 in /Users/santiagop/Library/Python/3.9/lib/python/site-packages (from jedi>=0.16->ipython<9->ipympl) (0.8.3)\n",
      "Requirement already satisfied: packaging>=20.0 in /Users/santiagop/Library/Python/3.9/lib/python/site-packages (from matplotlib<4,>=3.4.0->ipympl) (24.0)\n",
      "Requirement already satisfied: python-dateutil>=2.7 in /Users/santiagop/Library/Python/3.9/lib/python/site-packages (from matplotlib<4,>=3.4.0->ipympl) (2.9.0.post0)\n",
      "Requirement already satisfied: fonttools>=4.22.0 in /Users/santiagop/Library/Python/3.9/lib/python/site-packages (from matplotlib<4,>=3.4.0->ipympl) (4.50.0)\n",
      "Requirement already satisfied: cycler>=0.10 in /Users/santiagop/Library/Python/3.9/lib/python/site-packages (from matplotlib<4,>=3.4.0->ipympl) (0.12.1)\n",
      "Requirement already satisfied: pyparsing>=2.3.1 in /Users/santiagop/Library/Python/3.9/lib/python/site-packages (from matplotlib<4,>=3.4.0->ipympl) (3.1.2)\n",
      "Requirement already satisfied: kiwisolver>=1.3.1 in /Users/santiagop/Library/Python/3.9/lib/python/site-packages (from matplotlib<4,>=3.4.0->ipympl) (1.4.5)\n",
      "Requirement already satisfied: importlib-resources>=3.2.0 in /Users/santiagop/Library/Python/3.9/lib/python/site-packages (from matplotlib<4,>=3.4.0->ipympl) (6.3.2)\n",
      "Requirement already satisfied: contourpy>=1.0.1 in /Users/santiagop/Library/Python/3.9/lib/python/site-packages (from matplotlib<4,>=3.4.0->ipympl) (1.2.0)\n",
      "Requirement already satisfied: zipp>=3.1.0 in /Users/santiagop/Library/Python/3.9/lib/python/site-packages (from importlib-resources>=3.2.0->matplotlib<4,>=3.4.0->ipympl) (3.18.1)\n",
      "Requirement already satisfied: ptyprocess>=0.5 in /Users/santiagop/Library/Python/3.9/lib/python/site-packages (from pexpect>4.3->ipython<9->ipympl) (0.7.0)\n",
      "Requirement already satisfied: wcwidth in /Users/santiagop/Library/Python/3.9/lib/python/site-packages (from prompt-toolkit<3.1.0,>=3.0.41->ipython<9->ipympl) (0.2.13)\n",
      "Requirement already satisfied: six>=1.5 in /Library/Developer/CommandLineTools/Library/Frameworks/Python3.framework/Versions/3.9/lib/python3.9/site-packages (from python-dateutil>=2.7->matplotlib<4,>=3.4.0->ipympl) (1.15.0)\n",
      "Requirement already satisfied: pure-eval in /Users/santiagop/Library/Python/3.9/lib/python/site-packages (from stack-data->ipython<9->ipympl) (0.2.2)\n",
      "Requirement already satisfied: asttokens>=2.1.0 in /Users/santiagop/Library/Python/3.9/lib/python/site-packages (from stack-data->ipython<9->ipympl) (2.4.1)\n",
      "Requirement already satisfied: executing>=1.2.0 in /Users/santiagop/Library/Python/3.9/lib/python/site-packages (from stack-data->ipython<9->ipympl) (2.0.1)\n",
      "\u001b[33mWARNING: You are using pip version 21.2.4; however, version 24.0 is available.\n",
      "You should consider upgrading via the '/Library/Developer/CommandLineTools/usr/bin/python3 -m pip install --upgrade pip' command.\u001b[0m\n",
      "Note: you may need to restart the kernel to use updated packages.\n"
     ]
    }
   ],
   "source": [
    "%pip install tensorflow\n",
    "%pip install keras\n",
    "%pip install --upgrade keras\n",
    "%pip install ipympl"
   ]
  },
  {
   "cell_type": "code",
   "execution_count": 87,
   "id": "initial_id",
   "metadata": {
    "ExecuteTime": {
     "end_time": "2024-06-05T19:52:04.505051642Z",
     "start_time": "2024-06-05T19:52:04.359994601Z"
    },
    "collapsed": false,
    "jupyter": {
     "outputs_hidden": false
    }
   },
   "outputs": [],
   "source": [
    "import logging\n",
    "import os\n",
    "import keras\n",
    "import numpy as np\n",
    "import pandas as pd\n",
    "import seaborn as sns\n",
    "import seaborn.objects as so\n",
    "from tf_regressor import train_test_split_scale_center\n",
    "\n",
    "# Estas dos lineas son para silenciar las advertencias de TensorFlow\n",
    "os.environ['TF_CPP_MIN_LOG_LEVEL'] = '2'\n",
    "logging.getLogger('tensorflow').setLevel(logging.ERROR)"
   ]
  },
  {
   "cell_type": "markdown",
   "id": "7c48a6ff68493b1f",
   "metadata": {
    "collapsed": false,
    "jupyter": {
     "outputs_hidden": false
    }
   },
   "source": [
    "# Redes Neuronales\n",
    "\n",
    "### Laboratorio de Datos, IC - FCEN - UBA - 1er. Cuatrimestre 2024"
   ]
  },
  {
   "cell_type": "markdown",
   "id": "d040c0eba6ca5a15",
   "metadata": {
    "collapsed": false,
    "jupyter": {
     "outputs_hidden": false
    }
   },
   "source": [
    "### 1. Perceptrón Simple : clasificación binaria "
   ]
  },
  {
   "cell_type": "markdown",
   "id": "797d53b60f58a291",
   "metadata": {
    "collapsed": false,
    "jupyter": {
     "outputs_hidden": false
    }
   },
   "source": [
    "Armaremos una red neuronal para predecir si una persona tiene o no diabetes a partir de 8 caracteristicas:\n",
    "- Embarazos\n",
    "- Glucosa\n",
    "- Presión sanguínea\n",
    "- Grosor de la piel\n",
    "- Insulina\n",
    "- Indice de masa corporal (BMI)\n",
    "- Antecedentes familiares\n",
    "- Edad\n",
    "\n",
    "Como se trata de un problema de clasificación, la función de activación será la función sigmoidea."
   ]
  },
  {
   "cell_type": "code",
   "execution_count": 88,
   "id": "63d742cb2aaedb22",
   "metadata": {
    "ExecuteTime": {
     "end_time": "2024-06-05T21:05:01.383917661Z",
     "start_time": "2024-06-05T21:05:01.231659915Z"
    },
    "collapsed": false,
    "jupyter": {
     "outputs_hidden": false
    }
   },
   "outputs": [],
   "source": [
    "# Cargamos el dataset y descartamos las observaciones con campos faltantes\n",
    "data = pd.read_csv('../../Datos/diabetes.csv')\n",
    "data.dropna(inplace=True)\n",
    "\n",
    "# Definimos las variables.\n",
    "X = data.drop('Outcome', axis=1)    # Queremos todas las columnas salvo Outcome\n",
    "y = data['Outcome']\n",
    "\n",
    "# Escalamos y centramos X, definimos conjuntos de entrenamiento y testeo\n",
    "X_train, X_test, y_train, y_test = train_test_split_scale_center(X, y, test_size=0.2, random_state=42)"
   ]
  },
  {
   "cell_type": "code",
   "execution_count": 107,
   "id": "418a7928075910ab",
   "metadata": {
    "ExecuteTime": {
     "end_time": "2024-06-05T21:15:09.658320003Z",
     "start_time": "2024-06-05T21:15:09.509538183Z"
    },
    "collapsed": false,
    "jupyter": {
     "outputs_hidden": false
    }
   },
   "outputs": [
    {
     "data": {
      "text/plain": [
       "8"
      ]
     },
     "execution_count": 107,
     "metadata": {},
     "output_type": "execute_result"
    }
   ],
   "source": [
    "# En pro de la reproducibilidad, especificamos la semilla para keras\n",
    "keras.utils.set_random_seed(11)\n",
    "\n",
    "# Paso 1: iniciamos el modelo indicando la arquitectura de la red\n",
    "model = keras.Sequential([\n",
    "    keras.layers.Input(shape=(8,)),             # Capa de input: indicamos que el input tiene dimension 8\n",
    "    keras.layers.Dense(1,                       # Capa de output: el output tiene dimension 1 (clasificacion binaria)\n",
    "                       activation='sigmoid')    # y su funcion de activacion es la sigmoidea.\n",
    "])"
   ]
  },
  {
   "cell_type": "code",
   "execution_count": 90,
   "id": "f4af5565341e9f5f",
   "metadata": {
    "ExecuteTime": {
     "end_time": "2024-06-05T21:15:11.435440743Z",
     "start_time": "2024-06-05T21:15:11.423990243Z"
    },
    "collapsed": false,
    "jupyter": {
     "outputs_hidden": false
    }
   },
   "outputs": [],
   "source": [
    "# Paso 2: configuramos el optimizador: usaremos Descenso por Gradiente Estocástico con learning rate constante 0.5\n",
    "# Documentacion SGD : https://keras.io/api/optimizers/sgd/\n",
    "optimizer = keras.optimizers.SGD(learning_rate=0.5)"
   ]
  },
  {
   "cell_type": "code",
   "execution_count": 106,
   "id": "9d33af6cd31d6bc0",
   "metadata": {
    "ExecuteTime": {
     "end_time": "2024-06-05T21:15:12.424543484Z",
     "start_time": "2024-06-05T21:15:12.357762289Z"
    },
    "collapsed": false,
    "jupyter": {
     "outputs_hidden": false
    }
   },
   "outputs": [],
   "source": [
    "# Paso 3: construimos el modelo\n",
    "model.compile(\n",
    "    optimizer=optimizer,            # Optimizador a utilizar\n",
    "    loss='binary_crossentropy',     # Funcion de perdida para clasificacion binaria\n",
    "    metrics=['accuracy',            # Metricas a registrar durante el entrenamiento\n",
    "             'false_negatives']\n",
    ")"
   ]
  },
  {
   "cell_type": "code",
   "execution_count": 92,
   "id": "e42ed777432320d2",
   "metadata": {
    "ExecuteTime": {
     "end_time": "2024-06-05T21:15:24.194765765Z",
     "start_time": "2024-06-05T21:15:13.456094403Z"
    },
    "collapsed": false,
    "jupyter": {
     "outputs_hidden": false
    }
   },
   "outputs": [],
   "source": [
    "# Paso 4: entrenamiento del modelo.\n",
    "# model.fit devuelve un objeto History que guarda la evolucion del valor de la funcion de perdida y de las metricas\n",
    "# luego de cada epoca.\n",
    "hist = model.fit(X_train.to_numpy(), y_train.to_numpy(),    # Ingresamos los datos de entrenamiento\n",
    "                 epochs=150,                                # Especificamos la cantidad de épocas\n",
    "                 batch_size=20,                             # Especificamos el tamaño del batch\n",
    "                 validation_split=0.2,                      # 20% de datos para validación\n",
    "                 verbose=0,                                 # Opcional, para que no muestre el proceso de entrenamiento.\n",
    "                 )"
   ]
  },
  {
   "cell_type": "code",
   "execution_count": 93,
   "id": "2ec1d7598bfea241",
   "metadata": {
    "ExecuteTime": {
     "end_time": "2024-06-05T21:15:24.255290741Z",
     "start_time": "2024-06-05T21:15:24.238340245Z"
    },
    "collapsed": false,
    "jupyter": {
     "outputs_hidden": false
    }
   },
   "outputs": [
    {
     "data": {
      "text/plain": [
       "{'accuracy': 0.7727272510528564,\n",
       " 'false_negatives': 20.0,\n",
       " 'loss': 0.5191484689712524}"
      ]
     },
     "execution_count": 93,
     "metadata": {},
     "output_type": "execute_result"
    }
   ],
   "source": [
    "# Paso 5: calculamos el error en el conjunto de testeo\n",
    "model.evaluate(X_test.to_numpy(), y_test.to_numpy(),\n",
    "               verbose=0,\n",
    "               batch_size=len(y_test),\n",
    "               return_dict=True\n",
    "               )"
   ]
  },
  {
   "cell_type": "code",
   "execution_count": 94,
   "id": "3de25e3f9e1933ec",
   "metadata": {
    "ExecuteTime": {
     "end_time": "2024-06-05T21:15:35.211204353Z",
     "start_time": "2024-06-05T21:15:35.204323012Z"
    },
    "collapsed": false,
    "jupyter": {
     "outputs_hidden": false
    }
   },
   "outputs": [],
   "source": [
    "# Armamos una funcion para graficar el error a través de las épocas\n",
    "def graficar_error(history, error_name):\n",
    "    x_arr = np.array(history.epoch)    # en el atributo epoch, history guarda una lista de epocas\n",
    "    plot = (\n",
    "        so.Plot()\n",
    "        .add(so.Line(color='blue'), x=x_arr, y=history.history[error_name], label='Entrenamiento')\n",
    "        .add(so.Line(color='orange'), x=x_arr, y=history.history[f'val_{error_name}'], label='Validacion')\n",
    "        .label(title=error_name)\n",
    "    )\n",
    "    plot.show()"
   ]
  },
  {
   "cell_type": "code",
   "execution_count": 95,
   "id": "6a8f15746a4d07d1",
   "metadata": {
    "ExecuteTime": {
     "end_time": "2024-06-05T21:15:55.931426831Z",
     "start_time": "2024-06-05T21:15:55.595902809Z"
    },
    "collapsed": false,
    "jupyter": {
     "outputs_hidden": false
    }
   },
   "outputs": [
    {
     "data": {
      "image/png": "[encoded data removed]",
      "text/plain": [
       "<Figure size 640x480 with 1 Axes>"
      ]
     },
     "metadata": {},
     "output_type": "display_data"
    }
   ],
   "source": [
    "graficar_error(hist, 'accuracy')"
   ]
  },
  {
   "cell_type": "markdown",
   "id": "a481c42cd70caf9f",
   "metadata": {
    "collapsed": false,
    "jupyter": {
     "outputs_hidden": false
    }
   },
   "source": [
    "Analizando los pesos, podemos interpretar qué factor es más influyente en el diagnóstico de diabetes"
   ]
  },
  {
   "cell_type": "code",
   "execution_count": 96,
   "id": "53f2ee87b78f81cd",
   "metadata": {
    "ExecuteTime": {
     "end_time": "2024-06-05T21:12:55.821329917Z",
     "start_time": "2024-06-05T21:12:55.570998229Z"
    },
    "collapsed": false,
    "jupyter": {
     "outputs_hidden": false
    }
   },
   "outputs": [
    {
     "data": {
      "text/plain": [
       "Pregnancies      0.724379\n",
       "Glucose          7.082782\n",
       "BloodPressure   -1.280861\n",
       "SkinThickness    0.430450\n",
       "Insulin         -2.261587\n",
       "BMI              6.150246\n",
       "Pedigree         1.656113\n",
       "Age              2.329280\n",
       "Name: Peso en la RN, dtype: float32"
      ]
     },
     "execution_count": 96,
     "metadata": {},
     "output_type": "execute_result"
    }
   ],
   "source": [
    "# Aqui se guardan los pesos en la primera coordenada y el bias en la segunda\n",
    "model.weights\n",
    "\n",
    "# Recuperamos los pesos:\n",
    "weights = model.weights[0].numpy().flatten()\n",
    "\n",
    "# Armamos una Serie para simplificar el análisis\n",
    "pd.Series(weights, index=X_train.columns, name='Peso en la RN')"
   ]
  },
  {
   "cell_type": "markdown",
   "id": "7022857dbea647e2",
   "metadata": {
    "collapsed": false,
    "jupyter": {
     "outputs_hidden": false
    }
   },
   "source": [
    "### 2. Perceptrón Simple : clasificación en más de dos categorías"
   ]
  },
  {
   "cell_type": "markdown",
   "id": "47336c8dd9947ff0",
   "metadata": {
    "collapsed": false,
    "jupyter": {
     "outputs_hidden": false
    }
   },
   "source": [
    "Ahora, dadas las cuatro características de los pingüinos (peso, longitud de aleta y profundidad y longitud del pico), \n",
    "intentaremos predecir de qué especie es (Adelie, Chinstrap o Gentoo)."
   ]
  },
  {
   "cell_type": "code",
   "execution_count": 97,
   "id": "15f35d70ab4f52ee",
   "metadata": {
    "ExecuteTime": {
     "end_time": "2024-06-05T21:48:11.673020629Z",
     "start_time": "2024-06-05T21:48:11.657058189Z"
    },
    "collapsed": false,
    "jupyter": {
     "outputs_hidden": false
    }
   },
   "outputs": [],
   "source": [
    "# Cargamos el dataset y descartamos las observaciones con campos faltantes\n",
    "penguins = sns.load_dataset('penguins')\n",
    "penguins.dropna(inplace=True)\n",
    "\n",
    "# Como en el dataset los pinguinos estan ordenados por especie, estaria bueno mezclar el DataFrame\n",
    "penguins = penguins.sample(len(penguins))\n",
    "\n",
    "# Definimos las variables.\n",
    "X = penguins[['bill_length_mm', 'flipper_length_mm', 'bill_depth_mm', 'body_mass_g']]\n",
    "# Armamos una Serie las etiquetas: 0 corresponde a Gentoo, 1 corresponde a Adelie, 2 corresponde a Chinstrap\n",
    "y = penguins['species'].apply(lambda x: 1*(x == 'Adelie') + 2*(x == 'Chinstrap'))    \n",
    "\n",
    "# Escalamos y centramos X, definimos conjuntos de entrenamiento y testeo\n",
    "X_train, X_test, y_train, y_test = train_test_split_scale_center(X, y, test_size=0.2, random_state=21)"
   ]
  },
  {
   "cell_type": "code",
   "execution_count": 98,
   "id": "c35e365ed79cf36a",
   "metadata": {
    "ExecuteTime": {
     "end_time": "2024-06-05T21:48:17.613735924Z",
     "start_time": "2024-06-05T21:48:13.856584907Z"
    },
    "collapsed": false,
    "jupyter": {
     "outputs_hidden": false
    }
   },
   "outputs": [
    {
     "data": {
      "text/plain": [
       "{'accuracy': 0.9552238583564758, 'loss': 0.09110856056213379}"
      ]
     },
     "execution_count": 98,
     "metadata": {},
     "output_type": "execute_result"
    }
   ],
   "source": [
    "keras.utils.set_random_seed(11)\n",
    "\n",
    "# Paso 1: iniciamos el modelo indicando la arquitectura de la red\n",
    "model = keras.Sequential([\n",
    "    keras.layers.Input(shape=(4,)),             # Capa de input: indicamos que el input tiene dimension 4\n",
    "    keras.layers.Dense(3,                       # Capa de output: el output tiene dimension 3 (una neurona para cada especie)\n",
    "                       activation='sigmoid')    # y su funcion de activacion es la sigmoidea.\n",
    "])\n",
    "\n",
    "# Paso 2: configuramos el optimizador\n",
    "optimizer = keras.optimizers.SGD(learning_rate=0.5)\n",
    "\n",
    "# Paso 3: construimos el modelo\n",
    "model.compile(\n",
    "    optimizer=optimizer,                        \n",
    "    loss='sparse_categorical_crossentropy',     # Funcion de perdida para clasificacion con mas de dos categorias\n",
    "    metrics=['accuracy']                        \n",
    ")\n",
    "\n",
    "# Paso 4: entrenamiento del modelo. \n",
    "hist = model.fit(X_train.to_numpy(), y_train.to_numpy(),    \n",
    "                 epochs=150,                                 \n",
    "                 batch_size=20,                             \n",
    "                 validation_split=0.2,                      \n",
    "                 verbose=0,                                 \n",
    "                 )\n",
    "\n",
    "# Paso 5: calculamos el error en el conjunto de testeo\n",
    "model.evaluate(X_test.to_numpy(), y_test.to_numpy(),\n",
    "               verbose=0,\n",
    "               batch_size=len(y_test),\n",
    "               return_dict=True\n",
    "               )"
   ]
  },
  {
   "cell_type": "code",
   "execution_count": 99,
   "id": "54fe16fa9c99a6ad",
   "metadata": {
    "ExecuteTime": {
     "end_time": "2024-06-05T21:48:17.929130201Z",
     "start_time": "2024-06-05T21:48:17.620012292Z"
    },
    "collapsed": false,
    "jupyter": {
     "outputs_hidden": false
    }
   },
   "outputs": [
    {
     "data": {
      "image/png": "[encoded data removed]",
      "text/plain": [
       "<Figure size 640x480 with 1 Axes>"
      ]
     },
     "metadata": {},
     "output_type": "display_data"
    }
   ],
   "source": [
    "# Graficamos la evolucion de la precision de la clasficiacion\n",
    "graficar_error(hist, 'accuracy')"
   ]
  },
  {
   "cell_type": "markdown",
   "id": "d25599f3dc9b0a13",
   "metadata": {
    "collapsed": false,
    "jupyter": {
     "outputs_hidden": false
    }
   },
   "source": [
    "### 3. Perceptrón Multicapa"
   ]
  },
  {
   "cell_type": "code",
   "execution_count": 100,
   "id": "98db6bc8224958d3",
   "metadata": {
    "ExecuteTime": {
     "end_time": "2024-06-05T22:29:24.144782734Z",
     "start_time": "2024-06-05T22:29:23.921652064Z"
    },
    "collapsed": false,
    "jupyter": {
     "outputs_hidden": false
    }
   },
   "outputs": [
    {
     "data": {
      "text/plain": [
       "FDC_ID                0\n",
       "Item                  0\n",
       "Category              0\n",
       "Calorias_kcal         0\n",
       "Proteinas_g           0\n",
       "Carbohidratos_g       0\n",
       "GrasaTotal_g          0\n",
       "Colesterol_mg       399\n",
       "Fibra_g             562\n",
       "Agua_g                0\n",
       "Alcohol_g          2394\n",
       "VitaminaC_mg        461\n",
       "dtype: int64"
      ]
     },
     "execution_count": 100,
     "metadata": {},
     "output_type": "execute_result"
    }
   ],
   "source": [
    "data = pd.read_csv('../../Datos/nutrition.csv')\n",
    "data.isna().sum()"
   ]
  },
  {
   "cell_type": "code",
   "execution_count": 101,
   "id": "7395eb34-2c56-4496-a12a-411d4ac58324",
   "metadata": {},
   "outputs": [
    {
     "data": {
      "text/plain": [
       "(7793, 12)"
      ]
     },
     "execution_count": 101,
     "metadata": {},
     "output_type": "execute_result"
    }
   ],
   "source": [
    "data.shape"
   ]
  },
  {
   "cell_type": "code",
   "execution_count": 102,
   "id": "3e3ecfc4966388a6",
   "metadata": {
    "ExecuteTime": {
     "end_time": "2024-06-05T22:34:50.620026530Z",
     "start_time": "2024-06-05T22:34:50.603797462Z"
    },
    "collapsed": false,
    "jupyter": {
     "outputs_hidden": false
    }
   },
   "outputs": [
    {
     "data": {
      "text/plain": [
       "Index(['FDC_ID', 'Item', 'Category', 'Calorias_kcal', 'Proteinas_g',\n",
       "       'Carbohidratos_g', 'GrasaTotal_g', 'Colesterol_mg', 'Fibra_g', 'Agua_g',\n",
       "       'Alcohol_g', 'VitaminaC_mg'],\n",
       "      dtype='object')"
      ]
     },
     "execution_count": 102,
     "metadata": {},
     "output_type": "execute_result"
    }
   ],
   "source": [
    "data.dropna(inplace=True)\n",
    "data.columns"
   ]
  },
  {
   "cell_type": "code",
   "execution_count": 103,
   "id": "6096dbe5aaf6faf2",
   "metadata": {
    "ExecuteTime": {
     "end_time": "2024-06-05T22:52:36.295043322Z",
     "start_time": "2024-06-05T22:52:36.170765785Z"
    },
    "collapsed": false,
    "jupyter": {
     "outputs_hidden": false
    }
   },
   "outputs": [],
   "source": [
    "X = data.drop(columns=['FDC_ID', 'Item', 'Category', 'Calorias_kcal'])\n",
    "y = data['Calorias_kcal']\n",
    "\n",
    "# Escalamos y centramos X, definimos conjuntos de entrenamiento y testeo\n",
    "X_train, X_test, y_train, y_test = train_test_split_scale_center(X, y, transform_y=True, test_size=0.2, random_state=21)"
   ]
  },
  {
   "cell_type": "code",
   "execution_count": 104,
   "id": "2517a12def2fe070",
   "metadata": {
    "ExecuteTime": {
     "end_time": "2024-06-05T22:53:07.921509495Z",
     "start_time": "2024-06-05T22:52:58.871540549Z"
    },
    "collapsed": false,
    "jupyter": {
     "outputs_hidden": false
    }
   },
   "outputs": [
    {
     "data": {
      "text/plain": [
       "{'loss': 0.0011638907017186284}"
      ]
     },
     "execution_count": 104,
     "metadata": {},
     "output_type": "execute_result"
    }
   ],
   "source": [
    "keras.utils.set_random_seed(11)\n",
    "\n",
    "# Paso 1: iniciamos el modelo indicando la arquitectura de la red\n",
    "model = keras.Sequential([\n",
    "    keras.layers.Input(shape=(X_train.shape[1],)), \n",
    "    keras.layers.Dense(4,                       \n",
    "                       activation='sigmoid'),\n",
    "    keras.layers.Dense(1,                       \n",
    "                       activation='sigmoid')    \n",
    "])\n",
    "\n",
    "# Paso 2: configuramos el optimizador\n",
    "optimizer = keras.optimizers.SGD(learning_rate=0.5)\n",
    "\n",
    "# Paso 3: construimos el modelo\n",
    "model.compile(\n",
    "    optimizer=optimizer,                        \n",
    "    loss='mean_squared_error',                    \n",
    ")\n",
    "\n",
    "# Paso 4: entrenamiento del modelo. \n",
    "hist = model.fit(X_train.to_numpy(), y_train.to_numpy(),    \n",
    "                 epochs=100,                                 \n",
    "                 batch_size=20,                             \n",
    "                 validation_split=0.2,                      \n",
    "                 verbose=0,                                 \n",
    "                 )\n",
    "\n",
    "# Paso 5: calculamos el error en el conjunto de testeo\n",
    "model.evaluate(X_test.to_numpy(), y_test.to_numpy(),\n",
    "               verbose=0,\n",
    "               batch_size=len(y_test),\n",
    "               return_dict=True\n",
    "               )"
   ]
  },
  {
   "cell_type": "code",
   "execution_count": 105,
   "id": "adec92465f1d6238",
   "metadata": {
    "ExecuteTime": {
     "end_time": "2024-06-05T22:53:18.684348754Z",
     "start_time": "2024-06-05T22:53:18.340356290Z"
    },
    "collapsed": false,
    "jupyter": {
     "outputs_hidden": false
    }
   },
   "outputs": [
    {
     "data": {
      "image/png": "[encoded data removed]",
      "text/plain": [
       "<Figure size 640x480 with 1 Axes>"
      ]
     },
     "metadata": {},
     "output_type": "display_data"
    }
   ],
   "source": [
    "graficar_error(hist, 'loss')"
   ]
  }
 ],
 "metadata": {
  "kernelspec": {
   "display_name": "Python 3 (ipykernel)",
   "language": "python",
   "name": "python3"
  },
  "language_info": {
   "codemirror_mode": {
    "name": "ipython",
    "version": 3
   },
   "file_extension": ".py",
   "mimetype": "text/x-python",
   "name": "python",
   "nbconvert_exporter": "python",
   "pygments_lexer": "ipython3",
   "version": "3.9.6"
  }
 },
 "nbformat": 4,
 "nbformat_minor": 5
}
