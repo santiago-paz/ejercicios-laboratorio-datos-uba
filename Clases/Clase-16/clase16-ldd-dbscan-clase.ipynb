{
 "cells": [
  {
   "cell_type": "markdown",
   "metadata": {},
   "source": [
    "### Algoritmo DBSCAN de clustering\n",
    "\n",
    "#### Utilizamos primero el comando DBSCAN del paquete sklearn.cluster\n"
   ]
  },
  {
   "cell_type": "code",
   "execution_count": null,
   "metadata": {},
   "outputs": [],
   "source": [
    "import scipy\n",
    "import numpy as np\n",
    "import pandas as pd\n",
    "import seaborn as sns\n",
    "import seaborn.objects as so\n",
    "\n",
    "# Para clustering\n",
    "from sklearn.datasets import make_blobs\n",
    "from sklearn.datasets import make_circles\n",
    "from sklearn.preprocessing import StandardScaler \n",
    "from sklearn.cluster import KMeans\n",
    "from sklearn.cluster import DBSCAN\n"
   ]
  },
  {
   "cell_type": "code",
   "execution_count": null,
   "metadata": {},
   "outputs": [],
   "source": [
    "# Tomamos nubes aleatorias y graficamos los puntos.\n",
    "X, v = make_blobs(n_samples=60, centers=4, cluster_std=0.60, random_state=0)\n",
    "datos = pd.DataFrame(X)\n",
    "datos.columns = [\"x\", \"y\"]\n",
    "datos.head()"
   ]
  },
  {
   "cell_type": "code",
   "execution_count": null,
   "metadata": {},
   "outputs": [],
   "source": [
    "# El método Text nos permite incorporar texto a los nodos, es otro canal que podemos usar para codificar información.\n",
    "# Podemos usarla para el número de nodo o para identificar el cluster.\n",
    "\n",
    "(\n",
    "    so.Plot(x = X[:,0], y = X[:,1], text = datos.index)\n",
    "    .add(so.Dot())\n",
    "    .add(so.Text(valign=\"bottom\"))\n",
    "    .limit(x=(-5, 6), y=(-1, 10))\n",
    "    .layout(size=(6, 6))  # Conviene graficar en un cuadrado para ver correctamente las distancias\n",
    ")"
   ]
  },
  {
   "cell_type": "code",
   "execution_count": null,
   "metadata": {},
   "outputs": [],
   "source": [
    "# Elegimos eps mas chico que la distancia que vemos entre clusters.\n",
    "# Elegimos min_samples según la densidad de puntos (¿cuántos puntos tienen a distancia menor que eps los puntos del cluster?)\n",
    "clustering = DBSCAN(eps=???, min_samples=???)\n",
    "etiqueta = clustering.fit_predict(X)\n",
    "print(etiqueta)"
   ]
  },
  {
   "cell_type": "code",
   "execution_count": null,
   "metadata": {},
   "outputs": [],
   "source": [
    "# Graficamos\n",
    "(\n",
    "    so.Plot(x = X[:,0], y = X[:,1], color = etiqueta.astype(\"str\"), text = v.astype(\"str\"))\n",
    "    .add(so.Dot())\n",
    "    .add(so.Text(valign=\"bottom\"))\n",
    "    #.layout(size=(4, 4))\n",
    ")"
   ]
  },
  {
   "cell_type": "markdown",
   "metadata": {},
   "source": [
    "En el último gráfico, ¿cuáles puntos fueron marcados como outliers? \n",
    "\n",
    "Fuera de los outliers, ¿quedó algún punto marcado incorrectamente?"
   ]
  },
  {
   "cell_type": "markdown",
   "metadata": {},
   "source": [
    "Veamos ahora un ejemplo para el cual $k$-medias no resulta adecuado."
   ]
  },
  {
   "cell_type": "code",
   "execution_count": null,
   "metadata": {},
   "outputs": [],
   "source": [
    "X, labels_true = make_circles(n_samples=1000, factor=0.5, noise=0.05, random_state = 42)\n",
    "X = StandardScaler().fit_transform(X)\n",
    "\n",
    "datos = pd.DataFrame(X)\n",
    "datos.columns = [\"x\", \"y\"]\n",
    "datos"
   ]
  },
  {
   "cell_type": "code",
   "execution_count": null,
   "metadata": {},
   "outputs": [],
   "source": [
    "# Graficamos\n",
    "(\n",
    "    so.Plot(data = datos, x = \"x\", y = \"y\")\n",
    "    .add(so.Dot())\n",
    ")"
   ]
  },
  {
   "cell_type": "code",
   "execution_count": null,
   "metadata": {},
   "outputs": [],
   "source": [
    "# Elegimos eps mas chico que la distancia que vemos entre clusters.\n",
    "# Elegimos min_samples según la densidad de puntos (¿cuántos puntos tienen a distancia menor que eps los puntos del cluster?)\n",
    "clustering = DBSCAN(eps=???, min_samples=???)\n",
    "etiqueta = clustering.fit_predict(datos)\n",
    "\n",
    "# Graficamos\n",
    "(\n",
    "    so.Plot(data = datos, x = \"x\", y = \"y\", color = etiqueta.astype(\"str\"))\n",
    "    .add(so.Dot())\n",
    ")"
   ]
  },
  {
   "cell_type": "markdown",
   "metadata": {},
   "source": [
    "Repetir para el siguiente ejemplo."
   ]
  },
  {
   "cell_type": "code",
   "execution_count": null,
   "metadata": {},
   "outputs": [],
   "source": [
    "X, labels_true = make_circles(n_samples=1000, factor=0.3, noise=0.1, random_state = 5)\n",
    "X = StandardScaler().fit_transform(X)   # Centramos los datos\n",
    "\n",
    "datos = pd.DataFrame(X)\n",
    "datos.columns = [\"x\", \"y\"]\n",
    "datos\n",
    "\n",
    "# Graficamos\n",
    "(\n",
    "    so.Plot(data = datos, x = \"x\", y = \"y\")\n",
    "    .add(so.Dot())\n",
    ")"
   ]
  },
  {
   "cell_type": "code",
   "execution_count": null,
   "metadata": {},
   "outputs": [],
   "source": [
    "# Elegimos eps mas chico que la distancia que vemos entre clusters.\n",
    "# Elegimos min_samples según la densidad de puntos (¿cuántos puntos tienen a distancia menor que eps los puntos del cluster?)\n",
    "clustering = DBSCAN(eps=???, min_samples=???)\n",
    "etiqueta = clustering.fit_predict(datos)\n",
    "\n",
    "# Graficamos\n",
    "(\n",
    "    so.Plot(data = datos, x = \"x\", y = \"y\", color = etiqueta.astype(\"str\"))\n",
    "    .add(so.Dot())\n",
    ")"
   ]
  },
  {
   "cell_type": "markdown",
   "metadata": {},
   "source": [
    "## Funciones útiles para la implementación del algoritmo\n",
    "\n",
    "Implementar el algoritmo completo queda como ejercicio.\n",
    "\n",
    "Vamos a implementar solo algunos funciones que pueden usarse para programar el algoritmo completo."
   ]
  },
  {
   "cell_type": "markdown",
   "metadata": {},
   "source": [
    "**Ejercicio 1**\n",
    "\n",
    "1. Implementar una función que dado un conjunto de puntos (en un DataFrame), el índice de uno de los puntos y un radio eps, nos devuelva los índices de los puntos vecinos.\n",
    "2. Aplicar la función al siguiente ejemplo para calcular los vecinos del punto 999.\n",
    "3. Graficar todos los puntos, pintando de un color distinto los puntos hallados en el punto 2.\n",
    "\n",
    "La salida de la función debe ser tipo \"set\" (conjunto), que permite fácilmente incorporar nuevos elementos al conjunto sin repetir."
   ]
  },
  {
   "cell_type": "code",
   "execution_count": null,
   "metadata": {},
   "outputs": [],
   "source": [
    "# Datos\n",
    "X, labels_true = make_circles(n_samples=1000, factor=0.5, noise=0.05, random_state = 42)\n",
    "X = StandardScaler().fit_transform(X)\n",
    "\n",
    "datos = pd.DataFrame(X)\n",
    "datos.columns = [\"x\", \"y\"]\n",
    "\n",
    "# Graficamos\n",
    "(\n",
    "    so.Plot(data = datos, x = \"x\", y = \"y\")\n",
    "    .add(so.Dot())\n",
    ")"
   ]
  },
  {
   "cell_type": "code",
   "execution_count": null,
   "metadata": {},
   "outputs": [],
   "source": [
    "# Pintamos el punto 999\n",
    "ind = 999\n",
    "etiquetas = np.zeros(len(datos))\n",
    "etiquetas[ind] = 1\n",
    "\n",
    "(\n",
    "    so.Plot(data = datos, x = \"x\", y = \"y\", color = etiquetas.astype(\"str\"))\n",
    "    .add(so.Dot())\n",
    ")"
   ]
  },
  {
   "cell_type": "code",
   "execution_count": null,
   "metadata": {},
   "outputs": [],
   "source": [
    "def obtener_vecinos(datos, ind_punto, eps):\n",
    "    punto = datos.iloc[ind_punto]\n",
    "    dist = np.sqrt(np.sum((datos-punto)**2, axis = 1))  # Lo vimos la clase pasada\n",
    "    vecinos = ???\n",
    "    return(vecinos)\n"
   ]
  },
  {
   "cell_type": "code",
   "execution_count": null,
   "metadata": {},
   "outputs": [],
   "source": [
    "cjto = obtener_vecinos(datos, ind, 0.1)\n",
    "print(cjto)"
   ]
  },
  {
   "cell_type": "markdown",
   "metadata": {},
   "source": [
    "### Tipo de datos set"
   ]
  },
  {
   "cell_type": "code",
   "execution_count": null,
   "metadata": {},
   "outputs": [],
   "source": [
    "A = {1, 2, 3, 5, 1, 4}\n",
    "A"
   ]
  },
  {
   "cell_type": "code",
   "execution_count": null,
   "metadata": {},
   "outputs": [],
   "source": [
    "A.update({2,3,100})\n",
    "A"
   ]
  },
  {
   "cell_type": "markdown",
   "metadata": {},
   "source": [
    "### Volvemos"
   ]
  },
  {
   "cell_type": "code",
   "execution_count": null,
   "metadata": {},
   "outputs": [],
   "source": [
    "# Graficamos\n",
    "etiquetas = np.zeros(len(datos))\n",
    "etiquetas[list(cjto)] = 1\n",
    "\n",
    "(\n",
    "    so.Plot(data = datos, x = \"x\", y = \"y\", color = etiquetas.astype(\"str\"))\n",
    "    .add(so.Dot())\n",
    ")"
   ]
  },
  {
   "cell_type": "markdown",
   "metadata": {},
   "source": [
    "**Ejercicio 2**\n",
    "\n",
    "1. Implementar una función que dado un conjunto de puntos (en un DataFrame), un vector de etiquetas correspondientes a clusters y la etiqueta de algún cluster, agregue al cluster todos los puntos directamente alcanzables desde algún punto central del cluster.\n",
    "2. Aplicar la función al ejemplo del ejercicio anterior.\n",
    "3. Graficar todos los puntos, pintando de un color distinto los puntos hallados en el punto 2.\n",
    "\n",
    "Repetir los puntos 2 y 3 un par de veces y observar como crece el cluster. Qué faltaría para poder encontrar el cluster completo?"
   ]
  },
  {
   "cell_type": "code",
   "execution_count": null,
   "metadata": {},
   "outputs": [],
   "source": [
    "def extender_cluster(datos, etiquetas, cluster, eps, minPts):\n",
    "    indices_cluster = ???\n",
    "    for ind in indices_cluster:\n",
    "        ???\n",
    "\n",
    "    print(\"Puntos en el cluster: \", np.sum(etiquetas == cluster))\n",
    "    return(etiquetas)            "
   ]
  },
  {
   "cell_type": "code",
   "execution_count": null,
   "metadata": {},
   "outputs": [],
   "source": [
    "# Pintamos el punto 999\n",
    "ind = 999\n",
    "etiquetas = np.zeros(len(datos))\n",
    "etiquetas[ind] = 1\n",
    "\n",
    "eps = 0.3\n",
    "minPts = 5"
   ]
  },
  {
   "cell_type": "code",
   "execution_count": null,
   "metadata": {},
   "outputs": [],
   "source": [
    "etiquetas = extender_cluster(datos, etiquetas, etiquetas[ind], eps, minPts)\n",
    "(\n",
    "    so.Plot(datos, x = \"x\", y = \"y\", color = etiquetas.astype(\"str\"))\n",
    "    .add(so.Dot())\n",
    ")"
   ]
  },
  {
   "cell_type": "markdown",
   "metadata": {},
   "source": [
    "**Ejercicio 3**\n",
    "1. Realizar mediante un for 20 iteraciones del procedimiento anterior y graficar el cluster resultante.\n",
    "2. Si la cantidad de iteraciones no alcanzó para calcular todo el cluster aumentar la cantidad de iteraciones.\n",
    "3. Identificar algún punto que no esté en el cluster encontrado, calcular el cluster correspondiente y graficar."
   ]
  },
  {
   "cell_type": "code",
   "execution_count": null,
   "metadata": {},
   "outputs": [],
   "source": [
    "eps = 0.2\n",
    "minPts = 5\n",
    "ind = 999\n",
    "etiquetas = np.zeros(len(datos))\n",
    "etiquetas[ind] = 1\n",
    "\n",
    "for i in range(20):\n",
    "    etiquetas = extender_cluster(datos, etiquetas, 1, eps, minPts)\n",
    "    \n",
    "(\n",
    "    so.Plot(datos, x = \"x\", y = \"y\", color = etiquetas.astype(\"str\"))\n",
    "    .add(so.Dot())\n",
    ")"
   ]
  },
  {
   "cell_type": "code",
   "execution_count": null,
   "metadata": {},
   "outputs": [],
   "source": [
    "# Ahora queremos construir el otro cluster\n",
    "etiquetas[0] = 2\n",
    "\n",
    "for i in range(40):\n",
    "    etiquetas = extender_cluster(datos, etiquetas, 2, eps, minPts)\n",
    "    \n",
    "(\n",
    "    so.Plot(datos, x = \"x\", y = \"y\", color = etiquetas.astype(\"str\"))\n",
    "    .add(so.Dot())\n",
    ")"
   ]
  },
  {
   "cell_type": "markdown",
   "metadata": {},
   "source": [
    "# Ejemplo: detección de centros de actividad urbana\n",
    "Fuente: https://bitsandbricks.github.io/post/dbscan-machine-learning-para-detectar-centros-de-actividad-urbana/"
   ]
  },
  {
   "cell_type": "markdown",
   "metadata": {},
   "source": [
    "La S del nombre DBSCAN se refiere a \"SPATIAL\", este algoritmo es especialmente útil para detectar clusters en información espacial o en el plano, por ejemplo barrios, comunidades, focos de tormentas, etc.\n",
    "\n",
    "Vamos a utilizarlo para detectar focos gastronómicos en la ciudad de Mendoza (más particularmente, bares)."
   ]
  },
  {
   "cell_type": "code",
   "execution_count": null,
   "metadata": {},
   "outputs": [],
   "source": [
    "# Cargamos los datos\n",
    "df = pd.read_csv(\"../Datos/mendoza_poi.csv\")\n",
    "df"
   ]
  },
  {
   "cell_type": "code",
   "execution_count": null,
   "metadata": {},
   "outputs": [],
   "source": [
    "# Tenemos negocios de distintas categorias\n",
    "df.categoria.unique()"
   ]
  },
  {
   "cell_type": "code",
   "execution_count": null,
   "metadata": {},
   "outputs": [],
   "source": [
    "# Veamos los distintos tipos de locales gastronomicos\n",
    "\n",
    "# Utilizamos query en lugar de df[df.categoria == \"gastronomia\"]\n",
    "df.query(\"categoria == 'gastronomia'\").tipo.unique()"
   ]
  },
  {
   "cell_type": "code",
   "execution_count": null,
   "metadata": {},
   "outputs": [],
   "source": [
    "# Nos quedamos solo con los bares\n",
    "datosBares = df.query(\"categoria == 'gastronomia' and tipo == 'bar'\").reset_index()\n",
    "datosBares"
   ]
  },
  {
   "cell_type": "code",
   "execution_count": null,
   "metadata": {},
   "outputs": [],
   "source": [
    "# Graficamos\n",
    "so.Plot(data = datosBares, x = \"lat\", y = \"lng\").add(so.Dot())"
   ]
  },
  {
   "cell_type": "code",
   "execution_count": null,
   "metadata": {},
   "outputs": [],
   "source": [
    "# Aplicamos DBSCAN eligiendo los parámetros arbitrariamente.\n",
    "# eps: a que distancia esperamos que esten los bares cercanos\n",
    "# minPts: cuantos bares esperamos que tenga cerca un bar para considerarlo una zona de bares\n",
    "\n",
    "# Usamos solo las variables de latitud y longitud para el agrupamiento.\n",
    "# Para puntos más alejados (datos de un país o continente), podemos usar una función auxiliar para calcular la distancia entre puntos)\n",
    "\n",
    "clustering = DBSCAN(eps=0.1, min_samples=6)\n",
    "etiqueta = clustering.fit_predict(datosBares[[\"lat\", \"lng\"]])\n",
    "\n",
    "(\n",
    "    so.Plot(data = datosBares, x = \"lat\", y = \"lng\", color = etiqueta.astype(\"str\"))\n",
    "    .add(so.Dot())\n",
    ")"
   ]
  },
  {
   "cell_type": "markdown",
   "metadata": {},
   "source": [
    "# Selección del hiperparámetro eps\n",
    "\n",
    "Los valores eps y minPts son hiperparámetros, no se pueden aprender de los datos, pero algunas técnicas nos pueden ayudar.\n",
    "\n",
    "Para el valor de esp, calculamos para cada bar a qué distancia está el bar más cercano y graficamos los valores ordenados de menor a mayor."
   ]
  },
  {
   "cell_type": "code",
   "execution_count": null,
   "metadata": {},
   "outputs": [],
   "source": [
    "from sklearn.neighbors import NearestNeighbors\n",
    "\n",
    "dataset = datosBares[[\"lat\", \"lng\"]]\n",
    "neighbors = NearestNeighbors(n_neighbors=2)  # Esta función nos devuelve los más cercanos incluyendo a si mismo, por eso tomamos 2.\n",
    "neighbors_fit = neighbors.fit(dataset)\n"
   ]
  },
  {
   "cell_type": "code",
   "execution_count": null,
   "metadata": {},
   "outputs": [],
   "source": [
    "# Ordenamos de menor a mayor las distancias y graficamos\n",
    "distances, indices = neighbors_fit.kneighbors(dataset)\n",
    "distances = distances[:,1]\n",
    "distances = np.sort(distances, axis=0)\n",
    "\n",
    "so.Plot(x = np.arange(len(distances)), y = distances).add(so.Line())"
   ]
  },
  {
   "cell_type": "code",
   "execution_count": null,
   "metadata": {},
   "outputs": [],
   "source": [
    "# Elegimos el eps donde la curva hace un codo.\n",
    "# De esta forma tenemos un valor pequeño que incluye a la mayoria de los datos.\n",
    "# Tomamos eps = 0.005.\n",
    "clustering = DBSCAN(eps=0.005, min_samples=6)\n",
    "etiqueta = clustering.fit_predict(datosBares[[\"lat\", \"lng\"]])\n",
    "\n",
    "(\n",
    "    so.Plot(data = datosBares, x = \"lat\", y = \"lng\", color = etiqueta.astype(\"str\"))\n",
    "    .add(so.Dot())\n",
    ")"
   ]
  },
  {
   "cell_type": "markdown",
   "metadata": {},
   "source": [
    "Entontramos 6 zonas de bares, una grande central y otras perifericas. \n",
    "\n",
    "Si queremos separar la zona central en distintas zonas, podemos tomar un valor de eps mas pequeño.\n"
   ]
  },
  {
   "cell_type": "code",
   "execution_count": null,
   "metadata": {},
   "outputs": [],
   "source": []
  }
 ],
 "metadata": {
  "kernelspec": {
   "display_name": "Python 3 (ipykernel)",
   "language": "python",
   "name": "python3"
  },
  "language_info": {
   "codemirror_mode": {
    "name": "ipython",
    "version": 3
   },
   "file_extension": ".py",
   "mimetype": "text/x-python",
   "name": "python",
   "nbconvert_exporter": "python",
   "pygments_lexer": "ipython3",
   "version": "3.11.7"
  }
 },
 "nbformat": 4,
 "nbformat_minor": 4
}
