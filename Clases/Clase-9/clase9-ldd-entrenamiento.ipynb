{
 "cells": [
  {
   "cell_type": "code",
   "execution_count": null,
   "id": "ab0d4b23-8a44-46ac-ba0c-10d33955c1d9",
   "metadata": {},
   "outputs": [],
   "source": [
    "import scipy\n",
    "import numpy as np\n",
    "import pandas as pd\n",
    "import seaborn as sns\n",
    "import seaborn.objects as so\n",
    "\n",
    "from sklearn import linear_model    # Herramientas de modelos lineales\n",
    "from sklearn.metrics import mean_squared_error, r2_score    # Medidas de desempeño\n",
    "from sklearn.preprocessing import PolynomialFeatures    # Herramientas de polinomios\n",
    "\n",
    "from formulaic import Formula"
   ]
  },
  {
   "cell_type": "code",
   "execution_count": null,
   "id": "a860ad52-6e0b-407c-a279-358e06dd4e79",
   "metadata": {},
   "outputs": [],
   "source": [
    "# Si necesitan instalar algún paquete\n",
    "#pip install gapminder\n",
    "#pip install formulaic"
   ]
  },
  {
   "cell_type": "markdown",
   "id": "d143a6f7",
   "metadata": {},
   "source": [
    "## Introducción: sistemas de ecuaciones lineales\n",
    "\n",
    "Sabemos que un fonde de inversión invirtió en acciones de YPF, Santander y Nvidia (y solo en estas acciones) pero no sabemos cuántas acciones compró de cada una. ¿Cómo podemos averiguarlo? \n",
    "\n",
    "Suponemos que tenemos disponible:\n",
    "1. La valorización del fondo al final de cada día.\n",
    "2. El valor la acción de cada empresa al cierre de cada día."
   ]
  },
  {
   "cell_type": "code",
   "execution_count": null,
   "id": "1e8236ac",
   "metadata": {},
   "outputs": [],
   "source": [
    "# Cargamos los datos\n",
    "dataDict = {'total': [170262,169929.5,171064,169637.35,164625.45], \n",
    "        'YPF': [20935, 21030, 20770, 20950, 20750], \n",
    "        'Santander': [20100, 20500, 21700, 21000, 20316], \n",
    "        'Nvidia': [37100, 36255, 36000, 35645.5, 33878.5]}\n",
    "data = pd.DataFrame.from_dict(dataDict)\n",
    "data"
   ]
  },
  {
   "cell_type": "markdown",
   "id": "a16de483",
   "metadata": {},
   "source": [
    "Nos quedamos con las primeras tres filas y resolvemos el sistema lineal:\n",
    "$$total = c_1 \\cdot YPF + c_2 \\cdot Santander + c_3 \\cdot Nvidia$$\n"
   ]
  },
  {
   "cell_type": "code",
   "execution_count": null,
   "id": "41579915",
   "metadata": {},
   "outputs": [],
   "source": [
    "data_3rows = data[[True, True, True, False, False]]\n",
    "data_3rows"
   ]
  },
  {
   "cell_type": "code",
   "execution_count": null,
   "id": "09de4dfa",
   "metadata": {},
   "outputs": [],
   "source": [
    "X_3rows = data_3rows[[\"YPF\", \"Santander\", \"Nvidia\"]]\n",
    "y_3rows = data_3rows[\"total\"]\n",
    "display(X_3rows)\n",
    "display(y_3rows)"
   ]
  },
  {
   "cell_type": "markdown",
   "id": "7aae36e5",
   "metadata": {},
   "source": [
    "Para obtener los valores de c_1, c_2 y c_3 resolvemos el sistema lineal utilizando `np.linalg.solve`"
   ]
  },
  {
   "cell_type": "code",
   "execution_count": null,
   "id": "7c5d8035",
   "metadata": {},
   "outputs": [],
   "source": [
    "c = np.linalg.solve(X_3rows, y_3rows)\n",
    "print(c)"
   ]
  },
  {
   "cell_type": "code",
   "execution_count": null,
   "id": "7734117e",
   "metadata": {},
   "outputs": [],
   "source": [
    "# Verificamos\n",
    "X_3rows @ c"
   ]
  },
  {
   "cell_type": "markdown",
   "id": "7e882698",
   "metadata": {},
   "source": [
    "**Pregunta:** A partir de la respuesta, ¿podemos confirmar que este fondo tenía estas 3 acciones? Si no estamos seguros si eran acciones de Santander o Galicia, ¿cómo podríamos asegurarnos?\n",
    "\n",
    "¿Qué pasa si hacemos lo mismo usando los valores de Galicia en lugar de Santander?"
   ]
  },
  {
   "cell_type": "code",
   "execution_count": null,
   "id": "767cf30d",
   "metadata": {},
   "outputs": [],
   "source": [
    "# Incorporamos una nueva columna al dataframe\n",
    "data[\"Galicia\"] = np.array([20100, 19400, 21900, 20600, 20900])\n",
    "data"
   ]
  },
  {
   "cell_type": "markdown",
   "id": "f5bcde8b",
   "metadata": {},
   "source": [
    "Resolvemos el sistema de 3 x 3 utilizando los datos de Galicia"
   ]
  },
  {
   "cell_type": "code",
   "execution_count": null,
   "id": "21080645",
   "metadata": {},
   "outputs": [],
   "source": [
    "dataG_3rows = data[[True, True, True, False, False]]\n",
    "XG_3rows = dataG_3rows[[\"YPF\", \"Galicia\", \"Nvidia\"]]\n",
    "yG_3rows = dataG_3rows[\"total\"]\n",
    "np.linalg.solve(XG_3rows, yG_3rows)"
   ]
  },
  {
   "cell_type": "markdown",
   "id": "8a269b43",
   "metadata": {},
   "source": [
    "Un sistema de 3x3 en general va a tener solución (única), no nos sirve para ver si nuestro \"modelo\" es correcto.\n",
    "Podemos hacer dos cosas:\n",
    "    \n",
    "1. Verificar la formula obtenida en los dias siguientes.\n",
    "2. Utilizar todos los días disponibles para encontrar los coeficientes."
   ]
  },
  {
   "cell_type": "markdown",
   "id": "00398637",
   "metadata": {},
   "source": [
    "Para el método 1 separamos nuestro DataFrame en dos: conjunto de entrenamiento (las primeras 3 filas) y conjunto de testeo (las últimas 2 filas)."
   ]
  },
  {
   "cell_type": "code",
   "execution_count": null,
   "id": "adefa0a4",
   "metadata": {},
   "outputs": [],
   "source": [
    "train_ind = np.array([True, True, True, False, False])\n",
    "test_ind = np.array([False, False, False, True, True])  # O podemos usar np.logical_not(train_ind)\n",
    "data_train = data[train_ind]\n",
    "data_test = data[test_ind]"
   ]
  },
  {
   "cell_type": "code",
   "execution_count": null,
   "id": "2e7add09",
   "metadata": {},
   "outputs": [],
   "source": [
    "# Entrenamos el primer modelo  (usando la variable Santander)\n",
    "X_train = data_train[[\"YPF\", \"Santander\", \"Nvidia\"]]\n",
    "y_train = data_train[\"total\"]\n",
    "c = np.linalg.solve(X_train, y_train)\n",
    "c"
   ]
  },
  {
   "cell_type": "code",
   "execution_count": null,
   "id": "099bb2c4",
   "metadata": {},
   "outputs": [],
   "source": [
    "# Verificamos si nuestro modelo \"predice\" bien en el conjunto de testeo:\n",
    "X_test = data_test[[\"YPF\", \"Santander\", \"Nvidia\"]]\n",
    "y_test = data_test[\"total\"]\n",
    "X_test @ c - y_test # Errores"
   ]
  },
  {
   "cell_type": "code",
   "execution_count": null,
   "id": "3b72c8c0",
   "metadata": {},
   "outputs": [],
   "source": [
    "# Repetimos con el modelo Galicia.\n",
    "\n",
    "# Entrenamos el modelo\n",
    "XG_train = data_train[[\"YPF\", \"Galicia\", \"Nvidia\"]]\n",
    "yG_train = data_train[\"total\"]\n",
    "cG = np.linalg.solve(XG_train, yG_train)\n",
    "cG"
   ]
  },
  {
   "cell_type": "code",
   "execution_count": null,
   "id": "05b6f616",
   "metadata": {},
   "outputs": [],
   "source": [
    "# Verificamos si nuestro modelo \"predice\" bien en el conjunto de testeo:\n",
    "XG_test = data_test[[\"YPF\", \"Galicia\", \"Nvidia\"]]\n",
    "yG_test = data_test[\"total\"]\n",
    "XG_test @ cG - yG_test # Errores"
   ]
  },
  {
   "cell_type": "markdown",
   "id": "c45dae5c",
   "metadata": {},
   "source": [
    "Comparando los errores en ambos modelos, vemos que en el primer modelo los errores en las predicciones son nulos y en el segundo no, por lo tanto elegimos el modelo 1."
   ]
  },
  {
   "cell_type": "markdown",
   "id": "04a84762",
   "metadata": {},
   "source": [
    "**Pregunta.** En este ejemplo, cual de los dos modelos tiene errores menores en el ajuste de los datos de entrenamiento?"
   ]
  },
  {
   "cell_type": "markdown",
   "id": "df3a623a",
   "metadata": {},
   "source": [
    "Ahora consideramos 10 días, y utilizamos los 8 primeros para entrenar el modelo."
   ]
  },
  {
   "cell_type": "code",
   "execution_count": null,
   "id": "5dc560ad",
   "metadata": {},
   "outputs": [],
   "source": [
    "dataDict = {'total': [166650.00, 167756.00, 167981.00, 168597.00, 168796.00, 170262,169929.5,171064,169637.35,164625.45], \n",
    "        'YPF': [20100, 20230, 20300, 20410, 20500, 20935, 21030, 20770, 20950, 20750], \n",
    "        'Santander': [19800, 19890, 19950, 20150, 20080, 20100, 20500, 21700, 21000, 20316], \n",
    "        'Nvidia': [36900, 37200, 37130, 37050, 37080, 37100, 36255, 36000, 35645.5, 33878.5], \n",
    "        'Galicia': [23000, 22900, 21800, 21100, 20750, 20100, 19400, 21900, 20600, 20900]}\n",
    "data = pd.DataFrame.from_dict(dataDict)\n",
    "data"
   ]
  },
  {
   "cell_type": "code",
   "execution_count": null,
   "id": "f2736159",
   "metadata": {},
   "outputs": [],
   "source": [
    "train_ind = np.array([True, True, True, True, True, True, True, True, False, False])\n",
    "test_ind = np.logical_not(train_ind)\n",
    "data_train = data[train_ind]\n",
    "data_test = data[test_ind]"
   ]
  },
  {
   "cell_type": "code",
   "execution_count": null,
   "id": "a7042f9d",
   "metadata": {},
   "outputs": [],
   "source": [
    "# 1. Queremos calcular los coeficientes utilizando los 8 días\n",
    "X = data[[\"YPF\", \"Santander\", \"Nvidia\"]]\n",
    "y = data[\"total\"]\n",
    "scipy.linalg.solve(X, y)"
   ]
  },
  {
   "cell_type": "code",
   "execution_count": null,
   "id": "4106a22b",
   "metadata": {},
   "outputs": [],
   "source": [
    "# Solve nos da error, solo acepta matrices cuadradas, porque un sistema con mas filas en general no tiene solución.\n",
    "# Cuando tenemos mas filas que columnas usamos lstsq (minimos cuadrados). \n",
    "# lstsp minimiza el error cuadradito. Si el sistema tiene solución exacta nos va a dar esa solución.\n",
    "X_train = data_train[[\"YPF\", \"Santander\", \"Nvidia\"]]\n",
    "y_train = data_train[\"total\"]\n",
    "c = scipy.linalg.lstsq(X_train, y_train)\n",
    "c[0] # Los coeficientes "
   ]
  },
  {
   "cell_type": "code",
   "execution_count": null,
   "id": "e8703245",
   "metadata": {},
   "outputs": [],
   "source": [
    "# Verificamos en los datos de testeo\n",
    "X_test = data_test[[\"YPF\", \"Santander\", \"Nvidia\"]]\n",
    "y_test = data_test[\"total\"]\n",
    "X_test @ c[0] - y_test # Errores"
   ]
  },
  {
   "cell_type": "markdown",
   "id": "c9e62701",
   "metadata": {},
   "source": [
    "Repetimos el mismo procedimiento con las acciones de Galicia."
   ]
  },
  {
   "cell_type": "code",
   "execution_count": null,
   "id": "deb160a3",
   "metadata": {},
   "outputs": [],
   "source": [
    "# Solve nos da error, solo acepta matrices cuadradas, porque un sistema con mas filas en general no tiene solución.\n",
    "# Cuando tenemos mas filas que columnas usamos lstsq (minimos cuadrados). \n",
    "# lstsp minimiza el error cuadradito. Si el sistema tiene solución exacta nos va a dar esa solución.\n",
    "XG_train = data_train[[\"YPF\", \"Galicia\", \"Nvidia\"]]\n",
    "yG_train = data_train[\"total\"]\n",
    "cG = scipy.linalg.lstsq(XG_train, yG_train)\n",
    "print(\"Coeficientes: \", cG[0]) # Los coeficientes "
   ]
  },
  {
   "cell_type": "code",
   "execution_count": null,
   "id": "a63c6b63",
   "metadata": {},
   "outputs": [],
   "source": [
    "# Verificamos en los datos de testeo\n",
    "XG_test = data_test[[\"YPF\", \"Galicia\", \"Nvidia\"]]\n",
    "yG_test = data_test[\"total\"]\n",
    "XG_test @ cG[0] - yG_test # Errores"
   ]
  },
  {
   "cell_type": "markdown",
   "id": "59db1f7c",
   "metadata": {},
   "source": [
    "Observamos que los errores son mucho menores en el primer modelo, por lo tanto nos quedamos con ese modelo."
   ]
  },
  {
   "cell_type": "markdown",
   "id": "bbcabd3e",
   "metadata": {},
   "source": [
    "# Caso de estudio: calorías de alimentos"
   ]
  },
  {
   "cell_type": "code",
   "execution_count": null,
   "id": "2b8c5c05-4fbd-4314-b5a7-93307a83c133",
   "metadata": {},
   "outputs": [],
   "source": [
    "df_nutricion = pd.read_csv('../data/nutrition.csv')\n",
    "df_nutricion"
   ]
  },
  {
   "cell_type": "markdown",
   "id": "e39cab88",
   "metadata": {},
   "source": [
    "Vemos que el DataFrame contiene muchos datos \"NaN\" (not a number). \n",
    "\n",
    "En este ejemplo consideramos que los datos faltantes representan que el alimento no contiene ese ingrediente y lo convertimos a 0."
   ]
  },
  {
   "cell_type": "code",
   "execution_count": null,
   "id": "6232f3a9-8a94-4576-9719-652a1aad1a9d",
   "metadata": {},
   "outputs": [],
   "source": [
    "# Utilizamos fillna para convertir NaN a 0.\n",
    "df_nutricion = df_nutricion.fillna(0)"
   ]
  },
  {
   "cell_type": "code",
   "execution_count": null,
   "id": "fc7c6182",
   "metadata": {},
   "outputs": [],
   "source": [
    "df_nutricion.head()"
   ]
  },
  {
   "cell_type": "markdown",
   "id": "e187a78a-57a5-4fee-a2f2-a10de8f8145a",
   "metadata": {},
   "source": [
    "Construimos las matrices X e y utilizando Formulaic"
   ]
  },
  {
   "cell_type": "code",
   "execution_count": null,
   "id": "2be722b4",
   "metadata": {},
   "outputs": [],
   "source": [
    "y, X = (\n",
    "    Formula('Calorias_kcal ~ Proteinas_g + Carbohidratos_g + GrasaTotal_g + Colesterol_mg + Fibra_g + Agua_g + Alcohol_g + VitaminaC_mg')\n",
    "    .get_model_matrix(df_nutricion)\n",
    ")"
   ]
  },
  {
   "cell_type": "code",
   "execution_count": null,
   "id": "5bc14dac",
   "metadata": {},
   "outputs": [],
   "source": [
    "X.head() # Vemos que nos agregó una columna de Intercept"
   ]
  },
  {
   "cell_type": "code",
   "execution_count": null,
   "id": "377e96a3",
   "metadata": {},
   "outputs": [],
   "source": [
    "y.head()"
   ]
  },
  {
   "cell_type": "markdown",
   "id": "49aed891",
   "metadata": {},
   "source": [
    "**Observación**\n",
    "\n",
    "En este caso sencillo, podemos obtener lo mismo (excepto por la columna Intercept) utilizando una lista de columnas.\n"
   ]
  },
  {
   "cell_type": "code",
   "execution_count": null,
   "id": "102538af-1fe3-4fc3-8810-92890fe8e8e2",
   "metadata": {},
   "outputs": [],
   "source": [
    "#X = df_nutrition[[\"Proteinas_g\", \"Carbohidratos_g\", \"GrasaTotal_g\", \"Colesterol_mg\",\"Fibra_g\", \"Agua_g\",\"Alcohol_g\",\"VitaminaC_mg\"]]\n",
    "#y = df_nutrition[\"Calorias_kcal\"]"
   ]
  },
  {
   "cell_type": "markdown",
   "id": "bc3a43bf",
   "metadata": {},
   "source": [
    "Antes de separar en entrenamiento y testeo, veamos los errores del modelo lineal con todos los datos "
   ]
  },
  {
   "cell_type": "code",
   "execution_count": null,
   "id": "e193f1d4-adaa-4e70-b268-30c77b057e46",
   "metadata": {},
   "outputs": [],
   "source": [
    "modelo = linear_model.LinearRegression(fit_intercept = False)    # Inicializamos un modelo de Regresion Lineal. \n",
    "                                       # Como la matriz X ya tiene el intercept, no agregamos intercept en la regresión\n",
    "    \n",
    "modelo.fit(???)   # Realizamos el ajuste"
   ]
  },
  {
   "cell_type": "code",
   "execution_count": null,
   "id": "e795348d-9d21-4f1e-b6ee-b210f12ee8c8",
   "metadata": {},
   "outputs": [],
   "source": [
    "modelo.coef_"
   ]
  },
  {
   "cell_type": "markdown",
   "id": "0e98535b",
   "metadata": {},
   "source": [
    "Analizando los coeficientes vemos que las variables Proteinas_g, Carbohidratos_g y GrasaTotal_g son las que tienen mayor peso en el modelo."
   ]
  },
  {
   "cell_type": "markdown",
   "id": "d92eb79f",
   "metadata": {},
   "source": [
    "Analizamos la \"bondad\" del ajuste."
   ]
  },
  {
   "cell_type": "code",
   "execution_count": null,
   "id": "d51f6310-bae7-425b-b28d-ccee777bd130",
   "metadata": {},
   "outputs": [],
   "source": [
    "y_pred = modelo.predict(???)\n",
    "# Calculando el R^2\n",
    "r2 = r2_score(y, y_pred)\n",
    "print('R^2: ', r2)\n",
    "\n",
    "# Calculando el ECM\n",
    "ecm = mean_squared_error(y, y_pred)\n",
    "print('Raiz cuadarada del ECM: ', np.sqrt(ecm))"
   ]
  },
  {
   "cell_type": "markdown",
   "id": "ff1178f1",
   "metadata": {},
   "source": [
    "A priori es un buen modelo, tenemos 7792 observaciones y obtenemos R^2 casi igual a 1 con solo 9 variables."
   ]
  },
  {
   "cell_type": "markdown",
   "id": "b95b72ab-58a9-4380-8a73-a79b418d33bf",
   "metadata": {},
   "source": [
    "# Conjuntos de entrenamiento y testeo\n",
    "Ajustamos el modelo separando en 80-20"
   ]
  },
  {
   "cell_type": "code",
   "execution_count": null,
   "id": "fc1e09d8-de0a-4f8a-ab53-3118a4119fde",
   "metadata": {},
   "outputs": [],
   "source": [
    "from sklearn.model_selection import  "
   ]
  },
  {
   "cell_type": "code",
   "execution_count": null,
   "id": "2c4e2e98-8bb6-4dc4-a7a6-69fdcec052ef",
   "metadata": {},
   "outputs": [],
   "source": [
    "y, X = (\n",
    "    Formula('Calorias_kcal ~ Proteinas_g + Carbohidratos_g + GrasaTotal_g + Colesterol_mg + Fibra_g + Agua_g + Alcohol_g + VitaminaC_mg')\n",
    "    .get_model_matrix(df_comida)\n",
    ")\n",
    "\n",
    "# Separamos en entrenamiento (train) y testeo (test).\n",
    "# El parámetro test_size=0.2 indica que tomamos un 20% de los datos para testeo.\n",
    "# El parámetro random_state=42 es lo que se denomina semilla aleatoria. \n",
    "X_train, X_test, y_train, y_test = train_test_split(X, y, test_size=0.2, random_state=2)"
   ]
  },
  {
   "cell_type": "markdown",
   "id": "5b08a862",
   "metadata": {},
   "source": [
    "### Números pseudo-aleatorios y semillas aleatorias.\n",
    "\n",
    "Las computadoras no pueden generar números al azar, tienen algoritmos que generan números que parecen al azar denominados pseudo aleatorios. \n",
    "\n",
    "Los números se generan a partir de una semilla. Si corremos el codigo utilizando la misma semilla,  vamos a obtener siempre el mismo resultado.\n",
    "\n",
    "Esto permite que el experimento sea reproducible."
   ]
  },
  {
   "cell_type": "markdown",
   "id": "8599011d",
   "metadata": {},
   "source": [
    "### Entrenamiento"
   ]
  },
  {
   "cell_type": "code",
   "execution_count": null,
   "id": "d04aee1c-283e-4c3a-929e-c5c73ff7c2b1",
   "metadata": {},
   "outputs": [],
   "source": [
    "# Entrenamos el modelo utilizando los conjuntos de entrenamiento\n",
    "\n",
    "modelo = linear_model.LinearRegression(fit_intercept = False)    # Inicializamos un modelo de Regresion Lineal\n",
    "modelo.fit(???)   # Realizamos el ajuste"
   ]
  },
  {
   "cell_type": "markdown",
   "id": "210ab920",
   "metadata": {},
   "source": [
    "### Testeo"
   ]
  },
  {
   "cell_type": "code",
   "execution_count": null,
   "id": "b72489a8",
   "metadata": {},
   "outputs": [],
   "source": [
    "# Medimos la bondad del ajuste en el conjunto de testeo\n",
    "\n",
    "y_pred = modelo.predict(???)\n",
    "\n",
    "# Calculando el R^2\n",
    "r2 = r2_score(???)\n",
    "print('R^2: ', r2)\n",
    "\n",
    "# Calculando el ECM\n",
    "ecm = mean_squared_error(???)\n",
    "print('Raiz cuadarada del ECM: ', np.sqrt(ecm))"
   ]
  },
  {
   "cell_type": "markdown",
   "id": "6cf3085e",
   "metadata": {},
   "source": [
    "Vemos que el modelo ajusto bien en los datos de testeo, podemos confiar en el modelo obtenido."
   ]
  },
  {
   "cell_type": "markdown",
   "id": "19300e6e",
   "metadata": {},
   "source": [
    "**Ejercicio:** Utilizar distintas semillas aleatorias. ¿Se obtienen los mismos valores? ¿Se mantienen las conclusiones?"
   ]
  },
  {
   "cell_type": "markdown",
   "id": "56b954aa-68c0-4c08-bda8-1cbedd6087ce",
   "metadata": {},
   "source": [
    "## Selección de modelos\n",
    "\n",
    "Comparamos con un modelo utilizando solo las tres primeras variables (las de mayor peso en el modelo) y sin intercept."
   ]
  },
  {
   "cell_type": "code",
   "execution_count": null,
   "id": "b11a869f-0f7d-4172-b939-0106d1ca0218",
   "metadata": {},
   "outputs": [],
   "source": [
    "y, X = (\n",
    "    Formula('Calorias_kcal ~ Proteinas_g + Carbohidratos_g + GrasaTotal_g - 1')\n",
    "    .get_model_matrix(df_comida)\n",
    ")\n",
    "X.head()"
   ]
  },
  {
   "cell_type": "code",
   "execution_count": null,
   "id": "83639168",
   "metadata": {},
   "outputs": [],
   "source": [
    "# Separamos en entrenamiento (train) y testeo (test).\n",
    "# El parámetro test_size=0.2 indica que tomamos un 20% de los datos para testeo.\n",
    "# El parámetro random_state=42 es lo que se denomina semilla aleatoria. \n",
    "X_train, X_test, y_train, y_test = train_test_split(X, y, test_size=0.2, random_state=42)"
   ]
  },
  {
   "cell_type": "code",
   "execution_count": null,
   "id": "5bcf22a9-49ba-4be5-8f4b-6b2745268be6",
   "metadata": {},
   "outputs": [],
   "source": [
    "modelo = linear_model.LinearRegression(fit_intercept = False)    # Inicializamos un modelo de Regresion Lineal sin intercept\n",
    "modelo.fit(X_train, y_train)   # Realiza\n",
    "print(\"Coeficientes:\", modelo.coef_)\n",
    "\n",
    "y_pred = modelo.predict(X_test)\n",
    "# Calculando el R^2\n",
    "r2 = r2_score(y_test, y_pred)\n",
    "print('R^2: ', r2)\n",
    "\n",
    "# Calculando el ECM\n",
    "ecm = mean_squared_error(y_test, y_pred)\n",
    "print('Raiz cuadarada del ECM: ', np.sqrt(ecm))"
   ]
  },
  {
   "cell_type": "markdown",
   "id": "0d26f40c",
   "metadata": {},
   "source": [
    "Vemos que el modelo es un poco peor pero mucho más simple. \n",
    "\n",
    "**Conclusión rápida:** El modelo con 3 variables es útil para una cuenta rápida, pero si necesitamos una mayor precisión podemos utilizar el modelo completo."
   ]
  },
  {
   "cell_type": "markdown",
   "id": "12f09215",
   "metadata": {},
   "source": [
    "**Ejercicio.** Buscar en recursos en-línea la fórmula usualmente utilizada para el cálculo de calorías y comparar con la fórmula que obtuvimos."
   ]
  },
  {
   "cell_type": "markdown",
   "id": "8ec5373e",
   "metadata": {},
   "source": [
    "# Caso de estudio: rendimiento del suelo"
   ]
  },
  {
   "cell_type": "code",
   "execution_count": null,
   "id": "637f7166-c8b9-44c3-a802-ba70c7ab0f7e",
   "metadata": {},
   "outputs": [],
   "source": [
    "df_rendimiento = pd.read_csv('../data/rendimiento.csv')\n",
    "df_rendimiento.head()"
   ]
  },
  {
   "cell_type": "markdown",
   "id": "76640ba9",
   "metadata": {},
   "source": [
    "**Ejercicio.**\n",
    "\n",
    "Proponer un modelo para predecir el rendimiento de una hectárea cultivada en función de algunas características del lugar y los fertilizantes utilizados."
   ]
  },
  {
   "cell_type": "code",
   "execution_count": null,
   "id": "33a41cb7-e66a-4c0c-8e8a-15c2446a0b84",
   "metadata": {},
   "outputs": [],
   "source": [
    "df_rendimiento.info()"
   ]
  },
  {
   "cell_type": "code",
   "execution_count": null,
   "id": "fcbbc4de",
   "metadata": {},
   "outputs": [],
   "source": [
    "# Acá están todas las variables\n",
    "\"Rendimiento ~ pH + MO + P + N + S + P_Ferti + P_kgha + S_Fuente + S_kgha + Ndisp + Palc + Variedad + FdS + plantas + momento + IncSep + IncMam + IncRoya + FdD + Espigas\""
   ]
  },
  {
   "cell_type": "markdown",
   "id": "6b965805",
   "metadata": {},
   "source": [
    "# Interacciones entre variables y la paradoja de Simpson."
   ]
  },
  {
   "cell_type": "markdown",
   "id": "8d0defec",
   "metadata": {},
   "source": [
    "Queremos estudiar la relación entre la longitud y la profundidad del pico de los pingüinos."
   ]
  },
  {
   "cell_type": "code",
   "execution_count": null,
   "id": "828a9c3b",
   "metadata": {},
   "outputs": [],
   "source": [
    "penguins = sns.load_dataset(\"penguins\")  # Eliminamos las filas con datos faltantes\n",
    "penguins.head()"
   ]
  },
  {
   "cell_type": "code",
   "execution_count": null,
   "id": "4d775e2d",
   "metadata": {},
   "outputs": [],
   "source": [
    "# Vemos que hay datos faltanes.\n",
    "# Eliminamos las filas con datos faltantes\n",
    "penguins = penguins.dropna()  \n",
    "penguins.head()"
   ]
  },
  {
   "cell_type": "code",
   "execution_count": null,
   "id": "82823219",
   "metadata": {},
   "outputs": [],
   "source": [
    "# Ajustamos un modelo lineal y calculamos el coeficiente de correlación R^2\n",
    "y, X = (\n",
    "    Formula('???')\n",
    "    .get_model_matrix(penguins)\n",
    ")\n",
    "display(X.head()) # Observamos que eliminó automáticamente las filas con datos faltantes"
   ]
  },
  {
   "cell_type": "code",
   "execution_count": null,
   "id": "f1b3bfde",
   "metadata": {},
   "outputs": [],
   "source": [
    "modelo = linear_model.LinearRegression(fit_intercept = False)    # Inicializamos un modelo de Regresion Lineal sin intercept\n",
    "modelo.fit(X, y)   # Realiza\n",
    "print(\"Coeficientes:\", modelo.coef_)\n",
    "\n",
    "y_pred = modelo.predict(X)\n",
    "# Calculando el R^2\n",
    "r2 = r2_score(y, y_pred)\n",
    "print('R^2: ', r2)\n",
    "\n",
    "# Calculando el ECM\n",
    "ecm = mean_squared_error(y, y_pred)\n",
    "print('Raiz cuadarada del ECM: ', np.sqrt(ecm))"
   ]
  },
  {
   "cell_type": "markdown",
   "id": "e0ff005d",
   "metadata": {},
   "source": [
    "Si analizamos rápidamente estos resultados diríamos que no hay relación entre el largo y la produndidad... (o que hay correlación negativa porque la pendiente es negativa). Resulta un poco extraño..."
   ]
  },
  {
   "cell_type": "markdown",
   "id": "0ee31575",
   "metadata": {},
   "source": [
    "¿Cómo podemos analizar mejor qué está pasando?\n",
    ".\n",
    "\n",
    ".\n",
    "\n",
    ".\n",
    "\n",
    ".\n",
    "\n",
    ".\n",
    "\n",
    ".\n",
    "\n",
    ".\n",
    "\n",
    ".\n",
    "\n",
    ".\n",
    "\n",
    ".\n",
    "\n",
    ".\n",
    "\n",
    ".\n",
    "\n",
    ".\n",
    "\n",
    ".\n",
    "\n",
    ".\n",
    "\n",
    "\n"
   ]
  },
  {
   "cell_type": "markdown",
   "id": "0dbdfe28",
   "metadata": {},
   "source": [
    "Realicemos un gráfico!"
   ]
  },
  {
   "cell_type": "code",
   "execution_count": null,
   "id": "8c4617e5",
   "metadata": {},
   "outputs": [],
   "source": [
    "(\n",
    "    so.Plot(data = penguins, x = \"bill_length_mm\", y = \"bill_depth_mm\")\n",
    "    .add(so.Dot())\n",
    "    .add(so.Line(), so.PolyFit(1))\n",
    ")"
   ]
  },
  {
   "cell_type": "markdown",
   "id": "1ca5dc8c",
   "metadata": {},
   "source": [
    "El gráfico confirma la correlación negativa, pero notan algo raro? Tal vez hay algo que no estamos teniendo en cuenta?\n",
    "\n",
    ".\n",
    "\n",
    ".\n",
    "\n",
    ".\n",
    "\n",
    ".\n",
    "\n",
    ".\n",
    "\n",
    "\n",
    ".\n",
    "\n",
    ".\n",
    "\n",
    ".\n",
    "\n",
    ".\n",
    "\n",
    ".\n",
    "\n",
    "\n",
    ".\n",
    "\n",
    ".\n",
    "\n",
    ".\n",
    "\n",
    ".\n",
    "\n",
    ".\n",
    "\n"
   ]
  },
  {
   "cell_type": "markdown",
   "id": "bfdb9535",
   "metadata": {},
   "source": [
    "Repetimos el gráfico coloreando los puntos según la especie."
   ]
  },
  {
   "cell_type": "code",
   "execution_count": null,
   "id": "5ad6791a",
   "metadata": {},
   "outputs": [],
   "source": [
    "(\n",
    "    so.Plot(data = penguins, x = \"bill_depth_mm\", y = \"bill_length_mm\", color = \"species\")\n",
    "    .add(so.Dot())\n",
    ")"
   ]
  },
  {
   "cell_type": "markdown",
   "id": "792ac09e",
   "metadata": {},
   "source": [
    "En este gráfico por especie vemos dentro de cada especie puede haber correlación. Verificamos agregando los ajustes por especie."
   ]
  },
  {
   "cell_type": "code",
   "execution_count": null,
   "id": "50227811",
   "metadata": {},
   "outputs": [],
   "source": [
    "(\n",
    "    so.Plot(data = penguins, x = \"bill_depth_mm\", y = \"bill_length_mm\", color = \"species\")\n",
    "    .add(so.Dot())\n",
    "    .add(so.Line(), so.PolyFit(1))\n",
    ")"
   ]
  },
  {
   "cell_type": "markdown",
   "id": "0ca560b0",
   "metadata": {},
   "source": [
    "Ahora las rectas tienen pendiente positiva! Al considerar todas las especies al mismo tiempo, no podíamos ver esta correlación."
   ]
  },
  {
   "cell_type": "markdown",
   "id": "add3e9d4",
   "metadata": {},
   "source": [
    "## La paradoja de Simpson\n",
    "La paradoja de Simpson es un fenómeno estadístico en el cual una relación entre variables aparece, desaparece o se revierte al dividir a la población en subpoblaciones."
   ]
  },
  {
   "cell_type": "markdown",
   "id": "5024b0a9",
   "metadata": {},
   "source": [
    "**Ejemplo.** Veamos otro ejemplo simulado.\n",
    "Generamos dos poblaciones distribuidas aleatoriamente alrededor de dos centros."
   ]
  },
  {
   "cell_type": "code",
   "execution_count": null,
   "id": "c6a060e1",
   "metadata": {},
   "outputs": [],
   "source": [
    "from sklearn.datasets import make_blobs\n",
    "centers = [[2, 2], [-2, -2]]\n",
    "X, labels_true = make_blobs(\n",
    "    n_samples=750, centers=centers, cluster_std=0.4, random_state=0)\n",
    "x = X[:,0]\n",
    "y = X[:,1]"
   ]
  },
  {
   "cell_type": "code",
   "execution_count": null,
   "id": "803b3c65",
   "metadata": {},
   "outputs": [],
   "source": [
    "(\n",
    "    so.Plot(x = x, y = y)\n",
    "    .add(so.Dot(), color = labels_true)\n",
    "    .add(so.Line(), so.PolyFit(1))\n",
    ")"
   ]
  },
  {
   "cell_type": "markdown",
   "id": "14b6435d",
   "metadata": {},
   "source": [
    "En este ejemplo, podríamos decir que hay correlación entre la variable $x$ y la variable $y$?\n",
    "\n",
    "Calculemos el R^2..."
   ]
  },
  {
   "cell_type": "code",
   "execution_count": null,
   "id": "a2cfb9ab",
   "metadata": {},
   "outputs": [],
   "source": [
    "modelo = linear_model.LinearRegression()    # Inicializamos un modelo de Regresion Lineal\n",
    "modelo.fit(pd.DataFrame(x), y)   # Realiza\n",
    "\n",
    "print(\"Coeficientes:\", modelo.coef_)\n",
    "\n",
    "# Medidas de bondad\n",
    "\n",
    "y_pred = modelo.predict(pd.DataFrame(X[:,0]))\n",
    "\n",
    "# Calculando el R^2\n",
    "r2 = r2_score(X[:,1], y_pred)\n",
    "print('R^2: ', r2)"
   ]
  },
  {
   "cell_type": "markdown",
   "id": "85091992",
   "metadata": {},
   "source": [
    "Los datos parecen altamente correlacionados. Pero si separamos por grupo..."
   ]
  },
  {
   "cell_type": "code",
   "execution_count": null,
   "id": "d8f197a6",
   "metadata": {},
   "outputs": [],
   "source": [
    "(\n",
    "    so.Plot(x = x, y = y)\n",
    "    .add(so.Dot(), color = labels_true)\n",
    "    .add(so.Line(), so.PolyFit(1), group = labels_true)\n",
    ")"
   ]
  },
  {
   "cell_type": "markdown",
   "id": "4536b851",
   "metadata": {},
   "source": [
    "Vemos en el gráfico que la pendiente ahora pasa a ser casi 0.\n",
    "\n",
    "¿Cómo podemos construir nosotros estos modelos y calcular los coeficientes y el R^2?\n",
    "\n",
    "Recordemos las operaciones que nos permite hacer Formulaic.\n",
    "\n",
    "| Operador | Ejemplo          | Función                                                                                           |\n",
    "|:---------|:-----------------|:---------------------------------------------------------------------------------------------------|\n",
    "| ~        | y ~ x            | Separa la variable (y) respuesta a la izquierda, de el/los predictor/es a la derecha (x).       |\n",
    "| +        | y ~ x + z        | Adiciona (suma) términos al modelo.                                                              |\n",
    "| :        | y ~ x : z        | Interacción entre términos. y es lineal en x ⋅ z.                                                |\n",
    "| *        | y ~ x * z        | Combina adición e interacción entre términos. y ~ x * z es equivalente a y ~ x + z + x : z       |"
   ]
  },
  {
   "cell_type": "code",
   "execution_count": null,
   "id": "ef05a8bd",
   "metadata": {},
   "outputs": [],
   "source": [
    "y, X = Formula(\"bill_length_mm ~ ???\").get_model_matrix(penguins)\n",
    "display(X)"
   ]
  },
  {
   "cell_type": "code",
   "execution_count": null,
   "id": "fcd39088",
   "metadata": {},
   "outputs": [],
   "source": [
    "modelo = linear_model.LinearRegression(fit_intercept = False)    # Inicializamos un modelo de Regresion Lineal sin intercept\n",
    "modelo.fit(X, y)   # Realiza\n",
    "print(\"Coeficientes:\", modelo.coef_)"
   ]
  },
  {
   "cell_type": "markdown",
   "id": "fd892530",
   "metadata": {},
   "source": [
    "**Pregunta:** ¿Cuáles coeficientes nos indican las pendientes de las rectas?"
   ]
  },
  {
   "cell_type": "code",
   "execution_count": null,
   "id": "24c29b2f",
   "metadata": {},
   "outputs": [],
   "source": [
    "# Calculamos el R^2\n",
    "y_pred = modelo.predict(X)\n",
    "\n",
    "# Calculando el R^2\n",
    "r2 = r2_score(y, y_pred)\n",
    "print('R^2: ', r2)"
   ]
  },
  {
   "cell_type": "code",
   "execution_count": null,
   "id": "9c9c8779",
   "metadata": {},
   "outputs": [],
   "source": [
    "# Los últimos tres números son las pendientes de las rectas.\n",
    "# Cómo podemos graficar este modelo?\n",
    "\n",
    "y_pred = modelo.predict(X)\n",
    "\n",
    "(\n",
    "    so.Plot(data = penguins, x = \"bill_depth_mm\", y = \"bill_length_mm\", color = \"species\")\n",
    "    .add(so.Dot())\n",
    "    .add(so.Line(), ???)  # Otro milagro!! No le tenía ninguna fe a esto :)\n",
    ")"
   ]
  },
  {
   "cell_type": "markdown",
   "id": "ea28e245",
   "metadata": {},
   "source": [
    "**Ejercicio.** Realizar ahora un modelo donde todas las rectas tengan la misma pendiente y solo cambie el intercept según la especie."
   ]
  },
  {
   "cell_type": "code",
   "execution_count": null,
   "id": "b276184a",
   "metadata": {},
   "outputs": [],
   "source": []
  }
 ],
 "metadata": {
  "kernelspec": {
   "display_name": "Python 3 (ipykernel)",
   "language": "python",
   "name": "python3"
  },
  "language_info": {
   "codemirror_mode": {
    "name": "ipython",
    "version": 3
   },
   "file_extension": ".py",
   "mimetype": "text/x-python",
   "name": "python",
   "nbconvert_exporter": "python",
   "pygments_lexer": "ipython3",
   "version": "3.11.7"
  }
 },
 "nbformat": 4,
 "nbformat_minor": 5
}
