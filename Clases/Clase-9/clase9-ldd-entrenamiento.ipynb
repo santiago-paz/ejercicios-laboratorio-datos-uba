{
 "cells": [
  {
   "cell_type": "code",
   "execution_count": 41,
   "id": "ab0d4b23-8a44-46ac-ba0c-10d33955c1d9",
   "metadata": {},
   "outputs": [],
   "source": [
    "import scipy\n",
    "import numpy as np\n",
    "import pandas as pd\n",
    "import seaborn as sns\n",
    "import seaborn.objects as so\n",
    "\n",
    "from sklearn import linear_model    # Herramientas de modelos lineales\n",
    "from sklearn.metrics import mean_squared_error, r2_score    # Medidas de desempeño\n",
    "from sklearn.preprocessing import PolynomialFeatures    # Herramientas de polinomios\n",
    "\n",
    "from formulaic import Formula"
   ]
  },
  {
   "cell_type": "code",
   "execution_count": 42,
   "id": "a860ad52-6e0b-407c-a279-358e06dd4e79",
   "metadata": {},
   "outputs": [],
   "source": [
    "# Si necesitan instalar algún paquete\n",
    "#pip install gapminder\n",
    "#pip install formulaic"
   ]
  },
  {
   "cell_type": "markdown",
   "id": "d143a6f7",
   "metadata": {},
   "source": [
    "## Introducción: sistemas de ecuaciones lineales\n",
    "\n",
    "Sabemos que un fonde de inversión invirtió en acciones de YPF, Santander y Nvidia (y solo en estas acciones) pero no sabemos cuántas acciones compró de cada una. ¿Cómo podemos averiguarlo? \n",
    "\n",
    "Suponemos que tenemos disponible:\n",
    "1. La valorización del fondo al final de cada día.\n",
    "2. El valor la acción de cada empresa al cierre de cada día."
   ]
  },
  {
   "cell_type": "code",
   "execution_count": 43,
   "id": "1e8236ac",
   "metadata": {},
   "outputs": [
    {
     "data": {
      "text/html": [
       "<div>\n",
       "<style scoped>\n",
       "    .dataframe tbody tr th:only-of-type {\n",
       "        vertical-align: middle;\n",
       "    }\n",
       "\n",
       "    .dataframe tbody tr th {\n",
       "        vertical-align: top;\n",
       "    }\n",
       "\n",
       "    .dataframe thead th {\n",
       "        text-align: right;\n",
       "    }\n",
       "</style>\n",
       "<table border=\"1\" class=\"dataframe\">\n",
       "  <thead>\n",
       "    <tr style=\"text-align: right;\">\n",
       "      <th></th>\n",
       "      <th>total</th>\n",
       "      <th>YPF</th>\n",
       "      <th>Santander</th>\n",
       "      <th>Nvidia</th>\n",
       "    </tr>\n",
       "  </thead>\n",
       "  <tbody>\n",
       "    <tr>\n",
       "      <th>0</th>\n",
       "      <td>170262.00</td>\n",
       "      <td>20935</td>\n",
       "      <td>20100</td>\n",
       "      <td>37100.0</td>\n",
       "    </tr>\n",
       "    <tr>\n",
       "      <th>1</th>\n",
       "      <td>169929.50</td>\n",
       "      <td>21030</td>\n",
       "      <td>20500</td>\n",
       "      <td>36255.0</td>\n",
       "    </tr>\n",
       "    <tr>\n",
       "      <th>2</th>\n",
       "      <td>171064.00</td>\n",
       "      <td>20770</td>\n",
       "      <td>21700</td>\n",
       "      <td>36000.0</td>\n",
       "    </tr>\n",
       "    <tr>\n",
       "      <th>3</th>\n",
       "      <td>169637.35</td>\n",
       "      <td>20950</td>\n",
       "      <td>21000</td>\n",
       "      <td>35645.5</td>\n",
       "    </tr>\n",
       "    <tr>\n",
       "      <th>4</th>\n",
       "      <td>164625.45</td>\n",
       "      <td>20750</td>\n",
       "      <td>20316</td>\n",
       "      <td>33878.5</td>\n",
       "    </tr>\n",
       "  </tbody>\n",
       "</table>\n",
       "</div>"
      ],
      "text/plain": [
       "       total    YPF  Santander   Nvidia\n",
       "0  170262.00  20935      20100  37100.0\n",
       "1  169929.50  21030      20500  36255.0\n",
       "2  171064.00  20770      21700  36000.0\n",
       "3  169637.35  20950      21000  35645.5\n",
       "4  164625.45  20750      20316  33878.5"
      ]
     },
     "execution_count": 43,
     "metadata": {},
     "output_type": "execute_result"
    }
   ],
   "source": [
    "# Cargamos los datos\n",
    "dataDict = {'total': [170262,169929.5,171064,169637.35,164625.45], \n",
    "        'YPF': [20935, 21030, 20770, 20950, 20750], \n",
    "        'Santander': [20100, 20500, 21700, 21000, 20316], \n",
    "        'Nvidia': [37100, 36255, 36000, 35645.5, 33878.5]}\n",
    "data = pd.DataFrame.from_dict(dataDict)\n",
    "data"
   ]
  },
  {
   "cell_type": "markdown",
   "id": "a16de483",
   "metadata": {},
   "source": [
    "Nos quedamos con las primeras tres filas y resolvemos el sistema lineal:\n",
    "$$total = c_1 \\cdot YPF + c_2 \\cdot Santander + c_3 \\cdot Nvidia$$\n"
   ]
  },
  {
   "cell_type": "code",
   "execution_count": 44,
   "id": "41579915",
   "metadata": {},
   "outputs": [
    {
     "data": {
      "text/html": [
       "<div>\n",
       "<style scoped>\n",
       "    .dataframe tbody tr th:only-of-type {\n",
       "        vertical-align: middle;\n",
       "    }\n",
       "\n",
       "    .dataframe tbody tr th {\n",
       "        vertical-align: top;\n",
       "    }\n",
       "\n",
       "    .dataframe thead th {\n",
       "        text-align: right;\n",
       "    }\n",
       "</style>\n",
       "<table border=\"1\" class=\"dataframe\">\n",
       "  <thead>\n",
       "    <tr style=\"text-align: right;\">\n",
       "      <th></th>\n",
       "      <th>total</th>\n",
       "      <th>YPF</th>\n",
       "      <th>Santander</th>\n",
       "      <th>Nvidia</th>\n",
       "    </tr>\n",
       "  </thead>\n",
       "  <tbody>\n",
       "    <tr>\n",
       "      <th>0</th>\n",
       "      <td>170262.0</td>\n",
       "      <td>20935</td>\n",
       "      <td>20100</td>\n",
       "      <td>37100.0</td>\n",
       "    </tr>\n",
       "    <tr>\n",
       "      <th>1</th>\n",
       "      <td>169929.5</td>\n",
       "      <td>21030</td>\n",
       "      <td>20500</td>\n",
       "      <td>36255.0</td>\n",
       "    </tr>\n",
       "    <tr>\n",
       "      <th>2</th>\n",
       "      <td>171064.0</td>\n",
       "      <td>20770</td>\n",
       "      <td>21700</td>\n",
       "      <td>36000.0</td>\n",
       "    </tr>\n",
       "  </tbody>\n",
       "</table>\n",
       "</div>"
      ],
      "text/plain": [
       "      total    YPF  Santander   Nvidia\n",
       "0  170262.0  20935      20100  37100.0\n",
       "1  169929.5  21030      20500  36255.0\n",
       "2  171064.0  20770      21700  36000.0"
      ]
     },
     "execution_count": 44,
     "metadata": {},
     "output_type": "execute_result"
    }
   ],
   "source": [
    "data_3rows = data[[True, True, True, False, False]]\n",
    "data_3rows"
   ]
  },
  {
   "cell_type": "code",
   "execution_count": 45,
   "id": "09de4dfa",
   "metadata": {},
   "outputs": [
    {
     "data": {
      "text/html": [
       "<div>\n",
       "<style scoped>\n",
       "    .dataframe tbody tr th:only-of-type {\n",
       "        vertical-align: middle;\n",
       "    }\n",
       "\n",
       "    .dataframe tbody tr th {\n",
       "        vertical-align: top;\n",
       "    }\n",
       "\n",
       "    .dataframe thead th {\n",
       "        text-align: right;\n",
       "    }\n",
       "</style>\n",
       "<table border=\"1\" class=\"dataframe\">\n",
       "  <thead>\n",
       "    <tr style=\"text-align: right;\">\n",
       "      <th></th>\n",
       "      <th>YPF</th>\n",
       "      <th>Santander</th>\n",
       "      <th>Nvidia</th>\n",
       "    </tr>\n",
       "  </thead>\n",
       "  <tbody>\n",
       "    <tr>\n",
       "      <th>0</th>\n",
       "      <td>20935</td>\n",
       "      <td>20100</td>\n",
       "      <td>37100.0</td>\n",
       "    </tr>\n",
       "    <tr>\n",
       "      <th>1</th>\n",
       "      <td>21030</td>\n",
       "      <td>20500</td>\n",
       "      <td>36255.0</td>\n",
       "    </tr>\n",
       "    <tr>\n",
       "      <th>2</th>\n",
       "      <td>20770</td>\n",
       "      <td>21700</td>\n",
       "      <td>36000.0</td>\n",
       "    </tr>\n",
       "  </tbody>\n",
       "</table>\n",
       "</div>"
      ],
      "text/plain": [
       "     YPF  Santander   Nvidia\n",
       "0  20935      20100  37100.0\n",
       "1  21030      20500  36255.0\n",
       "2  20770      21700  36000.0"
      ]
     },
     "metadata": {},
     "output_type": "display_data"
    },
    {
     "data": {
      "text/plain": [
       "0    170262.0\n",
       "1    169929.5\n",
       "2    171064.0\n",
       "Name: total, dtype: float64"
      ]
     },
     "metadata": {},
     "output_type": "display_data"
    }
   ],
   "source": [
    "X_3rows = data_3rows[[\"YPF\", \"Santander\", \"Nvidia\"]]\n",
    "y_3rows = data_3rows[\"total\"]\n",
    "display(X_3rows)\n",
    "display(y_3rows)"
   ]
  },
  {
   "cell_type": "markdown",
   "id": "7aae36e5",
   "metadata": {},
   "source": [
    "Para obtener los valores de c_1, c_2 y c_3 resolvemos el sistema lineal utilizando `np.linalg.solve`"
   ]
  },
  {
   "cell_type": "code",
   "execution_count": 46,
   "id": "7c5d8035",
   "metadata": {},
   "outputs": [
    {
     "name": "stdout",
     "output_type": "stream",
     "text": [
      "[3.2 2.  1.7]\n"
     ]
    }
   ],
   "source": [
    "c = np.linalg.solve(X_3rows, y_3rows)\n",
    "print(c)"
   ]
  },
  {
   "cell_type": "code",
   "execution_count": 47,
   "id": "7734117e",
   "metadata": {},
   "outputs": [
    {
     "data": {
      "text/plain": [
       "0    170262.0\n",
       "1    169929.5\n",
       "2    171064.0\n",
       "dtype: float64"
      ]
     },
     "execution_count": 47,
     "metadata": {},
     "output_type": "execute_result"
    }
   ],
   "source": [
    "# Verificamos\n",
    "X_3rows @ c"
   ]
  },
  {
   "cell_type": "markdown",
   "id": "7e882698",
   "metadata": {},
   "source": [
    "**Pregunta:** A partir de la respuesta, ¿podemos confirmar que este fondo tenía estas 3 acciones? Si no estamos seguros si eran acciones de Santander o Galicia, ¿cómo podríamos asegurarnos?\n",
    "\n",
    "¿Qué pasa si hacemos lo mismo usando los valores de Galicia en lugar de Santander?"
   ]
  },
  {
   "cell_type": "code",
   "execution_count": 48,
   "id": "767cf30d",
   "metadata": {},
   "outputs": [
    {
     "data": {
      "text/html": [
       "<div>\n",
       "<style scoped>\n",
       "    .dataframe tbody tr th:only-of-type {\n",
       "        vertical-align: middle;\n",
       "    }\n",
       "\n",
       "    .dataframe tbody tr th {\n",
       "        vertical-align: top;\n",
       "    }\n",
       "\n",
       "    .dataframe thead th {\n",
       "        text-align: right;\n",
       "    }\n",
       "</style>\n",
       "<table border=\"1\" class=\"dataframe\">\n",
       "  <thead>\n",
       "    <tr style=\"text-align: right;\">\n",
       "      <th></th>\n",
       "      <th>total</th>\n",
       "      <th>YPF</th>\n",
       "      <th>Santander</th>\n",
       "      <th>Nvidia</th>\n",
       "      <th>Galicia</th>\n",
       "    </tr>\n",
       "  </thead>\n",
       "  <tbody>\n",
       "    <tr>\n",
       "      <th>0</th>\n",
       "      <td>170262.00</td>\n",
       "      <td>20935</td>\n",
       "      <td>20100</td>\n",
       "      <td>37100.0</td>\n",
       "      <td>20100</td>\n",
       "    </tr>\n",
       "    <tr>\n",
       "      <th>1</th>\n",
       "      <td>169929.50</td>\n",
       "      <td>21030</td>\n",
       "      <td>20500</td>\n",
       "      <td>36255.0</td>\n",
       "      <td>19400</td>\n",
       "    </tr>\n",
       "    <tr>\n",
       "      <th>2</th>\n",
       "      <td>171064.00</td>\n",
       "      <td>20770</td>\n",
       "      <td>21700</td>\n",
       "      <td>36000.0</td>\n",
       "      <td>21900</td>\n",
       "    </tr>\n",
       "    <tr>\n",
       "      <th>3</th>\n",
       "      <td>169637.35</td>\n",
       "      <td>20950</td>\n",
       "      <td>21000</td>\n",
       "      <td>35645.5</td>\n",
       "      <td>20600</td>\n",
       "    </tr>\n",
       "    <tr>\n",
       "      <th>4</th>\n",
       "      <td>164625.45</td>\n",
       "      <td>20750</td>\n",
       "      <td>20316</td>\n",
       "      <td>33878.5</td>\n",
       "      <td>20900</td>\n",
       "    </tr>\n",
       "  </tbody>\n",
       "</table>\n",
       "</div>"
      ],
      "text/plain": [
       "       total    YPF  Santander   Nvidia  Galicia\n",
       "0  170262.00  20935      20100  37100.0    20100\n",
       "1  169929.50  21030      20500  36255.0    19400\n",
       "2  171064.00  20770      21700  36000.0    21900\n",
       "3  169637.35  20950      21000  35645.5    20600\n",
       "4  164625.45  20750      20316  33878.5    20900"
      ]
     },
     "execution_count": 48,
     "metadata": {},
     "output_type": "execute_result"
    }
   ],
   "source": [
    "# Incorporamos una nueva columna al dataframe\n",
    "data[\"Galicia\"] = np.array([20100, 19400, 21900, 20600, 20900])\n",
    "data"
   ]
  },
  {
   "cell_type": "markdown",
   "id": "f5bcde8b",
   "metadata": {},
   "source": [
    "Resolvemos el sistema de 3 x 3 utilizando los datos de Galicia"
   ]
  },
  {
   "cell_type": "code",
   "execution_count": 49,
   "id": "21080645",
   "metadata": {},
   "outputs": [
    {
     "data": {
      "text/plain": [
       "array([6.69507872, 1.16828332, 0.17838362])"
      ]
     },
     "execution_count": 49,
     "metadata": {},
     "output_type": "execute_result"
    }
   ],
   "source": [
    "dataG_3rows = data[[True, True, True, False, False]]\n",
    "XG_3rows = dataG_3rows[[\"YPF\", \"Galicia\", \"Nvidia\"]]\n",
    "yG_3rows = dataG_3rows[\"total\"]\n",
    "np.linalg.solve(XG_3rows, yG_3rows)"
   ]
  },
  {
   "cell_type": "markdown",
   "id": "8a269b43",
   "metadata": {},
   "source": [
    "Un sistema de 3x3 en general va a tener solución (única), no nos sirve para ver si nuestro \"modelo\" es correcto.\n",
    "Podemos hacer dos cosas:\n",
    "    \n",
    "1. Verificar la formula obtenida en los dias siguientes.\n",
    "2. Utilizar todos los días disponibles para encontrar los coeficientes."
   ]
  },
  {
   "cell_type": "markdown",
   "id": "00398637",
   "metadata": {},
   "source": [
    "Para el método 1 separamos nuestro DataFrame en dos: conjunto de entrenamiento (las primeras 3 filas) y conjunto de testeo (las últimas 2 filas)."
   ]
  },
  {
   "cell_type": "code",
   "execution_count": 50,
   "id": "adefa0a4",
   "metadata": {},
   "outputs": [],
   "source": [
    "train_ind = np.array([True, True, True, False, False])\n",
    "test_ind = np.array([False, False, False, True, True])  # O podemos usar np.logical_not(train_ind)\n",
    "data_train = data[train_ind]\n",
    "data_test = data[test_ind]"
   ]
  },
  {
   "cell_type": "code",
   "execution_count": 51,
   "id": "2e7add09",
   "metadata": {},
   "outputs": [
    {
     "data": {
      "text/plain": [
       "array([3.2, 2. , 1.7])"
      ]
     },
     "execution_count": 51,
     "metadata": {},
     "output_type": "execute_result"
    }
   ],
   "source": [
    "# Entrenamos el primer modelo  (usando la variable Santander)\n",
    "X_train = data_train[[\"YPF\", \"Santander\", \"Nvidia\"]]\n",
    "y_train = data_train[\"total\"]\n",
    "c = np.linalg.solve(X_train, y_train)\n",
    "c"
   ]
  },
  {
   "cell_type": "code",
   "execution_count": 52,
   "id": "099bb2c4",
   "metadata": {},
   "outputs": [
    {
     "data": {
      "text/plain": [
       "3    0.000000e+00\n",
       "4   -2.910383e-11\n",
       "dtype: float64"
      ]
     },
     "execution_count": 52,
     "metadata": {},
     "output_type": "execute_result"
    }
   ],
   "source": [
    "# Verificamos si nuestro modelo \"predice\" bien en el conjunto de testeo:\n",
    "X_test = data_test[[\"YPF\", \"Santander\", \"Nvidia\"]]\n",
    "y_test = data_test[\"total\"]\n",
    "X_test @ c - y_test # Errores"
   ]
  },
  {
   "cell_type": "code",
   "execution_count": 53,
   "id": "3b72c8c0",
   "metadata": {},
   "outputs": [
    {
     "data": {
      "text/plain": [
       "array([6.69507872, 1.16828332, 0.17838362])"
      ]
     },
     "execution_count": 53,
     "metadata": {},
     "output_type": "execute_result"
    }
   ],
   "source": [
    "# Repetimos con el modelo Galicia.\n",
    "\n",
    "# Entrenamos el modelo\n",
    "XG_train = data_train[[\"YPF\", \"Galicia\", \"Nvidia\"]]\n",
    "yG_train = data_train[\"total\"]\n",
    "cG = np.linalg.solve(XG_train, yG_train)\n",
    "cG"
   ]
  },
  {
   "cell_type": "code",
   "execution_count": 54,
   "id": "05b6f616",
   "metadata": {},
   "outputs": [
    {
     "data": {
      "text/plain": [
       "3    1049.758866\n",
       "4    4757.924263\n",
       "dtype: float64"
      ]
     },
     "execution_count": 54,
     "metadata": {},
     "output_type": "execute_result"
    }
   ],
   "source": [
    "# Verificamos si nuestro modelo \"predice\" bien en el conjunto de testeo:\n",
    "XG_test = data_test[[\"YPF\", \"Galicia\", \"Nvidia\"]]\n",
    "yG_test = data_test[\"total\"]\n",
    "XG_test @ cG - yG_test # Errores"
   ]
  },
  {
   "cell_type": "markdown",
   "id": "c45dae5c",
   "metadata": {},
   "source": [
    "Comparando los errores en ambos modelos, vemos que en el primer modelo los errores en las predicciones son nulos y en el segundo no, por lo tanto elegimos el modelo 1."
   ]
  },
  {
   "cell_type": "markdown",
   "id": "04a84762",
   "metadata": {},
   "source": [
    "**Pregunta.** En este ejemplo, cual de los dos modelos tiene errores menores en el ajuste de los datos de entrenamiento?"
   ]
  },
  {
   "cell_type": "markdown",
   "id": "df3a623a",
   "metadata": {},
   "source": [
    "Ahora consideramos 10 días, y utilizamos los 8 primeros para entrenar el modelo."
   ]
  },
  {
   "cell_type": "code",
   "execution_count": 55,
   "id": "5dc560ad",
   "metadata": {},
   "outputs": [
    {
     "data": {
      "text/html": [
       "<div>\n",
       "<style scoped>\n",
       "    .dataframe tbody tr th:only-of-type {\n",
       "        vertical-align: middle;\n",
       "    }\n",
       "\n",
       "    .dataframe tbody tr th {\n",
       "        vertical-align: top;\n",
       "    }\n",
       "\n",
       "    .dataframe thead th {\n",
       "        text-align: right;\n",
       "    }\n",
       "</style>\n",
       "<table border=\"1\" class=\"dataframe\">\n",
       "  <thead>\n",
       "    <tr style=\"text-align: right;\">\n",
       "      <th></th>\n",
       "      <th>total</th>\n",
       "      <th>YPF</th>\n",
       "      <th>Santander</th>\n",
       "      <th>Nvidia</th>\n",
       "      <th>Galicia</th>\n",
       "    </tr>\n",
       "  </thead>\n",
       "  <tbody>\n",
       "    <tr>\n",
       "      <th>0</th>\n",
       "      <td>166650.00</td>\n",
       "      <td>20100</td>\n",
       "      <td>19800</td>\n",
       "      <td>36900.0</td>\n",
       "      <td>23000</td>\n",
       "    </tr>\n",
       "    <tr>\n",
       "      <th>1</th>\n",
       "      <td>167756.00</td>\n",
       "      <td>20230</td>\n",
       "      <td>19890</td>\n",
       "      <td>37200.0</td>\n",
       "      <td>22900</td>\n",
       "    </tr>\n",
       "    <tr>\n",
       "      <th>2</th>\n",
       "      <td>167981.00</td>\n",
       "      <td>20300</td>\n",
       "      <td>19950</td>\n",
       "      <td>37130.0</td>\n",
       "      <td>21800</td>\n",
       "    </tr>\n",
       "    <tr>\n",
       "      <th>3</th>\n",
       "      <td>168597.00</td>\n",
       "      <td>20410</td>\n",
       "      <td>20150</td>\n",
       "      <td>37050.0</td>\n",
       "      <td>21100</td>\n",
       "    </tr>\n",
       "    <tr>\n",
       "      <th>4</th>\n",
       "      <td>168796.00</td>\n",
       "      <td>20500</td>\n",
       "      <td>20080</td>\n",
       "      <td>37080.0</td>\n",
       "      <td>20750</td>\n",
       "    </tr>\n",
       "    <tr>\n",
       "      <th>5</th>\n",
       "      <td>170262.00</td>\n",
       "      <td>20935</td>\n",
       "      <td>20100</td>\n",
       "      <td>37100.0</td>\n",
       "      <td>20100</td>\n",
       "    </tr>\n",
       "    <tr>\n",
       "      <th>6</th>\n",
       "      <td>169929.50</td>\n",
       "      <td>21030</td>\n",
       "      <td>20500</td>\n",
       "      <td>36255.0</td>\n",
       "      <td>19400</td>\n",
       "    </tr>\n",
       "    <tr>\n",
       "      <th>7</th>\n",
       "      <td>171064.00</td>\n",
       "      <td>20770</td>\n",
       "      <td>21700</td>\n",
       "      <td>36000.0</td>\n",
       "      <td>21900</td>\n",
       "    </tr>\n",
       "    <tr>\n",
       "      <th>8</th>\n",
       "      <td>169637.35</td>\n",
       "      <td>20950</td>\n",
       "      <td>21000</td>\n",
       "      <td>35645.5</td>\n",
       "      <td>20600</td>\n",
       "    </tr>\n",
       "    <tr>\n",
       "      <th>9</th>\n",
       "      <td>164625.45</td>\n",
       "      <td>20750</td>\n",
       "      <td>20316</td>\n",
       "      <td>33878.5</td>\n",
       "      <td>20900</td>\n",
       "    </tr>\n",
       "  </tbody>\n",
       "</table>\n",
       "</div>"
      ],
      "text/plain": [
       "       total    YPF  Santander   Nvidia  Galicia\n",
       "0  166650.00  20100      19800  36900.0    23000\n",
       "1  167756.00  20230      19890  37200.0    22900\n",
       "2  167981.00  20300      19950  37130.0    21800\n",
       "3  168597.00  20410      20150  37050.0    21100\n",
       "4  168796.00  20500      20080  37080.0    20750\n",
       "5  170262.00  20935      20100  37100.0    20100\n",
       "6  169929.50  21030      20500  36255.0    19400\n",
       "7  171064.00  20770      21700  36000.0    21900\n",
       "8  169637.35  20950      21000  35645.5    20600\n",
       "9  164625.45  20750      20316  33878.5    20900"
      ]
     },
     "execution_count": 55,
     "metadata": {},
     "output_type": "execute_result"
    }
   ],
   "source": [
    "dataDict = {'total': [166650.00, 167756.00, 167981.00, 168597.00, 168796.00, 170262,169929.5,171064,169637.35,164625.45], \n",
    "        'YPF': [20100, 20230, 20300, 20410, 20500, 20935, 21030, 20770, 20950, 20750], \n",
    "        'Santander': [19800, 19890, 19950, 20150, 20080, 20100, 20500, 21700, 21000, 20316], \n",
    "        'Nvidia': [36900, 37200, 37130, 37050, 37080, 37100, 36255, 36000, 35645.5, 33878.5], \n",
    "        'Galicia': [23000, 22900, 21800, 21100, 20750, 20100, 19400, 21900, 20600, 20900]}\n",
    "data = pd.DataFrame.from_dict(dataDict)\n",
    "data"
   ]
  },
  {
   "cell_type": "code",
   "execution_count": 56,
   "id": "f2736159",
   "metadata": {},
   "outputs": [],
   "source": [
    "train_ind = np.array([True, True, True, True, True, True, True, True, False, False])\n",
    "test_ind = np.logical_not(train_ind)\n",
    "data_train = data[train_ind]\n",
    "data_test = data[test_ind]"
   ]
  },
  {
   "cell_type": "code",
   "execution_count": 57,
   "id": "a7042f9d",
   "metadata": {},
   "outputs": [],
   "source": [
    "# 1. Queremos calcular los coeficientes utilizando los 8 días\n",
    "X = data[[\"YPF\", \"Santander\", \"Nvidia\"]]\n",
    "y = data[\"total\"]\n",
    "#scipy.linalg.solve(X, y)"
   ]
  },
  {
   "cell_type": "code",
   "execution_count": 58,
   "id": "4106a22b",
   "metadata": {},
   "outputs": [
    {
     "data": {
      "text/plain": [
       "array([3.2, 2. , 1.7])"
      ]
     },
     "execution_count": 58,
     "metadata": {},
     "output_type": "execute_result"
    }
   ],
   "source": [
    "# Solve nos da error, solo acepta matrices cuadradas, porque un sistema con mas filas en general no tiene solución.\n",
    "# Cuando tenemos mas filas que columnas usamos lstsq (minimos cuadrados). \n",
    "# lstsp minimiza el error cuadradito. Si el sistema tiene solución exacta nos va a dar esa solución.\n",
    "X_train = data_train[[\"YPF\", \"Santander\", \"Nvidia\"]]\n",
    "y_train = data_train[\"total\"]\n",
    "c = scipy.linalg.lstsq(X_train, y_train)\n",
    "c[0] # Los coeficientes "
   ]
  },
  {
   "cell_type": "code",
   "execution_count": 59,
   "id": "e8703245",
   "metadata": {},
   "outputs": [
    {
     "data": {
      "text/plain": [
       "8    2.910383e-11\n",
       "9    2.910383e-11\n",
       "dtype: float64"
      ]
     },
     "execution_count": 59,
     "metadata": {},
     "output_type": "execute_result"
    }
   ],
   "source": [
    "# Verificamos en los datos de testeo\n",
    "X_test = data_test[[\"YPF\", \"Santander\", \"Nvidia\"]]\n",
    "y_test = data_test[\"total\"]\n",
    "X_test @ c[0] - y_test # Errores"
   ]
  },
  {
   "cell_type": "markdown",
   "id": "c9e62701",
   "metadata": {},
   "source": [
    "Repetimos el mismo procedimiento con las acciones de Galicia."
   ]
  },
  {
   "cell_type": "code",
   "execution_count": 60,
   "id": "deb160a3",
   "metadata": {},
   "outputs": [
    {
     "name": "stdout",
     "output_type": "stream",
     "text": [
      "Coeficientes:  [6.67733464 0.75597813 0.42372503]\n"
     ]
    }
   ],
   "source": [
    "# Solve nos da error, solo acepta matrices cuadradas, porque un sistema con mas filas en general no tiene solución.\n",
    "# Cuando tenemos mas filas que columnas usamos lstsq (minimos cuadrados). \n",
    "# lstsp minimiza el error cuadradito. Si el sistema tiene solución exacta nos va a dar esa solución.\n",
    "XG_train = data_train[[\"YPF\", \"Galicia\", \"Nvidia\"]]\n",
    "yG_train = data_train[\"total\"]\n",
    "cG = scipy.linalg.lstsq(XG_train, yG_train)\n",
    "print(\"Coeficientes: \", cG[0]) # Los coeficientes "
   ]
  },
  {
   "cell_type": "code",
   "execution_count": 61,
   "id": "a63c6b63",
   "metadata": {},
   "outputs": [
    {
     "data": {
      "text/plain": [
       "8     929.850611\n",
       "9    4084.355000\n",
       "dtype: float64"
      ]
     },
     "execution_count": 61,
     "metadata": {},
     "output_type": "execute_result"
    }
   ],
   "source": [
    "# Verificamos en los datos de testeo\n",
    "XG_test = data_test[[\"YPF\", \"Galicia\", \"Nvidia\"]]\n",
    "yG_test = data_test[\"total\"]\n",
    "XG_test @ cG[0] - yG_test # Errores"
   ]
  },
  {
   "cell_type": "markdown",
   "id": "59db1f7c",
   "metadata": {},
   "source": [
    "Observamos que los errores son mucho menores en el primer modelo, por lo tanto nos quedamos con ese modelo."
   ]
  },
  {
   "cell_type": "markdown",
   "id": "bbcabd3e",
   "metadata": {},
   "source": [
    "# Caso de estudio: calorías de alimentos"
   ]
  },
  {
   "cell_type": "code",
   "execution_count": 62,
   "id": "2b8c5c05-4fbd-4314-b5a7-93307a83c133",
   "metadata": {},
   "outputs": [
    {
     "data": {
      "text/html": [
       "<div>\n",
       "<style scoped>\n",
       "    .dataframe tbody tr th:only-of-type {\n",
       "        vertical-align: middle;\n",
       "    }\n",
       "\n",
       "    .dataframe tbody tr th {\n",
       "        vertical-align: top;\n",
       "    }\n",
       "\n",
       "    .dataframe thead th {\n",
       "        text-align: right;\n",
       "    }\n",
       "</style>\n",
       "<table border=\"1\" class=\"dataframe\">\n",
       "  <thead>\n",
       "    <tr style=\"text-align: right;\">\n",
       "      <th></th>\n",
       "      <th>FDC_ID</th>\n",
       "      <th>Item</th>\n",
       "      <th>Category</th>\n",
       "      <th>Calorias_kcal</th>\n",
       "      <th>Proteinas_g</th>\n",
       "      <th>Carbohidratos_g</th>\n",
       "      <th>GrasaTotal_g</th>\n",
       "      <th>Colesterol_mg</th>\n",
       "      <th>Fibra_g</th>\n",
       "      <th>Agua_g</th>\n",
       "      <th>Alcohol_g</th>\n",
       "      <th>VitaminaC_mg</th>\n",
       "    </tr>\n",
       "  </thead>\n",
       "  <tbody>\n",
       "    <tr>\n",
       "      <th>0</th>\n",
       "      <td>167512</td>\n",
       "      <td>Pillsbury Golden Layer Buttermilk Biscuits, Ar...</td>\n",
       "      <td>Baked Products</td>\n",
       "      <td>307.0</td>\n",
       "      <td>5.88</td>\n",
       "      <td>41.18</td>\n",
       "      <td>13.24</td>\n",
       "      <td>0.0</td>\n",
       "      <td>1.2</td>\n",
       "      <td>35.50</td>\n",
       "      <td>NaN</td>\n",
       "      <td>NaN</td>\n",
       "    </tr>\n",
       "    <tr>\n",
       "      <th>1</th>\n",
       "      <td>167513</td>\n",
       "      <td>Pillsbury, Cinnamon Rolls with Icing, refriger...</td>\n",
       "      <td>Baked Products</td>\n",
       "      <td>330.0</td>\n",
       "      <td>4.34</td>\n",
       "      <td>53.42</td>\n",
       "      <td>11.27</td>\n",
       "      <td>0.0</td>\n",
       "      <td>1.4</td>\n",
       "      <td>27.86</td>\n",
       "      <td>NaN</td>\n",
       "      <td>0.1</td>\n",
       "    </tr>\n",
       "    <tr>\n",
       "      <th>2</th>\n",
       "      <td>167514</td>\n",
       "      <td>Kraft Foods, Shake N Bake Original Recipe, Coa...</td>\n",
       "      <td>Baked Products</td>\n",
       "      <td>377.0</td>\n",
       "      <td>6.10</td>\n",
       "      <td>79.80</td>\n",
       "      <td>3.70</td>\n",
       "      <td>NaN</td>\n",
       "      <td>NaN</td>\n",
       "      <td>3.20</td>\n",
       "      <td>NaN</td>\n",
       "      <td>NaN</td>\n",
       "    </tr>\n",
       "    <tr>\n",
       "      <th>3</th>\n",
       "      <td>167515</td>\n",
       "      <td>George Weston Bakeries, Thomas English Muffins</td>\n",
       "      <td>Baked Products</td>\n",
       "      <td>232.0</td>\n",
       "      <td>8.00</td>\n",
       "      <td>46.00</td>\n",
       "      <td>1.80</td>\n",
       "      <td>NaN</td>\n",
       "      <td>NaN</td>\n",
       "      <td>42.60</td>\n",
       "      <td>NaN</td>\n",
       "      <td>NaN</td>\n",
       "    </tr>\n",
       "    <tr>\n",
       "      <th>4</th>\n",
       "      <td>167516</td>\n",
       "      <td>Waffles, buttermilk, frozen, ready-to-heat</td>\n",
       "      <td>Baked Products</td>\n",
       "      <td>273.0</td>\n",
       "      <td>6.58</td>\n",
       "      <td>41.05</td>\n",
       "      <td>9.22</td>\n",
       "      <td>15.0</td>\n",
       "      <td>2.2</td>\n",
       "      <td>40.34</td>\n",
       "      <td>0.0</td>\n",
       "      <td>0.0</td>\n",
       "    </tr>\n",
       "    <tr>\n",
       "      <th>...</th>\n",
       "      <td>...</td>\n",
       "      <td>...</td>\n",
       "      <td>...</td>\n",
       "      <td>...</td>\n",
       "      <td>...</td>\n",
       "      <td>...</td>\n",
       "      <td>...</td>\n",
       "      <td>...</td>\n",
       "      <td>...</td>\n",
       "      <td>...</td>\n",
       "      <td>...</td>\n",
       "      <td>...</td>\n",
       "    </tr>\n",
       "    <tr>\n",
       "      <th>7788</th>\n",
       "      <td>175300</td>\n",
       "      <td>Game meat, buffalo, water, cooked, roasted</td>\n",
       "      <td>Lamb, Veal, and Game Products</td>\n",
       "      <td>131.0</td>\n",
       "      <td>26.83</td>\n",
       "      <td>0.00</td>\n",
       "      <td>1.80</td>\n",
       "      <td>61.0</td>\n",
       "      <td>0.0</td>\n",
       "      <td>68.81</td>\n",
       "      <td>NaN</td>\n",
       "      <td>0.0</td>\n",
       "    </tr>\n",
       "    <tr>\n",
       "      <th>7789</th>\n",
       "      <td>175301</td>\n",
       "      <td>Game meat, elk, raw</td>\n",
       "      <td>Lamb, Veal, and Game Products</td>\n",
       "      <td>111.0</td>\n",
       "      <td>22.95</td>\n",
       "      <td>0.00</td>\n",
       "      <td>1.45</td>\n",
       "      <td>55.0</td>\n",
       "      <td>0.0</td>\n",
       "      <td>74.38</td>\n",
       "      <td>NaN</td>\n",
       "      <td>0.0</td>\n",
       "    </tr>\n",
       "    <tr>\n",
       "      <th>7790</th>\n",
       "      <td>175302</td>\n",
       "      <td>Game meat, elk, cooked, roasted</td>\n",
       "      <td>Lamb, Veal, and Game Products</td>\n",
       "      <td>146.0</td>\n",
       "      <td>30.19</td>\n",
       "      <td>0.00</td>\n",
       "      <td>1.90</td>\n",
       "      <td>73.0</td>\n",
       "      <td>0.0</td>\n",
       "      <td>66.28</td>\n",
       "      <td>NaN</td>\n",
       "      <td>0.0</td>\n",
       "    </tr>\n",
       "    <tr>\n",
       "      <th>7791</th>\n",
       "      <td>175303</td>\n",
       "      <td>Game meat, goat, raw</td>\n",
       "      <td>Lamb, Veal, and Game Products</td>\n",
       "      <td>109.0</td>\n",
       "      <td>20.60</td>\n",
       "      <td>0.00</td>\n",
       "      <td>2.31</td>\n",
       "      <td>57.0</td>\n",
       "      <td>0.0</td>\n",
       "      <td>75.84</td>\n",
       "      <td>NaN</td>\n",
       "      <td>0.0</td>\n",
       "    </tr>\n",
       "    <tr>\n",
       "      <th>7792</th>\n",
       "      <td>175304</td>\n",
       "      <td>Game meat, goat, cooked, roasted</td>\n",
       "      <td>Lamb, Veal, and Game Products</td>\n",
       "      <td>143.0</td>\n",
       "      <td>27.10</td>\n",
       "      <td>0.00</td>\n",
       "      <td>3.03</td>\n",
       "      <td>75.0</td>\n",
       "      <td>0.0</td>\n",
       "      <td>68.21</td>\n",
       "      <td>0.0</td>\n",
       "      <td>0.0</td>\n",
       "    </tr>\n",
       "  </tbody>\n",
       "</table>\n",
       "<p>7793 rows × 12 columns</p>\n",
       "</div>"
      ],
      "text/plain": [
       "      FDC_ID                                               Item  \\\n",
       "0     167512  Pillsbury Golden Layer Buttermilk Biscuits, Ar...   \n",
       "1     167513  Pillsbury, Cinnamon Rolls with Icing, refriger...   \n",
       "2     167514  Kraft Foods, Shake N Bake Original Recipe, Coa...   \n",
       "3     167515     George Weston Bakeries, Thomas English Muffins   \n",
       "4     167516         Waffles, buttermilk, frozen, ready-to-heat   \n",
       "...      ...                                                ...   \n",
       "7788  175300         Game meat, buffalo, water, cooked, roasted   \n",
       "7789  175301                                Game meat, elk, raw   \n",
       "7790  175302                    Game meat, elk, cooked, roasted   \n",
       "7791  175303                               Game meat, goat, raw   \n",
       "7792  175304                   Game meat, goat, cooked, roasted   \n",
       "\n",
       "                           Category  Calorias_kcal  Proteinas_g  \\\n",
       "0                    Baked Products          307.0         5.88   \n",
       "1                    Baked Products          330.0         4.34   \n",
       "2                    Baked Products          377.0         6.10   \n",
       "3                    Baked Products          232.0         8.00   \n",
       "4                    Baked Products          273.0         6.58   \n",
       "...                             ...            ...          ...   \n",
       "7788  Lamb, Veal, and Game Products          131.0        26.83   \n",
       "7789  Lamb, Veal, and Game Products          111.0        22.95   \n",
       "7790  Lamb, Veal, and Game Products          146.0        30.19   \n",
       "7791  Lamb, Veal, and Game Products          109.0        20.60   \n",
       "7792  Lamb, Veal, and Game Products          143.0        27.10   \n",
       "\n",
       "      Carbohidratos_g  GrasaTotal_g  Colesterol_mg  Fibra_g  Agua_g  \\\n",
       "0               41.18         13.24            0.0      1.2   35.50   \n",
       "1               53.42         11.27            0.0      1.4   27.86   \n",
       "2               79.80          3.70            NaN      NaN    3.20   \n",
       "3               46.00          1.80            NaN      NaN   42.60   \n",
       "4               41.05          9.22           15.0      2.2   40.34   \n",
       "...               ...           ...            ...      ...     ...   \n",
       "7788             0.00          1.80           61.0      0.0   68.81   \n",
       "7789             0.00          1.45           55.0      0.0   74.38   \n",
       "7790             0.00          1.90           73.0      0.0   66.28   \n",
       "7791             0.00          2.31           57.0      0.0   75.84   \n",
       "7792             0.00          3.03           75.0      0.0   68.21   \n",
       "\n",
       "      Alcohol_g  VitaminaC_mg  \n",
       "0           NaN           NaN  \n",
       "1           NaN           0.1  \n",
       "2           NaN           NaN  \n",
       "3           NaN           NaN  \n",
       "4           0.0           0.0  \n",
       "...         ...           ...  \n",
       "7788        NaN           0.0  \n",
       "7789        NaN           0.0  \n",
       "7790        NaN           0.0  \n",
       "7791        NaN           0.0  \n",
       "7792        0.0           0.0  \n",
       "\n",
       "[7793 rows x 12 columns]"
      ]
     },
     "execution_count": 62,
     "metadata": {},
     "output_type": "execute_result"
    }
   ],
   "source": [
    "df_nutricion = pd.read_csv('../../Datos/nutrition.csv')\n",
    "df_nutricion"
   ]
  },
  {
   "cell_type": "markdown",
   "id": "e39cab88",
   "metadata": {},
   "source": [
    "Vemos que el DataFrame contiene muchos datos \"NaN\" (not a number). \n",
    "\n",
    "En este ejemplo consideramos que los datos faltantes representan que el alimento no contiene ese ingrediente y lo convertimos a 0."
   ]
  },
  {
   "cell_type": "code",
   "execution_count": 63,
   "id": "6232f3a9-8a94-4576-9719-652a1aad1a9d",
   "metadata": {},
   "outputs": [],
   "source": [
    "# Utilizamos fillna para convertir NaN a 0.\n",
    "df_nutricion = df_nutricion.fillna(0)"
   ]
  },
  {
   "cell_type": "code",
   "execution_count": 64,
   "id": "fc7c6182",
   "metadata": {},
   "outputs": [
    {
     "data": {
      "text/html": [
       "<div>\n",
       "<style scoped>\n",
       "    .dataframe tbody tr th:only-of-type {\n",
       "        vertical-align: middle;\n",
       "    }\n",
       "\n",
       "    .dataframe tbody tr th {\n",
       "        vertical-align: top;\n",
       "    }\n",
       "\n",
       "    .dataframe thead th {\n",
       "        text-align: right;\n",
       "    }\n",
       "</style>\n",
       "<table border=\"1\" class=\"dataframe\">\n",
       "  <thead>\n",
       "    <tr style=\"text-align: right;\">\n",
       "      <th></th>\n",
       "      <th>FDC_ID</th>\n",
       "      <th>Item</th>\n",
       "      <th>Category</th>\n",
       "      <th>Calorias_kcal</th>\n",
       "      <th>Proteinas_g</th>\n",
       "      <th>Carbohidratos_g</th>\n",
       "      <th>GrasaTotal_g</th>\n",
       "      <th>Colesterol_mg</th>\n",
       "      <th>Fibra_g</th>\n",
       "      <th>Agua_g</th>\n",
       "      <th>Alcohol_g</th>\n",
       "      <th>VitaminaC_mg</th>\n",
       "    </tr>\n",
       "  </thead>\n",
       "  <tbody>\n",
       "    <tr>\n",
       "      <th>0</th>\n",
       "      <td>167512</td>\n",
       "      <td>Pillsbury Golden Layer Buttermilk Biscuits, Ar...</td>\n",
       "      <td>Baked Products</td>\n",
       "      <td>307.0</td>\n",
       "      <td>5.88</td>\n",
       "      <td>41.18</td>\n",
       "      <td>13.24</td>\n",
       "      <td>0.0</td>\n",
       "      <td>1.2</td>\n",
       "      <td>35.50</td>\n",
       "      <td>0.0</td>\n",
       "      <td>0.0</td>\n",
       "    </tr>\n",
       "    <tr>\n",
       "      <th>1</th>\n",
       "      <td>167513</td>\n",
       "      <td>Pillsbury, Cinnamon Rolls with Icing, refriger...</td>\n",
       "      <td>Baked Products</td>\n",
       "      <td>330.0</td>\n",
       "      <td>4.34</td>\n",
       "      <td>53.42</td>\n",
       "      <td>11.27</td>\n",
       "      <td>0.0</td>\n",
       "      <td>1.4</td>\n",
       "      <td>27.86</td>\n",
       "      <td>0.0</td>\n",
       "      <td>0.1</td>\n",
       "    </tr>\n",
       "    <tr>\n",
       "      <th>2</th>\n",
       "      <td>167514</td>\n",
       "      <td>Kraft Foods, Shake N Bake Original Recipe, Coa...</td>\n",
       "      <td>Baked Products</td>\n",
       "      <td>377.0</td>\n",
       "      <td>6.10</td>\n",
       "      <td>79.80</td>\n",
       "      <td>3.70</td>\n",
       "      <td>0.0</td>\n",
       "      <td>0.0</td>\n",
       "      <td>3.20</td>\n",
       "      <td>0.0</td>\n",
       "      <td>0.0</td>\n",
       "    </tr>\n",
       "    <tr>\n",
       "      <th>3</th>\n",
       "      <td>167515</td>\n",
       "      <td>George Weston Bakeries, Thomas English Muffins</td>\n",
       "      <td>Baked Products</td>\n",
       "      <td>232.0</td>\n",
       "      <td>8.00</td>\n",
       "      <td>46.00</td>\n",
       "      <td>1.80</td>\n",
       "      <td>0.0</td>\n",
       "      <td>0.0</td>\n",
       "      <td>42.60</td>\n",
       "      <td>0.0</td>\n",
       "      <td>0.0</td>\n",
       "    </tr>\n",
       "    <tr>\n",
       "      <th>4</th>\n",
       "      <td>167516</td>\n",
       "      <td>Waffles, buttermilk, frozen, ready-to-heat</td>\n",
       "      <td>Baked Products</td>\n",
       "      <td>273.0</td>\n",
       "      <td>6.58</td>\n",
       "      <td>41.05</td>\n",
       "      <td>9.22</td>\n",
       "      <td>15.0</td>\n",
       "      <td>2.2</td>\n",
       "      <td>40.34</td>\n",
       "      <td>0.0</td>\n",
       "      <td>0.0</td>\n",
       "    </tr>\n",
       "  </tbody>\n",
       "</table>\n",
       "</div>"
      ],
      "text/plain": [
       "   FDC_ID                                               Item        Category  \\\n",
       "0  167512  Pillsbury Golden Layer Buttermilk Biscuits, Ar...  Baked Products   \n",
       "1  167513  Pillsbury, Cinnamon Rolls with Icing, refriger...  Baked Products   \n",
       "2  167514  Kraft Foods, Shake N Bake Original Recipe, Coa...  Baked Products   \n",
       "3  167515     George Weston Bakeries, Thomas English Muffins  Baked Products   \n",
       "4  167516         Waffles, buttermilk, frozen, ready-to-heat  Baked Products   \n",
       "\n",
       "   Calorias_kcal  Proteinas_g  Carbohidratos_g  GrasaTotal_g  Colesterol_mg  \\\n",
       "0          307.0         5.88            41.18         13.24            0.0   \n",
       "1          330.0         4.34            53.42         11.27            0.0   \n",
       "2          377.0         6.10            79.80          3.70            0.0   \n",
       "3          232.0         8.00            46.00          1.80            0.0   \n",
       "4          273.0         6.58            41.05          9.22           15.0   \n",
       "\n",
       "   Fibra_g  Agua_g  Alcohol_g  VitaminaC_mg  \n",
       "0      1.2   35.50        0.0           0.0  \n",
       "1      1.4   27.86        0.0           0.1  \n",
       "2      0.0    3.20        0.0           0.0  \n",
       "3      0.0   42.60        0.0           0.0  \n",
       "4      2.2   40.34        0.0           0.0  "
      ]
     },
     "execution_count": 64,
     "metadata": {},
     "output_type": "execute_result"
    }
   ],
   "source": [
    "df_nutricion.head()"
   ]
  },
  {
   "cell_type": "markdown",
   "id": "e187a78a-57a5-4fee-a2f2-a10de8f8145a",
   "metadata": {},
   "source": [
    "Construimos las matrices X e y utilizando Formulaic"
   ]
  },
  {
   "cell_type": "code",
   "execution_count": 65,
   "id": "2be722b4",
   "metadata": {},
   "outputs": [],
   "source": [
    "y, X = (\n",
    "    Formula('Calorias_kcal ~ Proteinas_g + Carbohidratos_g + GrasaTotal_g + Colesterol_mg + Fibra_g + Agua_g + Alcohol_g + VitaminaC_mg')\n",
    "    .get_model_matrix(df_nutricion)\n",
    ")"
   ]
  },
  {
   "cell_type": "code",
   "execution_count": 66,
   "id": "5bc14dac",
   "metadata": {},
   "outputs": [
    {
     "data": {
      "text/html": [
       "<div>\n",
       "<style scoped>\n",
       "    .dataframe tbody tr th:only-of-type {\n",
       "        vertical-align: middle;\n",
       "    }\n",
       "\n",
       "    .dataframe tbody tr th {\n",
       "        vertical-align: top;\n",
       "    }\n",
       "\n",
       "    .dataframe thead th {\n",
       "        text-align: right;\n",
       "    }\n",
       "</style>\n",
       "<table border=\"1\" class=\"dataframe\">\n",
       "  <thead>\n",
       "    <tr style=\"text-align: right;\">\n",
       "      <th></th>\n",
       "      <th>Intercept</th>\n",
       "      <th>Proteinas_g</th>\n",
       "      <th>Carbohidratos_g</th>\n",
       "      <th>GrasaTotal_g</th>\n",
       "      <th>Colesterol_mg</th>\n",
       "      <th>Fibra_g</th>\n",
       "      <th>Agua_g</th>\n",
       "      <th>Alcohol_g</th>\n",
       "      <th>VitaminaC_mg</th>\n",
       "    </tr>\n",
       "  </thead>\n",
       "  <tbody>\n",
       "    <tr>\n",
       "      <th>0</th>\n",
       "      <td>1.0</td>\n",
       "      <td>5.88</td>\n",
       "      <td>41.18</td>\n",
       "      <td>13.24</td>\n",
       "      <td>0.0</td>\n",
       "      <td>1.2</td>\n",
       "      <td>35.50</td>\n",
       "      <td>0.0</td>\n",
       "      <td>0.0</td>\n",
       "    </tr>\n",
       "    <tr>\n",
       "      <th>1</th>\n",
       "      <td>1.0</td>\n",
       "      <td>4.34</td>\n",
       "      <td>53.42</td>\n",
       "      <td>11.27</td>\n",
       "      <td>0.0</td>\n",
       "      <td>1.4</td>\n",
       "      <td>27.86</td>\n",
       "      <td>0.0</td>\n",
       "      <td>0.1</td>\n",
       "    </tr>\n",
       "    <tr>\n",
       "      <th>2</th>\n",
       "      <td>1.0</td>\n",
       "      <td>6.10</td>\n",
       "      <td>79.80</td>\n",
       "      <td>3.70</td>\n",
       "      <td>0.0</td>\n",
       "      <td>0.0</td>\n",
       "      <td>3.20</td>\n",
       "      <td>0.0</td>\n",
       "      <td>0.0</td>\n",
       "    </tr>\n",
       "    <tr>\n",
       "      <th>3</th>\n",
       "      <td>1.0</td>\n",
       "      <td>8.00</td>\n",
       "      <td>46.00</td>\n",
       "      <td>1.80</td>\n",
       "      <td>0.0</td>\n",
       "      <td>0.0</td>\n",
       "      <td>42.60</td>\n",
       "      <td>0.0</td>\n",
       "      <td>0.0</td>\n",
       "    </tr>\n",
       "    <tr>\n",
       "      <th>4</th>\n",
       "      <td>1.0</td>\n",
       "      <td>6.58</td>\n",
       "      <td>41.05</td>\n",
       "      <td>9.22</td>\n",
       "      <td>15.0</td>\n",
       "      <td>2.2</td>\n",
       "      <td>40.34</td>\n",
       "      <td>0.0</td>\n",
       "      <td>0.0</td>\n",
       "    </tr>\n",
       "  </tbody>\n",
       "</table>\n",
       "</div>"
      ],
      "text/plain": [
       "   Intercept  Proteinas_g  Carbohidratos_g  GrasaTotal_g  Colesterol_mg  \\\n",
       "0        1.0         5.88            41.18         13.24            0.0   \n",
       "1        1.0         4.34            53.42         11.27            0.0   \n",
       "2        1.0         6.10            79.80          3.70            0.0   \n",
       "3        1.0         8.00            46.00          1.80            0.0   \n",
       "4        1.0         6.58            41.05          9.22           15.0   \n",
       "\n",
       "   Fibra_g  Agua_g  Alcohol_g  VitaminaC_mg  \n",
       "0      1.2   35.50        0.0           0.0  \n",
       "1      1.4   27.86        0.0           0.1  \n",
       "2      0.0    3.20        0.0           0.0  \n",
       "3      0.0   42.60        0.0           0.0  \n",
       "4      2.2   40.34        0.0           0.0  "
      ]
     },
     "execution_count": 66,
     "metadata": {},
     "output_type": "execute_result"
    }
   ],
   "source": [
    "X.head() # Vemos que nos agregó una columna de Intercept"
   ]
  },
  {
   "cell_type": "code",
   "execution_count": 67,
   "id": "377e96a3",
   "metadata": {},
   "outputs": [
    {
     "data": {
      "text/html": [
       "<div>\n",
       "<style scoped>\n",
       "    .dataframe tbody tr th:only-of-type {\n",
       "        vertical-align: middle;\n",
       "    }\n",
       "\n",
       "    .dataframe tbody tr th {\n",
       "        vertical-align: top;\n",
       "    }\n",
       "\n",
       "    .dataframe thead th {\n",
       "        text-align: right;\n",
       "    }\n",
       "</style>\n",
       "<table border=\"1\" class=\"dataframe\">\n",
       "  <thead>\n",
       "    <tr style=\"text-align: right;\">\n",
       "      <th></th>\n",
       "      <th>Calorias_kcal</th>\n",
       "    </tr>\n",
       "  </thead>\n",
       "  <tbody>\n",
       "    <tr>\n",
       "      <th>0</th>\n",
       "      <td>307.0</td>\n",
       "    </tr>\n",
       "    <tr>\n",
       "      <th>1</th>\n",
       "      <td>330.0</td>\n",
       "    </tr>\n",
       "    <tr>\n",
       "      <th>2</th>\n",
       "      <td>377.0</td>\n",
       "    </tr>\n",
       "    <tr>\n",
       "      <th>3</th>\n",
       "      <td>232.0</td>\n",
       "    </tr>\n",
       "    <tr>\n",
       "      <th>4</th>\n",
       "      <td>273.0</td>\n",
       "    </tr>\n",
       "  </tbody>\n",
       "</table>\n",
       "</div>"
      ],
      "text/plain": [
       "   Calorias_kcal\n",
       "0          307.0\n",
       "1          330.0\n",
       "2          377.0\n",
       "3          232.0\n",
       "4          273.0"
      ]
     },
     "execution_count": 67,
     "metadata": {},
     "output_type": "execute_result"
    }
   ],
   "source": [
    "y.head()"
   ]
  },
  {
   "cell_type": "markdown",
   "id": "49aed891",
   "metadata": {},
   "source": [
    "**Observación**\n",
    "\n",
    "En este caso sencillo, podemos obtener lo mismo (excepto por la columna Intercept) utilizando una lista de columnas.\n"
   ]
  },
  {
   "cell_type": "code",
   "execution_count": 68,
   "id": "102538af-1fe3-4fc3-8810-92890fe8e8e2",
   "metadata": {},
   "outputs": [],
   "source": [
    "#X = df_nutrition[[\"Proteinas_g\", \"Carbohidratos_g\", \"GrasaTotal_g\", \"Colesterol_mg\",\"Fibra_g\", \"Agua_g\",\"Alcohol_g\",\"VitaminaC_mg\"]]\n",
    "#y = df_nutrition[\"Calorias_kcal\"]"
   ]
  },
  {
   "cell_type": "markdown",
   "id": "bc3a43bf",
   "metadata": {},
   "source": [
    "Antes de separar en entrenamiento y testeo, veamos los errores del modelo lineal con todos los datos "
   ]
  },
  {
   "cell_type": "code",
   "execution_count": 69,
   "id": "e193f1d4-adaa-4e70-b268-30c77b057e46",
   "metadata": {},
   "outputs": [
    {
     "ename": "SyntaxError",
     "evalue": "invalid syntax (787871678.py, line 4)",
     "output_type": "error",
     "traceback": [
      "\u001b[0;36m  Cell \u001b[0;32mIn[69], line 4\u001b[0;36m\u001b[0m\n\u001b[0;31m    modelo.fit(???)   # Realizamos el ajuste\u001b[0m\n\u001b[0m               ^\u001b[0m\n\u001b[0;31mSyntaxError\u001b[0m\u001b[0;31m:\u001b[0m invalid syntax\n"
     ]
    }
   ],
   "source": [
    "modelo = linear_model.LinearRegression(fit_intercept = False)    # Inicializamos un modelo de Regresion Lineal. \n",
    "                                       # Como la matriz X ya tiene el intercept, no agregamos intercept en la regresión\n",
    "    \n",
    "modelo.fit(???)   # Realizamos el ajuste"
   ]
  },
  {
   "cell_type": "code",
   "execution_count": null,
   "id": "e795348d-9d21-4f1e-b6ee-b210f12ee8c8",
   "metadata": {},
   "outputs": [],
   "source": [
    "modelo.coef_"
   ]
  },
  {
   "cell_type": "markdown",
   "id": "0e98535b",
   "metadata": {},
   "source": [
    "Analizando los coeficientes vemos que las variables Proteinas_g, Carbohidratos_g y GrasaTotal_g son las que tienen mayor peso en el modelo."
   ]
  },
  {
   "cell_type": "markdown",
   "id": "d92eb79f",
   "metadata": {},
   "source": [
    "Analizamos la \"bondad\" del ajuste."
   ]
  },
  {
   "cell_type": "code",
   "execution_count": null,
   "id": "d51f6310-bae7-425b-b28d-ccee777bd130",
   "metadata": {},
   "outputs": [],
   "source": [
    "y_pred = modelo.predict(???)\n",
    "# Calculando el R^2\n",
    "r2 = r2_score(y, y_pred)\n",
    "print('R^2: ', r2)\n",
    "\n",
    "# Calculando el ECM\n",
    "ecm = mean_squared_error(y, y_pred)\n",
    "print('Raiz cuadarada del ECM: ', np.sqrt(ecm))"
   ]
  },
  {
   "cell_type": "markdown",
   "id": "ff1178f1",
   "metadata": {},
   "source": [
    "A priori es un buen modelo, tenemos 7792 observaciones y obtenemos R^2 casi igual a 1 con solo 9 variables."
   ]
  },
  {
   "cell_type": "markdown",
   "id": "b95b72ab-58a9-4380-8a73-a79b418d33bf",
   "metadata": {},
   "source": [
    "# Conjuntos de entrenamiento y testeo\n",
    "Ajustamos el modelo separando en 80-20"
   ]
  },
  {
   "cell_type": "code",
   "execution_count": null,
   "id": "fc1e09d8-de0a-4f8a-ab53-3118a4119fde",
   "metadata": {},
   "outputs": [],
   "source": [
    "from sklearn.model_selection import  "
   ]
  },
  {
   "cell_type": "code",
   "execution_count": null,
   "id": "2c4e2e98-8bb6-4dc4-a7a6-69fdcec052ef",
   "metadata": {},
   "outputs": [],
   "source": [
    "y, X = (\n",
    "    Formula('Calorias_kcal ~ Proteinas_g + Carbohidratos_g + GrasaTotal_g + Colesterol_mg + Fibra_g + Agua_g + Alcohol_g + VitaminaC_mg')\n",
    "    .get_model_matrix(df_comida)\n",
    ")\n",
    "\n",
    "# Separamos en entrenamiento (train) y testeo (test).\n",
    "# El parámetro test_size=0.2 indica que tomamos un 20% de los datos para testeo.\n",
    "# El parámetro random_state=42 es lo que se denomina semilla aleatoria. \n",
    "X_train, X_test, y_train, y_test = train_test_split(X, y, test_size=0.2, random_state=2)"
   ]
  },
  {
   "cell_type": "markdown",
   "id": "5b08a862",
   "metadata": {},
   "source": [
    "### Números pseudo-aleatorios y semillas aleatorias.\n",
    "\n",
    "Las computadoras no pueden generar números al azar, tienen algoritmos que generan números que parecen al azar denominados pseudo aleatorios. \n",
    "\n",
    "Los números se generan a partir de una semilla. Si corremos el codigo utilizando la misma semilla,  vamos a obtener siempre el mismo resultado.\n",
    "\n",
    "Esto permite que el experimento sea reproducible."
   ]
  },
  {
   "cell_type": "markdown",
   "id": "8599011d",
   "metadata": {},
   "source": [
    "### Entrenamiento"
   ]
  },
  {
   "cell_type": "code",
   "execution_count": null,
   "id": "d04aee1c-283e-4c3a-929e-c5c73ff7c2b1",
   "metadata": {},
   "outputs": [],
   "source": [
    "# Entrenamos el modelo utilizando los conjuntos de entrenamiento\n",
    "\n",
    "modelo = linear_model.LinearRegression(fit_intercept = False)    # Inicializamos un modelo de Regresion Lineal\n",
    "modelo.fit(???)   # Realizamos el ajuste"
   ]
  },
  {
   "cell_type": "markdown",
   "id": "210ab920",
   "metadata": {},
   "source": [
    "### Testeo"
   ]
  },
  {
   "cell_type": "code",
   "execution_count": null,
   "id": "b72489a8",
   "metadata": {},
   "outputs": [],
   "source": [
    "# Medimos la bondad del ajuste en el conjunto de testeo\n",
    "\n",
    "y_pred = modelo.predict(???)\n",
    "\n",
    "# Calculando el R^2\n",
    "r2 = r2_score(???)\n",
    "print('R^2: ', r2)\n",
    "\n",
    "# Calculando el ECM\n",
    "ecm = mean_squared_error(???)\n",
    "print('Raiz cuadarada del ECM: ', np.sqrt(ecm))"
   ]
  },
  {
   "cell_type": "markdown",
   "id": "6cf3085e",
   "metadata": {},
   "source": [
    "Vemos que el modelo ajusto bien en los datos de testeo, podemos confiar en el modelo obtenido."
   ]
  },
  {
   "cell_type": "markdown",
   "id": "19300e6e",
   "metadata": {},
   "source": [
    "**Ejercicio:** Utilizar distintas semillas aleatorias. ¿Se obtienen los mismos valores? ¿Se mantienen las conclusiones?"
   ]
  },
  {
   "cell_type": "markdown",
   "id": "56b954aa-68c0-4c08-bda8-1cbedd6087ce",
   "metadata": {},
   "source": [
    "## Selección de modelos\n",
    "\n",
    "Comparamos con un modelo utilizando solo las tres primeras variables (las de mayor peso en el modelo) y sin intercept."
   ]
  },
  {
   "cell_type": "code",
   "execution_count": null,
   "id": "b11a869f-0f7d-4172-b939-0106d1ca0218",
   "metadata": {},
   "outputs": [],
   "source": [
    "y, X = (\n",
    "    Formula('Calorias_kcal ~ Proteinas_g + Carbohidratos_g + GrasaTotal_g - 1')\n",
    "    .get_model_matrix(df_comida)\n",
    ")\n",
    "X.head()"
   ]
  },
  {
   "cell_type": "code",
   "execution_count": null,
   "id": "83639168",
   "metadata": {},
   "outputs": [],
   "source": [
    "# Separamos en entrenamiento (train) y testeo (test).\n",
    "# El parámetro test_size=0.2 indica que tomamos un 20% de los datos para testeo.\n",
    "# El parámetro random_state=42 es lo que se denomina semilla aleatoria. \n",
    "X_train, X_test, y_train, y_test = train_test_split(X, y, test_size=0.2, random_state=42)"
   ]
  },
  {
   "cell_type": "code",
   "execution_count": null,
   "id": "5bcf22a9-49ba-4be5-8f4b-6b2745268be6",
   "metadata": {},
   "outputs": [],
   "source": [
    "modelo = linear_model.LinearRegression(fit_intercept = False)    # Inicializamos un modelo de Regresion Lineal sin intercept\n",
    "modelo.fit(X_train, y_train)   # Realiza\n",
    "print(\"Coeficientes:\", modelo.coef_)\n",
    "\n",
    "y_pred = modelo.predict(X_test)\n",
    "# Calculando el R^2\n",
    "r2 = r2_score(y_test, y_pred)\n",
    "print('R^2: ', r2)\n",
    "\n",
    "# Calculando el ECM\n",
    "ecm = mean_squared_error(y_test, y_pred)\n",
    "print('Raiz cuadarada del ECM: ', np.sqrt(ecm))"
   ]
  },
  {
   "cell_type": "markdown",
   "id": "0d26f40c",
   "metadata": {},
   "source": [
    "Vemos que el modelo es un poco peor pero mucho más simple. \n",
    "\n",
    "**Conclusión rápida:** El modelo con 3 variables es útil para una cuenta rápida, pero si necesitamos una mayor precisión podemos utilizar el modelo completo."
   ]
  },
  {
   "cell_type": "markdown",
   "id": "12f09215",
   "metadata": {},
   "source": [
    "**Ejercicio.** Buscar en recursos en-línea la fórmula usualmente utilizada para el cálculo de calorías y comparar con la fórmula que obtuvimos."
   ]
  },
  {
   "cell_type": "markdown",
   "id": "8ec5373e",
   "metadata": {},
   "source": [
    "# Caso de estudio: rendimiento del suelo"
   ]
  },
  {
   "cell_type": "code",
   "execution_count": null,
   "id": "637f7166-c8b9-44c3-a802-ba70c7ab0f7e",
   "metadata": {},
   "outputs": [],
   "source": [
    "df_rendimiento = pd.read_csv('../data/rendimiento.csv')\n",
    "df_rendimiento.head()"
   ]
  },
  {
   "cell_type": "markdown",
   "id": "76640ba9",
   "metadata": {},
   "source": [
    "**Ejercicio.**\n",
    "\n",
    "Proponer un modelo para predecir el rendimiento de una hectárea cultivada en función de algunas características del lugar y los fertilizantes utilizados."
   ]
  },
  {
   "cell_type": "code",
   "execution_count": null,
   "id": "33a41cb7-e66a-4c0c-8e8a-15c2446a0b84",
   "metadata": {},
   "outputs": [],
   "source": [
    "df_rendimiento.info()"
   ]
  },
  {
   "cell_type": "code",
   "execution_count": null,
   "id": "fcbbc4de",
   "metadata": {},
   "outputs": [],
   "source": [
    "# Acá están todas las variables\n",
    "\"Rendimiento ~ pH + MO + P + N + S + P_Ferti + P_kgha + S_Fuente + S_kgha + Ndisp + Palc + Variedad + FdS + plantas + momento + IncSep + IncMam + IncRoya + FdD + Espigas\""
   ]
  },
  {
   "cell_type": "markdown",
   "id": "6b965805",
   "metadata": {},
   "source": [
    "# Interacciones entre variables y la paradoja de Simpson."
   ]
  },
  {
   "cell_type": "markdown",
   "id": "8d0defec",
   "metadata": {},
   "source": [
    "Queremos estudiar la relación entre la longitud y la profundidad del pico de los pingüinos."
   ]
  },
  {
   "cell_type": "code",
   "execution_count": null,
   "id": "828a9c3b",
   "metadata": {},
   "outputs": [],
   "source": [
    "penguins = sns.load_dataset(\"penguins\")  # Eliminamos las filas con datos faltantes\n",
    "penguins.head()"
   ]
  },
  {
   "cell_type": "code",
   "execution_count": null,
   "id": "4d775e2d",
   "metadata": {},
   "outputs": [],
   "source": [
    "# Vemos que hay datos faltanes.\n",
    "# Eliminamos las filas con datos faltantes\n",
    "penguins = penguins.dropna()  \n",
    "penguins.head()"
   ]
  },
  {
   "cell_type": "code",
   "execution_count": null,
   "id": "82823219",
   "metadata": {},
   "outputs": [],
   "source": [
    "# Ajustamos un modelo lineal y calculamos el coeficiente de correlación R^2\n",
    "y, X = (\n",
    "    Formula('???')\n",
    "    .get_model_matrix(penguins)\n",
    ")\n",
    "display(X.head()) # Observamos que eliminó automáticamente las filas con datos faltantes"
   ]
  },
  {
   "cell_type": "code",
   "execution_count": null,
   "id": "f1b3bfde",
   "metadata": {},
   "outputs": [],
   "source": [
    "modelo = linear_model.LinearRegression(fit_intercept = False)    # Inicializamos un modelo de Regresion Lineal sin intercept\n",
    "modelo.fit(X, y)   # Realiza\n",
    "print(\"Coeficientes:\", modelo.coef_)\n",
    "\n",
    "y_pred = modelo.predict(X)\n",
    "# Calculando el R^2\n",
    "r2 = r2_score(y, y_pred)\n",
    "print('R^2: ', r2)\n",
    "\n",
    "# Calculando el ECM\n",
    "ecm = mean_squared_error(y, y_pred)\n",
    "print('Raiz cuadarada del ECM: ', np.sqrt(ecm))"
   ]
  },
  {
   "cell_type": "markdown",
   "id": "e0ff005d",
   "metadata": {},
   "source": [
    "Si analizamos rápidamente estos resultados diríamos que no hay relación entre el largo y la produndidad... (o que hay correlación negativa porque la pendiente es negativa). Resulta un poco extraño..."
   ]
  },
  {
   "cell_type": "markdown",
   "id": "0ee31575",
   "metadata": {},
   "source": [
    "¿Cómo podemos analizar mejor qué está pasando?\n",
    ".\n",
    "\n",
    ".\n",
    "\n",
    ".\n",
    "\n",
    ".\n",
    "\n",
    ".\n",
    "\n",
    ".\n",
    "\n",
    ".\n",
    "\n",
    ".\n",
    "\n",
    ".\n",
    "\n",
    ".\n",
    "\n",
    ".\n",
    "\n",
    ".\n",
    "\n",
    ".\n",
    "\n",
    ".\n",
    "\n",
    ".\n",
    "\n",
    "\n"
   ]
  },
  {
   "cell_type": "markdown",
   "id": "0dbdfe28",
   "metadata": {},
   "source": [
    "Realicemos un gráfico!"
   ]
  },
  {
   "cell_type": "code",
   "execution_count": null,
   "id": "8c4617e5",
   "metadata": {},
   "outputs": [],
   "source": [
    "(\n",
    "    so.Plot(data = penguins, x = \"bill_length_mm\", y = \"bill_depth_mm\")\n",
    "    .add(so.Dot())\n",
    "    .add(so.Line(), so.PolyFit(1))\n",
    ")"
   ]
  },
  {
   "cell_type": "markdown",
   "id": "1ca5dc8c",
   "metadata": {},
   "source": [
    "El gráfico confirma la correlación negativa, pero notan algo raro? Tal vez hay algo que no estamos teniendo en cuenta?\n",
    "\n",
    ".\n",
    "\n",
    ".\n",
    "\n",
    ".\n",
    "\n",
    ".\n",
    "\n",
    ".\n",
    "\n",
    "\n",
    ".\n",
    "\n",
    ".\n",
    "\n",
    ".\n",
    "\n",
    ".\n",
    "\n",
    ".\n",
    "\n",
    "\n",
    ".\n",
    "\n",
    ".\n",
    "\n",
    ".\n",
    "\n",
    ".\n",
    "\n",
    ".\n",
    "\n"
   ]
  },
  {
   "cell_type": "markdown",
   "id": "bfdb9535",
   "metadata": {},
   "source": [
    "Repetimos el gráfico coloreando los puntos según la especie."
   ]
  },
  {
   "cell_type": "code",
   "execution_count": null,
   "id": "5ad6791a",
   "metadata": {},
   "outputs": [],
   "source": [
    "(\n",
    "    so.Plot(data = penguins, x = \"bill_depth_mm\", y = \"bill_length_mm\", color = \"species\")\n",
    "    .add(so.Dot())\n",
    ")"
   ]
  },
  {
   "cell_type": "markdown",
   "id": "792ac09e",
   "metadata": {},
   "source": [
    "En este gráfico por especie vemos dentro de cada especie puede haber correlación. Verificamos agregando los ajustes por especie."
   ]
  },
  {
   "cell_type": "code",
   "execution_count": null,
   "id": "50227811",
   "metadata": {},
   "outputs": [],
   "source": [
    "(\n",
    "    so.Plot(data = penguins, x = \"bill_depth_mm\", y = \"bill_length_mm\", color = \"species\")\n",
    "    .add(so.Dot())\n",
    "    .add(so.Line(), so.PolyFit(1))\n",
    ")"
   ]
  },
  {
   "cell_type": "markdown",
   "id": "0ca560b0",
   "metadata": {},
   "source": [
    "Ahora las rectas tienen pendiente positiva! Al considerar todas las especies al mismo tiempo, no podíamos ver esta correlación."
   ]
  },
  {
   "cell_type": "markdown",
   "id": "add3e9d4",
   "metadata": {},
   "source": [
    "## La paradoja de Simpson\n",
    "La paradoja de Simpson es un fenómeno estadístico en el cual una relación entre variables aparece, desaparece o se revierte al dividir a la población en subpoblaciones."
   ]
  },
  {
   "cell_type": "markdown",
   "id": "5024b0a9",
   "metadata": {},
   "source": [
    "**Ejemplo.** Veamos otro ejemplo simulado.\n",
    "Generamos dos poblaciones distribuidas aleatoriamente alrededor de dos centros."
   ]
  },
  {
   "cell_type": "code",
   "execution_count": null,
   "id": "c6a060e1",
   "metadata": {},
   "outputs": [],
   "source": [
    "from sklearn.datasets import make_blobs\n",
    "centers = [[2, 2], [-2, -2]]\n",
    "X, labels_true = make_blobs(\n",
    "    n_samples=750, centers=centers, cluster_std=0.4, random_state=0)\n",
    "x = X[:,0]\n",
    "y = X[:,1]"
   ]
  },
  {
   "cell_type": "code",
   "execution_count": null,
   "id": "803b3c65",
   "metadata": {},
   "outputs": [],
   "source": [
    "(\n",
    "    so.Plot(x = x, y = y)\n",
    "    .add(so.Dot(), color = labels_true)\n",
    "    .add(so.Line(), so.PolyFit(1))\n",
    ")"
   ]
  },
  {
   "cell_type": "markdown",
   "id": "14b6435d",
   "metadata": {},
   "source": [
    "En este ejemplo, podríamos decir que hay correlación entre la variable $x$ y la variable $y$?\n",
    "\n",
    "Calculemos el R^2..."
   ]
  },
  {
   "cell_type": "code",
   "execution_count": null,
   "id": "a2cfb9ab",
   "metadata": {},
   "outputs": [],
   "source": [
    "modelo = linear_model.LinearRegression()    # Inicializamos un modelo de Regresion Lineal\n",
    "modelo.fit(pd.DataFrame(x), y)   # Realiza\n",
    "\n",
    "print(\"Coeficientes:\", modelo.coef_)\n",
    "\n",
    "# Medidas de bondad\n",
    "\n",
    "y_pred = modelo.predict(pd.DataFrame(X[:,0]))\n",
    "\n",
    "# Calculando el R^2\n",
    "r2 = r2_score(X[:,1], y_pred)\n",
    "print('R^2: ', r2)"
   ]
  },
  {
   "cell_type": "markdown",
   "id": "85091992",
   "metadata": {},
   "source": [
    "Los datos parecen altamente correlacionados. Pero si separamos por grupo..."
   ]
  },
  {
   "cell_type": "code",
   "execution_count": null,
   "id": "d8f197a6",
   "metadata": {},
   "outputs": [],
   "source": [
    "(\n",
    "    so.Plot(x = x, y = y)\n",
    "    .add(so.Dot(), color = labels_true)\n",
    "    .add(so.Line(), so.PolyFit(1), group = labels_true)\n",
    ")"
   ]
  },
  {
   "cell_type": "markdown",
   "id": "4536b851",
   "metadata": {},
   "source": [
    "Vemos en el gráfico que la pendiente ahora pasa a ser casi 0.\n",
    "\n",
    "¿Cómo podemos construir nosotros estos modelos y calcular los coeficientes y el R^2?\n",
    "\n",
    "Recordemos las operaciones que nos permite hacer Formulaic.\n",
    "\n",
    "| Operador | Ejemplo          | Función                                                                                           |\n",
    "|:---------|:-----------------|:---------------------------------------------------------------------------------------------------|\n",
    "| ~        | y ~ x            | Separa la variable (y) respuesta a la izquierda, de el/los predictor/es a la derecha (x).       |\n",
    "| +        | y ~ x + z        | Adiciona (suma) términos al modelo.                                                              |\n",
    "| :        | y ~ x : z        | Interacción entre términos. y es lineal en x ⋅ z.                                                |\n",
    "| *        | y ~ x * z        | Combina adición e interacción entre términos. y ~ x * z es equivalente a y ~ x + z + x : z       |"
   ]
  },
  {
   "cell_type": "code",
   "execution_count": null,
   "id": "ef05a8bd",
   "metadata": {},
   "outputs": [],
   "source": [
    "y, X = Formula(\"bill_length_mm ~ ???\").get_model_matrix(penguins)\n",
    "display(X)"
   ]
  },
  {
   "cell_type": "code",
   "execution_count": null,
   "id": "fcd39088",
   "metadata": {},
   "outputs": [],
   "source": [
    "modelo = linear_model.LinearRegression(fit_intercept = False)    # Inicializamos un modelo de Regresion Lineal sin intercept\n",
    "modelo.fit(X, y)   # Realiza\n",
    "print(\"Coeficientes:\", modelo.coef_)"
   ]
  },
  {
   "cell_type": "markdown",
   "id": "fd892530",
   "metadata": {},
   "source": [
    "**Pregunta:** ¿Cuáles coeficientes nos indican las pendientes de las rectas?"
   ]
  },
  {
   "cell_type": "code",
   "execution_count": null,
   "id": "24c29b2f",
   "metadata": {},
   "outputs": [],
   "source": [
    "# Calculamos el R^2\n",
    "y_pred = modelo.predict(X)\n",
    "\n",
    "# Calculando el R^2\n",
    "r2 = r2_score(y, y_pred)\n",
    "print('R^2: ', r2)"
   ]
  },
  {
   "cell_type": "code",
   "execution_count": null,
   "id": "9c9c8779",
   "metadata": {},
   "outputs": [],
   "source": [
    "# Los últimos tres números son las pendientes de las rectas.\n",
    "# Cómo podemos graficar este modelo?\n",
    "\n",
    "y_pred = modelo.predict(X)\n",
    "\n",
    "(\n",
    "    so.Plot(data = penguins, x = \"bill_depth_mm\", y = \"bill_length_mm\", color = \"species\")\n",
    "    .add(so.Dot())\n",
    "    .add(so.Line(), ???)  # Otro milagro!! No le tenía ninguna fe a esto :)\n",
    ")"
   ]
  },
  {
   "cell_type": "markdown",
   "id": "ea28e245",
   "metadata": {},
   "source": [
    "**Ejercicio.** Realizar ahora un modelo donde todas las rectas tengan la misma pendiente y solo cambie el intercept según la especie."
   ]
  },
  {
   "cell_type": "code",
   "execution_count": null,
   "id": "b276184a",
   "metadata": {},
   "outputs": [],
   "source": []
  }
 ],
 "metadata": {
  "kernelspec": {
   "display_name": "Python 3 (ipykernel)",
   "language": "python",
   "name": "python3"
  },
  "language_info": {
   "codemirror_mode": {
    "name": "ipython",
    "version": 3
   },
   "file_extension": ".py",
   "mimetype": "text/x-python",
   "name": "python",
   "nbconvert_exporter": "python",
   "pygments_lexer": "ipython3",
   "version": "3.9.6"
  }
 },
 "nbformat": 4,
 "nbformat_minor": 5
}
