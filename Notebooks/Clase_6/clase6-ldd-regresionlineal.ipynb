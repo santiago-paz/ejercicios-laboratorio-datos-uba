{
 "cells": [
  {
   "cell_type": "markdown",
   "id": "4739e738-c901-4cc5-b386-2a1ea091ec97",
   "metadata": {},
   "source": [
    "# Regresión Lineal\n",
    "\n",
    "### Laboratorio de Datos, IC - FCEN - UBA - 1er. Cuatrimestre 2024\n",
    "\n"
   ]
  },
  {
   "cell_type": "markdown",
   "id": "628c1bc8-fc37-455a-a11f-3678710bb414",
   "metadata": {},
   "source": [
    "### Preparando scikit-learn\n",
    "\n",
    "Utilizaremos el módulo `scikit-learn` de Python. Para instalarlo, correr:"
   ]
  },
  {
   "cell_type": "code",
   "execution_count": null,
   "id": "e8e8ad9d-8e23-47ec-b15a-03ece7883a1a",
   "metadata": {},
   "outputs": [],
   "source": [
    "pip install scikit-learn"
   ]
  },
  {
   "cell_type": "markdown",
   "id": "64c5dca5-8410-4d7e-91f0-4bd9933c64d4",
   "metadata": {},
   "source": [
    "Importamos los módulos de siempre, las herramientas de modelos lineales y las medidas de desempeño del modelo de `scikit-learn`:"
   ]
  },
  {
   "cell_type": "code",
   "execution_count": null,
   "id": "6b2c70cd-c201-4157-b44a-28599bec5c80",
   "metadata": {},
   "outputs": [],
   "source": [
    "import numpy as np\n",
    "import pandas as pd\n",
    "import seaborn as sns\n",
    "import seaborn.objects as so\n",
    "\n",
    "from sklearn import linear_model    # Herramientas de modelos lineales\n",
    "from sklearn.metrics import mean_squared_error, r2_score    # Medidas de desempeño"
   ]
  },
  {
   "cell_type": "markdown",
   "id": "53f10686-5029-4e5a-b403-e6523749a5d3",
   "metadata": {},
   "source": [
    "### Modelo de Regresión Lineal\n",
    "\n",
    "Queremos utilizar un modelo lineal:\n",
    "$$ Y = \\beta_0 + \\beta_1 X $$\n",
    "para intentar predecir valores continuos."
   ]
  },
  {
   "cell_type": "markdown",
   "id": "6732832e-6c79-410e-94d0-337ee6852ca2",
   "metadata": {},
   "source": [
    "### Visualización\n",
    "\n",
    "Con lo que hemos visto las clases anteriores, visualizar la recta que mejor aproxima a los datos en el sentido de cuadrados mínimos es relativamente sencillo con `seaborn objects`, ya que `seaborn` calcula automáticamente los valores de $\\beta_0$ y $\\beta_1$.\n",
    "\n",
    "Utilizaremos el dataset _tips_ de `seaborn` y analizaremos la relación entre lo que costó la comida y la cantidad de propina."
   ]
  },
  {
   "cell_type": "code",
   "execution_count": null,
   "id": "92ded68b-e7d2-4679-b62e-d86a424aceb9",
   "metadata": {},
   "outputs": [],
   "source": [
    "datos = sns.load_dataset('tips')"
   ]
  },
  {
   "cell_type": "markdown",
   "id": "f652f33d-1173-4995-855b-6eff89b03e33",
   "metadata": {},
   "source": [
    "Visualizamos los datos con `so.Plot` (repasar clase de visualización)"
   ]
  },
  {
   "cell_type": "code",
   "execution_count": null,
   "id": "fe73c5c8-2a94-45a0-8bc0-911456689ae4",
   "metadata": {},
   "outputs": [],
   "source": [
    "# Graficamos la relacion entre las variables \n",
    "\n",
    "(\n",
    "    so.Plot(data=datos, x='total_bill', y='tip')\n",
    "    .add(so.Dot())\n",
    ")"
   ]
  },
  {
   "cell_type": "markdown",
   "id": "715b4370-804f-4fa4-9296-5d181e20e187",
   "metadata": {},
   "source": [
    "Para visualizar la recta de la regresión, agregamos una línea al gráfico (`so.Line()`) junto a `so.PolyFit(1)`:"
   ]
  },
  {
   "cell_type": "code",
   "execution_count": null,
   "id": "32058d52-3bf8-4f14-9603-dc8f880f0d18",
   "metadata": {},
   "outputs": [],
   "source": [
    "(\n",
    "    so.Plot(data=datos, x='total_bill', y='tip')\n",
    "    .add(so.Dot())\n",
    "    .add(so.Line(color='red', linewidth=3), so.PolyFit(1), label='Regresion lineal')    # Agregamos una etiqueta para la leyenda del grafico\n",
    "    .label(title='Datos de propinas', x='Precio de la comida', y='Propina')    # Agregamos la leyenda, un titulo y le cambiamos el nombre a los ejes\n",
    ")"
   ]
  },
  {
   "cell_type": "markdown",
   "id": "f5ff333a-c640-40d2-929c-3a5e9e7254c9",
   "metadata": {},
   "source": [
    "### Cálculo de coeficientes y predicciones\n",
    "\n",
    "Desafortunamente, `seaborn` no nos devuelve los valores de $\\beta_0$ y $\\beta_1$, que son importantes en la interpretación del resultado.\n",
    "\n",
    "Hemos visto que podemos calcular los coeficientes de la regresión lineal como:\n",
    "\n",
    " $$\n",
    " \\begin{array}{rl}\n",
    "      \\hat{\\beta}_1 = & \\dfrac{\\displaystyle\\sum_{i=1}^n(x_i - \\bar{x})(y_i - \\bar{y})}{\\displaystyle\\sum_{i=1}^n(x_i - \\bar{x})^2}  \\\\[1em]\n",
    "      \\hat{\\beta}_0 = & \\bar{y} - \\hat{\\beta}_1\\bar{x}\n",
    " \\end{array}\n",
    " $$\n",
    "\n",
    " pero también podemos utilizar `scikit-learn`:"
   ]
  },
  {
   "cell_type": "code",
   "execution_count": null,
   "id": "87a60ade-e9f8-40fc-9920-5fbb497c5d75",
   "metadata": {},
   "outputs": [],
   "source": [
    "modelo = linear_model.LinearRegression()    # Inicializamos un modelo de Regresion Lineal\n",
    "modelo.fit(datos[['total_bill']], datos[['tip']])   # Realizamos el ajuste\n",
    "beta_1 = modelo.coef_   # Con .coef_ recuperamos el valor de beta_1 (dentro de un array)\n",
    "beta_0 = modelo.intercept_   # Con .intercept_ recuperamos el valor de beta_0 (dentro de  un array)\n",
    "\n",
    "# Para obtener los valores de beta_1 y beta_0 como valores numericos\n",
    "beta_1 = modelo.coef_[0][0]\n",
    "beta_0 = modelo.intercept_[0]\n",
    "print('Beta_1: ', beta_1)\n",
    "print('Beta_0: ', beta_0)\n",
    "\n",
    "# O podemos usar .item()\n",
    "beta_1 = modelo.coef_.item()\n",
    "beta_0 = modelo.intercept_.item()\n",
    "print('Beta_1: ', beta_1)\n",
    "print('Beta_0: ', beta_0)\n"
   ]
  },
  {
   "cell_type": "markdown",
   "id": "bef42f66-a5c4-4e28-851a-a3ccd97104bf",
   "metadata": {},
   "source": [
    "**MUY IMPORTANTE:** notar los corchetes extra de `datos[['metros_cuad']]` y `datos[['precio']]`. Los doble corchetes hacen que `datos[['precio']]` sea un pandas.Dataframe y no un pandas.Series.\n",
    "\n",
    "<span style=\"color:red\">**EL MÉTODO .fit() ADMITE DATAFRAMES (O MATRICES), NO ADMITE SERIES (NI ARRAYS). USAR DOBLE CORCHETE.**</span>"
   ]
  },
  {
   "cell_type": "code",
   "execution_count": null,
   "id": "078bb8a1-9940-4925-a742-7efc2000c616",
   "metadata": {},
   "outputs": [],
   "source": [
    "display(datos['total_bill'])\n",
    "type(datos['total_bill'])"
   ]
  },
  {
   "cell_type": "code",
   "execution_count": null,
   "id": "2cd92383-2517-4fcc-b052-b01c6d6fea68",
   "metadata": {},
   "outputs": [],
   "source": [
    "display(datos[['total_bill']])\n",
    "type(datos[['total_bill']])"
   ]
  },
  {
   "cell_type": "markdown",
   "id": "8a5de3db-3397-4cb1-8f80-80b1dbe3a2c8",
   "metadata": {},
   "source": [
    "Entonces, la recta que mejor aproxima a los datos es (redondeando):\n",
    "$$ Y = 0.92 + 0.105 X$$"
   ]
  },
  {
   "cell_type": "markdown",
   "id": "ac65fdfb-3121-456a-947b-951b91998dee",
   "metadata": {},
   "source": [
    "Una interpretación que podemos darle a este resultado es que, por cada peso que costó la comida, se dejan de propina 0.105 pesos (o sea, alrededor de 10 centavos)\n",
    "\n",
    "Con los valores de $\\beta_0$ y $\\beta_1$ podemos predecir cuanto será la propina según el valor de la comida. Supongamos que queremos predecir la propina que se deja por una cuenta \\\\$35. Utilizamos el método `predict()` del modelo.\n",
    "\n",
    "<span style=\"color:red\">**EL MÉTODO .predict() TAMBIEN SOLO ADMITE ADMITE DATAFRAMES (O MATRICES).**</span>"
   ]
  },
  {
   "cell_type": "code",
   "execution_count": null,
   "id": "a404ff0c-680d-4238-8d74-8d594be4da45",
   "metadata": {},
   "outputs": [],
   "source": [
    "modelo.predict(pd.DataFrame({'total_bill': [35]}))"
   ]
  },
  {
   "cell_type": "code",
   "execution_count": null,
   "id": "76ea70e1-a728-4b70-89d4-8200204e171d",
   "metadata": {},
   "outputs": [],
   "source": [
    "# Para devolver directamente el numero agregamos .item()\n",
    "modelo.predict(pd.DataFrame({'total_bill': [35]})).item()"
   ]
  },
  {
   "cell_type": "markdown",
   "id": "b94200af-14fd-4b38-bee9-7269051150f5",
   "metadata": {},
   "source": [
    "También podemos hacer directamente la cuenta porque ya sabemos cuanto valen $\\beta_1$ y $\\beta_0$:"
   ]
  },
  {
   "cell_type": "code",
   "execution_count": null,
   "id": "5ad61fc9-af1d-4e94-90b0-8e332aa57d55",
   "metadata": {},
   "outputs": [],
   "source": [
    "beta_1 * 35 + beta_0"
   ]
  },
  {
   "cell_type": "markdown",
   "id": "1e6c9c66-efc6-43a8-961b-d608dbd3bea1",
   "metadata": {},
   "source": [
    "Según nuestro modelo, se deberían dejar aproximadamente \\\\$4.60 de propina. También podemos predecir la propina de una cuenta mayor a cualquiera que las que aparecen en los datos. Por ejemplo, una comida que costó \\\\$60:"
   ]
  },
  {
   "cell_type": "code",
   "execution_count": null,
   "id": "8c03888c-7c8e-4a22-88d4-1386fdb480fd",
   "metadata": {},
   "outputs": [],
   "source": [
    "modelo.predict(pd.DataFrame({'total_bill': [60]}))"
   ]
  },
  {
   "cell_type": "markdown",
   "id": "d32f3d3f-a386-4d14-b0b9-73b76f8732be",
   "metadata": {},
   "source": [
    "Podemos predecir varios valores de una:"
   ]
  },
  {
   "cell_type": "code",
   "execution_count": null,
   "id": "ca6e0ce2-bee4-4d6c-86cd-3325fc863a7a",
   "metadata": {},
   "outputs": [],
   "source": [
    "modelo.predict(pd.DataFrame({'total_bill': [35, 60]}))"
   ]
  },
  {
   "cell_type": "markdown",
   "id": "1986a7c3-7394-4edb-83c8-4463ca374b81",
   "metadata": {},
   "source": [
    "Para que nos devuelva un array de numpy en vez de una matriz, usamos el método `flatten()`:"
   ]
  },
  {
   "cell_type": "code",
   "execution_count": null,
   "id": "ae3611c3-67ae-45ac-9621-08d1997deb5b",
   "metadata": {},
   "outputs": [],
   "source": [
    "modelo.predict(pd.DataFrame({'total_bill': [35, 60]})).flatten()"
   ]
  },
  {
   "cell_type": "markdown",
   "id": "9bde8b56-865e-4ac3-820d-3b3c71ff82b2",
   "metadata": {},
   "source": [
    "Esto sirve, por ejemplo, si queremos calcular los valores predichos por el modelo $\\hat{y}_i$ :"
   ]
  },
  {
   "cell_type": "code",
   "execution_count": null,
   "id": "bb6a95dc-0105-47c2-8b3f-0ae07971bb0a",
   "metadata": {},
   "outputs": [],
   "source": [
    "y_pred = modelo.predict(datos[['total_bill']]).flatten()\n",
    "display(y_pred)"
   ]
  },
  {
   "cell_type": "markdown",
   "id": "a15baebf-e03e-4964-851d-cf53ee725b2a",
   "metadata": {},
   "source": [
    "O podemos calcular $\\hat{y}$ usando los valores de $\\beta_1$ y $\\beta_0$"
   ]
  },
  {
   "cell_type": "code",
   "execution_count": null,
   "id": "eaf39332-d406-47ce-8e6c-d2ef5f1404f6",
   "metadata": {},
   "outputs": [],
   "source": [
    "y_pred = beta_1 * datos['total_bill'] + beta_0\n",
    "display(y_pred)"
   ]
  },
  {
   "cell_type": "markdown",
   "id": "44231154-3410-48e4-aabe-639ac3855956",
   "metadata": {},
   "source": [
    "Finalmente, el bueno de `scikit-learn` nos calcula el coeficiente de determinación $R^ 2$: primero van los datos observados ( $y$ ) y luego los datos predichos ( $\\hat{y}$ )"
   ]
  },
  {
   "cell_type": "code",
   "execution_count": null,
   "id": "d8a9ab3c-9f13-462c-8e00-bc47a24317ec",
   "metadata": {},
   "outputs": [],
   "source": [
    "y_pred = modelo.predict(datos[['total_bill']])\n",
    "r2_score(datos[['tip']], y_pred)"
   ]
  },
  {
   "cell_type": "markdown",
   "id": "56984243-5a8d-4419-bc47-25d820b9e8e9",
   "metadata": {},
   "source": [
    "De manera análoga podemos calcular el error cuadrático medio (ECM):"
   ]
  },
  {
   "cell_type": "code",
   "execution_count": null,
   "id": "275ef97a-1c64-491c-b9a5-531e9652156c",
   "metadata": {},
   "outputs": [],
   "source": [
    "mean_squared_error(datos[['tip']], y_pred)"
   ]
  }
 ],
 "metadata": {
  "kernelspec": {
   "display_name": "Python 3 (ipykernel)",
   "language": "python",
   "name": "python3"
  },
  "language_info": {
   "codemirror_mode": {
    "name": "ipython",
    "version": 3
   },
   "file_extension": ".py",
   "mimetype": "text/x-python",
   "name": "python",
   "nbconvert_exporter": "python",
   "pygments_lexer": "ipython3",
   "version": "3.10.12"
  }
 },
 "nbformat": 4,
 "nbformat_minor": 5
}
