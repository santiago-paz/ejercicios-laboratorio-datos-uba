{
 "cells": [
  {
   "cell_type": "code",
   "execution_count": null,
   "metadata": {},
   "outputs": [],
   "source": [
    "import matplotlib.pyplot as plt\n",
    "import seaborn as sns\n",
    "import numpy as np\n",
    "import pandas as pd"
   ]
  },
  {
   "cell_type": "markdown",
   "metadata": {},
   "source": [
    "# Jupyter notebook\n",
    "Permite combinar código Python (celdas Code) con texto con formato y fórmulas matemáticas en Latex (celdas Markdown). Vamos a usar frecuentemente Jupyter notebook en las clases.\n",
    "\n",
    "Pueden utilizar Jupyter notebook offline desde Anaconda (u otros) o alguna herramienta online, como Google Colab.\n",
    "\n",
    "Para hacer las prácticas pueden usar Jupyter notebook o cualquier otro entorno.\n"
   ]
  },
  {
   "cell_type": "code",
   "execution_count": null,
   "metadata": {},
   "outputs": [],
   "source": [
    "# Ejemplo de código\n",
    "2 + 3 * 5"
   ]
  },
  {
   "cell_type": "code",
   "execution_count": null,
   "metadata": {},
   "outputs": [],
   "source": [
    "# Podemos ingresar varias instrucciones en la misma celda\n",
    "a = 5\n",
    "a"
   ]
  },
  {
   "cell_type": "code",
   "execution_count": null,
   "metadata": {},
   "outputs": [],
   "source": [
    "# Si ejecutamos varios comandos en una misma celda solo se muestra la última salida\n",
    "b = 3.14\n",
    "b\n",
    "b * 2"
   ]
  },
  {
   "cell_type": "code",
   "execution_count": null,
   "metadata": {},
   "outputs": [],
   "source": [
    "# Podemos usar display o print para ver varias salidas\n",
    "c = \"hola\"\n",
    "display(c)\n",
    "print(a)"
   ]
  },
  {
   "cell_type": "markdown",
   "metadata": {},
   "source": [
    "### Orden de ejecución\n",
    "Para ejecutar el contenido de una celta usamos SHIFT+Enter.\n",
    "Los comandos dentro de la celda se ejecutan en orden.\n",
    "\n",
    "Si abrimos un Notebook con varias celdas con código, el contenido de esas celdas no se ejecuta hasta que lo hagamos nosotros (podemos hacerlo celda por celda o ejecutar todas automaticamente utilizando \"Cell\" --> \"Run all\"."
   ]
  },
  {
   "cell_type": "markdown",
   "metadata": {},
   "source": [
    "Ejecutar la primer celda, luego la siguiente y luego nuevamente la primera y ver qué sucede."
   ]
  },
  {
   "cell_type": "code",
   "execution_count": null,
   "metadata": {},
   "outputs": [],
   "source": [
    "print(z)"
   ]
  },
  {
   "cell_type": "code",
   "execution_count": null,
   "metadata": {},
   "outputs": [],
   "source": [
    "z = 10"
   ]
  },
  {
   "cell_type": "markdown",
   "metadata": {},
   "source": [
    "**Consejo:** Si entregan código en Jupyter Notebook verifiquen siempre que se pueden ejecutar las celdas en orden de arriba hacia abajo."
   ]
  },
  {
   "cell_type": "markdown",
   "metadata": {},
   "source": [
    "### Funciones matemáticas"
   ]
  },
  {
   "cell_type": "code",
   "execution_count": null,
   "metadata": {},
   "outputs": [],
   "source": [
    "a = 5\n",
    "b = 3.14\n",
    "a * b # Producto"
   ]
  },
  {
   "cell_type": "code",
   "execution_count": null,
   "metadata": {},
   "outputs": [],
   "source": [
    "print(a**3) # Potencia"
   ]
  },
  {
   "cell_type": "code",
   "execution_count": null,
   "metadata": {},
   "outputs": [],
   "source": [
    "print(b % 2) # ¿Qué hace?"
   ]
  },
  {
   "cell_type": "code",
   "execution_count": null,
   "metadata": {},
   "outputs": [],
   "source": [
    "help('%')"
   ]
  },
  {
   "cell_type": "code",
   "execution_count": null,
   "metadata": {},
   "outputs": [],
   "source": [
    "### Tipos de datos\n",
    "type(a)"
   ]
  },
  {
   "cell_type": "code",
   "execution_count": null,
   "metadata": {},
   "outputs": [],
   "source": [
    "type(b)"
   ]
  },
  {
   "cell_type": "code",
   "execution_count": null,
   "metadata": {},
   "outputs": [],
   "source": [
    "### Las funciones de Python pueden llamarse con variables de distinto tipo, y se comportan distinto según el tipo de dato\n",
    "d = 5.0\n",
    "type(d)"
   ]
  },
  {
   "cell_type": "code",
   "execution_count": null,
   "metadata": {},
   "outputs": [],
   "source": [
    "a**100"
   ]
  },
  {
   "cell_type": "code",
   "execution_count": null,
   "metadata": {},
   "outputs": [],
   "source": [
    "d**100"
   ]
  },
  {
   "cell_type": "code",
   "execution_count": null,
   "metadata": {},
   "outputs": [],
   "source": [
    "b**100"
   ]
  },
  {
   "cell_type": "code",
   "execution_count": null,
   "metadata": {},
   "outputs": [],
   "source": [
    "type(c)"
   ]
  },
  {
   "cell_type": "code",
   "execution_count": null,
   "metadata": {},
   "outputs": [],
   "source": [
    "c*2"
   ]
  },
  {
   "cell_type": "markdown",
   "metadata": {},
   "source": [
    "### Variables booleanas y funciones lógicas\n",
    "En Python podemos usar variables booleanas True y False, y operadores lógicos: == (igualdad), or, and, ~ (not)."
   ]
  },
  {
   "cell_type": "code",
   "execution_count": null,
   "metadata": {},
   "outputs": [],
   "source": [
    "a = True\n",
    "b = False\n",
    "print(a == b)\n",
    "print(a or b)\n",
    "print(a and b)\n",
    "print(a == ~b)"
   ]
  },
  {
   "cell_type": "markdown",
   "metadata": {},
   "source": [
    "El operador de igualdad aplicado a variables numércias compara solo el valor, no el tipo de dato."
   ]
  },
  {
   "cell_type": "code",
   "execution_count": null,
   "metadata": {},
   "outputs": [],
   "source": [
    "x1 = 5.0\n",
    "x2 = 7.0\n",
    "x3 = 12.0\n",
    "n1 = 5\n",
    "print(x1+x2 == x3)\n",
    "print(x1 == 5)\n",
    "print(x1 == n1)"
   ]
  },
  {
   "cell_type": "code",
   "execution_count": null,
   "metadata": {},
   "outputs": [],
   "source": [
    "type(x1) == type(n1)"
   ]
  },
  {
   "cell_type": "code",
   "execution_count": null,
   "metadata": {},
   "outputs": [],
   "source": [
    "type(x1) == type(x2)"
   ]
  },
  {
   "cell_type": "markdown",
   "metadata": {},
   "source": [
    "### Listas\n",
    "Las listas permiten guardar valores de distintos tipos en forma ordenada y acceder a\n",
    "los distintos elementos por su índice, comenzando desde 0."
   ]
  },
  {
   "cell_type": "code",
   "execution_count": null,
   "metadata": {},
   "outputs": [],
   "source": [
    "s = [1, 2, 3.0, \"hola\", 7 + 3]\n",
    "s"
   ]
  },
  {
   "cell_type": "code",
   "execution_count": null,
   "metadata": {},
   "outputs": [],
   "source": [
    "print(s[0])\n",
    "print(s[1])\n",
    "print(s[-1])"
   ]
  },
  {
   "cell_type": "markdown",
   "metadata": {},
   "source": [
    "Podemos indicar también un rango de elementos de la lista."
   ]
  },
  {
   "cell_type": "code",
   "execution_count": null,
   "metadata": {},
   "outputs": [],
   "source": [
    "s[1:3] # ¿Qué nos devuelve? ¿Por qué?"
   ]
  },
  {
   "cell_type": "markdown",
   "metadata": {},
   "source": [
    "# Numpy"
   ]
  },
  {
   "cell_type": "markdown",
   "metadata": {},
   "source": [
    "Para trabajar en Python con vectores (y en general para todo tipo de operaciones\n",
    "matemáticas) vamos a usar el paquete `numpy` . Para eso importamos primero la biblioteca `numpy`\n",
    "y definimos vectores con el comando `np.array`. "
   ]
  },
  {
   "cell_type": "markdown",
   "metadata": {},
   "source": [
    "**Vectores.** Los vectores (o arrays) de numpy son similares a las listas, pero todos los elementos son del mismo tipo (enteros, floats, ...)\n",
    "\n",
    "Ejecutar el siguiente código y observar los resultados."
   ]
  },
  {
   "cell_type": "code",
   "execution_count": null,
   "metadata": {},
   "outputs": [],
   "source": [
    "import numpy as np\n",
    "v = np.array([1,2,3])\n",
    "w = np.array([1.2, 7, np.pi])\n",
    "print(v)\n",
    "print(w)\n",
    "print(v + w)"
   ]
  },
  {
   "cell_type": "code",
   "execution_count": null,
   "metadata": {},
   "outputs": [],
   "source": [
    "# El tipo de dato de un array de numpy es ndarray\n",
    "print(type(v))\n",
    "print(type(w))"
   ]
  },
  {
   "cell_type": "code",
   "execution_count": null,
   "metadata": {},
   "outputs": [],
   "source": [
    "# Si queremos saber el tipo de dato de los elementos del array, usamos dtype\n",
    "print(v.dtype)\n",
    "print(w.dtype)"
   ]
  },
  {
   "cell_type": "markdown",
   "metadata": {},
   "source": [
    "(dtype es un método del objeto ndarray, por eso usamos la escritura v.dtype y no dtype(v))"
   ]
  },
  {
   "cell_type": "markdown",
   "metadata": {},
   "source": [
    "### La magia de Numpy. \n",
    "La biblioteca Numpy reproduce muchas funcionalidades de Matlab.\n",
    "La mayoría de las operaciones con vectores de Numpy se hacen coordenada a coordenada. Esto permite en muchos casos evitar usar ciclos o ciclos anidados y realizarlos con un solo comando.\n",
    "\n",
    "Ejecutar los siguientes comandos e interpretar los resultados."
   ]
  },
  {
   "cell_type": "code",
   "execution_count": null,
   "metadata": {},
   "outputs": [],
   "source": [
    "v = np.array([1,2,np.e,7])\n",
    "w = np.array([1.2, np.pi, 4, 5])\n",
    "print(\"v = \", v)\n",
    "print(\"w = \", w)\n",
    "print(\"v + w = \", v + w)\n",
    "print (\"v**2 = \", v**2)\n",
    "print (\"v%2 = \", v%2)\n",
    "print (\"v > 3?\", v > 3)\n",
    "print (\"w < 3.5?\", w < 3.5)\n"
   ]
  },
  {
   "cell_type": "markdown",
   "metadata": {},
   "source": [
    "Algunas funciones de numpy pueden usarse también como métodos"
   ]
  },
  {
   "cell_type": "code",
   "execution_count": null,
   "metadata": {},
   "outputs": [],
   "source": [
    "print(v.sum())\n",
    "print(np.sum(v))"
   ]
  },
  {
   "cell_type": "markdown",
   "metadata": {},
   "source": [
    "Las operaciones lógicas or y and no se pueden aplicar a vectores. Debemos usar los símbolos |\n",
    "(or) y & (and)."
   ]
  },
  {
   "cell_type": "code",
   "execution_count": null,
   "metadata": {},
   "outputs": [],
   "source": [
    "print((v > 3) or (w < 3.5))\n",
    "print((v > 3) and (w < 3.5))"
   ]
  },
  {
   "cell_type": "markdown",
   "metadata": {},
   "source": [
    "Si queremos quedarnos con sólo algunos elementos de un vector, tenemos varias formas de hacerlo."
   ]
  },
  {
   "cell_type": "code",
   "execution_count": null,
   "metadata": {},
   "outputs": [],
   "source": [
    "v = np.array([1, 2, np.e, 7, 5])\n",
    "v[0], v[1], v[-1]  # funcionara ‘v[-2]‘?"
   ]
  },
  {
   "cell_type": "code",
   "execution_count": null,
   "metadata": {},
   "outputs": [],
   "source": [
    "v[[0, 3]]"
   ]
  },
  {
   "cell_type": "code",
   "execution_count": null,
   "metadata": {},
   "outputs": [],
   "source": [
    "# Ojo, no podemos hacer lo mismo con listas\n",
    "s = [1, 2, 3.0, \"hola\", 7 + 3]\n",
    "s[[0,3]]"
   ]
  },
  {
   "cell_type": "code",
   "execution_count": null,
   "metadata": {},
   "outputs": [],
   "source": [
    "# También podemos usar rangos\n",
    "v[0:3]"
   ]
  },
  {
   "cell_type": "code",
   "execution_count": null,
   "metadata": {},
   "outputs": [],
   "source": [
    "v[0:1]"
   ]
  },
  {
   "cell_type": "markdown",
   "metadata": {},
   "source": [
    "Y podemos seleccionar los elementos que cumplan alguna propiedad."
   ]
  },
  {
   "cell_type": "code",
   "execution_count": null,
   "metadata": {},
   "outputs": [],
   "source": [
    "v = np.array([1, 2, np.e, 7, 5])\n",
    "w = np.array([1, 0, 2, 5, 0])\n",
    "v[v > 2]"
   ]
  },
  {
   "cell_type": "code",
   "execution_count": null,
   "metadata": {},
   "outputs": [],
   "source": [
    "v[w != 0]"
   ]
  },
  {
   "cell_type": "markdown",
   "metadata": {},
   "source": [
    "**Matrices.** Las matrices se definen en numpy como arrays de filas. Las operaciones usuales\n",
    "se realizan coordenada a coordenada al igual que con vectores. Verificar los resultados de los\n",
    "siguientes comandos."
   ]
  },
  {
   "cell_type": "code",
   "execution_count": null,
   "metadata": {},
   "outputs": [],
   "source": [
    "A = np.array([[3, 2, 2], [-1, 0, 1], [-2, 2, 4]])\n",
    "B = np.array([[1, 0, 0], [0, 1, 0], [0, 0, 1]])\n",
    "C = np.array([[0, 1, -1], [5, -2, 1]])\n",
    "A + B"
   ]
  },
  {
   "cell_type": "code",
   "execution_count": null,
   "metadata": {},
   "outputs": [],
   "source": [
    "A * B"
   ]
  },
  {
   "cell_type": "code",
   "execution_count": null,
   "metadata": {},
   "outputs": [],
   "source": [
    "C**2 "
   ]
  },
  {
   "cell_type": "markdown",
   "metadata": {},
   "source": [
    "El producto usual de matrices se realiza con el comando @ . \n",
    "\n",
    "A.T es la transpuesta de A. \n",
    "\n",
    "Verificar los resultados de los siguientes comandos."
   ]
  },
  {
   "cell_type": "code",
   "execution_count": null,
   "metadata": {},
   "outputs": [],
   "source": [
    "A @ B"
   ]
  },
  {
   "cell_type": "code",
   "execution_count": null,
   "metadata": {},
   "outputs": [],
   "source": [
    "B @ C"
   ]
  },
  {
   "cell_type": "code",
   "execution_count": null,
   "metadata": {},
   "outputs": [],
   "source": [
    "B.shape, C.shape"
   ]
  },
  {
   "cell_type": "code",
   "execution_count": null,
   "metadata": {},
   "outputs": [],
   "source": [
    "B @ C.T"
   ]
  },
  {
   "cell_type": "markdown",
   "metadata": {},
   "source": [
    "## Funciones\n",
    "\n",
    "Las funciones son bloques de código organizado que se usan para realizar tares específicas.\n",
    "\n",
    "Reciben un input (un número o una variable, por ejemplo) y devuelven un output. Los inputs van\n",
    "entre paréntesis y separados por una coma, si hay más de uno. \n",
    "\n",
    "Muchas funciones están disponibles en la biblioteca estándar de Python, otras estás agrupadas en distintas bibliotecas, como numpy que agrupa una gran cantidad de funciones matemáticas. \n",
    "\n",
    "El objetivo de estos ejercicios es familiarizarse con varias funciones básicas de Python."
   ]
  },
  {
   "cell_type": "markdown",
   "metadata": {},
   "source": [
    "Ejecutar estas operaciones en la consola para entender qué hacen las funciones de numpy."
   ]
  },
  {
   "cell_type": "code",
   "execution_count": null,
   "metadata": {},
   "outputs": [],
   "source": [
    "a = np.sqrt(2)\n",
    "a"
   ]
  },
  {
   "cell_type": "code",
   "execution_count": null,
   "metadata": {},
   "outputs": [],
   "source": [
    "np.round(a)"
   ]
  },
  {
   "cell_type": "code",
   "execution_count": null,
   "metadata": {},
   "outputs": [],
   "source": [
    "np.round(a, 2)"
   ]
  },
  {
   "cell_type": "code",
   "execution_count": null,
   "metadata": {},
   "outputs": [],
   "source": [
    "# Para las funciones de numpy, podems ver información con np.info\n",
    "np.info(np.round)"
   ]
  },
  {
   "cell_type": "code",
   "execution_count": null,
   "metadata": {},
   "outputs": [],
   "source": [
    "np.info(np.ceil)"
   ]
  },
  {
   "cell_type": "code",
   "execution_count": null,
   "metadata": {},
   "outputs": [],
   "source": [
    "np.ceil(np.pi)"
   ]
  },
  {
   "cell_type": "markdown",
   "metadata": {},
   "source": [
    "Muchas funciones de numpy se pueden aplicar también en arrays."
   ]
  },
  {
   "cell_type": "code",
   "execution_count": null,
   "metadata": {},
   "outputs": [],
   "source": [
    "v = np.array([a, a**2, a**3, a**(.5)])\n",
    "v"
   ]
  },
  {
   "cell_type": "code",
   "execution_count": null,
   "metadata": {},
   "outputs": [],
   "source": [
    "np.floor(v)"
   ]
  },
  {
   "cell_type": "markdown",
   "metadata": {},
   "source": [
    "Explorar las funciones np.max() , np.min() , np.sum() , np.mean() y np.sort() aplicadas al vector\n",
    "v del ejercicio anterior. ¿Qué hace cada una?"
   ]
  },
  {
   "cell_type": "markdown",
   "metadata": {},
   "source": [
    "**Ejercicio.**\n",
    "Utilizando solo las operaciones y funciones vistas en los ejercicios anteriores, escribir un código\n",
    "de una sola línea para la función matemática:\n",
    "\n",
    "$$\\langle v, w\\rangle = v_1 \\cdot w_1 + v_2 \\cdot w_2 + \\dots + v_n \\cdot w_n = \\sum_{i=1}^n v_i \\cdot w_i$$"
   ]
  },
  {
   "cell_type": "markdown",
   "metadata": {},
   "source": [
    "En Python podemos definir nuestras propias funciones utilizando `def`. \n",
    "\n",
    "¿Qué hace la siguiente función? \n",
    "\n",
    "¿Qué resultados esperan al aplicar la función a los vectores $v_0$ y $v_1$?"
   ]
  },
  {
   "cell_type": "code",
   "execution_count": null,
   "metadata": {},
   "outputs": [],
   "source": [
    "def todosPositivos(v):\n",
    "    return np.all(v > 0)\n",
    "\n",
    "v0 = np.array([3, 4])\n",
    "v1 = np.array([3, 5, -1, 1])"
   ]
  },
  {
   "cell_type": "code",
   "execution_count": null,
   "metadata": {},
   "outputs": [],
   "source": [
    "todosPositivos(v0)"
   ]
  },
  {
   "cell_type": "code",
   "execution_count": null,
   "metadata": {},
   "outputs": [],
   "source": [
    "todosPositivos(v1)"
   ]
  },
  {
   "cell_type": "markdown",
   "metadata": {},
   "source": [
    "**Ejercicio.** Definir una función que calcule la norma-2 de un vector y verificarla en los vectores $v_0$ y $v_1$ del ejercicio anterior."
   ]
  },
  {
   "cell_type": "markdown",
   "metadata": {},
   "source": [
    "## Azar y simulaciones\n",
    "\n",
    "Reproducir estos usos de la función np.random.choice() e interpretar qué hace."
   ]
  },
  {
   "cell_type": "code",
   "execution_count": null,
   "metadata": {},
   "outputs": [],
   "source": [
    "x = np.array([\"cara\", \"ceca\"])\n",
    "np.random.choice(x, size=10)"
   ]
  },
  {
   "cell_type": "code",
   "execution_count": null,
   "metadata": {},
   "outputs": [],
   "source": [
    "y = np.array([1,2,3,4,5,6])\n",
    "np.random.choice(y, size=10)"
   ]
  },
  {
   "cell_type": "code",
   "execution_count": null,
   "metadata": {},
   "outputs": [],
   "source": [
    "np.random.choice(y, size=4, replace=False)"
   ]
  },
  {
   "cell_type": "code",
   "execution_count": null,
   "metadata": {},
   "outputs": [],
   "source": [
    "# Funcionará?\n",
    "np.random.choice(y, size=10, replace=False)"
   ]
  },
  {
   "cell_type": "markdown",
   "metadata": {},
   "source": [
    "**Ley de los grandes números.** Esta ley asegura que si tiramos $n$ veces una moneda, el promedio de veces que sale cara tiende a $1/2$ cuando $n$ tiende a infinito.\n",
    "\n",
    "Simular 10 lanzamientos de una moneda y calcular el promedio de veces que sale cara. Repetir para $n = 1000$ y $n = 100.000$."
   ]
  },
  {
   "cell_type": "code",
   "execution_count": null,
   "metadata": {},
   "outputs": [],
   "source": []
  },
  {
   "cell_type": "markdown",
   "metadata": {},
   "source": [
    "**Ejercicio.** Se tira $n$ veces una moneda. Intentar predecir, si existen, los siguientes límites cuando $n$ tiene a infinito y verificar la intuición mediante simulaciones.\n",
    "\n",
    "1. La cantidad de caras dividido por la cantidad de cecas.\n",
    "2. La cantidad de caras menos la cantidad de cecas\n",
    "3. La cantidad de caras menos la cantidad de cecas, divido por la cantidad total de tiradas.\n",
    "4. Considerando las veces que salieron tres caras seguidas, el promedio de veces que en la siguiente tirada sale nuevamente cara.\n"
   ]
  },
  {
   "cell_type": "markdown",
   "metadata": {},
   "source": [
    "## Archivos de datos"
   ]
  },
  {
   "cell_type": "markdown",
   "metadata": {},
   "source": [
    "La biblioteca Pandas nos permite trabajar fácilmente con archivos de datos.\n",
    "1. Leer el archivo casos_coronavirus.csv .\n",
    "2. Graficar la curva de casos por día.\n",
    "3. Graficar la curva de casos acumulados.\n",
    "4. Definir log_cum_casos como el logaritmo de la cantidad de casos acumulados y graficar en función de la cantidad de días transcurridos.\n",
    "5. Estimar, tomando dos valores, la pendiente de la recta para los datos a partir del dia 30.\n",
    "6. Graficar la recta estimada junto con los datos. ¿Consideran que es una buena estimación?\n",
    "\n",
    "Utilicen o modifiquen el siguiente código."
   ]
  },
  {
   "cell_type": "code",
   "execution_count": null,
   "metadata": {},
   "outputs": [],
   "source": [
    "import pandas as pd\n",
    "import matplotlib.pyplot as plt\n",
    "df = pd.read_csv(\"casos_coronavirus.csv\") # DataFrame\n",
    "df.head()  # Primeras filas del DataFrame"
   ]
  },
  {
   "cell_type": "code",
   "execution_count": null,
   "metadata": {},
   "outputs": [],
   "source": [
    "# Información básica del DataFrame\n",
    "df.info()"
   ]
  },
  {
   "cell_type": "markdown",
   "metadata": {},
   "source": [
    "Vamos a ver más sobre la biblioteca `pandas` y data frames en la próxima clase. En este\n",
    "ejemplo, convertimos los datos a arrays de numpy para utilizar las herramientas de los ejercicios\n",
    "anteriores."
   ]
  },
  {
   "cell_type": "code",
   "execution_count": null,
   "metadata": {},
   "outputs": [],
   "source": [
    "# Convertimos la columna de casos nuevos a np.array\n",
    "casos_diarios = df.confirmados_Nuevos.values\n",
    "type(casos_diarios)"
   ]
  },
  {
   "cell_type": "code",
   "execution_count": null,
   "metadata": {},
   "outputs": [],
   "source": [
    "casos_diarios.dtype # Es un array de enteros"
   ]
  },
  {
   "cell_type": "code",
   "execution_count": null,
   "metadata": {},
   "outputs": [],
   "source": [
    "# Graficamos la serie de casos diarios\n",
    "plt.plot(casos_diarios)"
   ]
  },
  {
   "cell_type": "code",
   "execution_count": null,
   "metadata": {},
   "outputs": [],
   "source": [
    "# Calculamos los casos acumulados y graficamos\n",
    "casos_acumulados = casos_diarios.cumsum()\n",
    "plt.plot(casos_acumulados)"
   ]
  },
  {
   "cell_type": "code",
   "execution_count": null,
   "metadata": {},
   "outputs": [],
   "source": [
    "# Tomamos logaritmos para linealizar \n",
    "y = np.log(casos_acumulados)"
   ]
  },
  {
   "cell_type": "code",
   "execution_count": null,
   "metadata": {},
   "outputs": [],
   "source": [
    "# Graficamos\n",
    "plt.plot(y)"
   ]
  },
  {
   "cell_type": "code",
   "execution_count": null,
   "metadata": {},
   "outputs": [],
   "source": [
    "# Agregamos la recta\n",
    "x_recta = ???\n",
    "y_recta = ???\n",
    "plt.plot(y)\n",
    "plt.plot(x_recta, y_recta)\n"
   ]
  },
  {
   "cell_type": "code",
   "execution_count": null,
   "metadata": {},
   "outputs": [],
   "source": []
  }
 ],
 "metadata": {
  "kernelspec": {
   "display_name": "Python 3",
   "language": "python",
   "name": "python3"
  },
  "language_info": {
   "codemirror_mode": {
    "name": "ipython",
    "version": 3
   },
   "file_extension": ".py",
   "mimetype": "text/x-python",
   "name": "python",
   "nbconvert_exporter": "python",
   "pygments_lexer": "ipython3",
   "version": "3.7.6"
  }
 },
 "nbformat": 4,
 "nbformat_minor": 5
}
