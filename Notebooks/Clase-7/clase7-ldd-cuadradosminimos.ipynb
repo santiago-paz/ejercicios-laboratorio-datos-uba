{
 "cells": [
  {
   "cell_type": "code",
   "execution_count": null,
   "id": "b532acd3-c876-4da9-9270-88cc2b63c522",
   "metadata": {},
   "outputs": [],
   "source": [
    "import numpy as np\n",
    "import pandas as pd\n",
    "import seaborn as sns\n",
    "import seaborn.objects as so\n",
    "\n",
    "from sklearn import linear_model    # Herramientas de modelos lineales\n",
    "from sklearn.preprocessing import PolynomialFeatures    # Herramientas de polinomios\n",
    "from sklearn.metrics import mean_squared_error, r2_score    # Medidas de desempeño"
   ]
  },
  {
   "cell_type": "markdown",
   "id": "fc6757c5-2ad0-4ecf-b958-04711d48675b",
   "metadata": {},
   "source": [
    "# Cuadrados Mínimos\n",
    "\n",
    "### Laboratorio de Datos, IC - FCEN - UBA - 1er. Cuatrimestre 2024"
   ]
  },
  {
   "cell_type": "markdown",
   "id": "dbbab9d2-99f0-41ce-a173-150358585f06",
   "metadata": {},
   "source": [
    "Buscamos los coeficientes de un polinomio de grado $n$\n",
    "$$Y = \\beta_0 + \\beta_1 X + \\beta_2 X^2 + \\beta_3 X^3 + \\dots + \\beta_n X^n$$\n",
    "\n",
    "que mejor aproxime a nuestros datos en el sentido de Cuadrados Mínimos. Es decir, buscamos $\\beta_1,\\dots, \\beta_n$ que minimicen:\n",
    "$$ RSS(\\beta) = \\displaystyle\\sum_{i=1}^n (y_i - P(x_i))^2 $$\n",
    "\n",
    "Vamos a usar como ejemplo los datos de PBI per capita de Argentina, del dataset `gapminder`"
   ]
  },
  {
   "cell_type": "code",
   "execution_count": null,
   "id": "6282b688-a319-43ad-801c-c4197a57830a",
   "metadata": {},
   "outputs": [],
   "source": [
    "from gapminder import gapminder\n",
    "datos_arg = gapminder[gapminder['country'] == 'Argentina']\n",
    "datos_arg.head()"
   ]
  },
  {
   "cell_type": "markdown",
   "id": "386f8fd3-6bba-4ee7-90d3-59e638560933",
   "metadata": {},
   "source": [
    "### Visualización"
   ]
  },
  {
   "cell_type": "markdown",
   "id": "c8d00b8f-42d2-4ca9-991c-0aad5c619f53",
   "metadata": {},
   "source": [
    "Teníamos la visualización de la Regresión Lineal:"
   ]
  },
  {
   "cell_type": "code",
   "execution_count": null,
   "id": "72a61a81-d356-4682-a5bc-24bfeed8e920",
   "metadata": {},
   "outputs": [],
   "source": [
    "(\n",
    "    so.Plot(data=datos_arg, x='year', y='gdpPercap')\n",
    "    .add(so.Dot())\n",
    "    .add(so.Line(color='r', linewidth=3), so.PolyFit(1))\n",
    ")"
   ]
  },
  {
   "cell_type": "markdown",
   "id": "768e7172-9b07-4d4d-a638-1c96d1a30aeb",
   "metadata": {},
   "source": [
    "Calculemos el $R^2$ de la Regresión Lineal:"
   ]
  },
  {
   "cell_type": "code",
   "execution_count": null,
   "id": "d690c92f-718f-49ff-ac7f-f4d74d1ffea9",
   "metadata": {},
   "outputs": [],
   "source": [
    "# Inicializamos el modelo de regresión\n",
    "modelo = linear_model.LinearRegression()\n",
    "\n",
    "# Realiza el ajuste\n",
    "modelo.fit(datos_arg[['year']], datos_arg['gdpPercap'])\n",
    "\n",
    "# Calculamos R²\n",
    "y_pred = modelo.predict(datos_arg[['year']])\n",
    "r2_score(datos_arg['gdpPercap'], y_pred)"
   ]
  },
  {
   "cell_type": "markdown",
   "id": "701adf59-b011-4107-ab25-6d80bc59f0aa",
   "metadata": {},
   "source": [
    "Para cambiar el grado del polinomio que ajusta los datos, simplemente cambios el argumento de `so.PolyFit`. Por ejemplo, para un polinomio de grado $3$:"
   ]
  },
  {
   "cell_type": "code",
   "execution_count": null,
   "id": "632d77d0-23aa-4535-8ad6-e2e63637637a",
   "metadata": {},
   "outputs": [],
   "source": [
    "(\n",
    "    so.Plot(data=datos_arg, x=datos_arg['year'], y='gdpPercap')\n",
    "    .add(so.Dot())\n",
    "    .add(so.Line(color='r', linewidth=3), so.PolyFit(3))\n",
    ")"
   ]
  },
  {
   "cell_type": "markdown",
   "id": "c2695e7b-487a-4377-b1fb-1023bca78ec8",
   "metadata": {},
   "source": [
    "### Cálculo de coeficientes y de predicciones"
   ]
  },
  {
   "cell_type": "markdown",
   "id": "00303246-de93-4512-b17e-4bebb6956ac8",
   "metadata": {},
   "source": [
    "Queremos buscar el polinomio de grado 3 que mejor aproxima a los datos en sentido de cuadrados mínimos:\n",
    "$$P(x) = \\beta_0 + \\beta_1 x + \\beta_2 x^ 2 + \\beta_3 x^ 3$$"
   ]
  },
  {
   "cell_type": "markdown",
   "id": "d4fce119-28fc-4751-93fc-4366aab4493c",
   "metadata": {},
   "source": [
    "Calcularemos los coeficientes con `scikit-learn`. Es parecido a lo que hacíamos con la regresión lineal, pero con un paso extra:"
   ]
  },
  {
   "cell_type": "code",
   "execution_count": null,
   "id": "682dbf98-56eb-4d6e-a334-8c09f2675fd1",
   "metadata": {},
   "outputs": [],
   "source": [
    "# Indicamos que queremos un polinomio de Grado 3 sin ordenada al origen\n",
    "polynomial_features= PolynomialFeatures(degree=3, include_bias=False)  \n",
    "\n",
    "# Armamos una matriz cuya primera columna es x, la segunda es x^2 y la tercera es x^3\n",
    "x_poly = polynomial_features.fit_transform(datos_arg[['year']])   \n",
    "display(x_poly)"
   ]
  },
  {
   "cell_type": "code",
   "execution_count": null,
   "id": "113e687a-805f-412a-9b5b-4cd220b6a5cc",
   "metadata": {},
   "outputs": [],
   "source": [
    "# Inicializamos el modelo de regresión\n",
    "modelo = linear_model.LinearRegression()\n",
    "\n",
    "# Realiza el ajuste\n",
    "modelo.fit(x_poly, datos_arg['gdpPercap'])\n",
    "\n",
    "# Recuperamos los valores de los coeficientes (de menor potencia a la mayor)\n",
    "beta = modelo.coef_\n",
    "\n",
    "# Recuperamos la ordenada al origen\n",
    "o_origen = modelo.intercept_.item()\n",
    "\n",
    "# Imprimimos los valores:\n",
    "print('beta_0: ', o_origen)\n",
    "print('beta_1: ', beta[0])\n",
    "print('beta_2: ', beta[1])\n",
    "print('beta_3: ', beta[2])"
   ]
  },
  {
   "cell_type": "code",
   "execution_count": null,
   "id": "73123857-6e02-46e5-a579-35b66a111500",
   "metadata": {},
   "outputs": [],
   "source": [
    "np.flip(beta)"
   ]
  },
  {
   "cell_type": "markdown",
   "id": "ed3970ca-3a10-4422-a265-9845065389a5",
   "metadata": {},
   "source": [
    "El polinomio de grado a lo sumo 3 que mejor aproxima a los datos es:\n",
    "$$P(x) = -984937719.58 + 1491410.41 x -752.77 x^ 2 + 0.12 x^ 3 $$\n",
    "\n",
    "Corroboremos que el gráfico de este polinomio es el mismo que arma `seaborn` con `so.PolyFit`:"
   ]
  },
  {
   "cell_type": "code",
   "execution_count": null,
   "id": "a47feedc-0fcb-45c7-ad97-5a13c4e87c2f",
   "metadata": {},
   "outputs": [],
   "source": [
    "(\n",
    "    so.Plot(data=datos_arg, x='year', y='gdpPercap')\n",
    "    .add(so.Dot())\n",
    "    .add(so.Line(color='green', linewidth=2), y=o_origen + beta[0]*datos_arg['year'] + beta[1]*datos_arg['year']**2 + beta[2]*datos_arg['year']**3, label='sklearn')\n",
    "    .add(so.Line(color='red', linestyle='--', linewidth=2), so.PolyFit(3), label='seaplot')\n",
    "    .label()\n",
    ")"
   ]
  },
  {
   "cell_type": "markdown",
   "id": "64f37033-c70e-4c00-b989-e3cbbc5f6360",
   "metadata": {},
   "source": [
    "Igual que antes, podemos estimar el PBI per capita, por ejemplo para 1990:\n",
    "\n",
    "* haciendo las cuentas:"
   ]
  },
  {
   "cell_type": "code",
   "execution_count": null,
   "id": "467daf32-c5d4-4201-898f-02f4aeca1d57",
   "metadata": {},
   "outputs": [],
   "source": [
    "# Estimando el PBI per capita de 1990 haciendo las cuentas con los valores de beta\n",
    "o_origen + beta[0]*1990 + beta[1]*1990**2 + beta[2]*1990**3"
   ]
  },
  {
   "cell_type": "markdown",
   "id": "cb90eff3-2534-4dc7-bed4-3b7d077de5bb",
   "metadata": {},
   "source": [
    "* usando `predict`"
   ]
  },
  {
   "cell_type": "code",
   "execution_count": null,
   "id": "1382b3bf-7fe8-40a3-8c92-e6689b14f8c8",
   "metadata": {},
   "outputs": [],
   "source": [
    "# Usando .predict()\n",
    "modelo.predict([[1990, 1990**2, 1990**3]]).item()"
   ]
  },
  {
   "cell_type": "code",
   "execution_count": null,
   "id": "907cc5e1-16fc-40e8-bff9-3f5f166ca094",
   "metadata": {},
   "outputs": [],
   "source": [
    "# O mas rapido, esto genera el array de potencias de 1990 desde 1 a 3 inclusive\n",
    "pots = 1990 ** np.arange(1, 4)\n",
    "modelo.predict([pots]).item()"
   ]
  },
  {
   "cell_type": "markdown",
   "id": "ee6c13f6-fc0e-4026-b584-b6cbc455a478",
   "metadata": {},
   "source": [
    "* usando `numpy`"
   ]
  },
  {
   "cell_type": "code",
   "execution_count": null,
   "id": "9eeea176-8271-44ba-862f-5ea9d92f5527",
   "metadata": {},
   "outputs": [],
   "source": [
    "# Primero tenemos que dar vuelta el vector de coeficientes\n",
    "# porque numpy los toma desde el de mayor potencia al de menor\n",
    "beta_flip = np.flip(beta)\n",
    "print(beta)\n",
    "print(beta_flip)"
   ]
  },
  {
   "cell_type": "code",
   "execution_count": null,
   "id": "760364cc-cd93-4802-b5be-cf0998d5064d",
   "metadata": {},
   "outputs": [],
   "source": [
    "# Segundo, agregamos al final la ordenada al origen\n",
    "poly_coefs = np.concatenate((beta_flip, [o_origen]))\n",
    "print(poly_coefs)"
   ]
  },
  {
   "cell_type": "code",
   "execution_count": null,
   "id": "b49bd0ad-208d-4cfd-8ba1-0e541a6da4ea",
   "metadata": {},
   "outputs": [],
   "source": [
    "# Finalmente, usamos np.polyval para evaluar el polinomio en 1990\n",
    "np.polyval(poly_coefs, 1990)"
   ]
  },
  {
   "cell_type": "markdown",
   "id": "98e0a321-86b1-47e7-be6a-b658b67b1c02",
   "metadata": {},
   "source": [
    "También podemos calcular las medidas de desempeño del modelo:"
   ]
  },
  {
   "cell_type": "code",
   "execution_count": null,
   "id": "169647ab-a552-4da0-8d14-a0e5ec862e3d",
   "metadata": {},
   "outputs": [],
   "source": [
    "y_pred = modelo.predict(x_poly)\n",
    "\n",
    "# Calculando el R^2\n",
    "r2 = r2_score(datos_arg['gdpPercap'], y_pred)\n",
    "print('R^2: ', r2)\n",
    "\n",
    "# Calculando el ECM\n",
    "ecm = mean_squared_error(datos_arg['gdpPercap'], y_pred)\n",
    "print('ECM: ', ecm)"
   ]
  }
 ],
 "metadata": {
  "kernelspec": {
   "display_name": "Python 3 (ipykernel)",
   "language": "python",
   "name": "python3"
  },
  "language_info": {
   "codemirror_mode": {
    "name": "ipython",
    "version": 3
   },
   "file_extension": ".py",
   "mimetype": "text/x-python",
   "name": "python",
   "nbconvert_exporter": "python",
   "pygments_lexer": "ipython3",
   "version": "3.10.12"
  }
 },
 "nbformat": 4,
 "nbformat_minor": 5
}
